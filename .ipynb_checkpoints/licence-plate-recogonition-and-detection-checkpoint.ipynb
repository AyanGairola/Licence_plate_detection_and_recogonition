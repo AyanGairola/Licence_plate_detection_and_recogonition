{
 "cells": [
  {
   "cell_type": "code",
   "execution_count": 1,
   "id": "11782f34-2eda-4a09-bc56-3a3b4419841a",
   "metadata": {},
   "outputs": [],
   "source": [
    "import pandas as pd\n",
    "import cv2\n",
    "import os\n",
    "from sklearn.model_selection import train_test_split\n",
    "import shutil\n",
    "from ultralytics import YOLO\n",
    "import easyocr"
   ]
  },
  {
   "cell_type": "markdown",
   "id": "cbce9b93-6507-4d55-9500-7fd4599a4ca7",
   "metadata": {},
   "source": [
    "## Using YOLOv8 for licence plate detection"
   ]
  },
  {
   "cell_type": "code",
   "execution_count": 10,
   "id": "66d73584-1767-4c23-bdae-300ac989d217",
   "metadata": {},
   "outputs": [
    {
     "data": {
      "text/html": [
       "<div>\n",
       "<style scoped>\n",
       "    .dataframe tbody tr th:only-of-type {\n",
       "        vertical-align: middle;\n",
       "    }\n",
       "\n",
       "    .dataframe tbody tr th {\n",
       "        vertical-align: top;\n",
       "    }\n",
       "\n",
       "    .dataframe thead th {\n",
       "        text-align: right;\n",
       "    }\n",
       "</style>\n",
       "<table border=\"1\" class=\"dataframe\">\n",
       "  <thead>\n",
       "    <tr style=\"text-align: right;\">\n",
       "      <th></th>\n",
       "      <th>img_id</th>\n",
       "      <th>ymin</th>\n",
       "      <th>xmin</th>\n",
       "      <th>ymax</th>\n",
       "      <th>xmax</th>\n",
       "    </tr>\n",
       "  </thead>\n",
       "  <tbody>\n",
       "    <tr>\n",
       "      <th>0</th>\n",
       "      <td>1.jpg</td>\n",
       "      <td>276</td>\n",
       "      <td>94</td>\n",
       "      <td>326</td>\n",
       "      <td>169</td>\n",
       "    </tr>\n",
       "    <tr>\n",
       "      <th>1</th>\n",
       "      <td>10.jpg</td>\n",
       "      <td>311</td>\n",
       "      <td>395</td>\n",
       "      <td>344</td>\n",
       "      <td>444</td>\n",
       "    </tr>\n",
       "    <tr>\n",
       "      <th>2</th>\n",
       "      <td>100.jpg</td>\n",
       "      <td>406</td>\n",
       "      <td>263</td>\n",
       "      <td>450</td>\n",
       "      <td>434</td>\n",
       "    </tr>\n",
       "    <tr>\n",
       "      <th>3</th>\n",
       "      <td>101.jpg</td>\n",
       "      <td>283</td>\n",
       "      <td>363</td>\n",
       "      <td>315</td>\n",
       "      <td>494</td>\n",
       "    </tr>\n",
       "    <tr>\n",
       "      <th>4</th>\n",
       "      <td>102.jpg</td>\n",
       "      <td>139</td>\n",
       "      <td>42</td>\n",
       "      <td>280</td>\n",
       "      <td>222</td>\n",
       "    </tr>\n",
       "  </tbody>\n",
       "</table>\n",
       "</div>"
      ],
      "text/plain": [
       "    img_id  ymin  xmin  ymax  xmax\n",
       "0    1.jpg   276    94   326   169\n",
       "1   10.jpg   311   395   344   444\n",
       "2  100.jpg   406   263   450   434\n",
       "3  101.jpg   283   363   315   494\n",
       "4  102.jpg   139    42   280   222"
      ]
     },
     "execution_count": 10,
     "metadata": {},
     "output_type": "execute_result"
    }
   ],
   "source": [
    "csv_file = './data-provided/Licplatesdetection_train.csv'\n",
    "df = pd.read_csv(csv_file)\n",
    "df.head()"
   ]
  },
  {
   "cell_type": "markdown",
   "id": "fcd87383-eca3-4bf9-85d3-c4412b529400",
   "metadata": {},
   "source": [
    "### Making train and test dataset for yolov8"
   ]
  },
  {
   "cell_type": "code",
   "execution_count": 2,
   "id": "3b0da42e-b27e-429d-b9b1-832894feb505",
   "metadata": {},
   "outputs": [],
   "source": [
    "dataset_path = 'yolov8_dataset'"
   ]
  },
  {
   "cell_type": "code",
   "execution_count": 11,
   "id": "feefcf4a-db93-4c42-8ad6-c726a8275622",
   "metadata": {},
   "outputs": [],
   "source": [
    "\n",
    "os.makedirs(dataset_path, exist_ok=True)\n",
    "os.makedirs(os.path.join(dataset_path, 'images', 'train'), exist_ok=True)\n",
    "os.makedirs(os.path.join(dataset_path, 'images', 'val'), exist_ok=True)\n",
    "os.makedirs(os.path.join(dataset_path, 'labels', 'train'), exist_ok=True)\n",
    "os.makedirs(os.path.join(dataset_path, 'labels', 'val'), exist_ok=True)"
   ]
  },
  {
   "cell_type": "code",
   "execution_count": 12,
   "id": "f7b472b0-90ab-4cbd-a139-db82d3c918ad",
   "metadata": {},
   "outputs": [],
   "source": [
    "train_df, val_df = train_test_split(df, test_size=0.2, random_state=42)"
   ]
  },
  {
   "cell_type": "code",
   "execution_count": 14,
   "id": "e94c2796-afc2-4588-9128-775881c5067c",
   "metadata": {},
   "outputs": [],
   "source": [
    "def convert_to_yolo_format(bbox, img_shape):\n",
    "    x_center = (bbox[2] + bbox[3]) / 2 / img_shape[1]\n",
    "    y_center = (bbox[0] + bbox[1]) / 2 / img_shape[0]\n",
    "    width = (bbox[3] - bbox[2]) / img_shape[1]\n",
    "    height = (bbox[1] - bbox[0]) / img_shape[0]\n",
    "    return f\"0 {x_center} {y_center} {width} {height}\"\n",
    "\n",
    "def create_yolo_annotations(df, dataset_path, split):\n",
    "    for _, row in df.iterrows():\n",
    "        img_id = row['img_id']\n",
    "        img_path = f\"./data-provided/license_plates_detection_train//{img_id}\"\n",
    "        img = cv2.imread(img_path)\n",
    "        img_shape = img.shape\n",
    "\n",
    "        bbox = [row['ymin'], row['ymax'], row['xmin'], row['xmax']]\n",
    "        yolo_format = convert_to_yolo_format(bbox, img_shape)\n",
    "        \n",
    "        # Save the image in the corresponding directory\n",
    "        split_image_dir = os.path.join(dataset_path, 'images', split)\n",
    "        shutil.copy(img_path, os.path.join(split_image_dir, img_id))\n",
    "        \n",
    "        # Save the annotation in the corresponding directory\n",
    "        split_label_dir = os.path.join(dataset_path, 'labels', split)\n",
    "        label_file = os.path.join(split_label_dir, img_id.replace('.jpg', '.txt'))\n",
    "        with open(label_file, 'w') as f:\n",
    "            f.write(yolo_format)\n",
    "\n",
    "create_yolo_annotations(train_df, dataset_path, 'train')\n",
    "create_yolo_annotations(val_df, dataset_path, 'val')\n"
   ]
  },
  {
   "cell_type": "code",
   "execution_count": 3,
   "id": "8625cb65-e2d5-4af7-8d83-34f39f7f96f0",
   "metadata": {},
   "outputs": [],
   "source": [
    "config = {\n",
    "    'path': dataset_path,\n",
    "    'train': 'Desktop/intern/yolov8_dataset/images/train',\n",
    "    'val': 'Desktop/intern/yolov8_dataset/images/val',\n",
    "    'nc': 1,\n",
    "    'names': ['license_plate']\n",
    "}\n",
    "\n",
    "with open(os.path.join(dataset_path, 'config.yaml'), 'w') as f:\n",
    "    for k, v in config.items():\n",
    "        if isinstance(v, list):\n",
    "            f.write(f\"{k}: [{', '.join(map(str, v))}]\\n\")\n",
    "        else:\n",
    "            f.write(f\"{k}: {v}\\n\")\n"
   ]
  },
  {
   "cell_type": "code",
   "execution_count": 6,
   "id": "ce19709b-5e3f-46bc-82af-a2c0a47653fa",
   "metadata": {},
   "outputs": [
    {
     "name": "stdout",
     "output_type": "stream",
     "text": [
      "Ultralytics YOLOv8.2.48 🚀 Python-3.11.9 torch-2.3.1 CPU (Apple M3 Pro)\n",
      "\u001b[34m\u001b[1mengine/trainer: \u001b[0mtask=detect, mode=train, model=yolov8n.yaml, data=./yolov8_dataset/config.yaml, epochs=15, time=None, patience=100, batch=16, imgsz=640, save=True, save_period=-1, cache=False, device=None, workers=8, project=None, name=train12, exist_ok=False, pretrained=True, optimizer=auto, verbose=True, seed=0, deterministic=True, single_cls=False, rect=False, cos_lr=False, close_mosaic=10, resume=False, amp=True, fraction=1.0, profile=False, freeze=None, multi_scale=False, overlap_mask=True, mask_ratio=4, dropout=0.0, val=True, split=val, save_json=False, save_hybrid=False, conf=None, iou=0.7, max_det=300, half=False, dnn=False, plots=True, source=None, vid_stride=1, stream_buffer=False, visualize=False, augment=False, agnostic_nms=False, classes=None, retina_masks=False, embed=None, show=False, save_frames=False, save_txt=False, save_conf=False, save_crop=False, show_labels=True, show_conf=True, show_boxes=True, line_width=None, format=torchscript, keras=False, optimize=False, int8=False, dynamic=False, simplify=False, opset=None, workspace=4, nms=False, lr0=0.01, lrf=0.01, momentum=0.937, weight_decay=0.0005, warmup_epochs=3.0, warmup_momentum=0.8, warmup_bias_lr=0.1, box=7.5, cls=0.5, dfl=1.5, pose=12.0, kobj=1.0, label_smoothing=0.0, nbs=64, hsv_h=0.015, hsv_s=0.7, hsv_v=0.4, degrees=0.0, translate=0.1, scale=0.5, shear=0.0, perspective=0.0, flipud=0.0, fliplr=0.5, bgr=0.0, mosaic=1.0, mixup=0.0, copy_paste=0.0, auto_augment=randaugment, erasing=0.4, crop_fraction=1.0, cfg=None, tracker=botsort.yaml, save_dir=runs/detect/train12\n"
     ]
    },
    {
     "name": "stderr",
     "output_type": "stream",
     "text": [
      "Fontconfig warning: ignoring UTF-8: not a valid region tag\n"
     ]
    },
    {
     "name": "stdout",
     "output_type": "stream",
     "text": [
      "Overriding model.yaml nc=80 with nc=1\n",
      "\n",
      "                   from  n    params  module                                       arguments                     \n",
      "  0                  -1  1       464  ultralytics.nn.modules.conv.Conv             [3, 16, 3, 2]                 \n",
      "  1                  -1  1      4672  ultralytics.nn.modules.conv.Conv             [16, 32, 3, 2]                \n",
      "  2                  -1  1      7360  ultralytics.nn.modules.block.C2f             [32, 32, 1, True]             \n",
      "  3                  -1  1     18560  ultralytics.nn.modules.conv.Conv             [32, 64, 3, 2]                \n",
      "  4                  -1  2     49664  ultralytics.nn.modules.block.C2f             [64, 64, 2, True]             \n",
      "  5                  -1  1     73984  ultralytics.nn.modules.conv.Conv             [64, 128, 3, 2]               \n",
      "  6                  -1  2    197632  ultralytics.nn.modules.block.C2f             [128, 128, 2, True]           \n",
      "  7                  -1  1    295424  ultralytics.nn.modules.conv.Conv             [128, 256, 3, 2]              \n",
      "  8                  -1  1    460288  ultralytics.nn.modules.block.C2f             [256, 256, 1, True]           \n",
      "  9                  -1  1    164608  ultralytics.nn.modules.block.SPPF            [256, 256, 5]                 \n",
      " 10                  -1  1         0  torch.nn.modules.upsampling.Upsample         [None, 2, 'nearest']          \n",
      " 11             [-1, 6]  1         0  ultralytics.nn.modules.conv.Concat           [1]                           \n",
      " 12                  -1  1    148224  ultralytics.nn.modules.block.C2f             [384, 128, 1]                 \n",
      " 13                  -1  1         0  torch.nn.modules.upsampling.Upsample         [None, 2, 'nearest']          \n",
      " 14             [-1, 4]  1         0  ultralytics.nn.modules.conv.Concat           [1]                           \n",
      " 15                  -1  1     37248  ultralytics.nn.modules.block.C2f             [192, 64, 1]                  \n",
      " 16                  -1  1     36992  ultralytics.nn.modules.conv.Conv             [64, 64, 3, 2]                \n",
      " 17            [-1, 12]  1         0  ultralytics.nn.modules.conv.Concat           [1]                           \n",
      " 18                  -1  1    123648  ultralytics.nn.modules.block.C2f             [192, 128, 1]                 \n",
      " 19                  -1  1    147712  ultralytics.nn.modules.conv.Conv             [128, 128, 3, 2]              \n",
      " 20             [-1, 9]  1         0  ultralytics.nn.modules.conv.Concat           [1]                           \n",
      " 21                  -1  1    493056  ultralytics.nn.modules.block.C2f             [384, 256, 1]                 \n",
      " 22        [15, 18, 21]  1    751507  ultralytics.nn.modules.head.Detect           [1, [64, 128, 256]]           \n",
      "YOLOv8n summary: 225 layers, 3011043 parameters, 3011027 gradients, 8.2 GFLOPs\n",
      "\n",
      "\u001b[34m\u001b[1mTensorBoard: \u001b[0mStart with 'tensorboard --logdir runs/detect/train12', view at http://localhost:6006/\n",
      "Freezing layer 'model.22.dfl.conv.weight'\n"
     ]
    },
    {
     "name": "stderr",
     "output_type": "stream",
     "text": [
      "\u001b[34m\u001b[1mtrain: \u001b[0mScanning /Users/ayangairola/Desktop/intern/yolov8_dataset/labels/train...\u001b[0m"
     ]
    },
    {
     "name": "stdout",
     "output_type": "stream",
     "text": [
      "\u001b[34m\u001b[1mtrain: \u001b[0mNew cache created: /Users/ayangairola/Desktop/intern/yolov8_dataset/labels/train.cache\n"
     ]
    },
    {
     "name": "stderr",
     "output_type": "stream",
     "text": [
      "\n",
      "\u001b[34m\u001b[1mval: \u001b[0mScanning /Users/ayangairola/Desktop/intern/yolov8_dataset/labels/val... 180\u001b[0m"
     ]
    },
    {
     "name": "stdout",
     "output_type": "stream",
     "text": [
      "\u001b[34m\u001b[1mval: \u001b[0mNew cache created: /Users/ayangairola/Desktop/intern/yolov8_dataset/labels/val.cache\n"
     ]
    },
    {
     "name": "stderr",
     "output_type": "stream",
     "text": [
      "\n"
     ]
    },
    {
     "name": "stdout",
     "output_type": "stream",
     "text": [
      "Plotting labels to runs/detect/train12/labels.jpg... \n",
      "\u001b[34m\u001b[1moptimizer:\u001b[0m 'optimizer=auto' found, ignoring 'lr0=0.01' and 'momentum=0.937' and determining best 'optimizer', 'lr0' and 'momentum' automatically... \n",
      "\u001b[34m\u001b[1moptimizer:\u001b[0m AdamW(lr=0.002, momentum=0.9) with parameter groups 57 weight(decay=0.0), 64 weight(decay=0.0005), 63 bias(decay=0.0)\n",
      "\u001b[34m\u001b[1mTensorBoard: \u001b[0mmodel graph visualization added ✅\n",
      "Image sizes 640 train, 640 val\n",
      "Using 0 dataloader workers\n",
      "Logging results to \u001b[1mruns/detect/train12\u001b[0m\n",
      "Starting training for 15 epochs...\n",
      "\n",
      "      Epoch    GPU_mem   box_loss   cls_loss   dfl_loss  Instances       Size\n"
     ]
    },
    {
     "name": "stderr",
     "output_type": "stream",
     "text": [
      "       1/15         0G      4.378      5.512      4.143         36        640: 1\n",
      "                 Class     Images  Instances      Box(P          R      mAP50  m"
     ]
    },
    {
     "name": "stdout",
     "output_type": "stream",
     "text": [
      "                   all        180        180   1.94e-05    0.00556   9.98e-06   9.98e-07\n",
      "\n",
      "      Epoch    GPU_mem   box_loss   cls_loss   dfl_loss  Instances       Size\n"
     ]
    },
    {
     "name": "stderr",
     "output_type": "stream",
     "text": [
      "\n",
      "       2/15         0G      3.152      3.169      3.066         17        640: 1\n",
      "                 Class     Images  Instances      Box(P          R      mAP50  m"
     ]
    },
    {
     "name": "stdout",
     "output_type": "stream",
     "text": [
      "                   all        180        180   1.89e-05    0.00556   9.65e-06   9.65e-07\n",
      "\n",
      "      Epoch    GPU_mem   box_loss   cls_loss   dfl_loss  Instances       Size\n"
     ]
    },
    {
     "name": "stderr",
     "output_type": "stream",
     "text": [
      "\n",
      "       3/15         0G      2.563      2.499      2.681         25        640: 1\n",
      "                 Class     Images  Instances      Box(P          R      mAP50  m"
     ]
    },
    {
     "name": "stdout",
     "output_type": "stream",
     "text": [
      "                   all        180        180      0.237        0.2      0.143      0.057\n",
      "\n",
      "      Epoch    GPU_mem   box_loss   cls_loss   dfl_loss  Instances       Size\n"
     ]
    },
    {
     "name": "stderr",
     "output_type": "stream",
     "text": [
      "\n",
      "       4/15         0G      2.256      1.997      2.363         28        640: 1\n",
      "                 Class     Images  Instances      Box(P          R      mAP50  m"
     ]
    },
    {
     "name": "stdout",
     "output_type": "stream",
     "text": [
      "                   all        180        180      0.818      0.617      0.727      0.342\n",
      "\n",
      "      Epoch    GPU_mem   box_loss   cls_loss   dfl_loss  Instances       Size\n"
     ]
    },
    {
     "name": "stderr",
     "output_type": "stream",
     "text": [
      "\n",
      "       5/15         0G      2.001      1.594      2.124         33        640: 1\n",
      "                 Class     Images  Instances      Box(P          R      mAP50  m"
     ]
    },
    {
     "name": "stdout",
     "output_type": "stream",
     "text": [
      "                   all        180        180      0.694       0.63      0.725      0.338\n",
      "Closing dataloader mosaic\n",
      "\n",
      "      Epoch    GPU_mem   box_loss   cls_loss   dfl_loss  Instances       Size\n"
     ]
    },
    {
     "name": "stderr",
     "output_type": "stream",
     "text": [
      "\n",
      "       6/15         0G      1.828      1.625      2.137         15        640: 1\n",
      "                 Class     Images  Instances      Box(P          R      mAP50  m"
     ]
    },
    {
     "name": "stdout",
     "output_type": "stream",
     "text": [
      "                   all        180        180      0.906      0.747      0.897      0.456\n",
      "\n",
      "      Epoch    GPU_mem   box_loss   cls_loss   dfl_loss  Instances       Size\n"
     ]
    },
    {
     "name": "stderr",
     "output_type": "stream",
     "text": [
      "\n",
      "       7/15         0G      1.731       1.43      2.008         15        640: 1\n",
      "                 Class     Images  Instances      Box(P          R      mAP50  m"
     ]
    },
    {
     "name": "stdout",
     "output_type": "stream",
     "text": [
      "                   all        180        180      0.716      0.462      0.647      0.311\n",
      "\n",
      "      Epoch    GPU_mem   box_loss   cls_loss   dfl_loss  Instances       Size\n"
     ]
    },
    {
     "name": "stderr",
     "output_type": "stream",
     "text": [
      "\n",
      "       8/15         0G      1.629      1.271      1.912         16        640: 1\n",
      "                 Class     Images  Instances      Box(P          R      mAP50  m"
     ]
    },
    {
     "name": "stdout",
     "output_type": "stream",
     "text": [
      "                   all        180        180       0.93      0.811       0.93      0.526\n",
      "\n",
      "      Epoch    GPU_mem   box_loss   cls_loss   dfl_loss  Instances       Size\n"
     ]
    },
    {
     "name": "stderr",
     "output_type": "stream",
     "text": [
      "\n",
      "       9/15         0G       1.58      1.167      1.838         16        640: 1\n",
      "                 Class     Images  Instances      Box(P          R      mAP50  m"
     ]
    },
    {
     "name": "stdout",
     "output_type": "stream",
     "text": [
      "                   all        180        180      0.955      0.844      0.935      0.523\n",
      "\n",
      "      Epoch    GPU_mem   box_loss   cls_loss   dfl_loss  Instances       Size\n"
     ]
    },
    {
     "name": "stderr",
     "output_type": "stream",
     "text": [
      "\n",
      "      10/15         0G       1.53      1.089      1.811         16        640: 1\n",
      "                 Class     Images  Instances      Box(P          R      mAP50  m"
     ]
    },
    {
     "name": "stdout",
     "output_type": "stream",
     "text": [
      "                   all        180        180      0.945      0.864      0.962      0.565\n",
      "\n",
      "      Epoch    GPU_mem   box_loss   cls_loss   dfl_loss  Instances       Size\n"
     ]
    },
    {
     "name": "stderr",
     "output_type": "stream",
     "text": [
      "\n",
      "      11/15         0G      1.492      1.051      1.747         16        640: 1\n",
      "                 Class     Images  Instances      Box(P          R      mAP50  m"
     ]
    },
    {
     "name": "stdout",
     "output_type": "stream",
     "text": [
      "                   all        180        180      0.939       0.86      0.961      0.561\n",
      "\n",
      "      Epoch    GPU_mem   box_loss   cls_loss   dfl_loss  Instances       Size\n"
     ]
    },
    {
     "name": "stderr",
     "output_type": "stream",
     "text": [
      "\n",
      "      12/15         0G      1.445     0.9857      1.734         16        640: 1\n",
      "                 Class     Images  Instances      Box(P          R      mAP50  m"
     ]
    },
    {
     "name": "stdout",
     "output_type": "stream",
     "text": [
      "                   all        180        180      0.941      0.879      0.961      0.582\n",
      "\n",
      "      Epoch    GPU_mem   box_loss   cls_loss   dfl_loss  Instances       Size\n"
     ]
    },
    {
     "name": "stderr",
     "output_type": "stream",
     "text": [
      "\n",
      "      13/15         0G      1.424     0.9458       1.69         16        640: 1\n",
      "                 Class     Images  Instances      Box(P          R      mAP50  m"
     ]
    },
    {
     "name": "stdout",
     "output_type": "stream",
     "text": [
      "                   all        180        180      0.981      0.858      0.973      0.629\n",
      "\n",
      "      Epoch    GPU_mem   box_loss   cls_loss   dfl_loss  Instances       Size\n"
     ]
    },
    {
     "name": "stderr",
     "output_type": "stream",
     "text": [
      "\n",
      "      14/15         0G      1.348     0.8913      1.635         16        640: 1\n",
      "                 Class     Images  Instances      Box(P          R      mAP50  m"
     ]
    },
    {
     "name": "stdout",
     "output_type": "stream",
     "text": [
      "                   all        180        180      0.943      0.914      0.979       0.64\n",
      "\n",
      "      Epoch    GPU_mem   box_loss   cls_loss   dfl_loss  Instances       Size\n"
     ]
    },
    {
     "name": "stderr",
     "output_type": "stream",
     "text": [
      "\n",
      "      15/15         0G      1.345     0.8882      1.614         16        640: 1\n",
      "                 Class     Images  Instances      Box(P          R      mAP50  m"
     ]
    },
    {
     "name": "stdout",
     "output_type": "stream",
     "text": [
      "                   all        180        180      0.959      0.902      0.971       0.65\n",
      "\n",
      "15 epochs completed in 1.437 hours.\n",
      "Optimizer stripped from runs/detect/train12/weights/last.pt, 6.2MB\n"
     ]
    },
    {
     "name": "stderr",
     "output_type": "stream",
     "text": [
      "\n"
     ]
    },
    {
     "name": "stdout",
     "output_type": "stream",
     "text": [
      "Optimizer stripped from runs/detect/train12/weights/best.pt, 6.2MB\n",
      "\n",
      "Validating runs/detect/train12/weights/best.pt...\n",
      "Ultralytics YOLOv8.2.48 🚀 Python-3.11.9 torch-2.3.1 CPU (Apple M3 Pro)\n",
      "YOLOv8n summary (fused): 168 layers, 3005843 parameters, 0 gradients, 8.1 GFLOPs\n"
     ]
    },
    {
     "name": "stderr",
     "output_type": "stream",
     "text": [
      "                 Class     Images  Instances      Box(P          R      mAP50  m\n"
     ]
    },
    {
     "name": "stdout",
     "output_type": "stream",
     "text": [
      "                   all        180        180      0.959      0.901      0.971       0.65\n",
      "Speed: 0.8ms preprocess, 169.2ms inference, 0.0ms loss, 0.2ms postprocess per image\n",
      "Results saved to \u001b[1mruns/detect/train12\u001b[0m\n"
     ]
    },
    {
     "data": {
      "text/plain": [
       "ultralytics.utils.metrics.DetMetrics object with attributes:\n",
       "\n",
       "ap_class_index: array([0])\n",
       "box: ultralytics.utils.metrics.Metric object\n",
       "confusion_matrix: <ultralytics.utils.metrics.ConfusionMatrix object at 0x33e5aca50>\n",
       "curves: ['Precision-Recall(B)', 'F1-Confidence(B)', 'Precision-Confidence(B)', 'Recall-Confidence(B)']\n",
       "curves_results: [[array([          0,    0.001001,    0.002002,    0.003003,    0.004004,    0.005005,    0.006006,    0.007007,    0.008008,    0.009009,     0.01001,    0.011011,    0.012012,    0.013013,    0.014014,    0.015015,    0.016016,    0.017017,    0.018018,    0.019019,     0.02002,    0.021021,    0.022022,    0.023023,\n",
       "          0.024024,    0.025025,    0.026026,    0.027027,    0.028028,    0.029029,     0.03003,    0.031031,    0.032032,    0.033033,    0.034034,    0.035035,    0.036036,    0.037037,    0.038038,    0.039039,     0.04004,    0.041041,    0.042042,    0.043043,    0.044044,    0.045045,    0.046046,    0.047047,\n",
       "          0.048048,    0.049049,     0.05005,    0.051051,    0.052052,    0.053053,    0.054054,    0.055055,    0.056056,    0.057057,    0.058058,    0.059059,     0.06006,    0.061061,    0.062062,    0.063063,    0.064064,    0.065065,    0.066066,    0.067067,    0.068068,    0.069069,     0.07007,    0.071071,\n",
       "          0.072072,    0.073073,    0.074074,    0.075075,    0.076076,    0.077077,    0.078078,    0.079079,     0.08008,    0.081081,    0.082082,    0.083083,    0.084084,    0.085085,    0.086086,    0.087087,    0.088088,    0.089089,     0.09009,    0.091091,    0.092092,    0.093093,    0.094094,    0.095095,\n",
       "          0.096096,    0.097097,    0.098098,    0.099099,      0.1001,      0.1011,      0.1021,      0.1031,      0.1041,     0.10511,     0.10611,     0.10711,     0.10811,     0.10911,     0.11011,     0.11111,     0.11211,     0.11311,     0.11411,     0.11512,     0.11612,     0.11712,     0.11812,     0.11912,\n",
       "           0.12012,     0.12112,     0.12212,     0.12312,     0.12412,     0.12513,     0.12613,     0.12713,     0.12813,     0.12913,     0.13013,     0.13113,     0.13213,     0.13313,     0.13413,     0.13514,     0.13614,     0.13714,     0.13814,     0.13914,     0.14014,     0.14114,     0.14214,     0.14314,\n",
       "           0.14414,     0.14515,     0.14615,     0.14715,     0.14815,     0.14915,     0.15015,     0.15115,     0.15215,     0.15315,     0.15415,     0.15516,     0.15616,     0.15716,     0.15816,     0.15916,     0.16016,     0.16116,     0.16216,     0.16316,     0.16416,     0.16517,     0.16617,     0.16717,\n",
       "           0.16817,     0.16917,     0.17017,     0.17117,     0.17217,     0.17317,     0.17417,     0.17518,     0.17618,     0.17718,     0.17818,     0.17918,     0.18018,     0.18118,     0.18218,     0.18318,     0.18418,     0.18519,     0.18619,     0.18719,     0.18819,     0.18919,     0.19019,     0.19119,\n",
       "           0.19219,     0.19319,     0.19419,      0.1952,      0.1962,      0.1972,      0.1982,      0.1992,      0.2002,      0.2012,      0.2022,      0.2032,      0.2042,     0.20521,     0.20621,     0.20721,     0.20821,     0.20921,     0.21021,     0.21121,     0.21221,     0.21321,     0.21421,     0.21522,\n",
       "           0.21622,     0.21722,     0.21822,     0.21922,     0.22022,     0.22122,     0.22222,     0.22322,     0.22422,     0.22523,     0.22623,     0.22723,     0.22823,     0.22923,     0.23023,     0.23123,     0.23223,     0.23323,     0.23423,     0.23524,     0.23624,     0.23724,     0.23824,     0.23924,\n",
       "           0.24024,     0.24124,     0.24224,     0.24324,     0.24424,     0.24525,     0.24625,     0.24725,     0.24825,     0.24925,     0.25025,     0.25125,     0.25225,     0.25325,     0.25425,     0.25526,     0.25626,     0.25726,     0.25826,     0.25926,     0.26026,     0.26126,     0.26226,     0.26326,\n",
       "           0.26426,     0.26527,     0.26627,     0.26727,     0.26827,     0.26927,     0.27027,     0.27127,     0.27227,     0.27327,     0.27427,     0.27528,     0.27628,     0.27728,     0.27828,     0.27928,     0.28028,     0.28128,     0.28228,     0.28328,     0.28428,     0.28529,     0.28629,     0.28729,\n",
       "           0.28829,     0.28929,     0.29029,     0.29129,     0.29229,     0.29329,     0.29429,      0.2953,      0.2963,      0.2973,      0.2983,      0.2993,      0.3003,      0.3013,      0.3023,      0.3033,      0.3043,     0.30531,     0.30631,     0.30731,     0.30831,     0.30931,     0.31031,     0.31131,\n",
       "           0.31231,     0.31331,     0.31431,     0.31532,     0.31632,     0.31732,     0.31832,     0.31932,     0.32032,     0.32132,     0.32232,     0.32332,     0.32432,     0.32533,     0.32633,     0.32733,     0.32833,     0.32933,     0.33033,     0.33133,     0.33233,     0.33333,     0.33433,     0.33534,\n",
       "           0.33634,     0.33734,     0.33834,     0.33934,     0.34034,     0.34134,     0.34234,     0.34334,     0.34434,     0.34535,     0.34635,     0.34735,     0.34835,     0.34935,     0.35035,     0.35135,     0.35235,     0.35335,     0.35435,     0.35536,     0.35636,     0.35736,     0.35836,     0.35936,\n",
       "           0.36036,     0.36136,     0.36236,     0.36336,     0.36436,     0.36537,     0.36637,     0.36737,     0.36837,     0.36937,     0.37037,     0.37137,     0.37237,     0.37337,     0.37437,     0.37538,     0.37638,     0.37738,     0.37838,     0.37938,     0.38038,     0.38138,     0.38238,     0.38338,\n",
       "           0.38438,     0.38539,     0.38639,     0.38739,     0.38839,     0.38939,     0.39039,     0.39139,     0.39239,     0.39339,     0.39439,      0.3954,      0.3964,      0.3974,      0.3984,      0.3994,      0.4004,      0.4014,      0.4024,      0.4034,      0.4044,     0.40541,     0.40641,     0.40741,\n",
       "           0.40841,     0.40941,     0.41041,     0.41141,     0.41241,     0.41341,     0.41441,     0.41542,     0.41642,     0.41742,     0.41842,     0.41942,     0.42042,     0.42142,     0.42242,     0.42342,     0.42442,     0.42543,     0.42643,     0.42743,     0.42843,     0.42943,     0.43043,     0.43143,\n",
       "           0.43243,     0.43343,     0.43443,     0.43544,     0.43644,     0.43744,     0.43844,     0.43944,     0.44044,     0.44144,     0.44244,     0.44344,     0.44444,     0.44545,     0.44645,     0.44745,     0.44845,     0.44945,     0.45045,     0.45145,     0.45245,     0.45345,     0.45445,     0.45546,\n",
       "           0.45646,     0.45746,     0.45846,     0.45946,     0.46046,     0.46146,     0.46246,     0.46346,     0.46446,     0.46547,     0.46647,     0.46747,     0.46847,     0.46947,     0.47047,     0.47147,     0.47247,     0.47347,     0.47447,     0.47548,     0.47648,     0.47748,     0.47848,     0.47948,\n",
       "           0.48048,     0.48148,     0.48248,     0.48348,     0.48448,     0.48549,     0.48649,     0.48749,     0.48849,     0.48949,     0.49049,     0.49149,     0.49249,     0.49349,     0.49449,      0.4955,      0.4965,      0.4975,      0.4985,      0.4995,      0.5005,      0.5015,      0.5025,      0.5035,\n",
       "            0.5045,     0.50551,     0.50651,     0.50751,     0.50851,     0.50951,     0.51051,     0.51151,     0.51251,     0.51351,     0.51451,     0.51552,     0.51652,     0.51752,     0.51852,     0.51952,     0.52052,     0.52152,     0.52252,     0.52352,     0.52452,     0.52553,     0.52653,     0.52753,\n",
       "           0.52853,     0.52953,     0.53053,     0.53153,     0.53253,     0.53353,     0.53453,     0.53554,     0.53654,     0.53754,     0.53854,     0.53954,     0.54054,     0.54154,     0.54254,     0.54354,     0.54454,     0.54555,     0.54655,     0.54755,     0.54855,     0.54955,     0.55055,     0.55155,\n",
       "           0.55255,     0.55355,     0.55455,     0.55556,     0.55656,     0.55756,     0.55856,     0.55956,     0.56056,     0.56156,     0.56256,     0.56356,     0.56456,     0.56557,     0.56657,     0.56757,     0.56857,     0.56957,     0.57057,     0.57157,     0.57257,     0.57357,     0.57457,     0.57558,\n",
       "           0.57658,     0.57758,     0.57858,     0.57958,     0.58058,     0.58158,     0.58258,     0.58358,     0.58458,     0.58559,     0.58659,     0.58759,     0.58859,     0.58959,     0.59059,     0.59159,     0.59259,     0.59359,     0.59459,      0.5956,      0.5966,      0.5976,      0.5986,      0.5996,\n",
       "            0.6006,      0.6016,      0.6026,      0.6036,      0.6046,     0.60561,     0.60661,     0.60761,     0.60861,     0.60961,     0.61061,     0.61161,     0.61261,     0.61361,     0.61461,     0.61562,     0.61662,     0.61762,     0.61862,     0.61962,     0.62062,     0.62162,     0.62262,     0.62362,\n",
       "           0.62462,     0.62563,     0.62663,     0.62763,     0.62863,     0.62963,     0.63063,     0.63163,     0.63263,     0.63363,     0.63463,     0.63564,     0.63664,     0.63764,     0.63864,     0.63964,     0.64064,     0.64164,     0.64264,     0.64364,     0.64464,     0.64565,     0.64665,     0.64765,\n",
       "           0.64865,     0.64965,     0.65065,     0.65165,     0.65265,     0.65365,     0.65465,     0.65566,     0.65666,     0.65766,     0.65866,     0.65966,     0.66066,     0.66166,     0.66266,     0.66366,     0.66466,     0.66567,     0.66667,     0.66767,     0.66867,     0.66967,     0.67067,     0.67167,\n",
       "           0.67267,     0.67367,     0.67467,     0.67568,     0.67668,     0.67768,     0.67868,     0.67968,     0.68068,     0.68168,     0.68268,     0.68368,     0.68468,     0.68569,     0.68669,     0.68769,     0.68869,     0.68969,     0.69069,     0.69169,     0.69269,     0.69369,     0.69469,      0.6957,\n",
       "            0.6967,      0.6977,      0.6987,      0.6997,      0.7007,      0.7017,      0.7027,      0.7037,      0.7047,     0.70571,     0.70671,     0.70771,     0.70871,     0.70971,     0.71071,     0.71171,     0.71271,     0.71371,     0.71471,     0.71572,     0.71672,     0.71772,     0.71872,     0.71972,\n",
       "           0.72072,     0.72172,     0.72272,     0.72372,     0.72472,     0.72573,     0.72673,     0.72773,     0.72873,     0.72973,     0.73073,     0.73173,     0.73273,     0.73373,     0.73473,     0.73574,     0.73674,     0.73774,     0.73874,     0.73974,     0.74074,     0.74174,     0.74274,     0.74374,\n",
       "           0.74474,     0.74575,     0.74675,     0.74775,     0.74875,     0.74975,     0.75075,     0.75175,     0.75275,     0.75375,     0.75475,     0.75576,     0.75676,     0.75776,     0.75876,     0.75976,     0.76076,     0.76176,     0.76276,     0.76376,     0.76476,     0.76577,     0.76677,     0.76777,\n",
       "           0.76877,     0.76977,     0.77077,     0.77177,     0.77277,     0.77377,     0.77477,     0.77578,     0.77678,     0.77778,     0.77878,     0.77978,     0.78078,     0.78178,     0.78278,     0.78378,     0.78478,     0.78579,     0.78679,     0.78779,     0.78879,     0.78979,     0.79079,     0.79179,\n",
       "           0.79279,     0.79379,     0.79479,      0.7958,      0.7968,      0.7978,      0.7988,      0.7998,      0.8008,      0.8018,      0.8028,      0.8038,      0.8048,     0.80581,     0.80681,     0.80781,     0.80881,     0.80981,     0.81081,     0.81181,     0.81281,     0.81381,     0.81481,     0.81582,\n",
       "           0.81682,     0.81782,     0.81882,     0.81982,     0.82082,     0.82182,     0.82282,     0.82382,     0.82482,     0.82583,     0.82683,     0.82783,     0.82883,     0.82983,     0.83083,     0.83183,     0.83283,     0.83383,     0.83483,     0.83584,     0.83684,     0.83784,     0.83884,     0.83984,\n",
       "           0.84084,     0.84184,     0.84284,     0.84384,     0.84484,     0.84585,     0.84685,     0.84785,     0.84885,     0.84985,     0.85085,     0.85185,     0.85285,     0.85385,     0.85485,     0.85586,     0.85686,     0.85786,     0.85886,     0.85986,     0.86086,     0.86186,     0.86286,     0.86386,\n",
       "           0.86486,     0.86587,     0.86687,     0.86787,     0.86887,     0.86987,     0.87087,     0.87187,     0.87287,     0.87387,     0.87487,     0.87588,     0.87688,     0.87788,     0.87888,     0.87988,     0.88088,     0.88188,     0.88288,     0.88388,     0.88488,     0.88589,     0.88689,     0.88789,\n",
       "           0.88889,     0.88989,     0.89089,     0.89189,     0.89289,     0.89389,     0.89489,      0.8959,      0.8969,      0.8979,      0.8989,      0.8999,      0.9009,      0.9019,      0.9029,      0.9039,      0.9049,     0.90591,     0.90691,     0.90791,     0.90891,     0.90991,     0.91091,     0.91191,\n",
       "           0.91291,     0.91391,     0.91491,     0.91592,     0.91692,     0.91792,     0.91892,     0.91992,     0.92092,     0.92192,     0.92292,     0.92392,     0.92492,     0.92593,     0.92693,     0.92793,     0.92893,     0.92993,     0.93093,     0.93193,     0.93293,     0.93393,     0.93493,     0.93594,\n",
       "           0.93694,     0.93794,     0.93894,     0.93994,     0.94094,     0.94194,     0.94294,     0.94394,     0.94494,     0.94595,     0.94695,     0.94795,     0.94895,     0.94995,     0.95095,     0.95195,     0.95295,     0.95395,     0.95495,     0.95596,     0.95696,     0.95796,     0.95896,     0.95996,\n",
       "           0.96096,     0.96196,     0.96296,     0.96396,     0.96496,     0.96597,     0.96697,     0.96797,     0.96897,     0.96997,     0.97097,     0.97197,     0.97297,     0.97397,     0.97497,     0.97598,     0.97698,     0.97798,     0.97898,     0.97998,     0.98098,     0.98198,     0.98298,     0.98398,\n",
       "           0.98498,     0.98599,     0.98699,     0.98799,     0.98899,     0.98999,     0.99099,     0.99199,     0.99299,     0.99399,     0.99499,       0.996,       0.997,       0.998,       0.999,           1]), array([[          1,           1,           1,           1,           1,           1,           1,           1,           1,           1,           1,           1,           1,           1,           1,           1,           1,           1,           1,           1,           1,           1,           1,\n",
       "                  1,           1,           1,           1,           1,           1,           1,           1,           1,           1,           1,           1,           1,           1,           1,           1,           1,           1,           1,           1,           1,           1,           1,\n",
       "                  1,           1,           1,           1,           1,           1,           1,           1,           1,           1,           1,           1,           1,           1,           1,           1,           1,           1,           1,           1,           1,           1,           1,\n",
       "                  1,           1,           1,           1,           1,           1,           1,           1,           1,           1,           1,           1,           1,           1,           1,           1,           1,           1,           1,           1,           1,           1,           1,\n",
       "                  1,           1,           1,           1,           1,           1,           1,           1,           1,           1,           1,           1,           1,           1,           1,           1,           1,           1,           1,           1,           1,           1,           1,\n",
       "                  1,           1,           1,           1,           1,           1,           1,           1,           1,           1,           1,           1,           1,           1,           1,           1,           1,           1,           1,           1,           1,           1,           1,\n",
       "                  1,           1,           1,           1,           1,           1,           1,           1,           1,           1,           1,           1,           1,           1,           1,           1,           1,           1,           1,           1,           1,           1,           1,\n",
       "                  1,           1,           1,           1,           1,           1,           1,           1,           1,           1,           1,           1,           1,           1,           1,           1,           1,           1,           1,           1,           1,           1,           1,\n",
       "                  1,           1,           1,           1,           1,           1,           1,           1,           1,           1,           1,           1,           1,           1,           1,           1,           1,           1,           1,           1,           1,           1,           1,\n",
       "                  1,           1,           1,           1,           1,           1,           1,           1,           1,           1,           1,           1,           1,           1,           1,           1,           1,           1,           1,           1,           1,           1,           1,\n",
       "                  1,           1,           1,           1,           1,           1,           1,           1,           1,           1,           1,           1,           1,           1,           1,           1,           1,           1,           1,           1,           1,           1,           1,\n",
       "                  1,           1,           1,           1,           1,           1,           1,           1,           1,           1,           1,           1,           1,           1,           1,           1,           1,           1,           1,           1,           1,           1,           1,\n",
       "                  1,           1,           1,           1,           1,           1,           1,           1,           1,           1,           1,           1,           1,           1,           1,           1,           1,           1,           1,           1,           1,           1,           1,\n",
       "                  1,           1,           1,           1,           1,           1,           1,           1,           1,           1,           1,           1,           1,           1,           1,           1,           1,           1,           1,           1,           1,           1,           1,\n",
       "                  1,           1,           1,           1,           1,           1,           1,           1,           1,           1,           1,           1,           1,           1,           1,           1,           1,           1,           1,           1,           1,           1,           1,\n",
       "                  1,           1,           1,           1,           1,           1,           1,           1,           1,           1,           1,           1,           1,           1,           1,           1,           1,           1,           1,           1,           1,           1,           1,\n",
       "                  1,           1,           1,           1,           1,           1,           1,           1,           1,           1,           1,           1,           1,           1,           1,           1,           1,           1,           1,           1,           1,           1,           1,\n",
       "                  1,           1,           1,           1,           1,           1,           1,           1,           1,           1,           1,           1,           1,           1,           1,           1,           1,           1,           1,           1,           1,           1,           1,\n",
       "                  1,           1,           1,           1,           1,           1,           1,           1,           1,           1,           1,           1,           1,           1,           1,           1,           1,           1,           1,           1,           1,           1,           1,\n",
       "                  1,           1,           1,           1,           1,           1,           1,           1,           1,           1,           1,           1,           1,           1,           1,           1,           1,           1,           1,           1,           1,           1,           1,\n",
       "                  1,           1,           1,           1,           1,           1,           1,           1,           1,           1,           1,           1,           1,           1,           1,           1,           1,           1,           1,           1,           1,           1,           1,\n",
       "                  1,           1,           1,           1,           1,           1,           1,           1,           1,           1,           1,           1,           1,           1,           1,           1,           1,           1,           1,           1,           1,           1,           1,\n",
       "                  1,           1,           1,           1,           1,           1,           1,           1,           1,           1,           1,           1,           1,           1,           1,           1,           1,           1,           1,           1,           1,           1,           1,\n",
       "                  1,           1,           1,           1,           1,           1,           1,           1,           1,           1,           1,           1,           1,           1,           1,           1,           1,           1,           1,           1,           1,           1,           1,\n",
       "                  1,           1,           1,           1,           1,           1,           1,           1,           1,           1,           1,           1,           1,           1,           1,           1,           1,           1,           1,           1,           1,           1,           1,\n",
       "                  1,           1,           1,           1,           1,           1,           1,           1,           1,           1,           1,           1,           1,           1,           1,           1,           1,           1,           1,           1,           1,           1,           1,\n",
       "                  1,           1,           1,           1,           1,           1,           1,           1,           1,           1,           1,           1,           1,           1,           1,           1,           1,           1,           1,           1,           1,           1,           1,\n",
       "                  1,           1,           1,           1,           1,           1,           1,           1,           1,           1,           1,           1,           1,           1,           1,           1,           1,           1,           1,           1,           1,           1,           1,\n",
       "                  1,           1,           1,           1,           1,           1,           1,           1,           1,           1,           1,           1,           1,           1,           1,           1,           1,           1,           1,           1,           1,           1,           1,\n",
       "                  1,           1,           1,           1,           1,           1,           1,           1,           1,           1,           1,           1,           1,           1,           1,           1,           1,           1,           1,           1,           1,           1,           1,\n",
       "                  1,           1,           1,           1,           1,           1,           1,           1,           1,           1,           1,           1,           1,           1,           1,           1,           1,           1,           1,           1,           1,           1,           1,\n",
       "                  1,           1,           1,           1,           1,           1,           1,           1,           1,           1,           1,           1,           1,           1,           1,           1,           1,           1,           1,           1,           1,           1,           1,\n",
       "                  1,           1,           1,           1,           1,           1,           1,           1,           1,           1,           1,           1,           1,           1,           1,           1,           1,           1,           1,           1,           1,           1,           1,\n",
       "                  1,           1,           1,           1,           1,           1,           1,           1,           1,           1,           1,           1,           1,           1,           1,           1,           1,           1,           1,           1,           1,           1,           1,\n",
       "                  1,           1,           1,           1,           1,           1,           1,           1,           1,           1,           1,           1,           1,           1,           1,           1,           1,           1,           1,           1,           1,           1,           1,\n",
       "                  1,           1,           1,           1,           1,           1,           1,           1,           1,           1,           1,           1,           1,           1,           1,           1,           1,           1,           1,           1,           1,           1,           1,\n",
       "                  1,           1,           1,           1,           1,     0.99355,     0.99355,     0.99355,     0.99355,     0.99355,     0.99355,     0.99355,     0.99355,     0.99355,     0.99355,     0.99355,     0.99355,     0.99355,     0.99355,     0.99355,     0.99355,     0.99355,     0.99355,\n",
       "            0.99355,     0.99355,     0.99355,     0.99355,     0.98726,     0.98726,     0.98726,     0.98726,     0.98726,     0.98726,     0.98113,     0.98113,     0.98113,     0.98113,     0.98113,     0.97561,     0.97561,     0.97561,     0.97561,     0.97561,     0.97561,     0.97561,     0.97561,\n",
       "            0.97561,     0.97561,     0.97561,     0.97561,     0.97561,     0.97561,     0.97561,     0.97561,     0.97561,     0.97561,     0.97561,     0.97561,     0.97561,     0.97561,     0.96429,     0.96429,     0.96429,     0.96429,     0.96429,     0.96429,     0.96429,     0.96429,     0.96429,\n",
       "            0.96429,     0.96429,     0.96429,     0.95882,     0.95882,     0.95882,     0.95882,     0.95882,     0.95349,     0.95349,     0.95349,     0.95349,     0.95349,     0.95349,     0.91667,     0.91667,     0.91667,     0.91667,     0.91667,     0.90761,     0.90761,     0.90761,     0.90761,\n",
       "            0.90761,     0.90761,     0.90761,     0.90761,     0.90761,     0.90761,     0.90761,     0.79245,     0.79245,     0.79245,     0.79245,     0.79245,     0.79245,     0.77523,     0.77523,     0.77523,     0.77523,     0.77523,        0.76,        0.76,        0.76,        0.76,        0.76,\n",
       "               0.76,        0.76,        0.76,        0.76,        0.76,        0.76,        0.76,     0.75109,     0.75109,     0.75109,     0.75109,     0.75109,     0.72996,     0.72996,     0.72996,     0.72996,     0.72996,     0.72996,      0.7102,      0.7102,      0.7102,      0.7102,      0.7102,\n",
       "                0.7,         0.7,         0.7,         0.7,         0.7,         0.7,      0.6875,      0.6875,      0.6875,      0.6875,      0.6875,     0.62324,     0.62324,     0.62324,     0.62324,     0.62324,     0.62324,     0.55625,     0.55625,     0.55625,     0.55625,     0.55625,      0.5559,\n",
       "             0.5559,      0.5559,      0.5559,      0.5559,      0.5559,     0.23196,     0.23196,     0.23196,     0.23196,     0.23196,           0]]), 'Recall', 'Precision'], [array([          0,    0.001001,    0.002002,    0.003003,    0.004004,    0.005005,    0.006006,    0.007007,    0.008008,    0.009009,     0.01001,    0.011011,    0.012012,    0.013013,    0.014014,    0.015015,    0.016016,    0.017017,    0.018018,    0.019019,     0.02002,    0.021021,    0.022022,    0.023023,\n",
       "          0.024024,    0.025025,    0.026026,    0.027027,    0.028028,    0.029029,     0.03003,    0.031031,    0.032032,    0.033033,    0.034034,    0.035035,    0.036036,    0.037037,    0.038038,    0.039039,     0.04004,    0.041041,    0.042042,    0.043043,    0.044044,    0.045045,    0.046046,    0.047047,\n",
       "          0.048048,    0.049049,     0.05005,    0.051051,    0.052052,    0.053053,    0.054054,    0.055055,    0.056056,    0.057057,    0.058058,    0.059059,     0.06006,    0.061061,    0.062062,    0.063063,    0.064064,    0.065065,    0.066066,    0.067067,    0.068068,    0.069069,     0.07007,    0.071071,\n",
       "          0.072072,    0.073073,    0.074074,    0.075075,    0.076076,    0.077077,    0.078078,    0.079079,     0.08008,    0.081081,    0.082082,    0.083083,    0.084084,    0.085085,    0.086086,    0.087087,    0.088088,    0.089089,     0.09009,    0.091091,    0.092092,    0.093093,    0.094094,    0.095095,\n",
       "          0.096096,    0.097097,    0.098098,    0.099099,      0.1001,      0.1011,      0.1021,      0.1031,      0.1041,     0.10511,     0.10611,     0.10711,     0.10811,     0.10911,     0.11011,     0.11111,     0.11211,     0.11311,     0.11411,     0.11512,     0.11612,     0.11712,     0.11812,     0.11912,\n",
       "           0.12012,     0.12112,     0.12212,     0.12312,     0.12412,     0.12513,     0.12613,     0.12713,     0.12813,     0.12913,     0.13013,     0.13113,     0.13213,     0.13313,     0.13413,     0.13514,     0.13614,     0.13714,     0.13814,     0.13914,     0.14014,     0.14114,     0.14214,     0.14314,\n",
       "           0.14414,     0.14515,     0.14615,     0.14715,     0.14815,     0.14915,     0.15015,     0.15115,     0.15215,     0.15315,     0.15415,     0.15516,     0.15616,     0.15716,     0.15816,     0.15916,     0.16016,     0.16116,     0.16216,     0.16316,     0.16416,     0.16517,     0.16617,     0.16717,\n",
       "           0.16817,     0.16917,     0.17017,     0.17117,     0.17217,     0.17317,     0.17417,     0.17518,     0.17618,     0.17718,     0.17818,     0.17918,     0.18018,     0.18118,     0.18218,     0.18318,     0.18418,     0.18519,     0.18619,     0.18719,     0.18819,     0.18919,     0.19019,     0.19119,\n",
       "           0.19219,     0.19319,     0.19419,      0.1952,      0.1962,      0.1972,      0.1982,      0.1992,      0.2002,      0.2012,      0.2022,      0.2032,      0.2042,     0.20521,     0.20621,     0.20721,     0.20821,     0.20921,     0.21021,     0.21121,     0.21221,     0.21321,     0.21421,     0.21522,\n",
       "           0.21622,     0.21722,     0.21822,     0.21922,     0.22022,     0.22122,     0.22222,     0.22322,     0.22422,     0.22523,     0.22623,     0.22723,     0.22823,     0.22923,     0.23023,     0.23123,     0.23223,     0.23323,     0.23423,     0.23524,     0.23624,     0.23724,     0.23824,     0.23924,\n",
       "           0.24024,     0.24124,     0.24224,     0.24324,     0.24424,     0.24525,     0.24625,     0.24725,     0.24825,     0.24925,     0.25025,     0.25125,     0.25225,     0.25325,     0.25425,     0.25526,     0.25626,     0.25726,     0.25826,     0.25926,     0.26026,     0.26126,     0.26226,     0.26326,\n",
       "           0.26426,     0.26527,     0.26627,     0.26727,     0.26827,     0.26927,     0.27027,     0.27127,     0.27227,     0.27327,     0.27427,     0.27528,     0.27628,     0.27728,     0.27828,     0.27928,     0.28028,     0.28128,     0.28228,     0.28328,     0.28428,     0.28529,     0.28629,     0.28729,\n",
       "           0.28829,     0.28929,     0.29029,     0.29129,     0.29229,     0.29329,     0.29429,      0.2953,      0.2963,      0.2973,      0.2983,      0.2993,      0.3003,      0.3013,      0.3023,      0.3033,      0.3043,     0.30531,     0.30631,     0.30731,     0.30831,     0.30931,     0.31031,     0.31131,\n",
       "           0.31231,     0.31331,     0.31431,     0.31532,     0.31632,     0.31732,     0.31832,     0.31932,     0.32032,     0.32132,     0.32232,     0.32332,     0.32432,     0.32533,     0.32633,     0.32733,     0.32833,     0.32933,     0.33033,     0.33133,     0.33233,     0.33333,     0.33433,     0.33534,\n",
       "           0.33634,     0.33734,     0.33834,     0.33934,     0.34034,     0.34134,     0.34234,     0.34334,     0.34434,     0.34535,     0.34635,     0.34735,     0.34835,     0.34935,     0.35035,     0.35135,     0.35235,     0.35335,     0.35435,     0.35536,     0.35636,     0.35736,     0.35836,     0.35936,\n",
       "           0.36036,     0.36136,     0.36236,     0.36336,     0.36436,     0.36537,     0.36637,     0.36737,     0.36837,     0.36937,     0.37037,     0.37137,     0.37237,     0.37337,     0.37437,     0.37538,     0.37638,     0.37738,     0.37838,     0.37938,     0.38038,     0.38138,     0.38238,     0.38338,\n",
       "           0.38438,     0.38539,     0.38639,     0.38739,     0.38839,     0.38939,     0.39039,     0.39139,     0.39239,     0.39339,     0.39439,      0.3954,      0.3964,      0.3974,      0.3984,      0.3994,      0.4004,      0.4014,      0.4024,      0.4034,      0.4044,     0.40541,     0.40641,     0.40741,\n",
       "           0.40841,     0.40941,     0.41041,     0.41141,     0.41241,     0.41341,     0.41441,     0.41542,     0.41642,     0.41742,     0.41842,     0.41942,     0.42042,     0.42142,     0.42242,     0.42342,     0.42442,     0.42543,     0.42643,     0.42743,     0.42843,     0.42943,     0.43043,     0.43143,\n",
       "           0.43243,     0.43343,     0.43443,     0.43544,     0.43644,     0.43744,     0.43844,     0.43944,     0.44044,     0.44144,     0.44244,     0.44344,     0.44444,     0.44545,     0.44645,     0.44745,     0.44845,     0.44945,     0.45045,     0.45145,     0.45245,     0.45345,     0.45445,     0.45546,\n",
       "           0.45646,     0.45746,     0.45846,     0.45946,     0.46046,     0.46146,     0.46246,     0.46346,     0.46446,     0.46547,     0.46647,     0.46747,     0.46847,     0.46947,     0.47047,     0.47147,     0.47247,     0.47347,     0.47447,     0.47548,     0.47648,     0.47748,     0.47848,     0.47948,\n",
       "           0.48048,     0.48148,     0.48248,     0.48348,     0.48448,     0.48549,     0.48649,     0.48749,     0.48849,     0.48949,     0.49049,     0.49149,     0.49249,     0.49349,     0.49449,      0.4955,      0.4965,      0.4975,      0.4985,      0.4995,      0.5005,      0.5015,      0.5025,      0.5035,\n",
       "            0.5045,     0.50551,     0.50651,     0.50751,     0.50851,     0.50951,     0.51051,     0.51151,     0.51251,     0.51351,     0.51451,     0.51552,     0.51652,     0.51752,     0.51852,     0.51952,     0.52052,     0.52152,     0.52252,     0.52352,     0.52452,     0.52553,     0.52653,     0.52753,\n",
       "           0.52853,     0.52953,     0.53053,     0.53153,     0.53253,     0.53353,     0.53453,     0.53554,     0.53654,     0.53754,     0.53854,     0.53954,     0.54054,     0.54154,     0.54254,     0.54354,     0.54454,     0.54555,     0.54655,     0.54755,     0.54855,     0.54955,     0.55055,     0.55155,\n",
       "           0.55255,     0.55355,     0.55455,     0.55556,     0.55656,     0.55756,     0.55856,     0.55956,     0.56056,     0.56156,     0.56256,     0.56356,     0.56456,     0.56557,     0.56657,     0.56757,     0.56857,     0.56957,     0.57057,     0.57157,     0.57257,     0.57357,     0.57457,     0.57558,\n",
       "           0.57658,     0.57758,     0.57858,     0.57958,     0.58058,     0.58158,     0.58258,     0.58358,     0.58458,     0.58559,     0.58659,     0.58759,     0.58859,     0.58959,     0.59059,     0.59159,     0.59259,     0.59359,     0.59459,      0.5956,      0.5966,      0.5976,      0.5986,      0.5996,\n",
       "            0.6006,      0.6016,      0.6026,      0.6036,      0.6046,     0.60561,     0.60661,     0.60761,     0.60861,     0.60961,     0.61061,     0.61161,     0.61261,     0.61361,     0.61461,     0.61562,     0.61662,     0.61762,     0.61862,     0.61962,     0.62062,     0.62162,     0.62262,     0.62362,\n",
       "           0.62462,     0.62563,     0.62663,     0.62763,     0.62863,     0.62963,     0.63063,     0.63163,     0.63263,     0.63363,     0.63463,     0.63564,     0.63664,     0.63764,     0.63864,     0.63964,     0.64064,     0.64164,     0.64264,     0.64364,     0.64464,     0.64565,     0.64665,     0.64765,\n",
       "           0.64865,     0.64965,     0.65065,     0.65165,     0.65265,     0.65365,     0.65465,     0.65566,     0.65666,     0.65766,     0.65866,     0.65966,     0.66066,     0.66166,     0.66266,     0.66366,     0.66466,     0.66567,     0.66667,     0.66767,     0.66867,     0.66967,     0.67067,     0.67167,\n",
       "           0.67267,     0.67367,     0.67467,     0.67568,     0.67668,     0.67768,     0.67868,     0.67968,     0.68068,     0.68168,     0.68268,     0.68368,     0.68468,     0.68569,     0.68669,     0.68769,     0.68869,     0.68969,     0.69069,     0.69169,     0.69269,     0.69369,     0.69469,      0.6957,\n",
       "            0.6967,      0.6977,      0.6987,      0.6997,      0.7007,      0.7017,      0.7027,      0.7037,      0.7047,     0.70571,     0.70671,     0.70771,     0.70871,     0.70971,     0.71071,     0.71171,     0.71271,     0.71371,     0.71471,     0.71572,     0.71672,     0.71772,     0.71872,     0.71972,\n",
       "           0.72072,     0.72172,     0.72272,     0.72372,     0.72472,     0.72573,     0.72673,     0.72773,     0.72873,     0.72973,     0.73073,     0.73173,     0.73273,     0.73373,     0.73473,     0.73574,     0.73674,     0.73774,     0.73874,     0.73974,     0.74074,     0.74174,     0.74274,     0.74374,\n",
       "           0.74474,     0.74575,     0.74675,     0.74775,     0.74875,     0.74975,     0.75075,     0.75175,     0.75275,     0.75375,     0.75475,     0.75576,     0.75676,     0.75776,     0.75876,     0.75976,     0.76076,     0.76176,     0.76276,     0.76376,     0.76476,     0.76577,     0.76677,     0.76777,\n",
       "           0.76877,     0.76977,     0.77077,     0.77177,     0.77277,     0.77377,     0.77477,     0.77578,     0.77678,     0.77778,     0.77878,     0.77978,     0.78078,     0.78178,     0.78278,     0.78378,     0.78478,     0.78579,     0.78679,     0.78779,     0.78879,     0.78979,     0.79079,     0.79179,\n",
       "           0.79279,     0.79379,     0.79479,      0.7958,      0.7968,      0.7978,      0.7988,      0.7998,      0.8008,      0.8018,      0.8028,      0.8038,      0.8048,     0.80581,     0.80681,     0.80781,     0.80881,     0.80981,     0.81081,     0.81181,     0.81281,     0.81381,     0.81481,     0.81582,\n",
       "           0.81682,     0.81782,     0.81882,     0.81982,     0.82082,     0.82182,     0.82282,     0.82382,     0.82482,     0.82583,     0.82683,     0.82783,     0.82883,     0.82983,     0.83083,     0.83183,     0.83283,     0.83383,     0.83483,     0.83584,     0.83684,     0.83784,     0.83884,     0.83984,\n",
       "           0.84084,     0.84184,     0.84284,     0.84384,     0.84484,     0.84585,     0.84685,     0.84785,     0.84885,     0.84985,     0.85085,     0.85185,     0.85285,     0.85385,     0.85485,     0.85586,     0.85686,     0.85786,     0.85886,     0.85986,     0.86086,     0.86186,     0.86286,     0.86386,\n",
       "           0.86486,     0.86587,     0.86687,     0.86787,     0.86887,     0.86987,     0.87087,     0.87187,     0.87287,     0.87387,     0.87487,     0.87588,     0.87688,     0.87788,     0.87888,     0.87988,     0.88088,     0.88188,     0.88288,     0.88388,     0.88488,     0.88589,     0.88689,     0.88789,\n",
       "           0.88889,     0.88989,     0.89089,     0.89189,     0.89289,     0.89389,     0.89489,      0.8959,      0.8969,      0.8979,      0.8989,      0.8999,      0.9009,      0.9019,      0.9029,      0.9039,      0.9049,     0.90591,     0.90691,     0.90791,     0.90891,     0.90991,     0.91091,     0.91191,\n",
       "           0.91291,     0.91391,     0.91491,     0.91592,     0.91692,     0.91792,     0.91892,     0.91992,     0.92092,     0.92192,     0.92292,     0.92392,     0.92492,     0.92593,     0.92693,     0.92793,     0.92893,     0.92993,     0.93093,     0.93193,     0.93293,     0.93393,     0.93493,     0.93594,\n",
       "           0.93694,     0.93794,     0.93894,     0.93994,     0.94094,     0.94194,     0.94294,     0.94394,     0.94494,     0.94595,     0.94695,     0.94795,     0.94895,     0.94995,     0.95095,     0.95195,     0.95295,     0.95395,     0.95495,     0.95596,     0.95696,     0.95796,     0.95896,     0.95996,\n",
       "           0.96096,     0.96196,     0.96296,     0.96396,     0.96496,     0.96597,     0.96697,     0.96797,     0.96897,     0.96997,     0.97097,     0.97197,     0.97297,     0.97397,     0.97497,     0.97598,     0.97698,     0.97798,     0.97898,     0.97998,     0.98098,     0.98198,     0.98298,     0.98398,\n",
       "           0.98498,     0.98599,     0.98699,     0.98799,     0.98899,     0.98999,     0.99099,     0.99199,     0.99299,     0.99399,     0.99499,       0.996,       0.997,       0.998,       0.999,           1]), array([[    0.13621,     0.13621,     0.18644,     0.21971,     0.24631,     0.26862,     0.28397,     0.29538,      0.3106,     0.32335,     0.33371,     0.34542,     0.35586,     0.36435,     0.37564,     0.38292,     0.39366,     0.40464,     0.41429,     0.42271,     0.43084,     0.43468,     0.43918,\n",
       "            0.44276,     0.44804,     0.45555,     0.46332,     0.46997,      0.4764,     0.48364,     0.48686,     0.49427,     0.49783,     0.50126,      0.5041,     0.50666,     0.51053,     0.51345,     0.51815,     0.52364,     0.52822,     0.53043,     0.53433,     0.53702,     0.54222,      0.5474,\n",
       "            0.55036,      0.5537,     0.55694,     0.56326,     0.56672,     0.57147,      0.5791,     0.58329,     0.58496,     0.59188,     0.59684,     0.60325,     0.60895,     0.61465,     0.61893,      0.6226,     0.62721,     0.63226,     0.63942,     0.64152,      0.6441,      0.6469,     0.65531,\n",
       "            0.65851,     0.66386,      0.6656,      0.6663,      0.6672,     0.66872,     0.67142,     0.67412,     0.67563,     0.67689,     0.67793,      0.6798,     0.68325,     0.68421,     0.68641,     0.68865,     0.69153,     0.69403,     0.69506,     0.69849,     0.70138,     0.70248,     0.70344,\n",
       "            0.70779,     0.71193,     0.71152,     0.71108,     0.71178,     0.71004,     0.71479,     0.71667,     0.71758,     0.71895,     0.72228,     0.72526,     0.72929,     0.73074,     0.73185,     0.73293,     0.73395,     0.73517,     0.73806,     0.74096,     0.74227,     0.74411,      0.7465,\n",
       "            0.74995,     0.75336,     0.75369,     0.75403,     0.75436,     0.75469,     0.75557,     0.75821,      0.7605,     0.76196,     0.76353,     0.76518,     0.76579,     0.76637,     0.76965,     0.77161,     0.77327,     0.77587,      0.7769,     0.77754,     0.77812,      0.7787,      0.7797,\n",
       "            0.78421,     0.78828,     0.79101,      0.7938,       0.797,     0.79817,     0.79954,     0.80117,     0.80389,     0.80492,     0.80722,     0.80511,     0.80643,     0.80845,     0.80966,     0.81068,     0.81154,     0.81233,     0.81302,     0.81371,      0.8119,     0.81417,     0.81626,\n",
       "             0.8182,     0.81644,     0.81754,     0.81867,     0.81981,      0.8245,      0.8256,     0.82943,     0.82998,     0.83229,     0.83493,     0.83927,     0.84036,     0.83983,      0.8394,     0.84363,     0.84221,     0.84088,     0.83994,       0.839,     0.84088,     0.84118,     0.84149,\n",
       "            0.84179,     0.84209,     0.84239,     0.84269,     0.84506,     0.84552,     0.84598,     0.84643,     0.84689,     0.84865,     0.84681,     0.84658,     0.84689,      0.8472,     0.84751,     0.84782,     0.84813,     0.84844,     0.85044,      0.8534,     0.85423,     0.85505,     0.85594,\n",
       "            0.85682,      0.8569,     0.85651,     0.85613,     0.85574,     0.85535,     0.85496,     0.85458,     0.85425,     0.85457,     0.85489,     0.85522,     0.85554,     0.85586,     0.85618,     0.85873,     0.85948,     0.86022,     0.86093,     0.86152,     0.86211,      0.8627,     0.86334,\n",
       "            0.86408,     0.86482,     0.86645,      0.8678,     0.86821,     0.86862,     0.86902,     0.86943,     0.86992,     0.87111,     0.87212,      0.8724,     0.87268,     0.87297,     0.87325,     0.87353,     0.87381,     0.87409,     0.87444,     0.87538,     0.87632,     0.87937,     0.88033,\n",
       "            0.88137,     0.88606,     0.88741,     0.88848,     0.88901,     0.88954,     0.89007,      0.8906,     0.89146,     0.89237,     0.89412,     0.89571,     0.89609,     0.89647,     0.89686,     0.89724,     0.89762,      0.8979,     0.89802,     0.89814,     0.89826,     0.89838,      0.8985,\n",
       "            0.89862,     0.89873,     0.89885,     0.89897,     0.89909,     0.89921,     0.89933,     0.89945,     0.89957,     0.89969,     0.89981,     0.89993,     0.90005,     0.90016,     0.90036,     0.90113,      0.9019,     0.90266,     0.90316,     0.90364,     0.90411,     0.90459,     0.90507,\n",
       "             0.9054,     0.90571,     0.90602,     0.90632,     0.90663,     0.90693,     0.90724,     0.90754,     0.90847,     0.90957,     0.91029,     0.91068,     0.91107,     0.91146,     0.91184,     0.91223,     0.91319,     0.91575,     0.91689,     0.91751,     0.91733,     0.91715,     0.91697,\n",
       "            0.91679,     0.91661,     0.91643,     0.91625,     0.91607,     0.91588,      0.9157,     0.91552,     0.91534,     0.91516,     0.91498,      0.9148,     0.91462,     0.91371,     0.91272,     0.91173,     0.91197,     0.91239,     0.91281,     0.91323,     0.91365,     0.91407,     0.91451,\n",
       "            0.91497,     0.91542,     0.91587,     0.91632,     0.91659,     0.91627,     0.91595,     0.91563,     0.91531,     0.91499,     0.91467,     0.91435,     0.91402,      0.9137,      0.9141,     0.91464,     0.91519,     0.91573,     0.91624,     0.91653,     0.91681,      0.9171,     0.91739,\n",
       "            0.91767,     0.91796,     0.91825,     0.91853,     0.91901,     0.92031,     0.92172,     0.92352,     0.92442,     0.92504,     0.92566,     0.92628,     0.92772,     0.92927,     0.92957,     0.92986,     0.93016,     0.93046,     0.93075,     0.93105,     0.93134,     0.93164,     0.93168,\n",
       "            0.93133,     0.93098,     0.93063,     0.93027,     0.92992,     0.92957,     0.92922,     0.92886,     0.92903,     0.92937,      0.9297,     0.93004,     0.93038,     0.93071,     0.93105,     0.93139,     0.93131,     0.93117,     0.93103,     0.93089,     0.93075,     0.93061,     0.93047,\n",
       "            0.93034,      0.9302,     0.93006,     0.92992,     0.92978,     0.92964,      0.9295,     0.92936,     0.92922,     0.92908,     0.92895,     0.92881,     0.92867,     0.92853,     0.92839,     0.92865,     0.92898,     0.92931,     0.92964,     0.92997,      0.9303,     0.93063,     0.93096,\n",
       "            0.92877,     0.92757,     0.92704,     0.92651,     0.92598,     0.92545,     0.92491,     0.92602,     0.92732,     0.92802,     0.92861,      0.9292,     0.92978,     0.92927,     0.92702,     0.92684,     0.92665,     0.92646,     0.92628,     0.92609,     0.92591,     0.92572,     0.92553,\n",
       "            0.92535,     0.92516,     0.92498,     0.92479,      0.9246,     0.92442,     0.92423,     0.92404,     0.92319,     0.92195,     0.92065,     0.91885,     0.91958,     0.91946,     0.91842,     0.91738,     0.91728,     0.91742,     0.91757,     0.91772,     0.91786,     0.91801,     0.91816,\n",
       "             0.9183,     0.91845,      0.9186,     0.91874,     0.91889,     0.91904,     0.91918,     0.91933,     0.91947,     0.91962,     0.91977,     0.91981,     0.91947,     0.91914,      0.9188,     0.91846,     0.91812,     0.91779,     0.91745,     0.91711,     0.91677,     0.91708,     0.91769,\n",
       "            0.91829,     0.91889,     0.91936,     0.91904,     0.91873,     0.91841,     0.91809,     0.91778,     0.91746,     0.91714,     0.91683,     0.91651,     0.91619,     0.91596,     0.91573,     0.91549,     0.91526,     0.91503,      0.9148,     0.91457,     0.91434,     0.91411,     0.91388,\n",
       "            0.91365,     0.91341,     0.91318,     0.91295,     0.91158,     0.90998,     0.90898,     0.90813,     0.90729,     0.90645,     0.90702,     0.90779,     0.90855,     0.90893,     0.90839,     0.90784,      0.9073,     0.90675,     0.90621,     0.90565,     0.90508,      0.9045,     0.90393,\n",
       "            0.90335,     0.90277,      0.9024,     0.90231,     0.90222,     0.90213,     0.90204,     0.90195,     0.90186,     0.90177,     0.90168,     0.90159,      0.9015,     0.90141,     0.90132,     0.90123,     0.90113,     0.90104,     0.90095,     0.90086,     0.90077,     0.90068,     0.90059,\n",
       "             0.9005,     0.90041,     0.90032,     0.90023,     0.90014,     0.90005,     0.89996,     0.89987,     0.89977,     0.89968,     0.89959,      0.8995,     0.89941,     0.89932,     0.89923,     0.89914,     0.89901,     0.89882,     0.89862,     0.89843,     0.89823,     0.89804,     0.89785,\n",
       "            0.89765,     0.89746,     0.89726,     0.89707,     0.89688,     0.89668,     0.89649,     0.89629,      0.8961,      0.8959,     0.89571,     0.89529,     0.89486,     0.89443,       0.894,     0.89357,     0.89314,     0.89271,     0.89216,      0.8895,      0.8864,     0.88495,     0.88424,\n",
       "            0.88354,     0.88283,     0.88212,     0.88156,     0.88102,     0.88049,     0.87996,     0.87942,     0.87889,     0.87826,     0.87736,     0.87646,     0.87556,     0.87478,     0.87419,     0.87361,     0.87302,     0.87243,     0.87184,     0.87122,     0.87055,     0.86987,     0.86919,\n",
       "            0.86852,     0.86781,     0.86688,     0.86594,     0.86501,     0.86418,     0.86359,       0.863,      0.8624,     0.86181,     0.86122,     0.86059,     0.85986,     0.85912,     0.85838,     0.85764,     0.85599,     0.85342,     0.85315,     0.85287,      0.8526,     0.85232,     0.85205,\n",
       "            0.85177,      0.8515,     0.85122,     0.85095,     0.85067,      0.8504,     0.85012,     0.84985,     0.84944,     0.84903,     0.84861,      0.8482,     0.84779,     0.84738,     0.84696,     0.84655,     0.84601,     0.84286,     0.84148,     0.84037,     0.83926,     0.83751,     0.83513,\n",
       "            0.83111,     0.83006,     0.82901,     0.82795,     0.82622,     0.82362,     0.82207,     0.82056,     0.81911,     0.81775,      0.8164,      0.8112,      0.8027,     0.80091,     0.79918,     0.79751,     0.79582,     0.79391,     0.79199,     0.79127,     0.79057,     0.78987,     0.78917,\n",
       "            0.78847,     0.78676,     0.78036,     0.76964,     0.76272,     0.75922,     0.75654,     0.75409,     0.75213,     0.75017,     0.74894,     0.74777,     0.74661,      0.7455,     0.74466,     0.74382,     0.74299,     0.74215,     0.74131,     0.74003,     0.73872,     0.73741,     0.73589,\n",
       "            0.73421,     0.73252,     0.72253,     0.71764,     0.71628,     0.71493,     0.70464,     0.70337,     0.70209,     0.70082,      0.6819,      0.6786,     0.67504,     0.66714,     0.66546,     0.66421,     0.66295,     0.66162,     0.65641,     0.65243,     0.64421,     0.64131,     0.64069,\n",
       "            0.64006,     0.63944,     0.63882,     0.63819,     0.63756,     0.63694,     0.63628,     0.63529,     0.63431,     0.63332,     0.63233,     0.63134,     0.62951,     0.62751,     0.62575,     0.62486,     0.62396,     0.62306,     0.62216,     0.62125,     0.61642,     0.61285,     0.61004,\n",
       "            0.60123,       0.588,     0.58713,     0.58625,     0.58537,     0.58449,     0.58362,     0.58273,     0.56716,     0.56284,      0.5593,     0.55521,     0.54716,     0.54358,     0.53987,     0.52326,     0.51166,     0.50989,     0.50812,     0.50635,     0.50466,     0.50297,     0.50127,\n",
       "            0.49928,     0.49639,     0.49339,     0.48918,     0.48549,     0.48219,     0.46808,     0.46688,     0.46568,     0.46447,     0.46327,     0.46206,     0.45862,     0.45173,     0.44582,     0.44226,      0.4276,     0.42611,     0.42462,     0.42313,     0.42163,     0.41373,     0.41196,\n",
       "            0.41018,     0.40839,     0.39888,     0.39123,     0.37069,     0.36757,     0.36443,     0.35541,       0.345,     0.33675,     0.33184,      0.3295,     0.32715,     0.32331,     0.31671,     0.31132,     0.30391,     0.29709,     0.28553,     0.26756,     0.26455,     0.26154,     0.25577,\n",
       "            0.24756,     0.24281,     0.24107,     0.23933,     0.23758,     0.23583,     0.23215,     0.22758,     0.21621,     0.21288,     0.20954,      0.1964,     0.17819,      0.1665,      0.1593,     0.15349,     0.15088,     0.14826,     0.14563,     0.14337,     0.14147,     0.13957,     0.13766,\n",
       "            0.13575,     0.13081,     0.12432,     0.12221,     0.12009,     0.11796,     0.11583,     0.11419,     0.11277,     0.11134,     0.10991,     0.10848,     0.10704,     0.10561,    0.094619,    0.091972,    0.089318,    0.086656,    0.083933,    0.081128,    0.078314,    0.075491,    0.074184,\n",
       "           0.073306,    0.072428,     0.07155,     0.07067,     0.06979,    0.068909,    0.068027,    0.067144,     0.06626,    0.065376,    0.064113,     0.05057,    0.041548,    0.036926,    0.029951,     0.02135,    0.020448,    0.019545,    0.018641,    0.017737,    0.016831,    0.015925,    0.015018,\n",
       "            0.01411,    0.013202,    0.012292,    0.011382,           0,           0,           0,           0,           0,           0,           0,           0,           0,           0,           0,           0,           0,           0,           0,           0,           0,           0,           0,\n",
       "                  0,           0,           0,           0,           0,           0,           0,           0,           0,           0,           0,           0,           0,           0,           0,           0,           0,           0,           0,           0,           0,           0,           0,\n",
       "                  0,           0,           0,           0,           0,           0,           0,           0,           0,           0,           0,           0,           0,           0,           0,           0,           0,           0,           0,           0,           0,           0,           0,\n",
       "                  0,           0,           0,           0,           0,           0,           0,           0,           0,           0,           0]]), 'Confidence', 'F1'], [array([          0,    0.001001,    0.002002,    0.003003,    0.004004,    0.005005,    0.006006,    0.007007,    0.008008,    0.009009,     0.01001,    0.011011,    0.012012,    0.013013,    0.014014,    0.015015,    0.016016,    0.017017,    0.018018,    0.019019,     0.02002,    0.021021,    0.022022,    0.023023,\n",
       "          0.024024,    0.025025,    0.026026,    0.027027,    0.028028,    0.029029,     0.03003,    0.031031,    0.032032,    0.033033,    0.034034,    0.035035,    0.036036,    0.037037,    0.038038,    0.039039,     0.04004,    0.041041,    0.042042,    0.043043,    0.044044,    0.045045,    0.046046,    0.047047,\n",
       "          0.048048,    0.049049,     0.05005,    0.051051,    0.052052,    0.053053,    0.054054,    0.055055,    0.056056,    0.057057,    0.058058,    0.059059,     0.06006,    0.061061,    0.062062,    0.063063,    0.064064,    0.065065,    0.066066,    0.067067,    0.068068,    0.069069,     0.07007,    0.071071,\n",
       "          0.072072,    0.073073,    0.074074,    0.075075,    0.076076,    0.077077,    0.078078,    0.079079,     0.08008,    0.081081,    0.082082,    0.083083,    0.084084,    0.085085,    0.086086,    0.087087,    0.088088,    0.089089,     0.09009,    0.091091,    0.092092,    0.093093,    0.094094,    0.095095,\n",
       "          0.096096,    0.097097,    0.098098,    0.099099,      0.1001,      0.1011,      0.1021,      0.1031,      0.1041,     0.10511,     0.10611,     0.10711,     0.10811,     0.10911,     0.11011,     0.11111,     0.11211,     0.11311,     0.11411,     0.11512,     0.11612,     0.11712,     0.11812,     0.11912,\n",
       "           0.12012,     0.12112,     0.12212,     0.12312,     0.12412,     0.12513,     0.12613,     0.12713,     0.12813,     0.12913,     0.13013,     0.13113,     0.13213,     0.13313,     0.13413,     0.13514,     0.13614,     0.13714,     0.13814,     0.13914,     0.14014,     0.14114,     0.14214,     0.14314,\n",
       "           0.14414,     0.14515,     0.14615,     0.14715,     0.14815,     0.14915,     0.15015,     0.15115,     0.15215,     0.15315,     0.15415,     0.15516,     0.15616,     0.15716,     0.15816,     0.15916,     0.16016,     0.16116,     0.16216,     0.16316,     0.16416,     0.16517,     0.16617,     0.16717,\n",
       "           0.16817,     0.16917,     0.17017,     0.17117,     0.17217,     0.17317,     0.17417,     0.17518,     0.17618,     0.17718,     0.17818,     0.17918,     0.18018,     0.18118,     0.18218,     0.18318,     0.18418,     0.18519,     0.18619,     0.18719,     0.18819,     0.18919,     0.19019,     0.19119,\n",
       "           0.19219,     0.19319,     0.19419,      0.1952,      0.1962,      0.1972,      0.1982,      0.1992,      0.2002,      0.2012,      0.2022,      0.2032,      0.2042,     0.20521,     0.20621,     0.20721,     0.20821,     0.20921,     0.21021,     0.21121,     0.21221,     0.21321,     0.21421,     0.21522,\n",
       "           0.21622,     0.21722,     0.21822,     0.21922,     0.22022,     0.22122,     0.22222,     0.22322,     0.22422,     0.22523,     0.22623,     0.22723,     0.22823,     0.22923,     0.23023,     0.23123,     0.23223,     0.23323,     0.23423,     0.23524,     0.23624,     0.23724,     0.23824,     0.23924,\n",
       "           0.24024,     0.24124,     0.24224,     0.24324,     0.24424,     0.24525,     0.24625,     0.24725,     0.24825,     0.24925,     0.25025,     0.25125,     0.25225,     0.25325,     0.25425,     0.25526,     0.25626,     0.25726,     0.25826,     0.25926,     0.26026,     0.26126,     0.26226,     0.26326,\n",
       "           0.26426,     0.26527,     0.26627,     0.26727,     0.26827,     0.26927,     0.27027,     0.27127,     0.27227,     0.27327,     0.27427,     0.27528,     0.27628,     0.27728,     0.27828,     0.27928,     0.28028,     0.28128,     0.28228,     0.28328,     0.28428,     0.28529,     0.28629,     0.28729,\n",
       "           0.28829,     0.28929,     0.29029,     0.29129,     0.29229,     0.29329,     0.29429,      0.2953,      0.2963,      0.2973,      0.2983,      0.2993,      0.3003,      0.3013,      0.3023,      0.3033,      0.3043,     0.30531,     0.30631,     0.30731,     0.30831,     0.30931,     0.31031,     0.31131,\n",
       "           0.31231,     0.31331,     0.31431,     0.31532,     0.31632,     0.31732,     0.31832,     0.31932,     0.32032,     0.32132,     0.32232,     0.32332,     0.32432,     0.32533,     0.32633,     0.32733,     0.32833,     0.32933,     0.33033,     0.33133,     0.33233,     0.33333,     0.33433,     0.33534,\n",
       "           0.33634,     0.33734,     0.33834,     0.33934,     0.34034,     0.34134,     0.34234,     0.34334,     0.34434,     0.34535,     0.34635,     0.34735,     0.34835,     0.34935,     0.35035,     0.35135,     0.35235,     0.35335,     0.35435,     0.35536,     0.35636,     0.35736,     0.35836,     0.35936,\n",
       "           0.36036,     0.36136,     0.36236,     0.36336,     0.36436,     0.36537,     0.36637,     0.36737,     0.36837,     0.36937,     0.37037,     0.37137,     0.37237,     0.37337,     0.37437,     0.37538,     0.37638,     0.37738,     0.37838,     0.37938,     0.38038,     0.38138,     0.38238,     0.38338,\n",
       "           0.38438,     0.38539,     0.38639,     0.38739,     0.38839,     0.38939,     0.39039,     0.39139,     0.39239,     0.39339,     0.39439,      0.3954,      0.3964,      0.3974,      0.3984,      0.3994,      0.4004,      0.4014,      0.4024,      0.4034,      0.4044,     0.40541,     0.40641,     0.40741,\n",
       "           0.40841,     0.40941,     0.41041,     0.41141,     0.41241,     0.41341,     0.41441,     0.41542,     0.41642,     0.41742,     0.41842,     0.41942,     0.42042,     0.42142,     0.42242,     0.42342,     0.42442,     0.42543,     0.42643,     0.42743,     0.42843,     0.42943,     0.43043,     0.43143,\n",
       "           0.43243,     0.43343,     0.43443,     0.43544,     0.43644,     0.43744,     0.43844,     0.43944,     0.44044,     0.44144,     0.44244,     0.44344,     0.44444,     0.44545,     0.44645,     0.44745,     0.44845,     0.44945,     0.45045,     0.45145,     0.45245,     0.45345,     0.45445,     0.45546,\n",
       "           0.45646,     0.45746,     0.45846,     0.45946,     0.46046,     0.46146,     0.46246,     0.46346,     0.46446,     0.46547,     0.46647,     0.46747,     0.46847,     0.46947,     0.47047,     0.47147,     0.47247,     0.47347,     0.47447,     0.47548,     0.47648,     0.47748,     0.47848,     0.47948,\n",
       "           0.48048,     0.48148,     0.48248,     0.48348,     0.48448,     0.48549,     0.48649,     0.48749,     0.48849,     0.48949,     0.49049,     0.49149,     0.49249,     0.49349,     0.49449,      0.4955,      0.4965,      0.4975,      0.4985,      0.4995,      0.5005,      0.5015,      0.5025,      0.5035,\n",
       "            0.5045,     0.50551,     0.50651,     0.50751,     0.50851,     0.50951,     0.51051,     0.51151,     0.51251,     0.51351,     0.51451,     0.51552,     0.51652,     0.51752,     0.51852,     0.51952,     0.52052,     0.52152,     0.52252,     0.52352,     0.52452,     0.52553,     0.52653,     0.52753,\n",
       "           0.52853,     0.52953,     0.53053,     0.53153,     0.53253,     0.53353,     0.53453,     0.53554,     0.53654,     0.53754,     0.53854,     0.53954,     0.54054,     0.54154,     0.54254,     0.54354,     0.54454,     0.54555,     0.54655,     0.54755,     0.54855,     0.54955,     0.55055,     0.55155,\n",
       "           0.55255,     0.55355,     0.55455,     0.55556,     0.55656,     0.55756,     0.55856,     0.55956,     0.56056,     0.56156,     0.56256,     0.56356,     0.56456,     0.56557,     0.56657,     0.56757,     0.56857,     0.56957,     0.57057,     0.57157,     0.57257,     0.57357,     0.57457,     0.57558,\n",
       "           0.57658,     0.57758,     0.57858,     0.57958,     0.58058,     0.58158,     0.58258,     0.58358,     0.58458,     0.58559,     0.58659,     0.58759,     0.58859,     0.58959,     0.59059,     0.59159,     0.59259,     0.59359,     0.59459,      0.5956,      0.5966,      0.5976,      0.5986,      0.5996,\n",
       "            0.6006,      0.6016,      0.6026,      0.6036,      0.6046,     0.60561,     0.60661,     0.60761,     0.60861,     0.60961,     0.61061,     0.61161,     0.61261,     0.61361,     0.61461,     0.61562,     0.61662,     0.61762,     0.61862,     0.61962,     0.62062,     0.62162,     0.62262,     0.62362,\n",
       "           0.62462,     0.62563,     0.62663,     0.62763,     0.62863,     0.62963,     0.63063,     0.63163,     0.63263,     0.63363,     0.63463,     0.63564,     0.63664,     0.63764,     0.63864,     0.63964,     0.64064,     0.64164,     0.64264,     0.64364,     0.64464,     0.64565,     0.64665,     0.64765,\n",
       "           0.64865,     0.64965,     0.65065,     0.65165,     0.65265,     0.65365,     0.65465,     0.65566,     0.65666,     0.65766,     0.65866,     0.65966,     0.66066,     0.66166,     0.66266,     0.66366,     0.66466,     0.66567,     0.66667,     0.66767,     0.66867,     0.66967,     0.67067,     0.67167,\n",
       "           0.67267,     0.67367,     0.67467,     0.67568,     0.67668,     0.67768,     0.67868,     0.67968,     0.68068,     0.68168,     0.68268,     0.68368,     0.68468,     0.68569,     0.68669,     0.68769,     0.68869,     0.68969,     0.69069,     0.69169,     0.69269,     0.69369,     0.69469,      0.6957,\n",
       "            0.6967,      0.6977,      0.6987,      0.6997,      0.7007,      0.7017,      0.7027,      0.7037,      0.7047,     0.70571,     0.70671,     0.70771,     0.70871,     0.70971,     0.71071,     0.71171,     0.71271,     0.71371,     0.71471,     0.71572,     0.71672,     0.71772,     0.71872,     0.71972,\n",
       "           0.72072,     0.72172,     0.72272,     0.72372,     0.72472,     0.72573,     0.72673,     0.72773,     0.72873,     0.72973,     0.73073,     0.73173,     0.73273,     0.73373,     0.73473,     0.73574,     0.73674,     0.73774,     0.73874,     0.73974,     0.74074,     0.74174,     0.74274,     0.74374,\n",
       "           0.74474,     0.74575,     0.74675,     0.74775,     0.74875,     0.74975,     0.75075,     0.75175,     0.75275,     0.75375,     0.75475,     0.75576,     0.75676,     0.75776,     0.75876,     0.75976,     0.76076,     0.76176,     0.76276,     0.76376,     0.76476,     0.76577,     0.76677,     0.76777,\n",
       "           0.76877,     0.76977,     0.77077,     0.77177,     0.77277,     0.77377,     0.77477,     0.77578,     0.77678,     0.77778,     0.77878,     0.77978,     0.78078,     0.78178,     0.78278,     0.78378,     0.78478,     0.78579,     0.78679,     0.78779,     0.78879,     0.78979,     0.79079,     0.79179,\n",
       "           0.79279,     0.79379,     0.79479,      0.7958,      0.7968,      0.7978,      0.7988,      0.7998,      0.8008,      0.8018,      0.8028,      0.8038,      0.8048,     0.80581,     0.80681,     0.80781,     0.80881,     0.80981,     0.81081,     0.81181,     0.81281,     0.81381,     0.81481,     0.81582,\n",
       "           0.81682,     0.81782,     0.81882,     0.81982,     0.82082,     0.82182,     0.82282,     0.82382,     0.82482,     0.82583,     0.82683,     0.82783,     0.82883,     0.82983,     0.83083,     0.83183,     0.83283,     0.83383,     0.83483,     0.83584,     0.83684,     0.83784,     0.83884,     0.83984,\n",
       "           0.84084,     0.84184,     0.84284,     0.84384,     0.84484,     0.84585,     0.84685,     0.84785,     0.84885,     0.84985,     0.85085,     0.85185,     0.85285,     0.85385,     0.85485,     0.85586,     0.85686,     0.85786,     0.85886,     0.85986,     0.86086,     0.86186,     0.86286,     0.86386,\n",
       "           0.86486,     0.86587,     0.86687,     0.86787,     0.86887,     0.86987,     0.87087,     0.87187,     0.87287,     0.87387,     0.87487,     0.87588,     0.87688,     0.87788,     0.87888,     0.87988,     0.88088,     0.88188,     0.88288,     0.88388,     0.88488,     0.88589,     0.88689,     0.88789,\n",
       "           0.88889,     0.88989,     0.89089,     0.89189,     0.89289,     0.89389,     0.89489,      0.8959,      0.8969,      0.8979,      0.8989,      0.8999,      0.9009,      0.9019,      0.9029,      0.9039,      0.9049,     0.90591,     0.90691,     0.90791,     0.90891,     0.90991,     0.91091,     0.91191,\n",
       "           0.91291,     0.91391,     0.91491,     0.91592,     0.91692,     0.91792,     0.91892,     0.91992,     0.92092,     0.92192,     0.92292,     0.92392,     0.92492,     0.92593,     0.92693,     0.92793,     0.92893,     0.92993,     0.93093,     0.93193,     0.93293,     0.93393,     0.93493,     0.93594,\n",
       "           0.93694,     0.93794,     0.93894,     0.93994,     0.94094,     0.94194,     0.94294,     0.94394,     0.94494,     0.94595,     0.94695,     0.94795,     0.94895,     0.94995,     0.95095,     0.95195,     0.95295,     0.95395,     0.95495,     0.95596,     0.95696,     0.95796,     0.95896,     0.95996,\n",
       "           0.96096,     0.96196,     0.96296,     0.96396,     0.96496,     0.96597,     0.96697,     0.96797,     0.96897,     0.96997,     0.97097,     0.97197,     0.97297,     0.97397,     0.97497,     0.97598,     0.97698,     0.97798,     0.97898,     0.97998,     0.98098,     0.98198,     0.98298,     0.98398,\n",
       "           0.98498,     0.98599,     0.98699,     0.98799,     0.98899,     0.98999,     0.99099,     0.99199,     0.99299,     0.99399,     0.99499,       0.996,       0.997,       0.998,       0.999,           1]), array([[   0.073082,    0.073082,      0.1028,     0.12341,     0.14045,     0.15515,     0.16548,     0.17328,     0.18385,     0.19286,     0.20027,     0.20876,     0.21644,     0.22276,     0.23142,     0.23711,      0.2454,     0.25399,     0.26164,      0.2684,     0.27499,     0.27813,     0.28182,\n",
       "            0.28477,     0.28916,     0.29545,     0.30202,     0.30769,     0.31323,     0.31951,     0.32234,     0.32886,     0.33202,     0.33508,     0.33762,     0.33992,     0.34342,     0.34606,     0.35035,     0.35539,     0.35962,     0.36167,     0.36531,     0.36783,     0.37273,     0.37764,\n",
       "            0.38046,     0.38366,     0.38677,      0.3929,     0.39628,     0.40094,     0.40848,     0.41267,     0.41434,     0.42132,     0.42637,     0.43294,     0.43883,     0.44478,     0.44927,     0.45315,     0.45806,     0.46346,      0.4712,     0.47348,      0.4763,     0.47937,     0.48866,\n",
       "            0.49223,     0.49824,      0.5002,     0.50099,     0.50201,     0.50372,      0.5068,     0.50988,     0.51161,     0.51306,     0.51425,     0.51641,      0.5204,     0.52151,     0.52407,     0.52669,     0.53006,     0.53301,     0.53422,      0.5383,     0.54173,     0.54304,      0.5442,\n",
       "            0.54941,     0.55443,     0.55503,     0.55513,     0.55598,     0.55562,     0.56146,     0.56378,     0.56491,     0.56661,     0.57076,     0.57449,     0.57956,     0.58139,      0.5828,     0.58417,     0.58547,     0.58703,     0.59072,     0.59444,     0.59613,     0.59851,      0.6016,\n",
       "             0.6061,     0.61057,     0.61101,     0.61144,     0.61188,     0.61231,     0.61348,     0.61697,     0.62223,     0.62418,      0.6263,     0.62853,     0.62934,     0.63013,     0.63457,     0.63724,     0.63952,     0.64308,     0.64449,     0.64538,     0.64618,     0.64698,     0.64836,\n",
       "            0.65462,     0.66031,     0.66414,     0.66809,     0.67263,     0.67431,     0.67626,      0.6786,     0.68252,       0.684,     0.68745,     0.68702,     0.68895,      0.6919,     0.69368,     0.69517,     0.69644,     0.69761,     0.69862,     0.69964,     0.69985,     0.70324,     0.70635,\n",
       "            0.70927,     0.70962,     0.71129,       0.713,     0.71473,     0.72189,     0.72358,     0.72983,     0.73358,     0.73719,     0.74134,     0.74821,     0.74996,     0.75061,     0.75187,     0.75869,     0.75916,     0.75866,     0.75831,     0.75796,      0.7614,      0.7619,     0.76239,\n",
       "            0.76289,     0.76338,     0.76388,     0.76438,     0.76828,     0.76904,      0.7698,     0.77055,     0.77131,     0.77502,     0.77436,     0.77458,      0.7751,     0.77562,     0.77614,     0.77666,     0.77718,      0.7777,     0.78106,     0.78609,     0.78748,     0.78889,     0.79039,\n",
       "            0.79189,     0.79237,     0.79224,     0.79211,     0.79198,     0.79185,     0.79172,     0.79159,     0.79152,     0.79207,     0.79263,     0.79318,     0.79374,     0.79429,     0.79485,     0.79925,     0.80054,     0.80183,     0.80307,      0.8041,     0.80512,     0.80615,     0.80728,\n",
       "            0.80857,     0.80986,     0.81273,     0.81511,     0.81583,     0.81655,     0.81727,     0.81799,     0.81886,     0.82097,     0.82276,     0.82326,     0.82377,     0.82427,     0.82477,     0.82528,     0.82578,     0.82628,     0.82691,     0.82859,     0.83026,     0.83577,     0.83751,\n",
       "            0.83939,     0.84793,      0.8504,     0.85237,     0.85335,     0.85433,     0.85531,     0.85629,     0.85788,     0.85957,     0.86282,     0.86578,      0.8665,     0.86721,     0.86793,     0.86865,     0.86937,     0.86988,     0.87011,     0.87033,     0.87056,     0.87078,     0.87101,\n",
       "            0.87123,     0.87145,     0.87168,      0.8719,     0.87213,     0.87235,     0.87258,      0.8728,     0.87303,     0.87325,     0.87347,      0.8737,     0.87392,     0.87415,     0.87451,     0.87597,     0.87742,     0.87887,     0.87981,     0.88072,     0.88163,     0.88253,     0.88344,\n",
       "            0.88408,     0.88467,     0.88525,     0.88583,     0.88642,       0.887,     0.88759,     0.88817,     0.88995,     0.89206,     0.89345,      0.8942,     0.89495,      0.8957,     0.89645,      0.8972,     0.89905,     0.90404,     0.90626,      0.9076,     0.90757,     0.90754,      0.9075,\n",
       "            0.90747,     0.90744,     0.90741,     0.90738,     0.90735,     0.90732,     0.90729,     0.90726,     0.90723,      0.9072,     0.90717,     0.90714,     0.90711,     0.90695,     0.90678,     0.90661,     0.90732,     0.90815,     0.90898,     0.90981,     0.91065,     0.91148,     0.91237,\n",
       "            0.91327,     0.91417,     0.91508,     0.91598,     0.91665,     0.91661,     0.91656,     0.91651,     0.91646,     0.91641,     0.91636,     0.91631,     0.91626,     0.91621,     0.91711,     0.91821,      0.9193,     0.92039,     0.92142,       0.922,     0.92259,     0.92317,     0.92375,\n",
       "            0.92433,     0.92492,      0.9255,     0.92608,     0.92705,      0.9297,     0.93257,     0.93628,     0.93812,      0.9394,     0.94068,     0.94195,     0.94495,     0.94817,     0.94879,     0.94941,     0.95002,     0.95064,     0.95126,     0.95188,     0.95249,     0.95311,     0.95348,\n",
       "            0.95344,     0.95341,     0.95338,     0.95335,     0.95332,     0.95329,     0.95326,     0.95322,     0.95375,     0.95446,     0.95517,     0.95589,      0.9566,     0.95731,     0.95802,     0.95873,     0.95881,      0.9588,     0.95879,     0.95878,     0.95877,     0.95876,     0.95875,\n",
       "            0.95874,     0.95873,     0.95871,      0.9587,     0.95869,     0.95868,     0.95867,     0.95866,     0.95865,     0.95864,     0.95863,     0.95861,      0.9586,     0.95859,     0.95858,     0.95918,     0.95988,     0.96059,      0.9613,     0.96201,     0.96271,     0.96342,     0.96413,\n",
       "            0.96413,     0.96405,     0.96401,     0.96397,     0.96393,      0.9639,     0.96386,     0.96638,     0.96921,     0.97076,     0.97205,     0.97333,     0.97462,     0.97556,     0.97546,     0.97545,     0.97544,     0.97543,     0.97542,     0.97541,      0.9754,     0.97539,     0.97538,\n",
       "            0.97537,     0.97537,     0.97536,     0.97535,     0.97534,     0.97533,     0.97532,     0.97531,     0.97527,     0.97521,     0.97515,     0.97506,     0.97939,      0.9811,     0.98106,     0.98102,     0.98128,     0.98161,     0.98195,     0.98229,     0.98262,     0.98296,      0.9833,\n",
       "            0.98363,     0.98397,     0.98431,     0.98464,     0.98498,     0.98532,     0.98565,     0.98599,     0.98632,     0.98666,       0.987,     0.98726,     0.98725,     0.98724,     0.98723,     0.98723,     0.98722,     0.98721,      0.9872,     0.98719,     0.98718,     0.98815,     0.98955,\n",
       "            0.99095,     0.99235,     0.99355,     0.99354,     0.99354,     0.99354,     0.99353,     0.99353,     0.99352,     0.99352,     0.99352,     0.99351,     0.99351,      0.9935,      0.9935,      0.9935,     0.99349,     0.99349,     0.99349,     0.99349,     0.99348,     0.99348,     0.99348,\n",
       "            0.99347,     0.99347,     0.99347,     0.99346,     0.99345,     0.99343,     0.99341,      0.9934,     0.99339,     0.99338,       0.995,     0.99685,      0.9987,           1,           1,           1,           1,           1,           1,           1,           1,           1,           1,\n",
       "                  1,           1,           1,           1,           1,           1,           1,           1,           1,           1,           1,           1,           1,           1,           1,           1,           1,           1,           1,           1,           1,           1,           1,\n",
       "                  1,           1,           1,           1,           1,           1,           1,           1,           1,           1,           1,           1,           1,           1,           1,           1,           1,           1,           1,           1,           1,           1,           1,\n",
       "                  1,           1,           1,           1,           1,           1,           1,           1,           1,           1,           1,           1,           1,           1,           1,           1,           1,           1,           1,           1,           1,           1,           1,\n",
       "                  1,           1,           1,           1,           1,           1,           1,           1,           1,           1,           1,           1,           1,           1,           1,           1,           1,           1,           1,           1,           1,           1,           1,\n",
       "                  1,           1,           1,           1,           1,           1,           1,           1,           1,           1,           1,           1,           1,           1,           1,           1,           1,           1,           1,           1,           1,           1,           1,\n",
       "                  1,           1,           1,           1,           1,           1,           1,           1,           1,           1,           1,           1,           1,           1,           1,           1,           1,           1,           1,           1,           1,           1,           1,\n",
       "                  1,           1,           1,           1,           1,           1,           1,           1,           1,           1,           1,           1,           1,           1,           1,           1,           1,           1,           1,           1,           1,           1,           1,\n",
       "                  1,           1,           1,           1,           1,           1,           1,           1,           1,           1,           1,           1,           1,           1,           1,           1,           1,           1,           1,           1,           1,           1,           1,\n",
       "                  1,           1,           1,           1,           1,           1,           1,           1,           1,           1,           1,           1,           1,           1,           1,           1,           1,           1,           1,           1,           1,           1,           1,\n",
       "                  1,           1,           1,           1,           1,           1,           1,           1,           1,           1,           1,           1,           1,           1,           1,           1,           1,           1,           1,           1,           1,           1,           1,\n",
       "                  1,           1,           1,           1,           1,           1,           1,           1,           1,           1,           1,           1,           1,           1,           1,           1,           1,           1,           1,           1,           1,           1,           1,\n",
       "                  1,           1,           1,           1,           1,           1,           1,           1,           1,           1,           1,           1,           1,           1,           1,           1,           1,           1,           1,           1,           1,           1,           1,\n",
       "                  1,           1,           1,           1,           1,           1,           1,           1,           1,           1,           1,           1,           1,           1,           1,           1,           1,           1,           1,           1,           1,           1,           1,\n",
       "                  1,           1,           1,           1,           1,           1,           1,           1,           1,           1,           1,           1,           1,           1,           1,           1,           1,           1,           1,           1,           1,           1,           1,\n",
       "                  1,           1,           1,           1,           1,           1,           1,           1,           1,           1,           1,           1,           1,           1,           1,           1,           1,           1,           1,           1,           1,           1,           1,\n",
       "                  1,           1,           1,           1,           1,           1,           1,           1,           1,           1,           1,           1,           1,           1,           1,           1,           1,           1,           1,           1,           1,           1,           1,\n",
       "                  1,           1,           1,           1,           1,           1,           1,           1,           1,           1,           1,           1,           1,           1,           1,           1,           1,           1,           1,           1,           1,           1,           1,\n",
       "                  1,           1,           1,           1,           1,           1,           1,           1,           1,           1,           1,           1,           1,           1,           1,           1,           1,           1,           1,           1,           1,           1,           1,\n",
       "                  1,           1,           1,           1,           1,           1,           1,           1,           1,           1,           1,           1,           1,           1,           1,           1,           1,           1,           1,           1,           1,           1,           1,\n",
       "                  1,           1,           1,           1,           1,           1,           1,           1,           1,           1,           1]]), 'Confidence', 'Precision'], [array([          0,    0.001001,    0.002002,    0.003003,    0.004004,    0.005005,    0.006006,    0.007007,    0.008008,    0.009009,     0.01001,    0.011011,    0.012012,    0.013013,    0.014014,    0.015015,    0.016016,    0.017017,    0.018018,    0.019019,     0.02002,    0.021021,    0.022022,    0.023023,\n",
       "          0.024024,    0.025025,    0.026026,    0.027027,    0.028028,    0.029029,     0.03003,    0.031031,    0.032032,    0.033033,    0.034034,    0.035035,    0.036036,    0.037037,    0.038038,    0.039039,     0.04004,    0.041041,    0.042042,    0.043043,    0.044044,    0.045045,    0.046046,    0.047047,\n",
       "          0.048048,    0.049049,     0.05005,    0.051051,    0.052052,    0.053053,    0.054054,    0.055055,    0.056056,    0.057057,    0.058058,    0.059059,     0.06006,    0.061061,    0.062062,    0.063063,    0.064064,    0.065065,    0.066066,    0.067067,    0.068068,    0.069069,     0.07007,    0.071071,\n",
       "          0.072072,    0.073073,    0.074074,    0.075075,    0.076076,    0.077077,    0.078078,    0.079079,     0.08008,    0.081081,    0.082082,    0.083083,    0.084084,    0.085085,    0.086086,    0.087087,    0.088088,    0.089089,     0.09009,    0.091091,    0.092092,    0.093093,    0.094094,    0.095095,\n",
       "          0.096096,    0.097097,    0.098098,    0.099099,      0.1001,      0.1011,      0.1021,      0.1031,      0.1041,     0.10511,     0.10611,     0.10711,     0.10811,     0.10911,     0.11011,     0.11111,     0.11211,     0.11311,     0.11411,     0.11512,     0.11612,     0.11712,     0.11812,     0.11912,\n",
       "           0.12012,     0.12112,     0.12212,     0.12312,     0.12412,     0.12513,     0.12613,     0.12713,     0.12813,     0.12913,     0.13013,     0.13113,     0.13213,     0.13313,     0.13413,     0.13514,     0.13614,     0.13714,     0.13814,     0.13914,     0.14014,     0.14114,     0.14214,     0.14314,\n",
       "           0.14414,     0.14515,     0.14615,     0.14715,     0.14815,     0.14915,     0.15015,     0.15115,     0.15215,     0.15315,     0.15415,     0.15516,     0.15616,     0.15716,     0.15816,     0.15916,     0.16016,     0.16116,     0.16216,     0.16316,     0.16416,     0.16517,     0.16617,     0.16717,\n",
       "           0.16817,     0.16917,     0.17017,     0.17117,     0.17217,     0.17317,     0.17417,     0.17518,     0.17618,     0.17718,     0.17818,     0.17918,     0.18018,     0.18118,     0.18218,     0.18318,     0.18418,     0.18519,     0.18619,     0.18719,     0.18819,     0.18919,     0.19019,     0.19119,\n",
       "           0.19219,     0.19319,     0.19419,      0.1952,      0.1962,      0.1972,      0.1982,      0.1992,      0.2002,      0.2012,      0.2022,      0.2032,      0.2042,     0.20521,     0.20621,     0.20721,     0.20821,     0.20921,     0.21021,     0.21121,     0.21221,     0.21321,     0.21421,     0.21522,\n",
       "           0.21622,     0.21722,     0.21822,     0.21922,     0.22022,     0.22122,     0.22222,     0.22322,     0.22422,     0.22523,     0.22623,     0.22723,     0.22823,     0.22923,     0.23023,     0.23123,     0.23223,     0.23323,     0.23423,     0.23524,     0.23624,     0.23724,     0.23824,     0.23924,\n",
       "           0.24024,     0.24124,     0.24224,     0.24324,     0.24424,     0.24525,     0.24625,     0.24725,     0.24825,     0.24925,     0.25025,     0.25125,     0.25225,     0.25325,     0.25425,     0.25526,     0.25626,     0.25726,     0.25826,     0.25926,     0.26026,     0.26126,     0.26226,     0.26326,\n",
       "           0.26426,     0.26527,     0.26627,     0.26727,     0.26827,     0.26927,     0.27027,     0.27127,     0.27227,     0.27327,     0.27427,     0.27528,     0.27628,     0.27728,     0.27828,     0.27928,     0.28028,     0.28128,     0.28228,     0.28328,     0.28428,     0.28529,     0.28629,     0.28729,\n",
       "           0.28829,     0.28929,     0.29029,     0.29129,     0.29229,     0.29329,     0.29429,      0.2953,      0.2963,      0.2973,      0.2983,      0.2993,      0.3003,      0.3013,      0.3023,      0.3033,      0.3043,     0.30531,     0.30631,     0.30731,     0.30831,     0.30931,     0.31031,     0.31131,\n",
       "           0.31231,     0.31331,     0.31431,     0.31532,     0.31632,     0.31732,     0.31832,     0.31932,     0.32032,     0.32132,     0.32232,     0.32332,     0.32432,     0.32533,     0.32633,     0.32733,     0.32833,     0.32933,     0.33033,     0.33133,     0.33233,     0.33333,     0.33433,     0.33534,\n",
       "           0.33634,     0.33734,     0.33834,     0.33934,     0.34034,     0.34134,     0.34234,     0.34334,     0.34434,     0.34535,     0.34635,     0.34735,     0.34835,     0.34935,     0.35035,     0.35135,     0.35235,     0.35335,     0.35435,     0.35536,     0.35636,     0.35736,     0.35836,     0.35936,\n",
       "           0.36036,     0.36136,     0.36236,     0.36336,     0.36436,     0.36537,     0.36637,     0.36737,     0.36837,     0.36937,     0.37037,     0.37137,     0.37237,     0.37337,     0.37437,     0.37538,     0.37638,     0.37738,     0.37838,     0.37938,     0.38038,     0.38138,     0.38238,     0.38338,\n",
       "           0.38438,     0.38539,     0.38639,     0.38739,     0.38839,     0.38939,     0.39039,     0.39139,     0.39239,     0.39339,     0.39439,      0.3954,      0.3964,      0.3974,      0.3984,      0.3994,      0.4004,      0.4014,      0.4024,      0.4034,      0.4044,     0.40541,     0.40641,     0.40741,\n",
       "           0.40841,     0.40941,     0.41041,     0.41141,     0.41241,     0.41341,     0.41441,     0.41542,     0.41642,     0.41742,     0.41842,     0.41942,     0.42042,     0.42142,     0.42242,     0.42342,     0.42442,     0.42543,     0.42643,     0.42743,     0.42843,     0.42943,     0.43043,     0.43143,\n",
       "           0.43243,     0.43343,     0.43443,     0.43544,     0.43644,     0.43744,     0.43844,     0.43944,     0.44044,     0.44144,     0.44244,     0.44344,     0.44444,     0.44545,     0.44645,     0.44745,     0.44845,     0.44945,     0.45045,     0.45145,     0.45245,     0.45345,     0.45445,     0.45546,\n",
       "           0.45646,     0.45746,     0.45846,     0.45946,     0.46046,     0.46146,     0.46246,     0.46346,     0.46446,     0.46547,     0.46647,     0.46747,     0.46847,     0.46947,     0.47047,     0.47147,     0.47247,     0.47347,     0.47447,     0.47548,     0.47648,     0.47748,     0.47848,     0.47948,\n",
       "           0.48048,     0.48148,     0.48248,     0.48348,     0.48448,     0.48549,     0.48649,     0.48749,     0.48849,     0.48949,     0.49049,     0.49149,     0.49249,     0.49349,     0.49449,      0.4955,      0.4965,      0.4975,      0.4985,      0.4995,      0.5005,      0.5015,      0.5025,      0.5035,\n",
       "            0.5045,     0.50551,     0.50651,     0.50751,     0.50851,     0.50951,     0.51051,     0.51151,     0.51251,     0.51351,     0.51451,     0.51552,     0.51652,     0.51752,     0.51852,     0.51952,     0.52052,     0.52152,     0.52252,     0.52352,     0.52452,     0.52553,     0.52653,     0.52753,\n",
       "           0.52853,     0.52953,     0.53053,     0.53153,     0.53253,     0.53353,     0.53453,     0.53554,     0.53654,     0.53754,     0.53854,     0.53954,     0.54054,     0.54154,     0.54254,     0.54354,     0.54454,     0.54555,     0.54655,     0.54755,     0.54855,     0.54955,     0.55055,     0.55155,\n",
       "           0.55255,     0.55355,     0.55455,     0.55556,     0.55656,     0.55756,     0.55856,     0.55956,     0.56056,     0.56156,     0.56256,     0.56356,     0.56456,     0.56557,     0.56657,     0.56757,     0.56857,     0.56957,     0.57057,     0.57157,     0.57257,     0.57357,     0.57457,     0.57558,\n",
       "           0.57658,     0.57758,     0.57858,     0.57958,     0.58058,     0.58158,     0.58258,     0.58358,     0.58458,     0.58559,     0.58659,     0.58759,     0.58859,     0.58959,     0.59059,     0.59159,     0.59259,     0.59359,     0.59459,      0.5956,      0.5966,      0.5976,      0.5986,      0.5996,\n",
       "            0.6006,      0.6016,      0.6026,      0.6036,      0.6046,     0.60561,     0.60661,     0.60761,     0.60861,     0.60961,     0.61061,     0.61161,     0.61261,     0.61361,     0.61461,     0.61562,     0.61662,     0.61762,     0.61862,     0.61962,     0.62062,     0.62162,     0.62262,     0.62362,\n",
       "           0.62462,     0.62563,     0.62663,     0.62763,     0.62863,     0.62963,     0.63063,     0.63163,     0.63263,     0.63363,     0.63463,     0.63564,     0.63664,     0.63764,     0.63864,     0.63964,     0.64064,     0.64164,     0.64264,     0.64364,     0.64464,     0.64565,     0.64665,     0.64765,\n",
       "           0.64865,     0.64965,     0.65065,     0.65165,     0.65265,     0.65365,     0.65465,     0.65566,     0.65666,     0.65766,     0.65866,     0.65966,     0.66066,     0.66166,     0.66266,     0.66366,     0.66466,     0.66567,     0.66667,     0.66767,     0.66867,     0.66967,     0.67067,     0.67167,\n",
       "           0.67267,     0.67367,     0.67467,     0.67568,     0.67668,     0.67768,     0.67868,     0.67968,     0.68068,     0.68168,     0.68268,     0.68368,     0.68468,     0.68569,     0.68669,     0.68769,     0.68869,     0.68969,     0.69069,     0.69169,     0.69269,     0.69369,     0.69469,      0.6957,\n",
       "            0.6967,      0.6977,      0.6987,      0.6997,      0.7007,      0.7017,      0.7027,      0.7037,      0.7047,     0.70571,     0.70671,     0.70771,     0.70871,     0.70971,     0.71071,     0.71171,     0.71271,     0.71371,     0.71471,     0.71572,     0.71672,     0.71772,     0.71872,     0.71972,\n",
       "           0.72072,     0.72172,     0.72272,     0.72372,     0.72472,     0.72573,     0.72673,     0.72773,     0.72873,     0.72973,     0.73073,     0.73173,     0.73273,     0.73373,     0.73473,     0.73574,     0.73674,     0.73774,     0.73874,     0.73974,     0.74074,     0.74174,     0.74274,     0.74374,\n",
       "           0.74474,     0.74575,     0.74675,     0.74775,     0.74875,     0.74975,     0.75075,     0.75175,     0.75275,     0.75375,     0.75475,     0.75576,     0.75676,     0.75776,     0.75876,     0.75976,     0.76076,     0.76176,     0.76276,     0.76376,     0.76476,     0.76577,     0.76677,     0.76777,\n",
       "           0.76877,     0.76977,     0.77077,     0.77177,     0.77277,     0.77377,     0.77477,     0.77578,     0.77678,     0.77778,     0.77878,     0.77978,     0.78078,     0.78178,     0.78278,     0.78378,     0.78478,     0.78579,     0.78679,     0.78779,     0.78879,     0.78979,     0.79079,     0.79179,\n",
       "           0.79279,     0.79379,     0.79479,      0.7958,      0.7968,      0.7978,      0.7988,      0.7998,      0.8008,      0.8018,      0.8028,      0.8038,      0.8048,     0.80581,     0.80681,     0.80781,     0.80881,     0.80981,     0.81081,     0.81181,     0.81281,     0.81381,     0.81481,     0.81582,\n",
       "           0.81682,     0.81782,     0.81882,     0.81982,     0.82082,     0.82182,     0.82282,     0.82382,     0.82482,     0.82583,     0.82683,     0.82783,     0.82883,     0.82983,     0.83083,     0.83183,     0.83283,     0.83383,     0.83483,     0.83584,     0.83684,     0.83784,     0.83884,     0.83984,\n",
       "           0.84084,     0.84184,     0.84284,     0.84384,     0.84484,     0.84585,     0.84685,     0.84785,     0.84885,     0.84985,     0.85085,     0.85185,     0.85285,     0.85385,     0.85485,     0.85586,     0.85686,     0.85786,     0.85886,     0.85986,     0.86086,     0.86186,     0.86286,     0.86386,\n",
       "           0.86486,     0.86587,     0.86687,     0.86787,     0.86887,     0.86987,     0.87087,     0.87187,     0.87287,     0.87387,     0.87487,     0.87588,     0.87688,     0.87788,     0.87888,     0.87988,     0.88088,     0.88188,     0.88288,     0.88388,     0.88488,     0.88589,     0.88689,     0.88789,\n",
       "           0.88889,     0.88989,     0.89089,     0.89189,     0.89289,     0.89389,     0.89489,      0.8959,      0.8969,      0.8979,      0.8989,      0.8999,      0.9009,      0.9019,      0.9029,      0.9039,      0.9049,     0.90591,     0.90691,     0.90791,     0.90891,     0.90991,     0.91091,     0.91191,\n",
       "           0.91291,     0.91391,     0.91491,     0.91592,     0.91692,     0.91792,     0.91892,     0.91992,     0.92092,     0.92192,     0.92292,     0.92392,     0.92492,     0.92593,     0.92693,     0.92793,     0.92893,     0.92993,     0.93093,     0.93193,     0.93293,     0.93393,     0.93493,     0.93594,\n",
       "           0.93694,     0.93794,     0.93894,     0.93994,     0.94094,     0.94194,     0.94294,     0.94394,     0.94494,     0.94595,     0.94695,     0.94795,     0.94895,     0.94995,     0.95095,     0.95195,     0.95295,     0.95395,     0.95495,     0.95596,     0.95696,     0.95796,     0.95896,     0.95996,\n",
       "           0.96096,     0.96196,     0.96296,     0.96396,     0.96496,     0.96597,     0.96697,     0.96797,     0.96897,     0.96997,     0.97097,     0.97197,     0.97297,     0.97397,     0.97497,     0.97598,     0.97698,     0.97798,     0.97898,     0.97998,     0.98098,     0.98198,     0.98298,     0.98398,\n",
       "           0.98498,     0.98599,     0.98699,     0.98799,     0.98899,     0.98999,     0.99099,     0.99199,     0.99299,     0.99399,     0.99499,       0.996,       0.997,       0.998,       0.999,           1]), array([[          1,           1,           1,           1,           1,           1,           1,           1,           1,           1,           1,           1,           1,           1,     0.99697,     0.99444,     0.99444,     0.99444,     0.99444,     0.99444,     0.99444,     0.99444,     0.99444,\n",
       "            0.99444,     0.99444,     0.99444,     0.99444,     0.99444,     0.99444,     0.99444,     0.99444,     0.99444,     0.99444,     0.99444,     0.99444,     0.99444,     0.99444,     0.99444,     0.99444,     0.99444,     0.99444,     0.99444,     0.99444,     0.99444,     0.99444,     0.99444,\n",
       "            0.99444,     0.99444,     0.99444,     0.99444,     0.99444,     0.99444,     0.99444,     0.99444,     0.99444,     0.99444,     0.99444,     0.99444,     0.99444,     0.99444,     0.99444,     0.99444,     0.99444,     0.99444,     0.99444,     0.99444,     0.99444,     0.99444,     0.99444,\n",
       "            0.99444,     0.99444,     0.99444,     0.99444,     0.99444,     0.99444,     0.99444,     0.99444,     0.99444,     0.99444,     0.99444,     0.99444,     0.99444,     0.99444,     0.99444,     0.99444,     0.99444,     0.99444,     0.99444,     0.99444,     0.99444,     0.99444,     0.99444,\n",
       "            0.99444,     0.99444,     0.99093,     0.98889,     0.98889,     0.98333,     0.98333,     0.98333,     0.98333,     0.98333,     0.98333,     0.98333,     0.98333,     0.98333,     0.98333,     0.98333,     0.98333,     0.98333,     0.98333,     0.98333,     0.98333,     0.98333,     0.98333,\n",
       "            0.98333,     0.98333,     0.98333,     0.98333,     0.98333,     0.98333,     0.98333,     0.98333,     0.97778,     0.97778,     0.97778,     0.97778,     0.97778,     0.97778,     0.97778,     0.97778,     0.97778,     0.97778,     0.97778,     0.97778,     0.97778,     0.97778,     0.97778,\n",
       "            0.97778,     0.97778,     0.97778,     0.97778,     0.97778,     0.97778,     0.97778,     0.97778,     0.97778,     0.97778,     0.97753,     0.97222,     0.97222,     0.97222,     0.97222,     0.97222,     0.97222,     0.97222,     0.97222,     0.97222,     0.96667,     0.96667,     0.96667,\n",
       "            0.96667,     0.96111,     0.96111,     0.96111,     0.96111,     0.96111,     0.96111,      0.9605,     0.95556,     0.95556,     0.95556,     0.95556,     0.95556,     0.95312,        0.95,        0.95,     0.94566,     0.94308,     0.94126,     0.93945,     0.93889,     0.93889,     0.93889,\n",
       "            0.93889,     0.93889,     0.93889,     0.93889,     0.93889,     0.93889,     0.93889,     0.93889,     0.93889,     0.93774,     0.93422,     0.93333,     0.93333,     0.93333,     0.93333,     0.93333,     0.93333,     0.93333,     0.93333,     0.93333,     0.93333,     0.93333,     0.93333,\n",
       "            0.93333,     0.93287,     0.93214,      0.9314,     0.93066,     0.92993,     0.92919,     0.92845,     0.92778,     0.92778,     0.92778,     0.92778,     0.92778,     0.92778,     0.92778,     0.92778,     0.92778,     0.92778,     0.92778,     0.92778,     0.92778,     0.92778,     0.92778,\n",
       "            0.92778,     0.92778,     0.92778,     0.92778,     0.92778,     0.92778,     0.92778,     0.92778,     0.92778,     0.92778,     0.92778,     0.92778,     0.92778,     0.92778,     0.92778,     0.92778,     0.92778,     0.92778,     0.92778,     0.92778,     0.92778,     0.92778,     0.92778,\n",
       "            0.92778,     0.92778,     0.92778,     0.92778,     0.92778,     0.92778,     0.92778,     0.92778,     0.92778,     0.92778,     0.92778,     0.92778,     0.92778,     0.92778,     0.92778,     0.92778,     0.92778,     0.92778,     0.92778,     0.92778,     0.92778,     0.92778,     0.92778,\n",
       "            0.92778,     0.92778,     0.92778,     0.92778,     0.92778,     0.92778,     0.92778,     0.92778,     0.92778,     0.92778,     0.92778,     0.92778,     0.92778,     0.92778,     0.92778,     0.92778,     0.92778,     0.92778,     0.92778,     0.92778,     0.92778,     0.92778,     0.92778,\n",
       "            0.92778,     0.92778,     0.92778,     0.92778,     0.92778,     0.92778,     0.92778,     0.92778,     0.92778,     0.92778,     0.92778,     0.92778,     0.92778,     0.92778,     0.92778,     0.92778,     0.92778,     0.92778,     0.92778,     0.92764,     0.92731,     0.92697,     0.92663,\n",
       "             0.9263,     0.92596,     0.92562,     0.92529,     0.92495,     0.92461,     0.92428,     0.92394,      0.9236,     0.92326,     0.92293,     0.92259,     0.92225,     0.92056,     0.91873,      0.9169,     0.91667,     0.91667,     0.91667,     0.91667,     0.91667,     0.91667,     0.91667,\n",
       "            0.91667,     0.91667,     0.91667,     0.91667,     0.91653,     0.91594,     0.91535,     0.91475,     0.91416,     0.91357,     0.91298,     0.91239,      0.9118,     0.91121,     0.91111,     0.91111,     0.91111,     0.91111,     0.91111,     0.91111,     0.91111,     0.91111,     0.91111,\n",
       "            0.91111,     0.91111,     0.91111,     0.91111,     0.91111,     0.91111,     0.91111,     0.91111,     0.91111,     0.91111,     0.91111,     0.91111,     0.91111,     0.91111,     0.91111,     0.91111,     0.91111,     0.91111,     0.91111,     0.91111,     0.91111,     0.91111,     0.91086,\n",
       "            0.91022,     0.90957,     0.90893,     0.90829,     0.90764,       0.907,     0.90636,     0.90572,     0.90556,     0.90556,     0.90556,     0.90556,     0.90556,     0.90556,     0.90556,     0.90556,     0.90534,     0.90508,     0.90483,     0.90458,     0.90433,     0.90407,     0.90382,\n",
       "            0.90357,     0.90332,     0.90307,     0.90281,     0.90256,     0.90231,     0.90206,      0.9018,     0.90155,      0.9013,     0.90105,      0.9008,     0.90054,     0.90029,     0.90004,         0.9,         0.9,         0.9,         0.9,         0.9,         0.9,         0.9,         0.9,\n",
       "            0.89591,     0.89376,      0.8928,     0.89185,      0.8909,     0.88994,     0.88899,     0.88889,     0.88889,     0.88889,     0.88889,     0.88889,     0.88889,     0.88717,     0.88317,     0.88284,     0.88251,     0.88218,     0.88185,     0.88152,     0.88119,     0.88086,     0.88053,\n",
       "             0.8802,     0.87987,     0.87955,     0.87922,     0.87889,     0.87856,     0.87823,      0.8779,     0.87639,      0.8742,     0.87192,     0.86876,     0.86667,      0.8651,      0.8633,     0.86149,     0.86111,     0.86111,     0.86111,     0.86111,     0.86111,     0.86111,     0.86111,\n",
       "            0.86111,     0.86111,     0.86111,     0.86111,     0.86111,     0.86111,     0.86111,     0.86111,     0.86111,     0.86111,     0.86111,     0.86098,      0.8604,     0.85982,     0.85924,     0.85865,     0.85807,     0.85749,      0.8569,     0.85632,     0.85574,     0.85556,     0.85556,\n",
       "            0.85556,     0.85556,     0.85548,     0.85493,     0.85439,     0.85385,      0.8533,     0.85276,     0.85222,     0.85167,     0.85113,     0.85059,     0.85004,     0.84964,     0.84924,     0.84885,     0.84845,     0.84806,     0.84766,     0.84727,     0.84688,     0.84648,     0.84609,\n",
       "            0.84569,      0.8453,      0.8449,     0.84451,     0.84217,     0.83946,     0.83777,     0.83635,     0.83493,     0.83351,     0.83333,     0.83333,     0.83333,     0.83306,     0.83215,     0.83124,     0.83032,     0.82941,      0.8285,     0.82757,     0.82661,     0.82565,      0.8247,\n",
       "            0.82374,     0.82278,     0.82216,     0.82201,     0.82186,     0.82171,     0.82156,     0.82141,     0.82126,     0.82111,     0.82096,     0.82081,     0.82066,     0.82051,     0.82036,     0.82021,     0.82006,     0.81991,     0.81976,     0.81961,     0.81946,     0.81931,     0.81916,\n",
       "            0.81901,     0.81886,     0.81871,     0.81856,     0.81841,     0.81826,     0.81811,     0.81796,     0.81781,     0.81766,     0.81751,     0.81736,     0.81721,     0.81706,     0.81691,     0.81676,     0.81654,     0.81623,     0.81591,     0.81559,     0.81527,     0.81495,     0.81463,\n",
       "            0.81431,     0.81399,     0.81367,     0.81335,     0.81303,     0.81271,     0.81239,     0.81208,     0.81176,     0.81144,     0.81112,     0.81043,     0.80972,     0.80902,     0.80832,     0.80762,     0.80692,     0.80622,     0.80531,       0.801,     0.79597,     0.79364,     0.79251,\n",
       "            0.79137,     0.79024,      0.7891,      0.7882,     0.78735,      0.7865,     0.78565,      0.7848,     0.78395,     0.78294,     0.78151,     0.78009,     0.77867,     0.77743,     0.77651,     0.77558,     0.77466,     0.77373,     0.77281,     0.77183,     0.77077,     0.76971,     0.76865,\n",
       "            0.76759,     0.76648,     0.76503,     0.76358,     0.76213,     0.76084,     0.75992,     0.75901,     0.75809,     0.75718,     0.75626,      0.7553,     0.75416,     0.75303,      0.7519,     0.75076,     0.74824,     0.74432,      0.7439,     0.74349,     0.74307,     0.74265,     0.74224,\n",
       "            0.74182,      0.7414,     0.74098,     0.74057,     0.74015,     0.73973,     0.73931,      0.7389,     0.73828,     0.73766,     0.73704,     0.73641,     0.73579,     0.73517,     0.73455,     0.73393,     0.73312,     0.72839,     0.72634,     0.72469,     0.72304,     0.72045,     0.71692,\n",
       "            0.71102,     0.70949,     0.70795,     0.70642,      0.7039,     0.70013,     0.69789,     0.69571,     0.69363,     0.69169,     0.68976,     0.68237,     0.67042,     0.66793,     0.66553,     0.66322,     0.66088,     0.65825,     0.65562,     0.65462,     0.65367,     0.65271,     0.65176,\n",
       "             0.6508,     0.64848,     0.63983,     0.62555,     0.61645,     0.61189,     0.60841,     0.60525,     0.60274,     0.60022,     0.59864,     0.59715,     0.59567,     0.59425,     0.59319,     0.59213,     0.59107,     0.59001,     0.58895,     0.58734,     0.58569,     0.58404,     0.58214,\n",
       "            0.58004,     0.57794,      0.5656,     0.55962,     0.55798,     0.55633,     0.54397,     0.54246,     0.54094,     0.53943,     0.51733,     0.51355,     0.50947,     0.50053,     0.49865,     0.49724,     0.49583,     0.49435,     0.48854,     0.48415,     0.47515,     0.47201,     0.47133,\n",
       "            0.47066,     0.46998,     0.46931,     0.46863,     0.46796,     0.46728,     0.46658,     0.46552,     0.46446,      0.4634,     0.46234,     0.46128,     0.45933,      0.4572,     0.45534,     0.45439,     0.45344,     0.45249,     0.45154,     0.45059,     0.44552,      0.4418,     0.43889,\n",
       "            0.42982,     0.41643,     0.41556,     0.41468,      0.4138,     0.41292,     0.41205,     0.41117,     0.39583,     0.39163,     0.38821,     0.38428,     0.37662,     0.37323,     0.36974,     0.35434,     0.34378,     0.34219,     0.34059,       0.339,     0.33749,     0.33598,     0.33447,\n",
       "             0.3327,     0.33014,     0.32749,     0.32378,     0.32056,     0.31769,     0.30555,     0.30453,     0.30351,     0.30248,     0.30146,     0.30044,     0.29754,     0.29177,     0.28685,     0.28391,     0.27194,     0.27074,     0.26954,     0.26833,     0.26713,     0.26082,     0.25941,\n",
       "              0.258,     0.25659,     0.24912,     0.24319,     0.22751,     0.22517,     0.22282,     0.21611,     0.20846,     0.20247,     0.19893,     0.19725,     0.19557,     0.19282,     0.18815,     0.18436,     0.17919,     0.17446,     0.16654,     0.15444,     0.15244,     0.15044,     0.14664,\n",
       "            0.14127,     0.13818,     0.13705,     0.13593,      0.1348,     0.13368,     0.13132,      0.1284,     0.12121,     0.11912,     0.11703,     0.10889,    0.097807,    0.090811,    0.086541,    0.083127,    0.081596,    0.080065,    0.078535,    0.077221,     0.07612,    0.075019,    0.073918,\n",
       "           0.072817,     0.06998,    0.066282,    0.065081,    0.063879,    0.062677,    0.061476,    0.060553,    0.059752,    0.058951,     0.05815,    0.057349,    0.056548,    0.055746,    0.049659,    0.048203,    0.046747,    0.045291,    0.043805,    0.042279,    0.040753,    0.039226,    0.038521,\n",
       "           0.038048,    0.037575,    0.037102,    0.036629,    0.036157,    0.035684,    0.035211,    0.034738,    0.034265,    0.033793,    0.033118,    0.025941,    0.021215,     0.01881,    0.015203,     0.01079,    0.010329,   0.0098689,   0.0094083,   0.0089477,   0.0084871,   0.0080265,   0.0075658,\n",
       "          0.0071052,   0.0066446,    0.006184,   0.0057234,           0,           0,           0,           0,           0,           0,           0,           0,           0,           0,           0,           0,           0,           0,           0,           0,           0,           0,           0,\n",
       "                  0,           0,           0,           0,           0,           0,           0,           0,           0,           0,           0,           0,           0,           0,           0,           0,           0,           0,           0,           0,           0,           0,           0,\n",
       "                  0,           0,           0,           0,           0,           0,           0,           0,           0,           0,           0,           0,           0,           0,           0,           0,           0,           0,           0,           0,           0,           0,           0,\n",
       "                  0,           0,           0,           0,           0,           0,           0,           0,           0,           0,           0]]), 'Confidence', 'Recall']]\n",
       "fitness: 0.6816893835925444\n",
       "keys: ['metrics/precision(B)', 'metrics/recall(B)', 'metrics/mAP50(B)', 'metrics/mAP50-95(B)']\n",
       "maps: array([    0.64952])\n",
       "names: {0: 'license_plate'}\n",
       "plot: True\n",
       "results_dict: {'metrics/precision(B)': 0.9586369108184352, 'metrics/recall(B)': 0.9013003554076517, 'metrics/mAP50(B)': 0.9712242614121851, 'metrics/mAP50-95(B)': 0.6495188416125842, 'fitness': 0.6816893835925444}\n",
       "save_dir: PosixPath('runs/detect/train12')\n",
       "speed: {'preprocess': 0.7654137081570095, 'inference': 169.1646721627977, 'loss': 2.1192762586805555e-05, 'postprocess': 0.163624021742079}\n",
       "task: 'detect'"
      ]
     },
     "execution_count": 6,
     "metadata": {},
     "output_type": "execute_result"
    }
   ],
   "source": [
    "model = YOLO('yolov8n.yaml')  \n",
    "model.train(data='./yolov8_dataset/config.yaml', epochs=15, imgsz=640)"
   ]
  },
  {
   "cell_type": "code",
   "execution_count": 7,
   "id": "b896ab51-5b21-431f-b54a-0a6969c0f451",
   "metadata": {},
   "outputs": [
    {
     "name": "stdout",
     "output_type": "stream",
     "text": [
      "Ultralytics YOLOv8.2.48 🚀 Python-3.11.9 torch-2.3.1 CPU (Apple M3 Pro)\n",
      "YOLOv8n summary (fused): 168 layers, 3005843 parameters, 0 gradients, 8.1 GFLOPs\n"
     ]
    },
    {
     "name": "stderr",
     "output_type": "stream",
     "text": [
      "\u001b[34m\u001b[1mval: \u001b[0mScanning /Users/ayangairola/Desktop/intern/yolov8_dataset/labels/val.cache.\u001b[0m\n",
      "                 Class     Images  Instances      Box(P          R      mAP50  m\n"
     ]
    },
    {
     "name": "stdout",
     "output_type": "stream",
     "text": [
      "                   all        180        180      0.957      0.906      0.972       0.65\n",
      "Speed: 0.8ms preprocess, 155.4ms inference, 0.0ms loss, 0.2ms postprocess per image\n",
      "Results saved to \u001b[1mruns/detect/train122\u001b[0m\n",
      "ultralytics.utils.metrics.DetMetrics object with attributes:\n",
      "\n",
      "ap_class_index: array([0])\n",
      "box: ultralytics.utils.metrics.Metric object\n",
      "confusion_matrix: <ultralytics.utils.metrics.ConfusionMatrix object at 0x334c3d110>\n",
      "curves: ['Precision-Recall(B)', 'F1-Confidence(B)', 'Precision-Confidence(B)', 'Recall-Confidence(B)']\n",
      "curves_results: [[array([          0,    0.001001,    0.002002,    0.003003,    0.004004,    0.005005,    0.006006,    0.007007,    0.008008,    0.009009,     0.01001,    0.011011,    0.012012,    0.013013,    0.014014,    0.015015,    0.016016,    0.017017,    0.018018,    0.019019,     0.02002,    0.021021,    0.022022,    0.023023,\n",
      "          0.024024,    0.025025,    0.026026,    0.027027,    0.028028,    0.029029,     0.03003,    0.031031,    0.032032,    0.033033,    0.034034,    0.035035,    0.036036,    0.037037,    0.038038,    0.039039,     0.04004,    0.041041,    0.042042,    0.043043,    0.044044,    0.045045,    0.046046,    0.047047,\n",
      "          0.048048,    0.049049,     0.05005,    0.051051,    0.052052,    0.053053,    0.054054,    0.055055,    0.056056,    0.057057,    0.058058,    0.059059,     0.06006,    0.061061,    0.062062,    0.063063,    0.064064,    0.065065,    0.066066,    0.067067,    0.068068,    0.069069,     0.07007,    0.071071,\n",
      "          0.072072,    0.073073,    0.074074,    0.075075,    0.076076,    0.077077,    0.078078,    0.079079,     0.08008,    0.081081,    0.082082,    0.083083,    0.084084,    0.085085,    0.086086,    0.087087,    0.088088,    0.089089,     0.09009,    0.091091,    0.092092,    0.093093,    0.094094,    0.095095,\n",
      "          0.096096,    0.097097,    0.098098,    0.099099,      0.1001,      0.1011,      0.1021,      0.1031,      0.1041,     0.10511,     0.10611,     0.10711,     0.10811,     0.10911,     0.11011,     0.11111,     0.11211,     0.11311,     0.11411,     0.11512,     0.11612,     0.11712,     0.11812,     0.11912,\n",
      "           0.12012,     0.12112,     0.12212,     0.12312,     0.12412,     0.12513,     0.12613,     0.12713,     0.12813,     0.12913,     0.13013,     0.13113,     0.13213,     0.13313,     0.13413,     0.13514,     0.13614,     0.13714,     0.13814,     0.13914,     0.14014,     0.14114,     0.14214,     0.14314,\n",
      "           0.14414,     0.14515,     0.14615,     0.14715,     0.14815,     0.14915,     0.15015,     0.15115,     0.15215,     0.15315,     0.15415,     0.15516,     0.15616,     0.15716,     0.15816,     0.15916,     0.16016,     0.16116,     0.16216,     0.16316,     0.16416,     0.16517,     0.16617,     0.16717,\n",
      "           0.16817,     0.16917,     0.17017,     0.17117,     0.17217,     0.17317,     0.17417,     0.17518,     0.17618,     0.17718,     0.17818,     0.17918,     0.18018,     0.18118,     0.18218,     0.18318,     0.18418,     0.18519,     0.18619,     0.18719,     0.18819,     0.18919,     0.19019,     0.19119,\n",
      "           0.19219,     0.19319,     0.19419,      0.1952,      0.1962,      0.1972,      0.1982,      0.1992,      0.2002,      0.2012,      0.2022,      0.2032,      0.2042,     0.20521,     0.20621,     0.20721,     0.20821,     0.20921,     0.21021,     0.21121,     0.21221,     0.21321,     0.21421,     0.21522,\n",
      "           0.21622,     0.21722,     0.21822,     0.21922,     0.22022,     0.22122,     0.22222,     0.22322,     0.22422,     0.22523,     0.22623,     0.22723,     0.22823,     0.22923,     0.23023,     0.23123,     0.23223,     0.23323,     0.23423,     0.23524,     0.23624,     0.23724,     0.23824,     0.23924,\n",
      "           0.24024,     0.24124,     0.24224,     0.24324,     0.24424,     0.24525,     0.24625,     0.24725,     0.24825,     0.24925,     0.25025,     0.25125,     0.25225,     0.25325,     0.25425,     0.25526,     0.25626,     0.25726,     0.25826,     0.25926,     0.26026,     0.26126,     0.26226,     0.26326,\n",
      "           0.26426,     0.26527,     0.26627,     0.26727,     0.26827,     0.26927,     0.27027,     0.27127,     0.27227,     0.27327,     0.27427,     0.27528,     0.27628,     0.27728,     0.27828,     0.27928,     0.28028,     0.28128,     0.28228,     0.28328,     0.28428,     0.28529,     0.28629,     0.28729,\n",
      "           0.28829,     0.28929,     0.29029,     0.29129,     0.29229,     0.29329,     0.29429,      0.2953,      0.2963,      0.2973,      0.2983,      0.2993,      0.3003,      0.3013,      0.3023,      0.3033,      0.3043,     0.30531,     0.30631,     0.30731,     0.30831,     0.30931,     0.31031,     0.31131,\n",
      "           0.31231,     0.31331,     0.31431,     0.31532,     0.31632,     0.31732,     0.31832,     0.31932,     0.32032,     0.32132,     0.32232,     0.32332,     0.32432,     0.32533,     0.32633,     0.32733,     0.32833,     0.32933,     0.33033,     0.33133,     0.33233,     0.33333,     0.33433,     0.33534,\n",
      "           0.33634,     0.33734,     0.33834,     0.33934,     0.34034,     0.34134,     0.34234,     0.34334,     0.34434,     0.34535,     0.34635,     0.34735,     0.34835,     0.34935,     0.35035,     0.35135,     0.35235,     0.35335,     0.35435,     0.35536,     0.35636,     0.35736,     0.35836,     0.35936,\n",
      "           0.36036,     0.36136,     0.36236,     0.36336,     0.36436,     0.36537,     0.36637,     0.36737,     0.36837,     0.36937,     0.37037,     0.37137,     0.37237,     0.37337,     0.37437,     0.37538,     0.37638,     0.37738,     0.37838,     0.37938,     0.38038,     0.38138,     0.38238,     0.38338,\n",
      "           0.38438,     0.38539,     0.38639,     0.38739,     0.38839,     0.38939,     0.39039,     0.39139,     0.39239,     0.39339,     0.39439,      0.3954,      0.3964,      0.3974,      0.3984,      0.3994,      0.4004,      0.4014,      0.4024,      0.4034,      0.4044,     0.40541,     0.40641,     0.40741,\n",
      "           0.40841,     0.40941,     0.41041,     0.41141,     0.41241,     0.41341,     0.41441,     0.41542,     0.41642,     0.41742,     0.41842,     0.41942,     0.42042,     0.42142,     0.42242,     0.42342,     0.42442,     0.42543,     0.42643,     0.42743,     0.42843,     0.42943,     0.43043,     0.43143,\n",
      "           0.43243,     0.43343,     0.43443,     0.43544,     0.43644,     0.43744,     0.43844,     0.43944,     0.44044,     0.44144,     0.44244,     0.44344,     0.44444,     0.44545,     0.44645,     0.44745,     0.44845,     0.44945,     0.45045,     0.45145,     0.45245,     0.45345,     0.45445,     0.45546,\n",
      "           0.45646,     0.45746,     0.45846,     0.45946,     0.46046,     0.46146,     0.46246,     0.46346,     0.46446,     0.46547,     0.46647,     0.46747,     0.46847,     0.46947,     0.47047,     0.47147,     0.47247,     0.47347,     0.47447,     0.47548,     0.47648,     0.47748,     0.47848,     0.47948,\n",
      "           0.48048,     0.48148,     0.48248,     0.48348,     0.48448,     0.48549,     0.48649,     0.48749,     0.48849,     0.48949,     0.49049,     0.49149,     0.49249,     0.49349,     0.49449,      0.4955,      0.4965,      0.4975,      0.4985,      0.4995,      0.5005,      0.5015,      0.5025,      0.5035,\n",
      "            0.5045,     0.50551,     0.50651,     0.50751,     0.50851,     0.50951,     0.51051,     0.51151,     0.51251,     0.51351,     0.51451,     0.51552,     0.51652,     0.51752,     0.51852,     0.51952,     0.52052,     0.52152,     0.52252,     0.52352,     0.52452,     0.52553,     0.52653,     0.52753,\n",
      "           0.52853,     0.52953,     0.53053,     0.53153,     0.53253,     0.53353,     0.53453,     0.53554,     0.53654,     0.53754,     0.53854,     0.53954,     0.54054,     0.54154,     0.54254,     0.54354,     0.54454,     0.54555,     0.54655,     0.54755,     0.54855,     0.54955,     0.55055,     0.55155,\n",
      "           0.55255,     0.55355,     0.55455,     0.55556,     0.55656,     0.55756,     0.55856,     0.55956,     0.56056,     0.56156,     0.56256,     0.56356,     0.56456,     0.56557,     0.56657,     0.56757,     0.56857,     0.56957,     0.57057,     0.57157,     0.57257,     0.57357,     0.57457,     0.57558,\n",
      "           0.57658,     0.57758,     0.57858,     0.57958,     0.58058,     0.58158,     0.58258,     0.58358,     0.58458,     0.58559,     0.58659,     0.58759,     0.58859,     0.58959,     0.59059,     0.59159,     0.59259,     0.59359,     0.59459,      0.5956,      0.5966,      0.5976,      0.5986,      0.5996,\n",
      "            0.6006,      0.6016,      0.6026,      0.6036,      0.6046,     0.60561,     0.60661,     0.60761,     0.60861,     0.60961,     0.61061,     0.61161,     0.61261,     0.61361,     0.61461,     0.61562,     0.61662,     0.61762,     0.61862,     0.61962,     0.62062,     0.62162,     0.62262,     0.62362,\n",
      "           0.62462,     0.62563,     0.62663,     0.62763,     0.62863,     0.62963,     0.63063,     0.63163,     0.63263,     0.63363,     0.63463,     0.63564,     0.63664,     0.63764,     0.63864,     0.63964,     0.64064,     0.64164,     0.64264,     0.64364,     0.64464,     0.64565,     0.64665,     0.64765,\n",
      "           0.64865,     0.64965,     0.65065,     0.65165,     0.65265,     0.65365,     0.65465,     0.65566,     0.65666,     0.65766,     0.65866,     0.65966,     0.66066,     0.66166,     0.66266,     0.66366,     0.66466,     0.66567,     0.66667,     0.66767,     0.66867,     0.66967,     0.67067,     0.67167,\n",
      "           0.67267,     0.67367,     0.67467,     0.67568,     0.67668,     0.67768,     0.67868,     0.67968,     0.68068,     0.68168,     0.68268,     0.68368,     0.68468,     0.68569,     0.68669,     0.68769,     0.68869,     0.68969,     0.69069,     0.69169,     0.69269,     0.69369,     0.69469,      0.6957,\n",
      "            0.6967,      0.6977,      0.6987,      0.6997,      0.7007,      0.7017,      0.7027,      0.7037,      0.7047,     0.70571,     0.70671,     0.70771,     0.70871,     0.70971,     0.71071,     0.71171,     0.71271,     0.71371,     0.71471,     0.71572,     0.71672,     0.71772,     0.71872,     0.71972,\n",
      "           0.72072,     0.72172,     0.72272,     0.72372,     0.72472,     0.72573,     0.72673,     0.72773,     0.72873,     0.72973,     0.73073,     0.73173,     0.73273,     0.73373,     0.73473,     0.73574,     0.73674,     0.73774,     0.73874,     0.73974,     0.74074,     0.74174,     0.74274,     0.74374,\n",
      "           0.74474,     0.74575,     0.74675,     0.74775,     0.74875,     0.74975,     0.75075,     0.75175,     0.75275,     0.75375,     0.75475,     0.75576,     0.75676,     0.75776,     0.75876,     0.75976,     0.76076,     0.76176,     0.76276,     0.76376,     0.76476,     0.76577,     0.76677,     0.76777,\n",
      "           0.76877,     0.76977,     0.77077,     0.77177,     0.77277,     0.77377,     0.77477,     0.77578,     0.77678,     0.77778,     0.77878,     0.77978,     0.78078,     0.78178,     0.78278,     0.78378,     0.78478,     0.78579,     0.78679,     0.78779,     0.78879,     0.78979,     0.79079,     0.79179,\n",
      "           0.79279,     0.79379,     0.79479,      0.7958,      0.7968,      0.7978,      0.7988,      0.7998,      0.8008,      0.8018,      0.8028,      0.8038,      0.8048,     0.80581,     0.80681,     0.80781,     0.80881,     0.80981,     0.81081,     0.81181,     0.81281,     0.81381,     0.81481,     0.81582,\n",
      "           0.81682,     0.81782,     0.81882,     0.81982,     0.82082,     0.82182,     0.82282,     0.82382,     0.82482,     0.82583,     0.82683,     0.82783,     0.82883,     0.82983,     0.83083,     0.83183,     0.83283,     0.83383,     0.83483,     0.83584,     0.83684,     0.83784,     0.83884,     0.83984,\n",
      "           0.84084,     0.84184,     0.84284,     0.84384,     0.84484,     0.84585,     0.84685,     0.84785,     0.84885,     0.84985,     0.85085,     0.85185,     0.85285,     0.85385,     0.85485,     0.85586,     0.85686,     0.85786,     0.85886,     0.85986,     0.86086,     0.86186,     0.86286,     0.86386,\n",
      "           0.86486,     0.86587,     0.86687,     0.86787,     0.86887,     0.86987,     0.87087,     0.87187,     0.87287,     0.87387,     0.87487,     0.87588,     0.87688,     0.87788,     0.87888,     0.87988,     0.88088,     0.88188,     0.88288,     0.88388,     0.88488,     0.88589,     0.88689,     0.88789,\n",
      "           0.88889,     0.88989,     0.89089,     0.89189,     0.89289,     0.89389,     0.89489,      0.8959,      0.8969,      0.8979,      0.8989,      0.8999,      0.9009,      0.9019,      0.9029,      0.9039,      0.9049,     0.90591,     0.90691,     0.90791,     0.90891,     0.90991,     0.91091,     0.91191,\n",
      "           0.91291,     0.91391,     0.91491,     0.91592,     0.91692,     0.91792,     0.91892,     0.91992,     0.92092,     0.92192,     0.92292,     0.92392,     0.92492,     0.92593,     0.92693,     0.92793,     0.92893,     0.92993,     0.93093,     0.93193,     0.93293,     0.93393,     0.93493,     0.93594,\n",
      "           0.93694,     0.93794,     0.93894,     0.93994,     0.94094,     0.94194,     0.94294,     0.94394,     0.94494,     0.94595,     0.94695,     0.94795,     0.94895,     0.94995,     0.95095,     0.95195,     0.95295,     0.95395,     0.95495,     0.95596,     0.95696,     0.95796,     0.95896,     0.95996,\n",
      "           0.96096,     0.96196,     0.96296,     0.96396,     0.96496,     0.96597,     0.96697,     0.96797,     0.96897,     0.96997,     0.97097,     0.97197,     0.97297,     0.97397,     0.97497,     0.97598,     0.97698,     0.97798,     0.97898,     0.97998,     0.98098,     0.98198,     0.98298,     0.98398,\n",
      "           0.98498,     0.98599,     0.98699,     0.98799,     0.98899,     0.98999,     0.99099,     0.99199,     0.99299,     0.99399,     0.99499,       0.996,       0.997,       0.998,       0.999,           1]), array([[          1,           1,           1,           1,           1,           1,           1,           1,           1,           1,           1,           1,           1,           1,           1,           1,           1,           1,           1,           1,           1,           1,           1,\n",
      "                  1,           1,           1,           1,           1,           1,           1,           1,           1,           1,           1,           1,           1,           1,           1,           1,           1,           1,           1,           1,           1,           1,           1,\n",
      "                  1,           1,           1,           1,           1,           1,           1,           1,           1,           1,           1,           1,           1,           1,           1,           1,           1,           1,           1,           1,           1,           1,           1,\n",
      "                  1,           1,           1,           1,           1,           1,           1,           1,           1,           1,           1,           1,           1,           1,           1,           1,           1,           1,           1,           1,           1,           1,           1,\n",
      "                  1,           1,           1,           1,           1,           1,           1,           1,           1,           1,           1,           1,           1,           1,           1,           1,           1,           1,           1,           1,           1,           1,           1,\n",
      "                  1,           1,           1,           1,           1,           1,           1,           1,           1,           1,           1,           1,           1,           1,           1,           1,           1,           1,           1,           1,           1,           1,           1,\n",
      "                  1,           1,           1,           1,           1,           1,           1,           1,           1,           1,           1,           1,           1,           1,           1,           1,           1,           1,           1,           1,           1,           1,           1,\n",
      "                  1,           1,           1,           1,           1,           1,           1,           1,           1,           1,           1,           1,           1,           1,           1,           1,           1,           1,           1,           1,           1,           1,           1,\n",
      "                  1,           1,           1,           1,           1,           1,           1,           1,           1,           1,           1,           1,           1,           1,           1,           1,           1,           1,           1,           1,           1,           1,           1,\n",
      "                  1,           1,           1,           1,           1,           1,           1,           1,           1,           1,           1,           1,           1,           1,           1,           1,           1,           1,           1,           1,           1,           1,           1,\n",
      "                  1,           1,           1,           1,           1,           1,           1,           1,           1,           1,           1,           1,           1,           1,           1,           1,           1,           1,           1,           1,           1,           1,           1,\n",
      "                  1,           1,           1,           1,           1,           1,           1,           1,           1,           1,           1,           1,           1,           1,           1,           1,           1,           1,           1,           1,           1,           1,           1,\n",
      "                  1,           1,           1,           1,           1,           1,           1,           1,           1,           1,           1,           1,           1,           1,           1,           1,           1,           1,           1,           1,           1,           1,           1,\n",
      "                  1,           1,           1,           1,           1,           1,           1,           1,           1,           1,           1,           1,           1,           1,           1,           1,           1,           1,           1,           1,           1,           1,           1,\n",
      "                  1,           1,           1,           1,           1,           1,           1,           1,           1,           1,           1,           1,           1,           1,           1,           1,           1,           1,           1,           1,           1,           1,           1,\n",
      "                  1,           1,           1,           1,           1,           1,           1,           1,           1,           1,           1,           1,           1,           1,           1,           1,           1,           1,           1,           1,           1,           1,           1,\n",
      "                  1,           1,           1,           1,           1,           1,           1,           1,           1,           1,           1,           1,           1,           1,           1,           1,           1,           1,           1,           1,           1,           1,           1,\n",
      "                  1,           1,           1,           1,           1,           1,           1,           1,           1,           1,           1,           1,           1,           1,           1,           1,           1,           1,           1,           1,           1,           1,           1,\n",
      "                  1,           1,           1,           1,           1,           1,           1,           1,           1,           1,           1,           1,           1,           1,           1,           1,           1,           1,           1,           1,           1,           1,           1,\n",
      "                  1,           1,           1,           1,           1,           1,           1,           1,           1,           1,           1,           1,           1,           1,           1,           1,           1,           1,           1,           1,           1,           1,           1,\n",
      "                  1,           1,           1,           1,           1,           1,           1,           1,           1,           1,           1,           1,           1,           1,           1,           1,           1,           1,           1,           1,           1,           1,           1,\n",
      "                  1,           1,           1,           1,           1,           1,           1,           1,           1,           1,           1,           1,           1,           1,           1,           1,           1,           1,           1,           1,           1,           1,           1,\n",
      "                  1,           1,           1,           1,           1,           1,           1,           1,           1,           1,           1,           1,           1,           1,           1,           1,           1,           1,           1,           1,           1,           1,           1,\n",
      "                  1,           1,           1,           1,           1,           1,           1,           1,           1,           1,           1,           1,           1,           1,           1,           1,           1,           1,           1,           1,           1,           1,           1,\n",
      "                  1,           1,           1,           1,           1,           1,           1,           1,           1,           1,           1,           1,           1,           1,           1,           1,           1,           1,           1,           1,           1,           1,           1,\n",
      "                  1,           1,           1,           1,           1,           1,           1,           1,           1,           1,           1,           1,           1,           1,           1,           1,           1,           1,           1,           1,           1,           1,           1,\n",
      "                  1,           1,           1,           1,           1,           1,           1,           1,           1,           1,           1,           1,           1,           1,           1,           1,           1,           1,           1,           1,           1,           1,           1,\n",
      "                  1,           1,           1,           1,           1,           1,           1,           1,           1,           1,           1,           1,           1,           1,           1,           1,           1,           1,           1,           1,           1,           1,           1,\n",
      "                  1,           1,           1,           1,           1,           1,           1,           1,           1,           1,           1,           1,           1,           1,           1,           1,           1,           1,           1,           1,           1,           1,           1,\n",
      "                  1,           1,           1,           1,           1,           1,           1,           1,           1,           1,           1,           1,           1,           1,           1,           1,           1,           1,           1,           1,           1,           1,           1,\n",
      "                  1,           1,           1,           1,           1,           1,           1,           1,           1,           1,           1,           1,           1,           1,           1,           1,           1,           1,           1,           1,           1,           1,           1,\n",
      "                  1,           1,           1,           1,           1,           1,           1,           1,           1,           1,           1,           1,           1,           1,           1,           1,           1,           1,           1,           1,           1,           1,           1,\n",
      "                  1,           1,           1,           1,           1,           1,           1,           1,           1,           1,           1,           1,           1,           1,           1,           1,           1,           1,           1,           1,           1,           1,           1,\n",
      "                  1,           1,           1,           1,           1,           1,           1,           1,           1,           1,           1,           1,           1,           1,           1,           1,           1,           1,           1,           1,           1,           1,           1,\n",
      "                  1,           1,           1,           1,           1,           1,           1,           1,           1,           1,           1,           1,           1,           1,           1,           1,           1,           1,           1,           1,           1,           1,           1,\n",
      "                  1,           1,           1,           1,           1,           1,           1,           1,           1,           1,           1,           1,           1,           1,           1,           1,           1,           1,           1,           1,           1,           1,           1,\n",
      "                  1,           1,           1,           1,           1,           1,           1,           1,           1,           1,           1,     0.99355,     0.99355,     0.99355,     0.99355,     0.99355,     0.99355,     0.99355,     0.99355,     0.99355,     0.99355,     0.99355,     0.99355,\n",
      "            0.99355,     0.99355,     0.99355,     0.99355,     0.98734,     0.98734,     0.98734,     0.98734,     0.98734,     0.98734,     0.98734,     0.98734,     0.98734,     0.98734,     0.98734,     0.98137,     0.98137,     0.98137,     0.98137,     0.98137,     0.98137,     0.98137,     0.98137,\n",
      "            0.98137,     0.98137,     0.98137,     0.97561,     0.97561,     0.97561,     0.97561,     0.97561,     0.97561,     0.97561,     0.97561,     0.97561,     0.97561,     0.97561,      0.9645,      0.9645,      0.9645,      0.9645,      0.9645,      0.9645,      0.9645,      0.9645,      0.9645,\n",
      "             0.9645,      0.9645,      0.9645,      0.9645,      0.9645,      0.9645,      0.9645,      0.9645,     0.95349,     0.95349,     0.95349,     0.95349,     0.95349,     0.95349,     0.91713,     0.91713,     0.91713,     0.91713,     0.91713,     0.91713,     0.91713,     0.91713,     0.91713,\n",
      "            0.91713,     0.91713,      0.9027,      0.9027,      0.9027,      0.9027,      0.9027,     0.78505,     0.78505,     0.78505,     0.78505,     0.78505,     0.78505,     0.77273,     0.77273,     0.77273,     0.77273,     0.77273,     0.77273,     0.77273,     0.77273,     0.77273,     0.77273,\n",
      "            0.77273,     0.75439,     0.75439,     0.75439,     0.75439,     0.75439,     0.75439,     0.75439,     0.75439,     0.75439,     0.75439,     0.75439,     0.75325,     0.75325,     0.75325,     0.75325,     0.75325,     0.75325,     0.75325,     0.75325,     0.75325,     0.75325,     0.75325,\n",
      "            0.71721,     0.71721,     0.71721,     0.71721,     0.71721,     0.71721,      0.6875,      0.6875,      0.6875,      0.6875,      0.6875,      0.6413,      0.6413,      0.6413,      0.6413,      0.6413,      0.6413,     0.54938,     0.54938,     0.54938,     0.54938,     0.54938,     0.54407,\n",
      "            0.54407,     0.54407,     0.54407,     0.54407,     0.54407,     0.23377,     0.23377,     0.23377,     0.23377,     0.23377,           0]]), 'Recall', 'Precision'], [array([          0,    0.001001,    0.002002,    0.003003,    0.004004,    0.005005,    0.006006,    0.007007,    0.008008,    0.009009,     0.01001,    0.011011,    0.012012,    0.013013,    0.014014,    0.015015,    0.016016,    0.017017,    0.018018,    0.019019,     0.02002,    0.021021,    0.022022,    0.023023,\n",
      "          0.024024,    0.025025,    0.026026,    0.027027,    0.028028,    0.029029,     0.03003,    0.031031,    0.032032,    0.033033,    0.034034,    0.035035,    0.036036,    0.037037,    0.038038,    0.039039,     0.04004,    0.041041,    0.042042,    0.043043,    0.044044,    0.045045,    0.046046,    0.047047,\n",
      "          0.048048,    0.049049,     0.05005,    0.051051,    0.052052,    0.053053,    0.054054,    0.055055,    0.056056,    0.057057,    0.058058,    0.059059,     0.06006,    0.061061,    0.062062,    0.063063,    0.064064,    0.065065,    0.066066,    0.067067,    0.068068,    0.069069,     0.07007,    0.071071,\n",
      "          0.072072,    0.073073,    0.074074,    0.075075,    0.076076,    0.077077,    0.078078,    0.079079,     0.08008,    0.081081,    0.082082,    0.083083,    0.084084,    0.085085,    0.086086,    0.087087,    0.088088,    0.089089,     0.09009,    0.091091,    0.092092,    0.093093,    0.094094,    0.095095,\n",
      "          0.096096,    0.097097,    0.098098,    0.099099,      0.1001,      0.1011,      0.1021,      0.1031,      0.1041,     0.10511,     0.10611,     0.10711,     0.10811,     0.10911,     0.11011,     0.11111,     0.11211,     0.11311,     0.11411,     0.11512,     0.11612,     0.11712,     0.11812,     0.11912,\n",
      "           0.12012,     0.12112,     0.12212,     0.12312,     0.12412,     0.12513,     0.12613,     0.12713,     0.12813,     0.12913,     0.13013,     0.13113,     0.13213,     0.13313,     0.13413,     0.13514,     0.13614,     0.13714,     0.13814,     0.13914,     0.14014,     0.14114,     0.14214,     0.14314,\n",
      "           0.14414,     0.14515,     0.14615,     0.14715,     0.14815,     0.14915,     0.15015,     0.15115,     0.15215,     0.15315,     0.15415,     0.15516,     0.15616,     0.15716,     0.15816,     0.15916,     0.16016,     0.16116,     0.16216,     0.16316,     0.16416,     0.16517,     0.16617,     0.16717,\n",
      "           0.16817,     0.16917,     0.17017,     0.17117,     0.17217,     0.17317,     0.17417,     0.17518,     0.17618,     0.17718,     0.17818,     0.17918,     0.18018,     0.18118,     0.18218,     0.18318,     0.18418,     0.18519,     0.18619,     0.18719,     0.18819,     0.18919,     0.19019,     0.19119,\n",
      "           0.19219,     0.19319,     0.19419,      0.1952,      0.1962,      0.1972,      0.1982,      0.1992,      0.2002,      0.2012,      0.2022,      0.2032,      0.2042,     0.20521,     0.20621,     0.20721,     0.20821,     0.20921,     0.21021,     0.21121,     0.21221,     0.21321,     0.21421,     0.21522,\n",
      "           0.21622,     0.21722,     0.21822,     0.21922,     0.22022,     0.22122,     0.22222,     0.22322,     0.22422,     0.22523,     0.22623,     0.22723,     0.22823,     0.22923,     0.23023,     0.23123,     0.23223,     0.23323,     0.23423,     0.23524,     0.23624,     0.23724,     0.23824,     0.23924,\n",
      "           0.24024,     0.24124,     0.24224,     0.24324,     0.24424,     0.24525,     0.24625,     0.24725,     0.24825,     0.24925,     0.25025,     0.25125,     0.25225,     0.25325,     0.25425,     0.25526,     0.25626,     0.25726,     0.25826,     0.25926,     0.26026,     0.26126,     0.26226,     0.26326,\n",
      "           0.26426,     0.26527,     0.26627,     0.26727,     0.26827,     0.26927,     0.27027,     0.27127,     0.27227,     0.27327,     0.27427,     0.27528,     0.27628,     0.27728,     0.27828,     0.27928,     0.28028,     0.28128,     0.28228,     0.28328,     0.28428,     0.28529,     0.28629,     0.28729,\n",
      "           0.28829,     0.28929,     0.29029,     0.29129,     0.29229,     0.29329,     0.29429,      0.2953,      0.2963,      0.2973,      0.2983,      0.2993,      0.3003,      0.3013,      0.3023,      0.3033,      0.3043,     0.30531,     0.30631,     0.30731,     0.30831,     0.30931,     0.31031,     0.31131,\n",
      "           0.31231,     0.31331,     0.31431,     0.31532,     0.31632,     0.31732,     0.31832,     0.31932,     0.32032,     0.32132,     0.32232,     0.32332,     0.32432,     0.32533,     0.32633,     0.32733,     0.32833,     0.32933,     0.33033,     0.33133,     0.33233,     0.33333,     0.33433,     0.33534,\n",
      "           0.33634,     0.33734,     0.33834,     0.33934,     0.34034,     0.34134,     0.34234,     0.34334,     0.34434,     0.34535,     0.34635,     0.34735,     0.34835,     0.34935,     0.35035,     0.35135,     0.35235,     0.35335,     0.35435,     0.35536,     0.35636,     0.35736,     0.35836,     0.35936,\n",
      "           0.36036,     0.36136,     0.36236,     0.36336,     0.36436,     0.36537,     0.36637,     0.36737,     0.36837,     0.36937,     0.37037,     0.37137,     0.37237,     0.37337,     0.37437,     0.37538,     0.37638,     0.37738,     0.37838,     0.37938,     0.38038,     0.38138,     0.38238,     0.38338,\n",
      "           0.38438,     0.38539,     0.38639,     0.38739,     0.38839,     0.38939,     0.39039,     0.39139,     0.39239,     0.39339,     0.39439,      0.3954,      0.3964,      0.3974,      0.3984,      0.3994,      0.4004,      0.4014,      0.4024,      0.4034,      0.4044,     0.40541,     0.40641,     0.40741,\n",
      "           0.40841,     0.40941,     0.41041,     0.41141,     0.41241,     0.41341,     0.41441,     0.41542,     0.41642,     0.41742,     0.41842,     0.41942,     0.42042,     0.42142,     0.42242,     0.42342,     0.42442,     0.42543,     0.42643,     0.42743,     0.42843,     0.42943,     0.43043,     0.43143,\n",
      "           0.43243,     0.43343,     0.43443,     0.43544,     0.43644,     0.43744,     0.43844,     0.43944,     0.44044,     0.44144,     0.44244,     0.44344,     0.44444,     0.44545,     0.44645,     0.44745,     0.44845,     0.44945,     0.45045,     0.45145,     0.45245,     0.45345,     0.45445,     0.45546,\n",
      "           0.45646,     0.45746,     0.45846,     0.45946,     0.46046,     0.46146,     0.46246,     0.46346,     0.46446,     0.46547,     0.46647,     0.46747,     0.46847,     0.46947,     0.47047,     0.47147,     0.47247,     0.47347,     0.47447,     0.47548,     0.47648,     0.47748,     0.47848,     0.47948,\n",
      "           0.48048,     0.48148,     0.48248,     0.48348,     0.48448,     0.48549,     0.48649,     0.48749,     0.48849,     0.48949,     0.49049,     0.49149,     0.49249,     0.49349,     0.49449,      0.4955,      0.4965,      0.4975,      0.4985,      0.4995,      0.5005,      0.5015,      0.5025,      0.5035,\n",
      "            0.5045,     0.50551,     0.50651,     0.50751,     0.50851,     0.50951,     0.51051,     0.51151,     0.51251,     0.51351,     0.51451,     0.51552,     0.51652,     0.51752,     0.51852,     0.51952,     0.52052,     0.52152,     0.52252,     0.52352,     0.52452,     0.52553,     0.52653,     0.52753,\n",
      "           0.52853,     0.52953,     0.53053,     0.53153,     0.53253,     0.53353,     0.53453,     0.53554,     0.53654,     0.53754,     0.53854,     0.53954,     0.54054,     0.54154,     0.54254,     0.54354,     0.54454,     0.54555,     0.54655,     0.54755,     0.54855,     0.54955,     0.55055,     0.55155,\n",
      "           0.55255,     0.55355,     0.55455,     0.55556,     0.55656,     0.55756,     0.55856,     0.55956,     0.56056,     0.56156,     0.56256,     0.56356,     0.56456,     0.56557,     0.56657,     0.56757,     0.56857,     0.56957,     0.57057,     0.57157,     0.57257,     0.57357,     0.57457,     0.57558,\n",
      "           0.57658,     0.57758,     0.57858,     0.57958,     0.58058,     0.58158,     0.58258,     0.58358,     0.58458,     0.58559,     0.58659,     0.58759,     0.58859,     0.58959,     0.59059,     0.59159,     0.59259,     0.59359,     0.59459,      0.5956,      0.5966,      0.5976,      0.5986,      0.5996,\n",
      "            0.6006,      0.6016,      0.6026,      0.6036,      0.6046,     0.60561,     0.60661,     0.60761,     0.60861,     0.60961,     0.61061,     0.61161,     0.61261,     0.61361,     0.61461,     0.61562,     0.61662,     0.61762,     0.61862,     0.61962,     0.62062,     0.62162,     0.62262,     0.62362,\n",
      "           0.62462,     0.62563,     0.62663,     0.62763,     0.62863,     0.62963,     0.63063,     0.63163,     0.63263,     0.63363,     0.63463,     0.63564,     0.63664,     0.63764,     0.63864,     0.63964,     0.64064,     0.64164,     0.64264,     0.64364,     0.64464,     0.64565,     0.64665,     0.64765,\n",
      "           0.64865,     0.64965,     0.65065,     0.65165,     0.65265,     0.65365,     0.65465,     0.65566,     0.65666,     0.65766,     0.65866,     0.65966,     0.66066,     0.66166,     0.66266,     0.66366,     0.66466,     0.66567,     0.66667,     0.66767,     0.66867,     0.66967,     0.67067,     0.67167,\n",
      "           0.67267,     0.67367,     0.67467,     0.67568,     0.67668,     0.67768,     0.67868,     0.67968,     0.68068,     0.68168,     0.68268,     0.68368,     0.68468,     0.68569,     0.68669,     0.68769,     0.68869,     0.68969,     0.69069,     0.69169,     0.69269,     0.69369,     0.69469,      0.6957,\n",
      "            0.6967,      0.6977,      0.6987,      0.6997,      0.7007,      0.7017,      0.7027,      0.7037,      0.7047,     0.70571,     0.70671,     0.70771,     0.70871,     0.70971,     0.71071,     0.71171,     0.71271,     0.71371,     0.71471,     0.71572,     0.71672,     0.71772,     0.71872,     0.71972,\n",
      "           0.72072,     0.72172,     0.72272,     0.72372,     0.72472,     0.72573,     0.72673,     0.72773,     0.72873,     0.72973,     0.73073,     0.73173,     0.73273,     0.73373,     0.73473,     0.73574,     0.73674,     0.73774,     0.73874,     0.73974,     0.74074,     0.74174,     0.74274,     0.74374,\n",
      "           0.74474,     0.74575,     0.74675,     0.74775,     0.74875,     0.74975,     0.75075,     0.75175,     0.75275,     0.75375,     0.75475,     0.75576,     0.75676,     0.75776,     0.75876,     0.75976,     0.76076,     0.76176,     0.76276,     0.76376,     0.76476,     0.76577,     0.76677,     0.76777,\n",
      "           0.76877,     0.76977,     0.77077,     0.77177,     0.77277,     0.77377,     0.77477,     0.77578,     0.77678,     0.77778,     0.77878,     0.77978,     0.78078,     0.78178,     0.78278,     0.78378,     0.78478,     0.78579,     0.78679,     0.78779,     0.78879,     0.78979,     0.79079,     0.79179,\n",
      "           0.79279,     0.79379,     0.79479,      0.7958,      0.7968,      0.7978,      0.7988,      0.7998,      0.8008,      0.8018,      0.8028,      0.8038,      0.8048,     0.80581,     0.80681,     0.80781,     0.80881,     0.80981,     0.81081,     0.81181,     0.81281,     0.81381,     0.81481,     0.81582,\n",
      "           0.81682,     0.81782,     0.81882,     0.81982,     0.82082,     0.82182,     0.82282,     0.82382,     0.82482,     0.82583,     0.82683,     0.82783,     0.82883,     0.82983,     0.83083,     0.83183,     0.83283,     0.83383,     0.83483,     0.83584,     0.83684,     0.83784,     0.83884,     0.83984,\n",
      "           0.84084,     0.84184,     0.84284,     0.84384,     0.84484,     0.84585,     0.84685,     0.84785,     0.84885,     0.84985,     0.85085,     0.85185,     0.85285,     0.85385,     0.85485,     0.85586,     0.85686,     0.85786,     0.85886,     0.85986,     0.86086,     0.86186,     0.86286,     0.86386,\n",
      "           0.86486,     0.86587,     0.86687,     0.86787,     0.86887,     0.86987,     0.87087,     0.87187,     0.87287,     0.87387,     0.87487,     0.87588,     0.87688,     0.87788,     0.87888,     0.87988,     0.88088,     0.88188,     0.88288,     0.88388,     0.88488,     0.88589,     0.88689,     0.88789,\n",
      "           0.88889,     0.88989,     0.89089,     0.89189,     0.89289,     0.89389,     0.89489,      0.8959,      0.8969,      0.8979,      0.8989,      0.8999,      0.9009,      0.9019,      0.9029,      0.9039,      0.9049,     0.90591,     0.90691,     0.90791,     0.90891,     0.90991,     0.91091,     0.91191,\n",
      "           0.91291,     0.91391,     0.91491,     0.91592,     0.91692,     0.91792,     0.91892,     0.91992,     0.92092,     0.92192,     0.92292,     0.92392,     0.92492,     0.92593,     0.92693,     0.92793,     0.92893,     0.92993,     0.93093,     0.93193,     0.93293,     0.93393,     0.93493,     0.93594,\n",
      "           0.93694,     0.93794,     0.93894,     0.93994,     0.94094,     0.94194,     0.94294,     0.94394,     0.94494,     0.94595,     0.94695,     0.94795,     0.94895,     0.94995,     0.95095,     0.95195,     0.95295,     0.95395,     0.95495,     0.95596,     0.95696,     0.95796,     0.95896,     0.95996,\n",
      "           0.96096,     0.96196,     0.96296,     0.96396,     0.96496,     0.96597,     0.96697,     0.96797,     0.96897,     0.96997,     0.97097,     0.97197,     0.97297,     0.97397,     0.97497,     0.97598,     0.97698,     0.97798,     0.97898,     0.97998,     0.98098,     0.98198,     0.98298,     0.98398,\n",
      "           0.98498,     0.98599,     0.98699,     0.98799,     0.98899,     0.98999,     0.99099,     0.99199,     0.99299,     0.99399,     0.99499,       0.996,       0.997,       0.998,       0.999,           1]), array([[    0.13534,     0.13534,     0.18636,     0.21931,     0.24563,     0.26699,     0.28197,     0.29394,      0.3098,     0.32339,     0.33433,     0.34443,     0.35551,      0.3647,     0.37802,     0.38456,     0.39496,     0.40472,     0.41305,     0.42125,     0.42929,     0.43389,     0.43864,\n",
      "             0.4428,     0.44812,     0.45671,     0.46295,     0.46945,     0.47679,     0.48296,     0.48609,     0.49158,      0.4968,     0.50216,     0.50504,     0.50882,     0.51199,     0.51403,     0.51764,     0.52236,     0.52681,     0.53122,     0.53674,     0.53938,     0.54371,     0.54824,\n",
      "            0.55121,     0.55542,     0.56125,     0.56656,      0.5711,     0.57516,     0.58069,     0.58424,     0.58784,     0.59582,     0.60175,     0.60917,     0.61525,     0.62108,     0.62608,     0.62855,     0.63387,     0.63799,     0.64058,      0.6436,     0.64526,     0.64807,     0.65292,\n",
      "            0.65481,     0.65898,     0.66184,     0.66227,      0.6627,     0.66337,     0.66519,     0.66661,     0.66932,     0.67061,     0.67315,     0.67852,     0.68195,     0.68307,     0.68509,     0.68829,     0.69044,     0.69162,     0.69597,     0.69897,     0.70138,     0.70264,     0.70108,\n",
      "            0.70236,     0.70373,      0.7044,     0.70511,     0.70606,     0.70439,     0.71021,     0.71539,      0.7174,     0.72041,     0.72455,     0.72675,     0.73063,     0.73225,     0.73314,     0.73366,     0.73419,     0.73517,     0.73806,     0.74096,     0.74229,     0.74568,     0.74945,\n",
      "            0.75208,     0.75455,     0.75518,      0.7556,     0.75602,     0.75648,     0.75726,     0.75821,     0.76317,     0.76463,     0.76615,     0.76786,     0.77075,     0.77199,     0.77307,     0.77434,     0.77459,     0.77438,     0.77532,      0.7777,     0.77847,     0.78025,     0.78143,\n",
      "            0.78596,     0.78951,     0.79049,     0.79201,     0.79513,     0.79616,     0.79851,     0.80117,     0.80389,     0.80492,     0.80722,     0.80663,     0.80829,     0.81033,     0.81154,     0.81256,     0.81342,     0.81424,     0.81496,     0.81569,     0.81688,     0.81885,     0.82095,\n",
      "            0.82461,     0.82301,     0.82386,     0.82477,     0.82646,     0.83104,     0.83183,     0.83335,     0.83761,     0.83993,     0.84162,     0.84305,     0.84513,     0.84365,     0.84223,      0.8414,      0.8431,      0.8375,     0.83772,     0.83795,     0.83818,      0.8384,     0.83863,\n",
      "            0.83886,     0.83908,     0.83931,     0.83989,     0.84794,     0.84838,     0.84882,     0.84926,      0.8497,      0.8496,     0.84835,     0.84711,     0.84662,     0.84614,     0.84565,     0.84516,     0.84467,     0.84438,     0.84619,     0.84909,     0.84991,     0.85072,      0.8516,\n",
      "            0.85247,     0.85004,     0.85033,     0.85062,     0.85091,      0.8512,     0.85149,     0.85178,     0.85293,     0.85451,     0.85485,     0.85518,     0.85551,     0.85584,     0.85618,     0.85867,     0.85899,     0.85932,     0.85965,     0.85998,      0.8603,     0.86063,     0.86106,\n",
      "            0.86166,     0.86226,     0.86285,     0.86386,     0.86508,     0.86579,     0.86639,       0.867,     0.86799,     0.87074,     0.87212,      0.8724,     0.87269,     0.87297,     0.87325,     0.87354,     0.87382,      0.8741,     0.87448,      0.8754,     0.87632,     0.87928,     0.88003,\n",
      "            0.88078,     0.88371,     0.88505,     0.88606,     0.88639,     0.88673,     0.88706,      0.8874,     0.88773,     0.88807,     0.89173,     0.89331,     0.89369,     0.89407,     0.89446,     0.89484,     0.89522,     0.89549,     0.89561,     0.89573,     0.89585,     0.89597,     0.89609,\n",
      "             0.8962,     0.89632,     0.89644,     0.89656,     0.89668,      0.8968,     0.89692,     0.89703,     0.89715,     0.89727,     0.89739,     0.89751,     0.89763,     0.89774,     0.89794,      0.8987,     0.89947,     0.90023,     0.90515,     0.90531,     0.90548,     0.90564,      0.9058,\n",
      "            0.90596,     0.90612,     0.90629,     0.90645,     0.90661,     0.90677,     0.90693,     0.90709,     0.90726,     0.90742,     0.90758,     0.90796,      0.9084,     0.90884,     0.90927,      0.9097,      0.9107,     0.91325,     0.91438,     0.91493,     0.91458,     0.91422,     0.91387,\n",
      "            0.91352,     0.91316,     0.91281,     0.91245,      0.9121,     0.91231,     0.91253,     0.91276,     0.91299,     0.91321,     0.91344,     0.91367,     0.91389,     0.91412,     0.91435,     0.91457,     0.91497,     0.91539,     0.91581,     0.91623,     0.91665,     0.91706,     0.91776,\n",
      "            0.91851,     0.91925,     0.91907,     0.91771,     0.91659,     0.91627,     0.91595,     0.91563,     0.91531,     0.91499,     0.91467,     0.91435,     0.91402,      0.9137,     0.91381,     0.91399,     0.91418,     0.91437,     0.91455,     0.91474,     0.91493,     0.91512,      0.9153,\n",
      "            0.91549,     0.91568,     0.91586,     0.91605,     0.91647,     0.91791,     0.92172,     0.92352,     0.92408,     0.92425,     0.92442,     0.92459,     0.92476,     0.92494,     0.92511,     0.92528,     0.92545,     0.92562,      0.9258,     0.92597,     0.92614,     0.92631,     0.92648,\n",
      "            0.92675,     0.92708,     0.92742,     0.92776,     0.92809,     0.92843,     0.92876,     0.92909,     0.92943,     0.92977,      0.9301,     0.93044,     0.93077,     0.93111,     0.93144,     0.93178,     0.93129,     0.93067,     0.93006,     0.92945,     0.92884,     0.92891,     0.92907,\n",
      "            0.92923,     0.92938,     0.92954,     0.92969,     0.92985,     0.93001,     0.93016,     0.93032,     0.93047,     0.93063,     0.93078,     0.93094,     0.93109,     0.93125,      0.9314,     0.93192,     0.93251,     0.93309,     0.93368,     0.93385,     0.93298,      0.9321,     0.93123,\n",
      "            0.92877,     0.92757,     0.92704,     0.92651,     0.92598,     0.92545,     0.92491,     0.92602,     0.92732,     0.92802,     0.92861,      0.9292,     0.92978,     0.92927,     0.92645,     0.92512,       0.924,     0.92419,     0.92438,     0.92457,     0.92475,     0.92494,     0.92513,\n",
      "            0.92531,      0.9255,     0.92569,     0.92587,     0.92606,     0.92625,     0.92643,     0.92662,     0.92627,     0.92561,     0.92494,     0.92428,     0.92362,     0.92197,     0.92039,     0.92076,     0.92114,     0.92151,     0.92187,     0.92224,     0.92261,     0.92298,     0.92289,\n",
      "            0.92263,     0.92238,     0.92212,     0.92187,     0.92161,     0.92136,      0.9211,     0.92085,     0.92059,     0.92034,     0.92008,     0.91981,     0.91947,     0.91914,      0.9188,     0.91846,     0.91812,     0.91779,     0.91745,     0.91711,     0.91677,     0.91708,     0.91769,\n",
      "            0.91829,     0.91889,     0.91936,     0.91904,     0.91873,     0.91841,     0.91809,     0.91778,     0.91746,     0.91714,     0.91683,     0.91651,     0.91619,     0.91601,     0.91583,     0.91565,     0.91548,      0.9153,     0.91512,     0.91495,     0.91477,     0.91459,     0.91442,\n",
      "            0.91424,     0.91406,     0.91389,     0.91371,     0.91353,     0.91335,     0.91318,       0.913,     0.91189,     0.90989,     0.90993,     0.91025,     0.91058,     0.91091,     0.91124,     0.91156,     0.91189,     0.91222,     0.91115,     0.90897,      0.9084,     0.90783,     0.90725,\n",
      "            0.90668,     0.90611,     0.90495,     0.90299,     0.90237,     0.90228,     0.90218,     0.90209,     0.90199,      0.9019,      0.9018,     0.90171,     0.90161,     0.90152,     0.90142,     0.90133,     0.90123,     0.90114,     0.90104,     0.90095,     0.90085,     0.90076,     0.90066,\n",
      "            0.90057,     0.90047,     0.90038,     0.90028,     0.90019,     0.90009,         0.9,      0.8999,     0.89981,     0.89971,     0.89962,     0.89952,     0.89943,     0.89933,     0.89924,     0.89914,     0.89901,     0.89882,     0.89862,     0.89843,     0.89823,     0.89804,     0.89785,\n",
      "            0.89765,     0.89746,     0.89726,     0.89707,     0.89688,     0.89668,     0.89649,     0.89629,      0.8961,      0.8959,     0.89571,     0.89529,     0.89486,     0.89443,       0.894,     0.89357,     0.89314,     0.89271,     0.89216,      0.8895,     0.88344,     0.88069,     0.87885,\n",
      "            0.87829,     0.87803,     0.87777,     0.87751,     0.87725,     0.87699,     0.87673,     0.87647,     0.87621,     0.87595,     0.87569,     0.87543,     0.87516,     0.87487,     0.87452,     0.87418,     0.87383,     0.87348,     0.87314,     0.87279,     0.87244,     0.87209,     0.87174,\n",
      "            0.87076,     0.86781,     0.86688,     0.86594,     0.86501,     0.86192,     0.86047,     0.86012,     0.85978,     0.85944,     0.85909,     0.85875,     0.85841,     0.85806,     0.85772,     0.85737,     0.85706,     0.85681,     0.85655,      0.8563,     0.85605,     0.85579,     0.85554,\n",
      "            0.85529,     0.85503,     0.85478,     0.85453,     0.85427,     0.85402,     0.85376,     0.85351,      0.8531,     0.85269,     0.85228,     0.85187,     0.85146,     0.85105,     0.85064,     0.85023,      0.8498,     0.84899,     0.84818,     0.84737,     0.84656,     0.84497,     0.84262,\n",
      "            0.83865,     0.83761,     0.83658,     0.83554,     0.83404,     0.83196,      0.8301,     0.82837,     0.82675,     0.82527,      0.8238,     0.81511,     0.81035,     0.80876,     0.80714,     0.80548,     0.80343,     0.79889,     0.79606,     0.78982,     0.78743,     0.78648,     0.78553,\n",
      "            0.78458,     0.78266,     0.77621,     0.76554,     0.76272,     0.75922,     0.75652,     0.75406,     0.75212,     0.75017,     0.74894,     0.74777,     0.74661,      0.7455,     0.74466,     0.74382,     0.74299,     0.74215,     0.74131,     0.73957,     0.73776,     0.73001,     0.72695,\n",
      "            0.72524,     0.72353,      0.7134,     0.70851,     0.70722,     0.70593,     0.70464,     0.70336,     0.70208,      0.7008,     0.67634,      0.6736,     0.67014,     0.66626,     0.66512,     0.66398,     0.66284,     0.66162,     0.65621,     0.64946,     0.64421,     0.64131,     0.64069,\n",
      "            0.64006,     0.63944,     0.63882,     0.63819,     0.63756,     0.63694,     0.63628,     0.63529,     0.63431,     0.63332,     0.63233,     0.63134,     0.62951,     0.62751,     0.62566,     0.62433,       0.623,     0.62167,     0.61995,     0.61713,     0.61453,     0.61229,     0.61004,\n",
      "            0.60123,     0.59191,     0.58814,     0.58706,     0.58599,     0.58491,     0.58383,     0.58275,     0.56716,     0.56284,      0.5593,     0.55521,     0.54716,     0.54358,     0.53986,      0.5293,     0.51773,     0.51583,     0.51393,     0.50787,     0.50544,     0.50459,     0.50375,\n",
      "             0.5029,     0.50206,     0.50121,     0.50036,     0.49813,     0.49488,       0.481,     0.47983,     0.47864,     0.47746,     0.47628,     0.47509,     0.47171,     0.46466,     0.44846,     0.44268,     0.42758,     0.42609,     0.42461,     0.42312,     0.42163,     0.41373,     0.41196,\n",
      "            0.41018,     0.40839,     0.39888,     0.39123,     0.37069,     0.36757,     0.36443,     0.35541,       0.345,     0.33675,     0.33183,     0.32948,     0.32712,     0.32323,     0.31671,     0.31132,     0.30391,     0.29709,     0.28552,     0.26756,     0.26455,     0.26154,     0.25577,\n",
      "            0.24756,     0.24281,     0.24107,     0.23933,     0.23758,     0.23583,     0.23215,     0.22758,     0.21595,     0.21209,     0.20426,     0.18731,     0.17621,      0.1665,      0.1593,     0.15345,     0.15054,     0.14762,     0.14468,     0.12478,      0.1231,     0.12141,     0.11972,\n",
      "            0.11803,     0.11634,     0.11491,     0.11406,      0.1132,     0.11234,     0.11149,     0.11063,     0.10977,     0.10891,     0.10805,     0.10719,     0.10633,     0.10547,    0.094619,    0.091972,    0.089318,    0.086656,    0.083933,    0.081128,    0.078314,    0.075491,    0.074184,\n",
      "           0.073306,    0.072428,     0.07155,     0.07067,     0.06979,    0.068909,    0.068027,    0.067144,     0.06626,    0.065376,    0.064113,     0.05057,    0.041548,    0.036928,    0.029962,     0.02135,    0.020448,    0.019545,    0.018641,    0.017737,    0.016831,    0.015925,    0.015018,\n",
      "            0.01411,    0.013202,    0.012292,    0.011382,           0,           0,           0,           0,           0,           0,           0,           0,           0,           0,           0,           0,           0,           0,           0,           0,           0,           0,           0,\n",
      "                  0,           0,           0,           0,           0,           0,           0,           0,           0,           0,           0,           0,           0,           0,           0,           0,           0,           0,           0,           0,           0,           0,           0,\n",
      "                  0,           0,           0,           0,           0,           0,           0,           0,           0,           0,           0,           0,           0,           0,           0,           0,           0,           0,           0,           0,           0,           0,           0,\n",
      "                  0,           0,           0,           0,           0,           0,           0,           0,           0,           0,           0]]), 'Confidence', 'F1'], [array([          0,    0.001001,    0.002002,    0.003003,    0.004004,    0.005005,    0.006006,    0.007007,    0.008008,    0.009009,     0.01001,    0.011011,    0.012012,    0.013013,    0.014014,    0.015015,    0.016016,    0.017017,    0.018018,    0.019019,     0.02002,    0.021021,    0.022022,    0.023023,\n",
      "          0.024024,    0.025025,    0.026026,    0.027027,    0.028028,    0.029029,     0.03003,    0.031031,    0.032032,    0.033033,    0.034034,    0.035035,    0.036036,    0.037037,    0.038038,    0.039039,     0.04004,    0.041041,    0.042042,    0.043043,    0.044044,    0.045045,    0.046046,    0.047047,\n",
      "          0.048048,    0.049049,     0.05005,    0.051051,    0.052052,    0.053053,    0.054054,    0.055055,    0.056056,    0.057057,    0.058058,    0.059059,     0.06006,    0.061061,    0.062062,    0.063063,    0.064064,    0.065065,    0.066066,    0.067067,    0.068068,    0.069069,     0.07007,    0.071071,\n",
      "          0.072072,    0.073073,    0.074074,    0.075075,    0.076076,    0.077077,    0.078078,    0.079079,     0.08008,    0.081081,    0.082082,    0.083083,    0.084084,    0.085085,    0.086086,    0.087087,    0.088088,    0.089089,     0.09009,    0.091091,    0.092092,    0.093093,    0.094094,    0.095095,\n",
      "          0.096096,    0.097097,    0.098098,    0.099099,      0.1001,      0.1011,      0.1021,      0.1031,      0.1041,     0.10511,     0.10611,     0.10711,     0.10811,     0.10911,     0.11011,     0.11111,     0.11211,     0.11311,     0.11411,     0.11512,     0.11612,     0.11712,     0.11812,     0.11912,\n",
      "           0.12012,     0.12112,     0.12212,     0.12312,     0.12412,     0.12513,     0.12613,     0.12713,     0.12813,     0.12913,     0.13013,     0.13113,     0.13213,     0.13313,     0.13413,     0.13514,     0.13614,     0.13714,     0.13814,     0.13914,     0.14014,     0.14114,     0.14214,     0.14314,\n",
      "           0.14414,     0.14515,     0.14615,     0.14715,     0.14815,     0.14915,     0.15015,     0.15115,     0.15215,     0.15315,     0.15415,     0.15516,     0.15616,     0.15716,     0.15816,     0.15916,     0.16016,     0.16116,     0.16216,     0.16316,     0.16416,     0.16517,     0.16617,     0.16717,\n",
      "           0.16817,     0.16917,     0.17017,     0.17117,     0.17217,     0.17317,     0.17417,     0.17518,     0.17618,     0.17718,     0.17818,     0.17918,     0.18018,     0.18118,     0.18218,     0.18318,     0.18418,     0.18519,     0.18619,     0.18719,     0.18819,     0.18919,     0.19019,     0.19119,\n",
      "           0.19219,     0.19319,     0.19419,      0.1952,      0.1962,      0.1972,      0.1982,      0.1992,      0.2002,      0.2012,      0.2022,      0.2032,      0.2042,     0.20521,     0.20621,     0.20721,     0.20821,     0.20921,     0.21021,     0.21121,     0.21221,     0.21321,     0.21421,     0.21522,\n",
      "           0.21622,     0.21722,     0.21822,     0.21922,     0.22022,     0.22122,     0.22222,     0.22322,     0.22422,     0.22523,     0.22623,     0.22723,     0.22823,     0.22923,     0.23023,     0.23123,     0.23223,     0.23323,     0.23423,     0.23524,     0.23624,     0.23724,     0.23824,     0.23924,\n",
      "           0.24024,     0.24124,     0.24224,     0.24324,     0.24424,     0.24525,     0.24625,     0.24725,     0.24825,     0.24925,     0.25025,     0.25125,     0.25225,     0.25325,     0.25425,     0.25526,     0.25626,     0.25726,     0.25826,     0.25926,     0.26026,     0.26126,     0.26226,     0.26326,\n",
      "           0.26426,     0.26527,     0.26627,     0.26727,     0.26827,     0.26927,     0.27027,     0.27127,     0.27227,     0.27327,     0.27427,     0.27528,     0.27628,     0.27728,     0.27828,     0.27928,     0.28028,     0.28128,     0.28228,     0.28328,     0.28428,     0.28529,     0.28629,     0.28729,\n",
      "           0.28829,     0.28929,     0.29029,     0.29129,     0.29229,     0.29329,     0.29429,      0.2953,      0.2963,      0.2973,      0.2983,      0.2993,      0.3003,      0.3013,      0.3023,      0.3033,      0.3043,     0.30531,     0.30631,     0.30731,     0.30831,     0.30931,     0.31031,     0.31131,\n",
      "           0.31231,     0.31331,     0.31431,     0.31532,     0.31632,     0.31732,     0.31832,     0.31932,     0.32032,     0.32132,     0.32232,     0.32332,     0.32432,     0.32533,     0.32633,     0.32733,     0.32833,     0.32933,     0.33033,     0.33133,     0.33233,     0.33333,     0.33433,     0.33534,\n",
      "           0.33634,     0.33734,     0.33834,     0.33934,     0.34034,     0.34134,     0.34234,     0.34334,     0.34434,     0.34535,     0.34635,     0.34735,     0.34835,     0.34935,     0.35035,     0.35135,     0.35235,     0.35335,     0.35435,     0.35536,     0.35636,     0.35736,     0.35836,     0.35936,\n",
      "           0.36036,     0.36136,     0.36236,     0.36336,     0.36436,     0.36537,     0.36637,     0.36737,     0.36837,     0.36937,     0.37037,     0.37137,     0.37237,     0.37337,     0.37437,     0.37538,     0.37638,     0.37738,     0.37838,     0.37938,     0.38038,     0.38138,     0.38238,     0.38338,\n",
      "           0.38438,     0.38539,     0.38639,     0.38739,     0.38839,     0.38939,     0.39039,     0.39139,     0.39239,     0.39339,     0.39439,      0.3954,      0.3964,      0.3974,      0.3984,      0.3994,      0.4004,      0.4014,      0.4024,      0.4034,      0.4044,     0.40541,     0.40641,     0.40741,\n",
      "           0.40841,     0.40941,     0.41041,     0.41141,     0.41241,     0.41341,     0.41441,     0.41542,     0.41642,     0.41742,     0.41842,     0.41942,     0.42042,     0.42142,     0.42242,     0.42342,     0.42442,     0.42543,     0.42643,     0.42743,     0.42843,     0.42943,     0.43043,     0.43143,\n",
      "           0.43243,     0.43343,     0.43443,     0.43544,     0.43644,     0.43744,     0.43844,     0.43944,     0.44044,     0.44144,     0.44244,     0.44344,     0.44444,     0.44545,     0.44645,     0.44745,     0.44845,     0.44945,     0.45045,     0.45145,     0.45245,     0.45345,     0.45445,     0.45546,\n",
      "           0.45646,     0.45746,     0.45846,     0.45946,     0.46046,     0.46146,     0.46246,     0.46346,     0.46446,     0.46547,     0.46647,     0.46747,     0.46847,     0.46947,     0.47047,     0.47147,     0.47247,     0.47347,     0.47447,     0.47548,     0.47648,     0.47748,     0.47848,     0.47948,\n",
      "           0.48048,     0.48148,     0.48248,     0.48348,     0.48448,     0.48549,     0.48649,     0.48749,     0.48849,     0.48949,     0.49049,     0.49149,     0.49249,     0.49349,     0.49449,      0.4955,      0.4965,      0.4975,      0.4985,      0.4995,      0.5005,      0.5015,      0.5025,      0.5035,\n",
      "            0.5045,     0.50551,     0.50651,     0.50751,     0.50851,     0.50951,     0.51051,     0.51151,     0.51251,     0.51351,     0.51451,     0.51552,     0.51652,     0.51752,     0.51852,     0.51952,     0.52052,     0.52152,     0.52252,     0.52352,     0.52452,     0.52553,     0.52653,     0.52753,\n",
      "           0.52853,     0.52953,     0.53053,     0.53153,     0.53253,     0.53353,     0.53453,     0.53554,     0.53654,     0.53754,     0.53854,     0.53954,     0.54054,     0.54154,     0.54254,     0.54354,     0.54454,     0.54555,     0.54655,     0.54755,     0.54855,     0.54955,     0.55055,     0.55155,\n",
      "           0.55255,     0.55355,     0.55455,     0.55556,     0.55656,     0.55756,     0.55856,     0.55956,     0.56056,     0.56156,     0.56256,     0.56356,     0.56456,     0.56557,     0.56657,     0.56757,     0.56857,     0.56957,     0.57057,     0.57157,     0.57257,     0.57357,     0.57457,     0.57558,\n",
      "           0.57658,     0.57758,     0.57858,     0.57958,     0.58058,     0.58158,     0.58258,     0.58358,     0.58458,     0.58559,     0.58659,     0.58759,     0.58859,     0.58959,     0.59059,     0.59159,     0.59259,     0.59359,     0.59459,      0.5956,      0.5966,      0.5976,      0.5986,      0.5996,\n",
      "            0.6006,      0.6016,      0.6026,      0.6036,      0.6046,     0.60561,     0.60661,     0.60761,     0.60861,     0.60961,     0.61061,     0.61161,     0.61261,     0.61361,     0.61461,     0.61562,     0.61662,     0.61762,     0.61862,     0.61962,     0.62062,     0.62162,     0.62262,     0.62362,\n",
      "           0.62462,     0.62563,     0.62663,     0.62763,     0.62863,     0.62963,     0.63063,     0.63163,     0.63263,     0.63363,     0.63463,     0.63564,     0.63664,     0.63764,     0.63864,     0.63964,     0.64064,     0.64164,     0.64264,     0.64364,     0.64464,     0.64565,     0.64665,     0.64765,\n",
      "           0.64865,     0.64965,     0.65065,     0.65165,     0.65265,     0.65365,     0.65465,     0.65566,     0.65666,     0.65766,     0.65866,     0.65966,     0.66066,     0.66166,     0.66266,     0.66366,     0.66466,     0.66567,     0.66667,     0.66767,     0.66867,     0.66967,     0.67067,     0.67167,\n",
      "           0.67267,     0.67367,     0.67467,     0.67568,     0.67668,     0.67768,     0.67868,     0.67968,     0.68068,     0.68168,     0.68268,     0.68368,     0.68468,     0.68569,     0.68669,     0.68769,     0.68869,     0.68969,     0.69069,     0.69169,     0.69269,     0.69369,     0.69469,      0.6957,\n",
      "            0.6967,      0.6977,      0.6987,      0.6997,      0.7007,      0.7017,      0.7027,      0.7037,      0.7047,     0.70571,     0.70671,     0.70771,     0.70871,     0.70971,     0.71071,     0.71171,     0.71271,     0.71371,     0.71471,     0.71572,     0.71672,     0.71772,     0.71872,     0.71972,\n",
      "           0.72072,     0.72172,     0.72272,     0.72372,     0.72472,     0.72573,     0.72673,     0.72773,     0.72873,     0.72973,     0.73073,     0.73173,     0.73273,     0.73373,     0.73473,     0.73574,     0.73674,     0.73774,     0.73874,     0.73974,     0.74074,     0.74174,     0.74274,     0.74374,\n",
      "           0.74474,     0.74575,     0.74675,     0.74775,     0.74875,     0.74975,     0.75075,     0.75175,     0.75275,     0.75375,     0.75475,     0.75576,     0.75676,     0.75776,     0.75876,     0.75976,     0.76076,     0.76176,     0.76276,     0.76376,     0.76476,     0.76577,     0.76677,     0.76777,\n",
      "           0.76877,     0.76977,     0.77077,     0.77177,     0.77277,     0.77377,     0.77477,     0.77578,     0.77678,     0.77778,     0.77878,     0.77978,     0.78078,     0.78178,     0.78278,     0.78378,     0.78478,     0.78579,     0.78679,     0.78779,     0.78879,     0.78979,     0.79079,     0.79179,\n",
      "           0.79279,     0.79379,     0.79479,      0.7958,      0.7968,      0.7978,      0.7988,      0.7998,      0.8008,      0.8018,      0.8028,      0.8038,      0.8048,     0.80581,     0.80681,     0.80781,     0.80881,     0.80981,     0.81081,     0.81181,     0.81281,     0.81381,     0.81481,     0.81582,\n",
      "           0.81682,     0.81782,     0.81882,     0.81982,     0.82082,     0.82182,     0.82282,     0.82382,     0.82482,     0.82583,     0.82683,     0.82783,     0.82883,     0.82983,     0.83083,     0.83183,     0.83283,     0.83383,     0.83483,     0.83584,     0.83684,     0.83784,     0.83884,     0.83984,\n",
      "           0.84084,     0.84184,     0.84284,     0.84384,     0.84484,     0.84585,     0.84685,     0.84785,     0.84885,     0.84985,     0.85085,     0.85185,     0.85285,     0.85385,     0.85485,     0.85586,     0.85686,     0.85786,     0.85886,     0.85986,     0.86086,     0.86186,     0.86286,     0.86386,\n",
      "           0.86486,     0.86587,     0.86687,     0.86787,     0.86887,     0.86987,     0.87087,     0.87187,     0.87287,     0.87387,     0.87487,     0.87588,     0.87688,     0.87788,     0.87888,     0.87988,     0.88088,     0.88188,     0.88288,     0.88388,     0.88488,     0.88589,     0.88689,     0.88789,\n",
      "           0.88889,     0.88989,     0.89089,     0.89189,     0.89289,     0.89389,     0.89489,      0.8959,      0.8969,      0.8979,      0.8989,      0.8999,      0.9009,      0.9019,      0.9029,      0.9039,      0.9049,     0.90591,     0.90691,     0.90791,     0.90891,     0.90991,     0.91091,     0.91191,\n",
      "           0.91291,     0.91391,     0.91491,     0.91592,     0.91692,     0.91792,     0.91892,     0.91992,     0.92092,     0.92192,     0.92292,     0.92392,     0.92492,     0.92593,     0.92693,     0.92793,     0.92893,     0.92993,     0.93093,     0.93193,     0.93293,     0.93393,     0.93493,     0.93594,\n",
      "           0.93694,     0.93794,     0.93894,     0.93994,     0.94094,     0.94194,     0.94294,     0.94394,     0.94494,     0.94595,     0.94695,     0.94795,     0.94895,     0.94995,     0.95095,     0.95195,     0.95295,     0.95395,     0.95495,     0.95596,     0.95696,     0.95796,     0.95896,     0.95996,\n",
      "           0.96096,     0.96196,     0.96296,     0.96396,     0.96496,     0.96597,     0.96697,     0.96797,     0.96897,     0.96997,     0.97097,     0.97197,     0.97297,     0.97397,     0.97497,     0.97598,     0.97698,     0.97798,     0.97898,     0.97998,     0.98098,     0.98198,     0.98298,     0.98398,\n",
      "           0.98498,     0.98599,     0.98699,     0.98799,     0.98899,     0.98999,     0.99099,     0.99199,     0.99299,     0.99399,     0.99499,       0.996,       0.997,       0.998,       0.999,           1]), array([[   0.072581,    0.072581,     0.10275,     0.12316,     0.14001,     0.15406,     0.16413,     0.17229,     0.18329,     0.19288,     0.20072,     0.20804,     0.21618,     0.22302,     0.23322,     0.23837,     0.24642,     0.25406,     0.26066,     0.26723,     0.27373,     0.27748,     0.28138,\n",
      "            0.28481,     0.28922,     0.29643,      0.3017,     0.30725,     0.31357,     0.31892,     0.32166,     0.32649,      0.3311,     0.33588,     0.33846,     0.34187,     0.34474,     0.34659,     0.34989,     0.35421,     0.35831,     0.36241,     0.36756,     0.37004,     0.37413,     0.37843,\n",
      "            0.38127,     0.38532,     0.39095,     0.39612,     0.40058,     0.40458,     0.41007,     0.41362,     0.41724,     0.42532,      0.4314,     0.43907,     0.44541,     0.45154,     0.45685,     0.45949,      0.4652,     0.46965,     0.47246,     0.47575,     0.47757,     0.48065,     0.48601,\n",
      "             0.4881,     0.49275,     0.49596,     0.49644,     0.49692,     0.49769,     0.49973,     0.50134,      0.5044,     0.50587,     0.50877,     0.51493,      0.5189,     0.52019,     0.52254,     0.52627,     0.52879,     0.53018,      0.5353,     0.53886,     0.54173,     0.54324,     0.54284,\n",
      "            0.54458,     0.54622,     0.54703,     0.54789,     0.54903,     0.54873,     0.55582,      0.5622,     0.56469,     0.56843,     0.57359,     0.57636,     0.58125,     0.58331,     0.58443,      0.5851,     0.58577,     0.58703,     0.59072,     0.59444,     0.59615,     0.60054,     0.60545,\n",
      "            0.60888,     0.61213,     0.61296,     0.61352,     0.61407,     0.61467,     0.61571,     0.61697,     0.62356,     0.62551,     0.62755,     0.62985,     0.63375,     0.63542,     0.63688,     0.63861,     0.64047,     0.64103,     0.64232,      0.6456,     0.64665,     0.64912,     0.65075,\n",
      "            0.65706,     0.66204,     0.66342,     0.66557,     0.66997,     0.67144,     0.67479,      0.6786,     0.68252,       0.684,     0.68744,     0.68923,     0.69166,     0.69465,     0.69644,     0.69794,     0.69922,     0.70042,     0.70149,     0.70257,     0.70434,     0.70728,     0.71041,\n",
      "            0.71592,     0.71652,     0.71781,      0.7192,     0.72178,     0.72879,        0.73,     0.73235,     0.73896,     0.74257,     0.74523,     0.74747,     0.75075,     0.75208,     0.75153,      0.7516,     0.75433,     0.75231,     0.75267,     0.75304,      0.7534,     0.75377,     0.75414,\n",
      "             0.7545,     0.75487,     0.75524,     0.75617,     0.76933,     0.77006,     0.77078,     0.77151,     0.77224,     0.77258,     0.77213,     0.77169,     0.77151,     0.77133,     0.77116,     0.77098,      0.7708,     0.77092,     0.77393,      0.7788,     0.78017,     0.78155,     0.78302,\n",
      "             0.7845,     0.78433,     0.78482,     0.78531,     0.78581,      0.7863,     0.78679,     0.78728,     0.78926,     0.79197,     0.79255,     0.79312,     0.79369,     0.79426,     0.79484,     0.79914,      0.7997,     0.80027,     0.80084,     0.80141,     0.80198,     0.80254,      0.8033,\n",
      "            0.80434,     0.80538,     0.80642,     0.80819,     0.81032,     0.81156,     0.81263,     0.81369,     0.81545,     0.82031,     0.82276,     0.82327,     0.82377,     0.82428,     0.82478,     0.82529,     0.82579,      0.8263,     0.82697,     0.82862,     0.83027,      0.8356,     0.83695,\n",
      "            0.83831,     0.84365,     0.84609,     0.84792,     0.84854,     0.84916,     0.84977,     0.85039,       0.851,     0.85162,     0.85839,     0.86131,     0.86202,     0.86273,     0.86344,     0.86416,     0.86487,     0.86538,      0.8656,     0.86582,     0.86604,     0.86626,     0.86649,\n",
      "            0.86671,     0.86693,     0.86715,     0.86737,      0.8676,     0.86782,     0.86804,     0.86826,     0.86849,     0.86871,     0.86893,     0.86915,     0.86937,      0.8696,     0.86996,      0.8714,     0.87283,     0.87427,      0.8836,     0.88391,     0.88422,     0.88453,     0.88484,\n",
      "            0.88515,     0.88546,     0.88577,     0.88608,     0.88639,      0.8867,       0.887,     0.88731,     0.88762,     0.88793,     0.88824,     0.88898,     0.88982,     0.89065,     0.89149,     0.89232,     0.89424,     0.89917,     0.90137,     0.90268,     0.90262,     0.90255,     0.90249,\n",
      "            0.90243,     0.90236,      0.9023,     0.90224,     0.90218,      0.9026,     0.90305,     0.90349,     0.90394,     0.90438,     0.90483,     0.90527,     0.90571,     0.90616,      0.9066,     0.90705,     0.90783,     0.90865,     0.90948,     0.91031,     0.91114,     0.91196,     0.91335,\n",
      "            0.91483,      0.9163,     0.91703,     0.91683,     0.91665,     0.91661,     0.91656,     0.91651,     0.91646,     0.91641,     0.91636,     0.91631,     0.91626,     0.91621,     0.91652,     0.91689,     0.91727,     0.91765,     0.91802,      0.9184,     0.91878,     0.91916,     0.91953,\n",
      "            0.91991,     0.92029,     0.92066,     0.92104,     0.92189,     0.92481,     0.93257,     0.93628,     0.93741,     0.93777,     0.93812,     0.93848,     0.93883,     0.93919,     0.93954,      0.9399,     0.94025,     0.94061,     0.94096,     0.94132,     0.94167,     0.94202,     0.94238,\n",
      "            0.94293,     0.94363,     0.94432,     0.94502,     0.94571,     0.94641,     0.94711,      0.9478,      0.9485,      0.9492,      0.9499,      0.9506,      0.9513,       0.952,      0.9527,      0.9534,     0.95344,     0.95339,     0.95333,     0.95328,     0.95322,     0.95351,     0.95384,\n",
      "            0.95417,      0.9545,     0.95483,     0.95515,     0.95548,     0.95581,     0.95614,     0.95647,      0.9568,     0.95713,     0.95746,     0.95779,     0.95811,     0.95844,     0.95877,     0.95987,     0.96112,     0.96236,      0.9636,     0.96448,     0.96442,     0.96436,      0.9643,\n",
      "            0.96413,     0.96405,     0.96401,     0.96397,     0.96393,      0.9639,     0.96386,     0.96638,     0.96921,     0.97076,     0.97205,     0.97333,     0.97462,     0.97556,     0.97543,     0.97536,     0.97537,     0.97579,      0.9762,     0.97662,     0.97704,     0.97746,     0.97787,\n",
      "            0.97829,     0.97871,     0.97913,     0.97954,     0.97996,     0.98038,      0.9808,     0.98121,     0.98135,     0.98133,      0.9813,     0.98128,     0.98125,     0.98119,     0.98122,     0.98207,     0.98291,     0.98375,     0.98459,     0.98544,     0.98628,     0.98712,     0.98734,\n",
      "            0.98733,     0.98732,     0.98732,     0.98731,      0.9873,      0.9873,     0.98729,     0.98729,     0.98728,     0.98727,     0.98727,     0.98726,     0.98725,     0.98724,     0.98723,     0.98723,     0.98722,     0.98721,      0.9872,     0.98719,     0.98718,     0.98815,     0.98955,\n",
      "            0.99095,     0.99235,     0.99355,     0.99354,     0.99354,     0.99354,     0.99353,     0.99353,     0.99352,     0.99352,     0.99352,     0.99351,     0.99351,      0.9935,      0.9935,      0.9935,      0.9935,      0.9935,     0.99349,     0.99349,     0.99349,     0.99349,     0.99348,\n",
      "            0.99348,     0.99348,     0.99348,     0.99347,     0.99347,     0.99347,     0.99347,     0.99347,     0.99345,     0.99342,     0.99411,     0.99489,     0.99567,     0.99646,     0.99724,     0.99802,     0.99881,     0.99959,           1,           1,           1,           1,           1,\n",
      "                  1,           1,           1,           1,           1,           1,           1,           1,           1,           1,           1,           1,           1,           1,           1,           1,           1,           1,           1,           1,           1,           1,           1,\n",
      "                  1,           1,           1,           1,           1,           1,           1,           1,           1,           1,           1,           1,           1,           1,           1,           1,           1,           1,           1,           1,           1,           1,           1,\n",
      "                  1,           1,           1,           1,           1,           1,           1,           1,           1,           1,           1,           1,           1,           1,           1,           1,           1,           1,           1,           1,           1,           1,           1,\n",
      "                  1,           1,           1,           1,           1,           1,           1,           1,           1,           1,           1,           1,           1,           1,           1,           1,           1,           1,           1,           1,           1,           1,           1,\n",
      "                  1,           1,           1,           1,           1,           1,           1,           1,           1,           1,           1,           1,           1,           1,           1,           1,           1,           1,           1,           1,           1,           1,           1,\n",
      "                  1,           1,           1,           1,           1,           1,           1,           1,           1,           1,           1,           1,           1,           1,           1,           1,           1,           1,           1,           1,           1,           1,           1,\n",
      "                  1,           1,           1,           1,           1,           1,           1,           1,           1,           1,           1,           1,           1,           1,           1,           1,           1,           1,           1,           1,           1,           1,           1,\n",
      "                  1,           1,           1,           1,           1,           1,           1,           1,           1,           1,           1,           1,           1,           1,           1,           1,           1,           1,           1,           1,           1,           1,           1,\n",
      "                  1,           1,           1,           1,           1,           1,           1,           1,           1,           1,           1,           1,           1,           1,           1,           1,           1,           1,           1,           1,           1,           1,           1,\n",
      "                  1,           1,           1,           1,           1,           1,           1,           1,           1,           1,           1,           1,           1,           1,           1,           1,           1,           1,           1,           1,           1,           1,           1,\n",
      "                  1,           1,           1,           1,           1,           1,           1,           1,           1,           1,           1,           1,           1,           1,           1,           1,           1,           1,           1,           1,           1,           1,           1,\n",
      "                  1,           1,           1,           1,           1,           1,           1,           1,           1,           1,           1,           1,           1,           1,           1,           1,           1,           1,           1,           1,           1,           1,           1,\n",
      "                  1,           1,           1,           1,           1,           1,           1,           1,           1,           1,           1,           1,           1,           1,           1,           1,           1,           1,           1,           1,           1,           1,           1,\n",
      "                  1,           1,           1,           1,           1,           1,           1,           1,           1,           1,           1,           1,           1,           1,           1,           1,           1,           1,           1,           1,           1,           1,           1,\n",
      "                  1,           1,           1,           1,           1,           1,           1,           1,           1,           1,           1,           1,           1,           1,           1,           1,           1,           1,           1,           1,           1,           1,           1,\n",
      "                  1,           1,           1,           1,           1,           1,           1,           1,           1,           1,           1,           1,           1,           1,           1,           1,           1,           1,           1,           1,           1,           1,           1,\n",
      "                  1,           1,           1,           1,           1,           1,           1,           1,           1,           1,           1,           1,           1,           1,           1,           1,           1,           1,           1,           1,           1,           1,           1,\n",
      "                  1,           1,           1,           1,           1,           1,           1,           1,           1,           1,           1,           1,           1,           1,           1,           1,           1,           1,           1,           1,           1,           1,           1,\n",
      "                  1,           1,           1,           1,           1,           1,           1,           1,           1,           1,           1,           1,           1,           1,           1,           1,           1,           1,           1,           1,           1,           1,           1,\n",
      "                  1,           1,           1,           1,           1,           1,           1,           1,           1,           1,           1]]), 'Confidence', 'Precision'], [array([          0,    0.001001,    0.002002,    0.003003,    0.004004,    0.005005,    0.006006,    0.007007,    0.008008,    0.009009,     0.01001,    0.011011,    0.012012,    0.013013,    0.014014,    0.015015,    0.016016,    0.017017,    0.018018,    0.019019,     0.02002,    0.021021,    0.022022,    0.023023,\n",
      "          0.024024,    0.025025,    0.026026,    0.027027,    0.028028,    0.029029,     0.03003,    0.031031,    0.032032,    0.033033,    0.034034,    0.035035,    0.036036,    0.037037,    0.038038,    0.039039,     0.04004,    0.041041,    0.042042,    0.043043,    0.044044,    0.045045,    0.046046,    0.047047,\n",
      "          0.048048,    0.049049,     0.05005,    0.051051,    0.052052,    0.053053,    0.054054,    0.055055,    0.056056,    0.057057,    0.058058,    0.059059,     0.06006,    0.061061,    0.062062,    0.063063,    0.064064,    0.065065,    0.066066,    0.067067,    0.068068,    0.069069,     0.07007,    0.071071,\n",
      "          0.072072,    0.073073,    0.074074,    0.075075,    0.076076,    0.077077,    0.078078,    0.079079,     0.08008,    0.081081,    0.082082,    0.083083,    0.084084,    0.085085,    0.086086,    0.087087,    0.088088,    0.089089,     0.09009,    0.091091,    0.092092,    0.093093,    0.094094,    0.095095,\n",
      "          0.096096,    0.097097,    0.098098,    0.099099,      0.1001,      0.1011,      0.1021,      0.1031,      0.1041,     0.10511,     0.10611,     0.10711,     0.10811,     0.10911,     0.11011,     0.11111,     0.11211,     0.11311,     0.11411,     0.11512,     0.11612,     0.11712,     0.11812,     0.11912,\n",
      "           0.12012,     0.12112,     0.12212,     0.12312,     0.12412,     0.12513,     0.12613,     0.12713,     0.12813,     0.12913,     0.13013,     0.13113,     0.13213,     0.13313,     0.13413,     0.13514,     0.13614,     0.13714,     0.13814,     0.13914,     0.14014,     0.14114,     0.14214,     0.14314,\n",
      "           0.14414,     0.14515,     0.14615,     0.14715,     0.14815,     0.14915,     0.15015,     0.15115,     0.15215,     0.15315,     0.15415,     0.15516,     0.15616,     0.15716,     0.15816,     0.15916,     0.16016,     0.16116,     0.16216,     0.16316,     0.16416,     0.16517,     0.16617,     0.16717,\n",
      "           0.16817,     0.16917,     0.17017,     0.17117,     0.17217,     0.17317,     0.17417,     0.17518,     0.17618,     0.17718,     0.17818,     0.17918,     0.18018,     0.18118,     0.18218,     0.18318,     0.18418,     0.18519,     0.18619,     0.18719,     0.18819,     0.18919,     0.19019,     0.19119,\n",
      "           0.19219,     0.19319,     0.19419,      0.1952,      0.1962,      0.1972,      0.1982,      0.1992,      0.2002,      0.2012,      0.2022,      0.2032,      0.2042,     0.20521,     0.20621,     0.20721,     0.20821,     0.20921,     0.21021,     0.21121,     0.21221,     0.21321,     0.21421,     0.21522,\n",
      "           0.21622,     0.21722,     0.21822,     0.21922,     0.22022,     0.22122,     0.22222,     0.22322,     0.22422,     0.22523,     0.22623,     0.22723,     0.22823,     0.22923,     0.23023,     0.23123,     0.23223,     0.23323,     0.23423,     0.23524,     0.23624,     0.23724,     0.23824,     0.23924,\n",
      "           0.24024,     0.24124,     0.24224,     0.24324,     0.24424,     0.24525,     0.24625,     0.24725,     0.24825,     0.24925,     0.25025,     0.25125,     0.25225,     0.25325,     0.25425,     0.25526,     0.25626,     0.25726,     0.25826,     0.25926,     0.26026,     0.26126,     0.26226,     0.26326,\n",
      "           0.26426,     0.26527,     0.26627,     0.26727,     0.26827,     0.26927,     0.27027,     0.27127,     0.27227,     0.27327,     0.27427,     0.27528,     0.27628,     0.27728,     0.27828,     0.27928,     0.28028,     0.28128,     0.28228,     0.28328,     0.28428,     0.28529,     0.28629,     0.28729,\n",
      "           0.28829,     0.28929,     0.29029,     0.29129,     0.29229,     0.29329,     0.29429,      0.2953,      0.2963,      0.2973,      0.2983,      0.2993,      0.3003,      0.3013,      0.3023,      0.3033,      0.3043,     0.30531,     0.30631,     0.30731,     0.30831,     0.30931,     0.31031,     0.31131,\n",
      "           0.31231,     0.31331,     0.31431,     0.31532,     0.31632,     0.31732,     0.31832,     0.31932,     0.32032,     0.32132,     0.32232,     0.32332,     0.32432,     0.32533,     0.32633,     0.32733,     0.32833,     0.32933,     0.33033,     0.33133,     0.33233,     0.33333,     0.33433,     0.33534,\n",
      "           0.33634,     0.33734,     0.33834,     0.33934,     0.34034,     0.34134,     0.34234,     0.34334,     0.34434,     0.34535,     0.34635,     0.34735,     0.34835,     0.34935,     0.35035,     0.35135,     0.35235,     0.35335,     0.35435,     0.35536,     0.35636,     0.35736,     0.35836,     0.35936,\n",
      "           0.36036,     0.36136,     0.36236,     0.36336,     0.36436,     0.36537,     0.36637,     0.36737,     0.36837,     0.36937,     0.37037,     0.37137,     0.37237,     0.37337,     0.37437,     0.37538,     0.37638,     0.37738,     0.37838,     0.37938,     0.38038,     0.38138,     0.38238,     0.38338,\n",
      "           0.38438,     0.38539,     0.38639,     0.38739,     0.38839,     0.38939,     0.39039,     0.39139,     0.39239,     0.39339,     0.39439,      0.3954,      0.3964,      0.3974,      0.3984,      0.3994,      0.4004,      0.4014,      0.4024,      0.4034,      0.4044,     0.40541,     0.40641,     0.40741,\n",
      "           0.40841,     0.40941,     0.41041,     0.41141,     0.41241,     0.41341,     0.41441,     0.41542,     0.41642,     0.41742,     0.41842,     0.41942,     0.42042,     0.42142,     0.42242,     0.42342,     0.42442,     0.42543,     0.42643,     0.42743,     0.42843,     0.42943,     0.43043,     0.43143,\n",
      "           0.43243,     0.43343,     0.43443,     0.43544,     0.43644,     0.43744,     0.43844,     0.43944,     0.44044,     0.44144,     0.44244,     0.44344,     0.44444,     0.44545,     0.44645,     0.44745,     0.44845,     0.44945,     0.45045,     0.45145,     0.45245,     0.45345,     0.45445,     0.45546,\n",
      "           0.45646,     0.45746,     0.45846,     0.45946,     0.46046,     0.46146,     0.46246,     0.46346,     0.46446,     0.46547,     0.46647,     0.46747,     0.46847,     0.46947,     0.47047,     0.47147,     0.47247,     0.47347,     0.47447,     0.47548,     0.47648,     0.47748,     0.47848,     0.47948,\n",
      "           0.48048,     0.48148,     0.48248,     0.48348,     0.48448,     0.48549,     0.48649,     0.48749,     0.48849,     0.48949,     0.49049,     0.49149,     0.49249,     0.49349,     0.49449,      0.4955,      0.4965,      0.4975,      0.4985,      0.4995,      0.5005,      0.5015,      0.5025,      0.5035,\n",
      "            0.5045,     0.50551,     0.50651,     0.50751,     0.50851,     0.50951,     0.51051,     0.51151,     0.51251,     0.51351,     0.51451,     0.51552,     0.51652,     0.51752,     0.51852,     0.51952,     0.52052,     0.52152,     0.52252,     0.52352,     0.52452,     0.52553,     0.52653,     0.52753,\n",
      "           0.52853,     0.52953,     0.53053,     0.53153,     0.53253,     0.53353,     0.53453,     0.53554,     0.53654,     0.53754,     0.53854,     0.53954,     0.54054,     0.54154,     0.54254,     0.54354,     0.54454,     0.54555,     0.54655,     0.54755,     0.54855,     0.54955,     0.55055,     0.55155,\n",
      "           0.55255,     0.55355,     0.55455,     0.55556,     0.55656,     0.55756,     0.55856,     0.55956,     0.56056,     0.56156,     0.56256,     0.56356,     0.56456,     0.56557,     0.56657,     0.56757,     0.56857,     0.56957,     0.57057,     0.57157,     0.57257,     0.57357,     0.57457,     0.57558,\n",
      "           0.57658,     0.57758,     0.57858,     0.57958,     0.58058,     0.58158,     0.58258,     0.58358,     0.58458,     0.58559,     0.58659,     0.58759,     0.58859,     0.58959,     0.59059,     0.59159,     0.59259,     0.59359,     0.59459,      0.5956,      0.5966,      0.5976,      0.5986,      0.5996,\n",
      "            0.6006,      0.6016,      0.6026,      0.6036,      0.6046,     0.60561,     0.60661,     0.60761,     0.60861,     0.60961,     0.61061,     0.61161,     0.61261,     0.61361,     0.61461,     0.61562,     0.61662,     0.61762,     0.61862,     0.61962,     0.62062,     0.62162,     0.62262,     0.62362,\n",
      "           0.62462,     0.62563,     0.62663,     0.62763,     0.62863,     0.62963,     0.63063,     0.63163,     0.63263,     0.63363,     0.63463,     0.63564,     0.63664,     0.63764,     0.63864,     0.63964,     0.64064,     0.64164,     0.64264,     0.64364,     0.64464,     0.64565,     0.64665,     0.64765,\n",
      "           0.64865,     0.64965,     0.65065,     0.65165,     0.65265,     0.65365,     0.65465,     0.65566,     0.65666,     0.65766,     0.65866,     0.65966,     0.66066,     0.66166,     0.66266,     0.66366,     0.66466,     0.66567,     0.66667,     0.66767,     0.66867,     0.66967,     0.67067,     0.67167,\n",
      "           0.67267,     0.67367,     0.67467,     0.67568,     0.67668,     0.67768,     0.67868,     0.67968,     0.68068,     0.68168,     0.68268,     0.68368,     0.68468,     0.68569,     0.68669,     0.68769,     0.68869,     0.68969,     0.69069,     0.69169,     0.69269,     0.69369,     0.69469,      0.6957,\n",
      "            0.6967,      0.6977,      0.6987,      0.6997,      0.7007,      0.7017,      0.7027,      0.7037,      0.7047,     0.70571,     0.70671,     0.70771,     0.70871,     0.70971,     0.71071,     0.71171,     0.71271,     0.71371,     0.71471,     0.71572,     0.71672,     0.71772,     0.71872,     0.71972,\n",
      "           0.72072,     0.72172,     0.72272,     0.72372,     0.72472,     0.72573,     0.72673,     0.72773,     0.72873,     0.72973,     0.73073,     0.73173,     0.73273,     0.73373,     0.73473,     0.73574,     0.73674,     0.73774,     0.73874,     0.73974,     0.74074,     0.74174,     0.74274,     0.74374,\n",
      "           0.74474,     0.74575,     0.74675,     0.74775,     0.74875,     0.74975,     0.75075,     0.75175,     0.75275,     0.75375,     0.75475,     0.75576,     0.75676,     0.75776,     0.75876,     0.75976,     0.76076,     0.76176,     0.76276,     0.76376,     0.76476,     0.76577,     0.76677,     0.76777,\n",
      "           0.76877,     0.76977,     0.77077,     0.77177,     0.77277,     0.77377,     0.77477,     0.77578,     0.77678,     0.77778,     0.77878,     0.77978,     0.78078,     0.78178,     0.78278,     0.78378,     0.78478,     0.78579,     0.78679,     0.78779,     0.78879,     0.78979,     0.79079,     0.79179,\n",
      "           0.79279,     0.79379,     0.79479,      0.7958,      0.7968,      0.7978,      0.7988,      0.7998,      0.8008,      0.8018,      0.8028,      0.8038,      0.8048,     0.80581,     0.80681,     0.80781,     0.80881,     0.80981,     0.81081,     0.81181,     0.81281,     0.81381,     0.81481,     0.81582,\n",
      "           0.81682,     0.81782,     0.81882,     0.81982,     0.82082,     0.82182,     0.82282,     0.82382,     0.82482,     0.82583,     0.82683,     0.82783,     0.82883,     0.82983,     0.83083,     0.83183,     0.83283,     0.83383,     0.83483,     0.83584,     0.83684,     0.83784,     0.83884,     0.83984,\n",
      "           0.84084,     0.84184,     0.84284,     0.84384,     0.84484,     0.84585,     0.84685,     0.84785,     0.84885,     0.84985,     0.85085,     0.85185,     0.85285,     0.85385,     0.85485,     0.85586,     0.85686,     0.85786,     0.85886,     0.85986,     0.86086,     0.86186,     0.86286,     0.86386,\n",
      "           0.86486,     0.86587,     0.86687,     0.86787,     0.86887,     0.86987,     0.87087,     0.87187,     0.87287,     0.87387,     0.87487,     0.87588,     0.87688,     0.87788,     0.87888,     0.87988,     0.88088,     0.88188,     0.88288,     0.88388,     0.88488,     0.88589,     0.88689,     0.88789,\n",
      "           0.88889,     0.88989,     0.89089,     0.89189,     0.89289,     0.89389,     0.89489,      0.8959,      0.8969,      0.8979,      0.8989,      0.8999,      0.9009,      0.9019,      0.9029,      0.9039,      0.9049,     0.90591,     0.90691,     0.90791,     0.90891,     0.90991,     0.91091,     0.91191,\n",
      "           0.91291,     0.91391,     0.91491,     0.91592,     0.91692,     0.91792,     0.91892,     0.91992,     0.92092,     0.92192,     0.92292,     0.92392,     0.92492,     0.92593,     0.92693,     0.92793,     0.92893,     0.92993,     0.93093,     0.93193,     0.93293,     0.93393,     0.93493,     0.93594,\n",
      "           0.93694,     0.93794,     0.93894,     0.93994,     0.94094,     0.94194,     0.94294,     0.94394,     0.94494,     0.94595,     0.94695,     0.94795,     0.94895,     0.94995,     0.95095,     0.95195,     0.95295,     0.95395,     0.95495,     0.95596,     0.95696,     0.95796,     0.95896,     0.95996,\n",
      "           0.96096,     0.96196,     0.96296,     0.96396,     0.96496,     0.96597,     0.96697,     0.96797,     0.96897,     0.96997,     0.97097,     0.97197,     0.97297,     0.97397,     0.97497,     0.97598,     0.97698,     0.97798,     0.97898,     0.97998,     0.98098,     0.98198,     0.98298,     0.98398,\n",
      "           0.98498,     0.98599,     0.98699,     0.98799,     0.98899,     0.98999,     0.99099,     0.99199,     0.99299,     0.99399,     0.99499,       0.996,       0.997,       0.998,       0.999,           1]), array([[          1,           1,           1,           1,           1,           1,           1,           1,           1,           1,           1,           1,           1,           1,     0.99697,     0.99444,     0.99444,     0.99444,     0.99444,     0.99444,     0.99444,     0.99444,     0.99444,\n",
      "            0.99444,     0.99444,     0.99444,     0.99444,     0.99444,     0.99444,     0.99444,     0.99444,     0.99444,     0.99444,     0.99444,     0.99444,     0.99444,     0.99444,     0.99444,     0.99444,     0.99444,     0.99444,     0.99444,     0.99444,     0.99444,     0.99444,     0.99444,\n",
      "            0.99444,     0.99444,     0.99444,     0.99444,     0.99444,     0.99444,     0.99444,     0.99444,     0.99444,     0.99444,     0.99444,     0.99444,     0.99444,     0.99444,     0.99444,     0.99444,     0.99444,     0.99444,     0.99444,     0.99444,     0.99444,     0.99444,     0.99444,\n",
      "            0.99444,     0.99444,     0.99444,     0.99444,     0.99444,     0.99444,     0.99444,     0.99444,     0.99444,     0.99444,     0.99444,     0.99444,     0.99444,     0.99444,     0.99444,     0.99444,     0.99444,     0.99444,     0.99444,     0.99444,     0.99444,     0.99444,     0.98953,\n",
      "            0.98889,     0.98889,     0.98889,     0.98889,     0.98889,     0.98333,     0.98333,     0.98333,     0.98333,     0.98333,     0.98333,     0.98333,     0.98333,     0.98333,     0.98333,     0.98333,     0.98333,     0.98333,     0.98333,     0.98333,     0.98333,     0.98333,     0.98333,\n",
      "            0.98333,     0.98333,     0.98333,     0.98333,     0.98333,     0.98333,     0.98333,     0.98333,     0.98333,     0.98333,     0.98333,     0.98333,     0.98333,     0.98333,     0.98333,     0.98333,     0.97976,     0.97778,     0.97778,     0.97778,     0.97778,     0.97778,     0.97778,\n",
      "            0.97778,     0.97778,     0.97778,     0.97778,     0.97778,     0.97778,     0.97778,     0.97778,     0.97778,     0.97778,     0.97753,     0.97222,     0.97222,     0.97222,     0.97222,     0.97222,     0.97222,     0.97222,     0.97222,     0.97222,     0.97222,     0.97222,     0.97222,\n",
      "            0.97222,     0.96667,     0.96667,     0.96667,     0.96667,     0.96667,     0.96667,     0.96667,     0.96667,     0.96667,     0.96667,     0.96667,     0.96667,     0.96061,     0.95782,     0.95556,     0.95556,     0.94444,     0.94444,     0.94444,     0.94444,     0.94444,     0.94444,\n",
      "            0.94444,     0.94444,     0.94444,     0.94444,     0.94444,     0.94444,     0.94444,     0.94444,     0.94444,     0.94366,     0.94127,     0.93888,     0.93794,       0.937,     0.93606,     0.93513,     0.93419,     0.93333,     0.93333,     0.93333,     0.93333,     0.93333,     0.93333,\n",
      "            0.93333,     0.92778,     0.92778,     0.92778,     0.92778,     0.92778,     0.92778,     0.92778,     0.92778,     0.92778,     0.92778,     0.92778,     0.92778,     0.92778,     0.92778,     0.92778,     0.92778,     0.92778,     0.92778,     0.92778,     0.92778,     0.92778,     0.92778,\n",
      "            0.92778,     0.92778,     0.92778,     0.92778,     0.92778,     0.92778,     0.92778,     0.92778,     0.92778,     0.92778,     0.92778,     0.92778,     0.92778,     0.92778,     0.92778,     0.92778,     0.92778,     0.92778,     0.92778,     0.92778,     0.92778,     0.92778,     0.92778,\n",
      "            0.92778,     0.92778,     0.92778,     0.92778,     0.92778,     0.92778,     0.92778,     0.92778,     0.92778,     0.92778,     0.92778,     0.92778,     0.92778,     0.92778,     0.92778,     0.92778,     0.92778,     0.92778,     0.92778,     0.92778,     0.92778,     0.92778,     0.92778,\n",
      "            0.92778,     0.92778,     0.92778,     0.92778,     0.92778,     0.92778,     0.92778,     0.92778,     0.92778,     0.92778,     0.92778,     0.92778,     0.92778,     0.92778,     0.92778,     0.92778,     0.92778,     0.92778,     0.92778,     0.92778,     0.92778,     0.92778,     0.92778,\n",
      "            0.92778,     0.92778,     0.92778,     0.92778,     0.92778,     0.92778,     0.92778,     0.92778,     0.92778,     0.92778,     0.92778,     0.92778,     0.92778,     0.92778,     0.92778,     0.92778,     0.92778,     0.92778,     0.92778,     0.92752,     0.92686,      0.9262,     0.92554,\n",
      "            0.92488,     0.92422,     0.92356,      0.9229,     0.92224,     0.92222,     0.92222,     0.92222,     0.92222,     0.92222,     0.92222,     0.92222,     0.92222,     0.92222,     0.92222,     0.92222,     0.92222,     0.92222,     0.92222,     0.92222,     0.92222,     0.92222,     0.92222,\n",
      "            0.92222,     0.92222,     0.92111,     0.91859,     0.91653,     0.91594,     0.91535,     0.91475,     0.91416,     0.91357,     0.91298,     0.91239,      0.9118,     0.91121,     0.91111,     0.91111,     0.91111,     0.91111,     0.91111,     0.91111,     0.91111,     0.91111,     0.91111,\n",
      "            0.91111,     0.91111,     0.91111,     0.91111,     0.91111,     0.91111,     0.91111,     0.91111,     0.91111,     0.91111,     0.91111,     0.91111,     0.91111,     0.91111,     0.91111,     0.91111,     0.91111,     0.91111,     0.91111,     0.91111,     0.91111,     0.91111,     0.91111,\n",
      "            0.91111,     0.91111,     0.91111,     0.91111,     0.91111,     0.91111,     0.91111,     0.91111,     0.91111,     0.91111,     0.91111,     0.91111,     0.91111,     0.91111,     0.91111,     0.91111,     0.91014,     0.90902,     0.90791,     0.90679,     0.90567,     0.90556,     0.90556,\n",
      "            0.90556,     0.90556,     0.90556,     0.90556,     0.90556,     0.90556,     0.90556,     0.90556,     0.90556,     0.90556,     0.90556,     0.90556,     0.90556,     0.90556,     0.90556,     0.90556,     0.90556,     0.90556,     0.90556,     0.90511,     0.90352,     0.90194,     0.90035,\n",
      "            0.89591,     0.89376,      0.8928,     0.89185,      0.8909,     0.88994,     0.88899,     0.88889,     0.88889,     0.88889,     0.88889,     0.88889,     0.88889,     0.88717,     0.88216,      0.8798,     0.87778,     0.87778,     0.87778,     0.87778,     0.87778,     0.87778,     0.87778,\n",
      "            0.87778,     0.87778,     0.87778,     0.87778,     0.87778,     0.87778,     0.87778,     0.87778,     0.87704,     0.87587,     0.87471,     0.87354,     0.87238,     0.86949,     0.86667,     0.86667,     0.86667,     0.86667,     0.86667,     0.86667,     0.86667,     0.86667,     0.86634,\n",
      "            0.86589,     0.86545,     0.86501,     0.86456,     0.86412,     0.86368,     0.86323,     0.86279,     0.86235,      0.8619,     0.86146,     0.86098,      0.8604,     0.85982,     0.85924,     0.85865,     0.85807,     0.85749,      0.8569,     0.85632,     0.85574,     0.85556,     0.85556,\n",
      "            0.85556,     0.85556,     0.85548,     0.85493,     0.85439,     0.85385,      0.8533,     0.85276,     0.85222,     0.85167,     0.85113,     0.85059,     0.85004,     0.84972,     0.84942,     0.84912,     0.84882,     0.84852,     0.84821,     0.84791,     0.84761,     0.84731,     0.84701,\n",
      "             0.8467,      0.8464,      0.8461,      0.8458,      0.8455,      0.8452,     0.84489,     0.84459,     0.84271,     0.83931,     0.83889,     0.83889,     0.83889,     0.83889,     0.83889,     0.83889,     0.83889,     0.83889,      0.8368,     0.83313,     0.83217,     0.83121,     0.83025,\n",
      "            0.82929,     0.82833,      0.8264,     0.82314,     0.82211,     0.82195,     0.82179,     0.82164,     0.82148,     0.82132,     0.82117,     0.82101,     0.82085,     0.82069,     0.82054,     0.82038,     0.82022,     0.82007,     0.81991,     0.81975,     0.81959,     0.81944,     0.81928,\n",
      "            0.81912,     0.81896,     0.81881,     0.81865,     0.81849,     0.81834,     0.81818,     0.81802,     0.81786,     0.81771,     0.81755,     0.81739,     0.81724,     0.81708,     0.81692,     0.81676,     0.81654,     0.81623,     0.81591,     0.81559,     0.81527,     0.81495,     0.81463,\n",
      "            0.81431,     0.81399,     0.81367,     0.81335,     0.81303,     0.81271,     0.81239,     0.81208,     0.81176,     0.81144,     0.81112,     0.81043,     0.80972,     0.80902,     0.80832,     0.80762,     0.80692,     0.80622,     0.80531,       0.801,     0.79122,     0.78681,     0.78389,\n",
      "              0.783,     0.78258,     0.78217,     0.78176,     0.78134,     0.78093,     0.78052,      0.7801,     0.77969,     0.77928,     0.77886,     0.77845,     0.77804,     0.77757,     0.77703,     0.77648,     0.77593,     0.77538,     0.77484,     0.77429,     0.77374,      0.7732,     0.77265,\n",
      "             0.7711,     0.76648,     0.76503,     0.76358,     0.76213,     0.75734,      0.7551,     0.75457,     0.75405,     0.75352,     0.75299,     0.75247,     0.75194,     0.75141,     0.75088,     0.75036,     0.74987,     0.74949,      0.7491,     0.74871,     0.74832,     0.74794,     0.74755,\n",
      "            0.74716,     0.74678,     0.74639,       0.746,     0.74561,     0.74523,     0.74484,     0.74445,     0.74384,     0.74321,     0.74259,     0.74197,     0.74135,     0.74073,      0.7401,     0.73948,     0.73883,     0.73761,     0.73639,     0.73516,     0.73394,     0.73156,     0.72803,\n",
      "            0.72213,      0.7206,     0.71906,     0.71753,     0.71533,     0.71228,     0.70955,     0.70703,     0.70466,     0.70252,     0.70039,     0.68792,     0.68117,     0.67892,     0.67664,     0.67432,     0.67145,     0.66513,     0.66121,     0.65264,     0.64938,      0.6481,     0.64681,\n",
      "            0.64552,     0.64293,     0.63427,     0.62014,     0.61645,     0.61189,     0.60839,     0.60521,     0.60272,     0.60022,     0.59864,     0.59715,     0.59567,     0.59425,     0.59319,     0.59213,     0.59107,     0.59001,     0.58895,     0.58676,     0.58449,     0.57482,     0.57103,\n",
      "            0.56893,     0.56683,     0.55449,      0.5486,     0.54705,     0.54551,     0.54397,     0.54245,     0.54093,      0.5394,     0.51096,     0.50784,     0.50392,     0.49954,     0.49826,     0.49698,      0.4957,     0.49435,     0.48833,     0.48089,     0.47515,     0.47201,     0.47133,\n",
      "            0.47066,     0.46998,     0.46931,     0.46863,     0.46796,     0.46728,     0.46658,     0.46552,     0.46446,      0.4634,     0.46234,     0.46128,     0.45933,      0.4572,     0.45524,     0.45384,     0.45243,     0.45103,     0.44922,     0.44627,     0.44356,     0.44123,     0.43889,\n",
      "            0.42982,     0.42037,     0.41657,     0.41549,     0.41441,     0.41334,     0.41226,     0.41118,     0.39583,     0.39163,     0.38821,     0.38428,     0.37662,     0.37323,     0.36973,     0.35989,     0.34928,     0.34756,     0.34583,     0.34037,     0.33819,     0.33743,     0.33667,\n",
      "            0.33592,     0.33516,     0.33441,     0.33365,     0.33167,      0.3288,     0.31666,     0.31564,     0.31462,     0.31359,     0.31257,     0.31155,     0.30865,     0.30264,     0.28904,     0.28426,     0.27192,     0.27072,     0.26953,     0.26833,     0.26713,     0.26082,     0.25941,\n",
      "              0.258,     0.25659,     0.24912,     0.24319,     0.22751,     0.22517,     0.22282,     0.21611,     0.20846,     0.20247,     0.19892,     0.19723,     0.19555,     0.19277,     0.18815,     0.18435,     0.17918,     0.17446,     0.16654,     0.15444,     0.15244,     0.15044,     0.14664,\n",
      "            0.14127,     0.13818,     0.13705,     0.13593,      0.1348,     0.13368,     0.13132,      0.1284,     0.12105,     0.11862,     0.11375,     0.10334,    0.096618,    0.090811,    0.086541,    0.083103,    0.081396,    0.079689,    0.077982,    0.066542,    0.065586,     0.06463,    0.063674,\n",
      "           0.062718,    0.061761,    0.060957,    0.060477,    0.059996,    0.059515,    0.059035,    0.058554,    0.058073,    0.057593,    0.057112,    0.056631,    0.056151,     0.05567,    0.049659,    0.048203,    0.046747,    0.045291,    0.043805,    0.042279,    0.040753,    0.039226,    0.038521,\n",
      "           0.038048,    0.037575,    0.037102,    0.036629,    0.036157,    0.035684,    0.035211,    0.034738,    0.034265,    0.033793,    0.033118,    0.025941,    0.021215,    0.018811,    0.015209,     0.01079,    0.010329,   0.0098689,   0.0094083,   0.0089477,   0.0084871,   0.0080265,   0.0075658,\n",
      "          0.0071052,   0.0066446,    0.006184,   0.0057234,           0,           0,           0,           0,           0,           0,           0,           0,           0,           0,           0,           0,           0,           0,           0,           0,           0,           0,           0,\n",
      "                  0,           0,           0,           0,           0,           0,           0,           0,           0,           0,           0,           0,           0,           0,           0,           0,           0,           0,           0,           0,           0,           0,           0,\n",
      "                  0,           0,           0,           0,           0,           0,           0,           0,           0,           0,           0,           0,           0,           0,           0,           0,           0,           0,           0,           0,           0,           0,           0,\n",
      "                  0,           0,           0,           0,           0,           0,           0,           0,           0,           0,           0]]), 'Confidence', 'Recall']]\n",
      "fitness: 0.6822947720702399\n",
      "keys: ['metrics/precision(B)', 'metrics/recall(B)', 'metrics/mAP50(B)', 'metrics/mAP50-95(B)']\n",
      "maps: array([    0.65011])\n",
      "names: {0: 'license_plate'}\n",
      "plot: True\n",
      "results_dict: {'metrics/precision(B)': 0.9574565354997338, 'metrics/recall(B)': 0.9055555555555556, 'metrics/mAP50(B)': 0.9719902141959352, 'metrics/mAP50-95(B)': 0.6501063896118292, 'fitness': 0.6822947720702399}\n",
      "save_dir: PosixPath('runs/detect/train122')\n",
      "speed: {'preprocess': 0.7717794842190212, 'inference': 155.44540219836765, 'loss': 4.1060977511935765e-05, 'postprocess': 0.18346442116631403}\n",
      "task: 'detect'\n"
     ]
    }
   ],
   "source": [
    "metrics = model.val(data='./yolov8_dataset/config.yaml')\n",
    "print(metrics)"
   ]
  },
  {
   "cell_type": "code",
   "execution_count": 10,
   "id": "341d8d7d-44c4-4b63-b4e6-5daefb9293e4",
   "metadata": {},
   "outputs": [
    {
     "name": "stdout",
     "output_type": "stream",
     "text": [
      "\n",
      "image 1/210 /Users/ayangairola/Desktop/intern/data-provided/test/test/1000.jpg: 448x640 1 license_plate, 57.4ms\n",
      "image 2/210 /Users/ayangairola/Desktop/intern/data-provided/test/test/1001.jpg: 640x384 1 license_plate, 44.9ms\n",
      "image 3/210 /Users/ayangairola/Desktop/intern/data-provided/test/test/1002.jpg: 640x480 1 license_plate, 56.6ms\n",
      "image 4/210 /Users/ayangairola/Desktop/intern/data-provided/test/test/1003.jpg: 384x640 1 license_plate, 43.2ms\n",
      "image 5/210 /Users/ayangairola/Desktop/intern/data-provided/test/test/1004.jpg: 640x384 1 license_plate, 46.9ms\n",
      "image 6/210 /Users/ayangairola/Desktop/intern/data-provided/test/test/1005.jpg: 640x384 1 license_plate, 44.3ms\n",
      "image 7/210 /Users/ayangairola/Desktop/intern/data-provided/test/test/1006.jpg: 640x480 1 license_plate, 57.9ms\n",
      "image 8/210 /Users/ayangairola/Desktop/intern/data-provided/test/test/1007.jpg: 640x384 1 license_plate, 46.0ms\n",
      "image 9/210 /Users/ayangairola/Desktop/intern/data-provided/test/test/1008.jpg: 384x640 1 license_plate, 44.4ms\n",
      "image 10/210 /Users/ayangairola/Desktop/intern/data-provided/test/test/1009.jpg: 384x640 1 license_plate, 43.7ms\n",
      "image 11/210 /Users/ayangairola/Desktop/intern/data-provided/test/test/1010.jpg: 640x384 1 license_plate, 42.9ms\n",
      "image 12/210 /Users/ayangairola/Desktop/intern/data-provided/test/test/1011.jpg: 640x384 1 license_plate, 47.7ms\n",
      "image 13/210 /Users/ayangairola/Desktop/intern/data-provided/test/test/1012.jpg: 480x640 1 license_plate, 60.3ms\n",
      "image 14/210 /Users/ayangairola/Desktop/intern/data-provided/test/test/1013.jpg: 640x480 1 license_plate, 66.0ms\n",
      "image 15/210 /Users/ayangairola/Desktop/intern/data-provided/test/test/1014.jpg: 480x640 1 license_plate, 59.2ms\n",
      "image 16/210 /Users/ayangairola/Desktop/intern/data-provided/test/test/1015.jpg: 480x640 1 license_plate, 54.0ms\n",
      "image 17/210 /Users/ayangairola/Desktop/intern/data-provided/test/test/1016.jpg: 480x640 1 license_plate, 56.0ms\n",
      "image 18/210 /Users/ayangairola/Desktop/intern/data-provided/test/test/1017.jpg: 384x640 1 license_plate, 44.3ms\n",
      "image 19/210 /Users/ayangairola/Desktop/intern/data-provided/test/test/1018.jpg: 480x640 1 license_plate, 53.4ms\n",
      "image 20/210 /Users/ayangairola/Desktop/intern/data-provided/test/test/1019.jpg: 384x640 1 license_plate, 42.2ms\n",
      "image 21/210 /Users/ayangairola/Desktop/intern/data-provided/test/test/1020.jpg: 640x480 1 license_plate, 55.6ms\n",
      "image 22/210 /Users/ayangairola/Desktop/intern/data-provided/test/test/1021.jpg: 640x384 1 license_plate, 44.5ms\n",
      "image 23/210 /Users/ayangairola/Desktop/intern/data-provided/test/test/1022.jpg: 384x640 1 license_plate, 41.4ms\n",
      "image 24/210 /Users/ayangairola/Desktop/intern/data-provided/test/test/1023.jpg: 384x640 2 license_plates, 39.4ms\n",
      "image 25/210 /Users/ayangairola/Desktop/intern/data-provided/test/test/1024.jpg: 384x640 2 license_plates, 44.8ms\n",
      "image 26/210 /Users/ayangairola/Desktop/intern/data-provided/test/test/1025.jpg: 640x480 1 license_plate, 60.4ms\n",
      "image 27/210 /Users/ayangairola/Desktop/intern/data-provided/test/test/1026.jpg: 640x480 1 license_plate, 61.1ms\n",
      "image 28/210 /Users/ayangairola/Desktop/intern/data-provided/test/test/1027.jpg: 384x640 1 license_plate, 44.1ms\n",
      "image 29/210 /Users/ayangairola/Desktop/intern/data-provided/test/test/1028.jpg: 640x480 3 license_plates, 61.9ms\n",
      "image 30/210 /Users/ayangairola/Desktop/intern/data-provided/test/test/1029.jpg: 384x640 1 license_plate, 44.0ms\n",
      "image 31/210 /Users/ayangairola/Desktop/intern/data-provided/test/test/1030.jpg: 384x640 1 license_plate, 44.1ms\n",
      "image 32/210 /Users/ayangairola/Desktop/intern/data-provided/test/test/1031.jpg: 480x640 1 license_plate, 59.9ms\n",
      "image 33/210 /Users/ayangairola/Desktop/intern/data-provided/test/test/1032.jpg: 640x480 1 license_plate, 60.9ms\n",
      "image 34/210 /Users/ayangairola/Desktop/intern/data-provided/test/test/1033.jpg: 480x640 1 license_plate, 59.3ms\n",
      "image 35/210 /Users/ayangairola/Desktop/intern/data-provided/test/test/1034.jpg: 640x480 1 license_plate, 59.4ms\n",
      "image 36/210 /Users/ayangairola/Desktop/intern/data-provided/test/test/1035.jpg: 640x480 1 license_plate, 61.0ms\n",
      "image 37/210 /Users/ayangairola/Desktop/intern/data-provided/test/test/1036.jpg: 640x480 1 license_plate, 57.9ms\n",
      "image 38/210 /Users/ayangairola/Desktop/intern/data-provided/test/test/1037.jpg: 384x640 1 license_plate, 44.3ms\n",
      "image 39/210 /Users/ayangairola/Desktop/intern/data-provided/test/test/1038.jpg: 640x384 1 license_plate, 44.5ms\n",
      "image 40/210 /Users/ayangairola/Desktop/intern/data-provided/test/test/1039.jpg: 384x640 1 license_plate, 42.1ms\n",
      "image 41/210 /Users/ayangairola/Desktop/intern/data-provided/test/test/1040.jpg: 640x480 1 license_plate, 59.4ms\n",
      "image 42/210 /Users/ayangairola/Desktop/intern/data-provided/test/test/1041.jpg: 384x640 2 license_plates, 44.0ms\n",
      "image 43/210 /Users/ayangairola/Desktop/intern/data-provided/test/test/1042.jpg: 384x640 1 license_plate, 44.8ms\n",
      "image 44/210 /Users/ayangairola/Desktop/intern/data-provided/test/test/1043.jpg: 640x544 1 license_plate, 71.2ms\n",
      "image 45/210 /Users/ayangairola/Desktop/intern/data-provided/test/test/1044.jpg: 640x480 1 license_plate, 64.0ms\n",
      "image 46/210 /Users/ayangairola/Desktop/intern/data-provided/test/test/1045.jpg: 480x640 1 license_plate, 60.4ms\n",
      "image 47/210 /Users/ayangairola/Desktop/intern/data-provided/test/test/1046.jpg: 640x480 1 license_plate, 61.0ms\n",
      "image 48/210 /Users/ayangairola/Desktop/intern/data-provided/test/test/1047.jpg: 480x640 2 license_plates, 56.5ms\n",
      "image 49/210 /Users/ayangairola/Desktop/intern/data-provided/test/test/1048.jpg: 480x640 1 license_plate, 53.5ms\n",
      "image 50/210 /Users/ayangairola/Desktop/intern/data-provided/test/test/1049.jpg: 640x480 1 license_plate, 60.7ms\n",
      "image 51/210 /Users/ayangairola/Desktop/intern/data-provided/test/test/1050.jpg: 512x640 2 license_plates, 61.1ms\n",
      "image 52/210 /Users/ayangairola/Desktop/intern/data-provided/test/test/1051.jpg: 416x640 2 license_plates, 44.9ms\n",
      "image 53/210 /Users/ayangairola/Desktop/intern/data-provided/test/test/1052.jpg: 384x640 2 license_plates, 41.3ms\n",
      "image 54/210 /Users/ayangairola/Desktop/intern/data-provided/test/test/1053.jpg: 640x480 1 license_plate, 53.7ms\n",
      "image 55/210 /Users/ayangairola/Desktop/intern/data-provided/test/test/1054.jpg: 384x640 1 license_plate, 40.1ms\n",
      "image 56/210 /Users/ayangairola/Desktop/intern/data-provided/test/test/1055.jpg: 640x384 1 license_plate, 42.9ms\n",
      "image 57/210 /Users/ayangairola/Desktop/intern/data-provided/test/test/1056.jpg: 640x480 1 license_plate, 55.4ms\n",
      "image 58/210 /Users/ayangairola/Desktop/intern/data-provided/test/test/1057.jpg: 640x544 1 license_plate, 59.4ms\n",
      "image 59/210 /Users/ayangairola/Desktop/intern/data-provided/test/test/1058.jpg: 384x640 1 license_plate, 39.1ms\n",
      "image 60/210 /Users/ayangairola/Desktop/intern/data-provided/test/test/1059.jpg: 384x640 1 license_plate, 40.3ms\n",
      "image 61/210 /Users/ayangairola/Desktop/intern/data-provided/test/test/1060.jpg: 640x416 1 license_plate, 48.3ms\n",
      "image 62/210 /Users/ayangairola/Desktop/intern/data-provided/test/test/1061.jpg: 640x384 1 license_plate, 44.1ms\n",
      "image 63/210 /Users/ayangairola/Desktop/intern/data-provided/test/test/1062.jpg: 384x640 1 license_plate, 40.2ms\n",
      "image 64/210 /Users/ayangairola/Desktop/intern/data-provided/test/test/1063.jpg: 640x480 1 license_plate, 58.6ms\n",
      "image 65/210 /Users/ayangairola/Desktop/intern/data-provided/test/test/1064.jpg: 640x384 1 license_plate, 43.6ms\n",
      "image 66/210 /Users/ayangairola/Desktop/intern/data-provided/test/test/1065.jpg: 640x544 1 license_plate, 65.1ms\n",
      "image 67/210 /Users/ayangairola/Desktop/intern/data-provided/test/test/1066.jpg: 640x544 2 license_plates, 62.0ms\n",
      "image 68/210 /Users/ayangairola/Desktop/intern/data-provided/test/test/1067.jpg: 640x480 1 license_plate, 54.9ms\n",
      "image 69/210 /Users/ayangairola/Desktop/intern/data-provided/test/test/1068.jpg: 480x640 1 license_plate, 50.8ms\n",
      "image 70/210 /Users/ayangairola/Desktop/intern/data-provided/test/test/1069.jpg: 384x640 2 license_plates, 41.7ms\n",
      "image 71/210 /Users/ayangairola/Desktop/intern/data-provided/test/test/1070.jpg: 640x384 1 license_plate, 48.0ms\n",
      "image 72/210 /Users/ayangairola/Desktop/intern/data-provided/test/test/1071.jpg: 640x480 1 license_plate, 61.5ms\n",
      "image 73/210 /Users/ayangairola/Desktop/intern/data-provided/test/test/1072.jpg: 480x640 1 license_plate, 58.8ms\n",
      "image 74/210 /Users/ayangairola/Desktop/intern/data-provided/test/test/1073.jpg: 448x640 1 license_plate, 53.9ms\n",
      "image 75/210 /Users/ayangairola/Desktop/intern/data-provided/test/test/1074.jpg: 480x640 1 license_plate, 60.3ms\n",
      "image 76/210 /Users/ayangairola/Desktop/intern/data-provided/test/test/1075.jpg: 640x480 1 license_plate, 59.9ms\n",
      "image 77/210 /Users/ayangairola/Desktop/intern/data-provided/test/test/1076.jpg: 640x480 1 license_plate, 59.8ms\n",
      "image 78/210 /Users/ayangairola/Desktop/intern/data-provided/test/test/1077.jpg: 480x640 1 license_plate, 59.0ms\n",
      "image 79/210 /Users/ayangairola/Desktop/intern/data-provided/test/test/1078.jpg: 640x480 1 license_plate, 63.9ms\n",
      "image 80/210 /Users/ayangairola/Desktop/intern/data-provided/test/test/1079.jpg: 640x384 1 license_plate, 45.7ms\n",
      "image 81/210 /Users/ayangairola/Desktop/intern/data-provided/test/test/1080.jpg: 640x480 1 license_plate, 60.0ms\n",
      "image 82/210 /Users/ayangairola/Desktop/intern/data-provided/test/test/1081.jpg: 640x480 1 license_plate, 59.8ms\n",
      "image 83/210 /Users/ayangairola/Desktop/intern/data-provided/test/test/1082.jpg: 640x480 1 license_plate, 60.3ms\n",
      "image 84/210 /Users/ayangairola/Desktop/intern/data-provided/test/test/1083.jpg: 640x480 1 license_plate, 60.2ms\n",
      "image 85/210 /Users/ayangairola/Desktop/intern/data-provided/test/test/1084.jpg: 480x640 1 license_plate, 59.1ms\n",
      "image 86/210 /Users/ayangairola/Desktop/intern/data-provided/test/test/1085.jpg: 640x480 2 license_plates, 57.6ms\n",
      "image 87/210 /Users/ayangairola/Desktop/intern/data-provided/test/test/1086.jpg: 384x640 1 license_plate, 44.7ms\n",
      "image 88/210 /Users/ayangairola/Desktop/intern/data-provided/test/test/1087.jpg: 640x512 1 license_plate, 62.7ms\n",
      "image 89/210 /Users/ayangairola/Desktop/intern/data-provided/test/test/1088.jpg: 384x640 1 license_plate, 50.2ms\n",
      "image 90/210 /Users/ayangairola/Desktop/intern/data-provided/test/test/1089.jpg: 384x640 1 license_plate, 42.7ms\n",
      "image 91/210 /Users/ayangairola/Desktop/intern/data-provided/test/test/1090.jpg: 640x480 1 license_plate, 55.6ms\n",
      "image 92/210 /Users/ayangairola/Desktop/intern/data-provided/test/test/1091.jpg: 384x640 1 license_plate, 40.3ms\n",
      "image 93/210 /Users/ayangairola/Desktop/intern/data-provided/test/test/1092.jpg: 384x640 1 license_plate, 41.0ms\n",
      "image 94/210 /Users/ayangairola/Desktop/intern/data-provided/test/test/1093.jpg: 640x384 1 license_plate, 43.8ms\n",
      "image 95/210 /Users/ayangairola/Desktop/intern/data-provided/test/test/1094.jpg: 480x640 1 license_plate, 55.8ms\n",
      "image 96/210 /Users/ayangairola/Desktop/intern/data-provided/test/test/1095.jpg: 512x640 1 license_plate, 56.4ms\n",
      "image 97/210 /Users/ayangairola/Desktop/intern/data-provided/test/test/1096.jpg: 480x640 1 license_plate, 51.8ms\n",
      "image 98/210 /Users/ayangairola/Desktop/intern/data-provided/test/test/1098.jpg: 384x640 1 license_plate, 40.9ms\n",
      "image 99/210 /Users/ayangairola/Desktop/intern/data-provided/test/test/1099.jpg: 480x640 1 license_plate, 55.9ms\n",
      "image 100/210 /Users/ayangairola/Desktop/intern/data-provided/test/test/1100.jpg: 384x640 1 license_plate, 43.5ms\n",
      "image 101/210 /Users/ayangairola/Desktop/intern/data-provided/test/test/1101.jpg: 480x640 1 license_plate, 57.4ms\n",
      "image 102/210 /Users/ayangairola/Desktop/intern/data-provided/test/test/1102.jpg: 640x480 1 license_plate, 59.0ms\n",
      "image 103/210 /Users/ayangairola/Desktop/intern/data-provided/test/test/1103.jpg: 480x640 1 license_plate, 53.8ms\n",
      "image 104/210 /Users/ayangairola/Desktop/intern/data-provided/test/test/1104.jpg: 640x384 1 license_plate, 42.9ms\n",
      "image 105/210 /Users/ayangairola/Desktop/intern/data-provided/test/test/1105.jpg: 640x480 1 license_plate, 58.3ms\n",
      "image 106/210 /Users/ayangairola/Desktop/intern/data-provided/test/test/1106.jpg: 640x480 2 license_plates, 54.3ms\n",
      "image 107/210 /Users/ayangairola/Desktop/intern/data-provided/test/test/1107.jpg: 480x640 1 license_plate, 55.0ms\n",
      "image 108/210 /Users/ayangairola/Desktop/intern/data-provided/test/test/1108.jpg: 480x640 1 license_plate, 53.8ms\n",
      "image 109/210 /Users/ayangairola/Desktop/intern/data-provided/test/test/1109.jpg: 640x384 1 license_plate, 45.0ms\n",
      "image 110/210 /Users/ayangairola/Desktop/intern/data-provided/test/test/1110.jpg: 640x480 1 license_plate, 53.7ms\n",
      "image 111/210 /Users/ayangairola/Desktop/intern/data-provided/test/test/1111.jpg: 640x384 1 license_plate, 46.6ms\n",
      "image 112/210 /Users/ayangairola/Desktop/intern/data-provided/test/test/1112.jpg: 640x480 1 license_plate, 61.4ms\n",
      "image 113/210 /Users/ayangairola/Desktop/intern/data-provided/test/test/1113.jpg: 384x640 1 license_plate, 45.5ms\n",
      "image 114/210 /Users/ayangairola/Desktop/intern/data-provided/test/test/901.jpg: 640x480 1 license_plate, 60.0ms\n",
      "image 115/210 /Users/ayangairola/Desktop/intern/data-provided/test/test/902.jpg: 384x640 1 license_plate, 41.2ms\n",
      "image 116/210 /Users/ayangairola/Desktop/intern/data-provided/test/test/903.jpg: 640x480 1 license_plate, 54.2ms\n",
      "image 117/210 /Users/ayangairola/Desktop/intern/data-provided/test/test/904.jpg: 384x640 1 license_plate, 40.4ms\n",
      "image 118/210 /Users/ayangairola/Desktop/intern/data-provided/test/test/905.jpg: 640x480 1 license_plate, 59.5ms\n",
      "image 119/210 /Users/ayangairola/Desktop/intern/data-provided/test/test/906.jpg: 384x640 1 license_plate, 40.0ms\n",
      "image 120/210 /Users/ayangairola/Desktop/intern/data-provided/test/test/907.jpg: 640x480 1 license_plate, 54.1ms\n",
      "image 121/210 /Users/ayangairola/Desktop/intern/data-provided/test/test/908.jpg: 384x640 1 license_plate, 41.2ms\n",
      "image 122/210 /Users/ayangairola/Desktop/intern/data-provided/test/test/909.jpg: 640x480 1 license_plate, 63.0ms\n",
      "image 123/210 /Users/ayangairola/Desktop/intern/data-provided/test/test/910.jpg: 384x640 1 license_plate, 40.3ms\n",
      "image 124/210 /Users/ayangairola/Desktop/intern/data-provided/test/test/911.jpg: 640x480 1 license_plate, 56.0ms\n",
      "image 125/210 /Users/ayangairola/Desktop/intern/data-provided/test/test/912.jpg: 384x640 1 license_plate, 39.7ms\n",
      "image 126/210 /Users/ayangairola/Desktop/intern/data-provided/test/test/913.jpg: 480x640 1 license_plate, 55.3ms\n",
      "image 127/210 /Users/ayangairola/Desktop/intern/data-provided/test/test/914.jpg: 384x640 1 license_plate, 40.3ms\n",
      "image 128/210 /Users/ayangairola/Desktop/intern/data-provided/test/test/915.jpg: 384x640 1 license_plate, 46.3ms\n",
      "image 129/210 /Users/ayangairola/Desktop/intern/data-provided/test/test/917.jpg: 480x640 3 license_plates, 57.9ms\n",
      "image 130/210 /Users/ayangairola/Desktop/intern/data-provided/test/test/918.jpg: 480x640 1 license_plate, 57.5ms\n",
      "image 131/210 /Users/ayangairola/Desktop/intern/data-provided/test/test/919.jpg: 384x640 1 license_plate, 44.6ms\n",
      "image 132/210 /Users/ayangairola/Desktop/intern/data-provided/test/test/920.jpg: 384x640 1 license_plate, 39.6ms\n",
      "image 133/210 /Users/ayangairola/Desktop/intern/data-provided/test/test/921.jpg: 480x640 1 license_plate, 55.9ms\n",
      "image 134/210 /Users/ayangairola/Desktop/intern/data-provided/test/test/922.jpg: 640x640 2 license_plates, 75.7ms\n",
      "image 135/210 /Users/ayangairola/Desktop/intern/data-provided/test/test/923.jpg: 640x480 1 license_plate, 56.7ms\n",
      "image 136/210 /Users/ayangairola/Desktop/intern/data-provided/test/test/924.jpg: 480x640 3 license_plates, 54.2ms\n",
      "image 137/210 /Users/ayangairola/Desktop/intern/data-provided/test/test/925.jpg: 640x384 1 license_plate, 42.2ms\n",
      "image 138/210 /Users/ayangairola/Desktop/intern/data-provided/test/test/926.jpg: 640x512 1 license_plate, 59.0ms\n",
      "image 139/210 /Users/ayangairola/Desktop/intern/data-provided/test/test/927.jpg: 640x480 1 license_plate, 54.7ms\n",
      "image 140/210 /Users/ayangairola/Desktop/intern/data-provided/test/test/928.jpg: 480x640 1 license_plate, 50.1ms\n",
      "image 141/210 /Users/ayangairola/Desktop/intern/data-provided/test/test/929.jpg: 480x640 1 license_plate, 54.5ms\n",
      "image 142/210 /Users/ayangairola/Desktop/intern/data-provided/test/test/930.jpg: 448x640 1 license_plate, 46.2ms\n",
      "image 143/210 /Users/ayangairola/Desktop/intern/data-provided/test/test/931.jpg: 480x640 1 license_plate, 52.3ms\n",
      "image 144/210 /Users/ayangairola/Desktop/intern/data-provided/test/test/932.jpg: 640x480 1 license_plate, 57.3ms\n",
      "image 145/210 /Users/ayangairola/Desktop/intern/data-provided/test/test/933.jpg: 640x480 1 license_plate, 55.5ms\n",
      "image 146/210 /Users/ayangairola/Desktop/intern/data-provided/test/test/934.jpg: 384x640 1 license_plate, 40.5ms\n",
      "image 147/210 /Users/ayangairola/Desktop/intern/data-provided/test/test/935.jpg: 640x480 1 license_plate, 56.7ms\n",
      "image 148/210 /Users/ayangairola/Desktop/intern/data-provided/test/test/936.jpg: 384x640 1 license_plate, 40.8ms\n",
      "image 149/210 /Users/ayangairola/Desktop/intern/data-provided/test/test/937.jpg: 480x640 1 license_plate, 56.8ms\n",
      "image 150/210 /Users/ayangairola/Desktop/intern/data-provided/test/test/938.jpg: 640x576 1 license_plate, 67.9ms\n",
      "image 151/210 /Users/ayangairola/Desktop/intern/data-provided/test/test/939.jpg: 480x640 1 license_plate, 49.8ms\n",
      "image 152/210 /Users/ayangairola/Desktop/intern/data-provided/test/test/940.jpg: 448x640 1 license_plate, 47.4ms\n",
      "image 153/210 /Users/ayangairola/Desktop/intern/data-provided/test/test/941.jpg: 480x640 1 license_plate, 54.8ms\n",
      "image 154/210 /Users/ayangairola/Desktop/intern/data-provided/test/test/942.jpg: 384x640 1 license_plate, 39.1ms\n",
      "image 155/210 /Users/ayangairola/Desktop/intern/data-provided/test/test/943.jpg: 640x576 1 license_plate, 71.6ms\n",
      "image 156/210 /Users/ayangairola/Desktop/intern/data-provided/test/test/944.jpg: 640x480 1 license_plate, 60.5ms\n",
      "image 157/210 /Users/ayangairola/Desktop/intern/data-provided/test/test/945.jpg: 384x640 1 license_plate, 42.3ms\n",
      "image 158/210 /Users/ayangairola/Desktop/intern/data-provided/test/test/946.jpg: 480x640 1 license_plate, 57.0ms\n",
      "image 159/210 /Users/ayangairola/Desktop/intern/data-provided/test/test/947.jpg: 640x384 1 license_plate, 43.0ms\n",
      "image 160/210 /Users/ayangairola/Desktop/intern/data-provided/test/test/948.jpg: 384x640 1 license_plate, 38.3ms\n",
      "image 161/210 /Users/ayangairola/Desktop/intern/data-provided/test/test/949.jpg: 640x384 1 license_plate, 44.8ms\n",
      "image 162/210 /Users/ayangairola/Desktop/intern/data-provided/test/test/950.jpg: 480x640 1 license_plate, 58.4ms\n",
      "image 163/210 /Users/ayangairola/Desktop/intern/data-provided/test/test/951.jpg: 384x640 1 license_plate, 42.0ms\n",
      "image 164/210 /Users/ayangairola/Desktop/intern/data-provided/test/test/952.jpg: 384x640 1 license_plate, 41.4ms\n",
      "image 165/210 /Users/ayangairola/Desktop/intern/data-provided/test/test/953.jpg: 480x640 1 license_plate, 56.7ms\n",
      "image 166/210 /Users/ayangairola/Desktop/intern/data-provided/test/test/954.jpg: 384x640 1 license_plate, 40.4ms\n",
      "image 167/210 /Users/ayangairola/Desktop/intern/data-provided/test/test/955.jpg: 640x384 1 license_plate, 42.9ms\n",
      "image 168/210 /Users/ayangairola/Desktop/intern/data-provided/test/test/956.jpg: 384x640 1 license_plate, 41.7ms\n",
      "image 169/210 /Users/ayangairola/Desktop/intern/data-provided/test/test/957.jpg: 384x640 1 license_plate, 42.3ms\n",
      "image 170/210 /Users/ayangairola/Desktop/intern/data-provided/test/test/958.jpg: 384x640 1 license_plate, 40.9ms\n",
      "image 171/210 /Users/ayangairola/Desktop/intern/data-provided/test/test/959.jpg: 640x384 1 license_plate, 44.9ms\n",
      "image 172/210 /Users/ayangairola/Desktop/intern/data-provided/test/test/960.jpg: 416x640 1 license_plate, 45.3ms\n",
      "image 173/210 /Users/ayangairola/Desktop/intern/data-provided/test/test/961.jpg: 640x480 1 license_plate, 58.1ms\n",
      "image 174/210 /Users/ayangairola/Desktop/intern/data-provided/test/test/962.jpg: 384x640 2 license_plates, 48.5ms\n",
      "image 175/210 /Users/ayangairola/Desktop/intern/data-provided/test/test/963.jpg: 384x640 1 license_plate, 39.7ms\n",
      "image 176/210 /Users/ayangairola/Desktop/intern/data-provided/test/test/964.jpg: 480x640 1 license_plate, 54.0ms\n",
      "image 177/210 /Users/ayangairola/Desktop/intern/data-provided/test/test/965.jpg: 640x480 1 license_plate, 56.5ms\n",
      "image 178/210 /Users/ayangairola/Desktop/intern/data-provided/test/test/966.jpg: 480x640 2 license_plates, 54.9ms\n",
      "image 179/210 /Users/ayangairola/Desktop/intern/data-provided/test/test/967.jpg: 640x480 1 license_plate, 56.4ms\n",
      "image 180/210 /Users/ayangairola/Desktop/intern/data-provided/test/test/968.jpg: 640x480 1 license_plate, 58.7ms\n",
      "image 181/210 /Users/ayangairola/Desktop/intern/data-provided/test/test/969.jpg: 640x480 2 license_plates, 58.3ms\n",
      "image 182/210 /Users/ayangairola/Desktop/intern/data-provided/test/test/970.jpg: 384x640 1 license_plate, 42.3ms\n",
      "image 183/210 /Users/ayangairola/Desktop/intern/data-provided/test/test/971.jpg: 480x640 1 license_plate, 55.7ms\n",
      "image 184/210 /Users/ayangairola/Desktop/intern/data-provided/test/test/972.jpg: 480x640 1 license_plate, 54.4ms\n",
      "image 185/210 /Users/ayangairola/Desktop/intern/data-provided/test/test/973.jpg: 640x480 1 license_plate, 54.3ms\n",
      "image 186/210 /Users/ayangairola/Desktop/intern/data-provided/test/test/974.jpg: 448x640 1 license_plate, 46.9ms\n",
      "image 187/210 /Users/ayangairola/Desktop/intern/data-provided/test/test/975.jpg: 640x384 1 license_plate, 40.5ms\n",
      "image 188/210 /Users/ayangairola/Desktop/intern/data-provided/test/test/976.jpg: 480x640 1 license_plate, 52.2ms\n",
      "image 189/210 /Users/ayangairola/Desktop/intern/data-provided/test/test/977.jpg: 480x640 1 license_plate, 49.9ms\n",
      "image 190/210 /Users/ayangairola/Desktop/intern/data-provided/test/test/978.jpg: 384x640 1 license_plate, 37.9ms\n",
      "image 191/210 /Users/ayangairola/Desktop/intern/data-provided/test/test/979.jpg: 480x640 1 license_plate, 50.5ms\n",
      "image 192/210 /Users/ayangairola/Desktop/intern/data-provided/test/test/981.jpg: 448x640 1 license_plate, 44.1ms\n",
      "image 193/210 /Users/ayangairola/Desktop/intern/data-provided/test/test/982.jpg: 640x384 1 license_plate, 41.1ms\n",
      "image 194/210 /Users/ayangairola/Desktop/intern/data-provided/test/test/983.jpg: 480x640 1 license_plate, 50.8ms\n",
      "image 195/210 /Users/ayangairola/Desktop/intern/data-provided/test/test/984.jpg: 480x640 1 license_plate, 56.6ms\n",
      "image 196/210 /Users/ayangairola/Desktop/intern/data-provided/test/test/985.jpg: 640x480 1 license_plate, 64.3ms\n",
      "image 197/210 /Users/ayangairola/Desktop/intern/data-provided/test/test/986.jpg: 480x640 1 license_plate, 57.5ms\n",
      "image 198/210 /Users/ayangairola/Desktop/intern/data-provided/test/test/987.jpg: 480x640 1 license_plate, 52.3ms\n",
      "image 199/210 /Users/ayangairola/Desktop/intern/data-provided/test/test/988.jpg: 640x480 1 license_plate, 56.1ms\n",
      "image 200/210 /Users/ayangairola/Desktop/intern/data-provided/test/test/989.jpg: 384x640 1 license_plate, 39.4ms\n",
      "image 201/210 /Users/ayangairola/Desktop/intern/data-provided/test/test/990.jpg: 640x480 1 license_plate, 53.5ms\n",
      "image 202/210 /Users/ayangairola/Desktop/intern/data-provided/test/test/991.jpg: 480x640 1 license_plate, 50.6ms\n",
      "image 203/210 /Users/ayangairola/Desktop/intern/data-provided/test/test/992.jpg: 640x480 1 license_plate, 51.5ms\n",
      "image 204/210 /Users/ayangairola/Desktop/intern/data-provided/test/test/993.jpg: 640x384 1 license_plate, 41.3ms\n",
      "image 205/210 /Users/ayangairola/Desktop/intern/data-provided/test/test/994.jpg: 640x480 1 license_plate, 52.7ms\n",
      "image 206/210 /Users/ayangairola/Desktop/intern/data-provided/test/test/995.jpg: 480x640 1 license_plate, 49.8ms\n",
      "image 207/210 /Users/ayangairola/Desktop/intern/data-provided/test/test/996.jpg: 480x640 1 license_plate, 51.0ms\n",
      "image 208/210 /Users/ayangairola/Desktop/intern/data-provided/test/test/997.jpg: 640x480 1 license_plate, 52.8ms\n",
      "image 209/210 /Users/ayangairola/Desktop/intern/data-provided/test/test/998.jpg: 640x480 1 license_plate, 58.0ms\n",
      "image 210/210 /Users/ayangairola/Desktop/intern/data-provided/test/test/999.jpg: 384x640 1 license_plate, 39.3ms\n",
      "Speed: 1.2ms preprocess, 51.4ms inference, 0.2ms postprocess per image at shape (1, 3, 384, 640)\n"
     ]
    }
   ],
   "source": [
    "results = model.predict(source='./data-provided/test/test/')"
   ]
  },
  {
   "cell_type": "markdown",
   "id": "979724e2-e1a1-497f-ab39-8d4dc5839787",
   "metadata": {},
   "source": [
    "### Saving the licence plate detection model"
   ]
  },
  {
   "cell_type": "code",
   "execution_count": 18,
   "id": "f72286cb-be74-464e-be4e-01961b8cbd65",
   "metadata": {},
   "outputs": [
    {
     "name": "stdout",
     "output_type": "stream",
     "text": [
      "Model saved successfully as 'best_yolov8_model.pt'.\n"
     ]
    }
   ],
   "source": [
    "weights_dir = './runs/detect/train12/weights/'  \n",
    "checkpoint_path = os.path.join(weights_dir, 'best.pt')\n",
    "\n",
    "# Check if the checkpoint exists\n",
    "if os.path.exists(checkpoint_path):\n",
    "    # Load the YOLOv8 model from the checkpoint\n",
    "    model = YOLO(checkpoint_path)\n",
    "    \n",
    "    # Save the model as best_yolov8_model.pt\n",
    "    model.save('best_yolov8_model.pt')\n",
    "    print(\"Model saved successfully as 'best_yolov8_model.pt'.\")\n",
    "else:\n",
    "    print(\"Checkpoint not found. Unable to save the model.\")"
   ]
  },
  {
   "cell_type": "markdown",
   "id": "c070fb83-2d09-4ee2-b5d0-00e2894f36d3",
   "metadata": {},
   "source": [
    "# OCR (Custom model CNN+LSTM)"
   ]
  },
  {
   "cell_type": "code",
   "execution_count": 4,
   "id": "579722b4-2959-4834-8986-d22fa8868300",
   "metadata": {},
   "outputs": [
    {
     "name": "stdout",
     "output_type": "stream",
     "text": [
      "Requirement already satisfied: pillow in /Users/ayangairola/miniconda3/envs/deep_learning/lib/python3.11/site-packages (10.4.0)\n",
      "Requirement already satisfied: tqdm in /Users/ayangairola/miniconda3/envs/deep_learning/lib/python3.11/site-packages (4.66.4)\n"
     ]
    }
   ],
   "source": [
    "!pip install pillow tqdm"
   ]
  },
  {
   "cell_type": "code",
   "execution_count": 10,
   "id": "51b2f3c3-45e8-485e-b350-86ca145ad981",
   "metadata": {},
   "outputs": [
    {
     "name": "stdout",
     "output_type": "stream",
     "text": [
      "Epoch 1/50\n",
      "\u001b[1m23/23\u001b[0m \u001b[32m━━━━━━━━━━━━━━━━━━━━\u001b[0m\u001b[37m\u001b[0m \u001b[1m8s\u001b[0m 154ms/step - loss: 2.4266 - val_loss: 2.0561\n",
      "Epoch 2/50\n",
      "\u001b[1m23/23\u001b[0m \u001b[32m━━━━━━━━━━━━━━━━━━━━\u001b[0m\u001b[37m\u001b[0m \u001b[1m3s\u001b[0m 115ms/step - loss: 2.0211 - val_loss: 2.0241\n",
      "Epoch 3/50\n",
      "\u001b[1m23/23\u001b[0m \u001b[32m━━━━━━━━━━━━━━━━━━━━\u001b[0m\u001b[37m\u001b[0m \u001b[1m3s\u001b[0m 116ms/step - loss: 2.0042 - val_loss: 2.0080\n",
      "Epoch 4/50\n",
      "\u001b[1m23/23\u001b[0m \u001b[32m━━━━━━━━━━━━━━━━━━━━\u001b[0m\u001b[37m\u001b[0m \u001b[1m3s\u001b[0m 113ms/step - loss: 1.9936 - val_loss: 2.0071\n",
      "Epoch 5/50\n",
      "\u001b[1m23/23\u001b[0m \u001b[32m━━━━━━━━━━━━━━━━━━━━\u001b[0m\u001b[37m\u001b[0m \u001b[1m3s\u001b[0m 113ms/step - loss: 1.9932 - val_loss: 2.0079\n",
      "Epoch 6/50\n",
      "\u001b[1m23/23\u001b[0m \u001b[32m━━━━━━━━━━━━━━━━━━━━\u001b[0m\u001b[37m\u001b[0m \u001b[1m3s\u001b[0m 113ms/step - loss: 1.9978 - val_loss: 2.0041\n",
      "Epoch 7/50\n",
      "\u001b[1m23/23\u001b[0m \u001b[32m━━━━━━━━━━━━━━━━━━━━\u001b[0m\u001b[37m\u001b[0m \u001b[1m3s\u001b[0m 113ms/step - loss: 1.9908 - val_loss: 2.0073\n",
      "Epoch 8/50\n",
      "\u001b[1m23/23\u001b[0m \u001b[32m━━━━━━━━━━━━━━━━━━━━\u001b[0m\u001b[37m\u001b[0m \u001b[1m3s\u001b[0m 114ms/step - loss: 2.0050 - val_loss: 2.0037\n",
      "Epoch 9/50\n",
      "\u001b[1m23/23\u001b[0m \u001b[32m━━━━━━━━━━━━━━━━━━━━\u001b[0m\u001b[37m\u001b[0m \u001b[1m3s\u001b[0m 116ms/step - loss: 1.9962 - val_loss: 2.0056\n",
      "Epoch 10/50\n",
      "\u001b[1m23/23\u001b[0m \u001b[32m━━━━━━━━━━━━━━━━━━━━\u001b[0m\u001b[37m\u001b[0m \u001b[1m3s\u001b[0m 117ms/step - loss: 1.9817 - val_loss: 2.0138\n",
      "Epoch 11/50\n",
      "\u001b[1m23/23\u001b[0m \u001b[32m━━━━━━━━━━━━━━━━━━━━\u001b[0m\u001b[37m\u001b[0m \u001b[1m3s\u001b[0m 115ms/step - loss: 1.9893 - val_loss: 2.0029\n",
      "Epoch 12/50\n",
      "\u001b[1m23/23\u001b[0m \u001b[32m━━━━━━━━━━━━━━━━━━━━\u001b[0m\u001b[37m\u001b[0m \u001b[1m3s\u001b[0m 117ms/step - loss: 1.9889 - val_loss: 2.0148\n",
      "Epoch 13/50\n",
      "\u001b[1m23/23\u001b[0m \u001b[32m━━━━━━━━━━━━━━━━━━━━\u001b[0m\u001b[37m\u001b[0m \u001b[1m3s\u001b[0m 115ms/step - loss: 1.9814 - val_loss: 2.0177\n",
      "Epoch 14/50\n",
      "\u001b[1m23/23\u001b[0m \u001b[32m━━━━━━━━━━━━━━━━━━━━\u001b[0m\u001b[37m\u001b[0m \u001b[1m3s\u001b[0m 116ms/step - loss: 1.9888 - val_loss: 2.0135\n",
      "Epoch 15/50\n",
      "\u001b[1m23/23\u001b[0m \u001b[32m━━━━━━━━━━━━━━━━━━━━\u001b[0m\u001b[37m\u001b[0m \u001b[1m3s\u001b[0m 115ms/step - loss: 1.9703 - val_loss: 2.0172\n",
      "Epoch 16/50\n",
      "\u001b[1m23/23\u001b[0m \u001b[32m━━━━━━━━━━━━━━━━━━━━\u001b[0m\u001b[37m\u001b[0m \u001b[1m3s\u001b[0m 114ms/step - loss: 1.9809 - val_loss: 2.0151\n",
      "Epoch 17/50\n",
      "\u001b[1m23/23\u001b[0m \u001b[32m━━━━━━━━━━━━━━━━━━━━\u001b[0m\u001b[37m\u001b[0m \u001b[1m3s\u001b[0m 118ms/step - loss: 1.9797 - val_loss: 2.0192\n",
      "Epoch 18/50\n",
      "\u001b[1m23/23\u001b[0m \u001b[32m━━━━━━━━━━━━━━━━━━━━\u001b[0m\u001b[37m\u001b[0m \u001b[1m3s\u001b[0m 115ms/step - loss: 1.9714 - val_loss: 2.0108\n",
      "Epoch 19/50\n",
      "\u001b[1m23/23\u001b[0m \u001b[32m━━━━━━━━━━━━━━━━━━━━\u001b[0m\u001b[37m\u001b[0m \u001b[1m3s\u001b[0m 117ms/step - loss: 1.9762 - val_loss: 2.0128\n",
      "Epoch 20/50\n",
      "\u001b[1m23/23\u001b[0m \u001b[32m━━━━━━━━━━━━━━━━━━━━\u001b[0m\u001b[37m\u001b[0m \u001b[1m3s\u001b[0m 118ms/step - loss: 1.9678 - val_loss: 2.0205\n",
      "Epoch 21/50\n",
      "\u001b[1m23/23\u001b[0m \u001b[32m━━━━━━━━━━━━━━━━━━━━\u001b[0m\u001b[37m\u001b[0m \u001b[1m3s\u001b[0m 116ms/step - loss: 1.9691 - val_loss: 2.0188\n",
      "Epoch 22/50\n",
      "\u001b[1m23/23\u001b[0m \u001b[32m━━━━━━━━━━━━━━━━━━━━\u001b[0m\u001b[37m\u001b[0m \u001b[1m3s\u001b[0m 115ms/step - loss: 1.9660 - val_loss: 2.0178\n",
      "Epoch 23/50\n",
      "\u001b[1m23/23\u001b[0m \u001b[32m━━━━━━━━━━━━━━━━━━━━\u001b[0m\u001b[37m\u001b[0m \u001b[1m3s\u001b[0m 115ms/step - loss: 1.9544 - val_loss: 2.0478\n",
      "Epoch 24/50\n",
      "\u001b[1m23/23\u001b[0m \u001b[32m━━━━━━━━━━━━━━━━━━━━\u001b[0m\u001b[37m\u001b[0m \u001b[1m3s\u001b[0m 115ms/step - loss: 1.9641 - val_loss: 2.0222\n",
      "Epoch 25/50\n",
      "\u001b[1m23/23\u001b[0m \u001b[32m━━━━━━━━━━━━━━━━━━━━\u001b[0m\u001b[37m\u001b[0m \u001b[1m3s\u001b[0m 117ms/step - loss: 1.9588 - val_loss: 2.0352\n",
      "Epoch 26/50\n",
      "\u001b[1m23/23\u001b[0m \u001b[32m━━━━━━━━━━━━━━━━━━━━\u001b[0m\u001b[37m\u001b[0m \u001b[1m3s\u001b[0m 122ms/step - loss: 1.9445 - val_loss: 2.0400\n",
      "Epoch 27/50\n",
      "\u001b[1m23/23\u001b[0m \u001b[32m━━━━━━━━━━━━━━━━━━━━\u001b[0m\u001b[37m\u001b[0m \u001b[1m4s\u001b[0m 173ms/step - loss: 1.9592 - val_loss: 2.0277\n",
      "Epoch 28/50\n",
      "\u001b[1m23/23\u001b[0m \u001b[32m━━━━━━━━━━━━━━━━━━━━\u001b[0m\u001b[37m\u001b[0m \u001b[1m4s\u001b[0m 180ms/step - loss: 1.9649 - val_loss: 2.0341\n",
      "Epoch 29/50\n",
      "\u001b[1m23/23\u001b[0m \u001b[32m━━━━━━━━━━━━━━━━━━━━\u001b[0m\u001b[37m\u001b[0m \u001b[1m4s\u001b[0m 179ms/step - loss: 1.9494 - val_loss: 2.0361\n",
      "Epoch 30/50\n",
      "\u001b[1m23/23\u001b[0m \u001b[32m━━━━━━━━━━━━━━━━━━━━\u001b[0m\u001b[37m\u001b[0m \u001b[1m4s\u001b[0m 180ms/step - loss: 1.9573 - val_loss: 2.0358\n",
      "Epoch 31/50\n",
      "\u001b[1m23/23\u001b[0m \u001b[32m━━━━━━━━━━━━━━━━━━━━\u001b[0m\u001b[37m\u001b[0m \u001b[1m4s\u001b[0m 182ms/step - loss: 1.9453 - val_loss: 2.0478\n",
      "Epoch 32/50\n",
      "\u001b[1m23/23\u001b[0m \u001b[32m━━━━━━━━━━━━━━━━━━━━\u001b[0m\u001b[37m\u001b[0m \u001b[1m4s\u001b[0m 179ms/step - loss: 1.9362 - val_loss: 2.0473\n",
      "Epoch 33/50\n",
      "\u001b[1m23/23\u001b[0m \u001b[32m━━━━━━━━━━━━━━━━━━━━\u001b[0m\u001b[37m\u001b[0m \u001b[1m4s\u001b[0m 179ms/step - loss: 1.9533 - val_loss: 2.0436\n",
      "Epoch 34/50\n",
      "\u001b[1m23/23\u001b[0m \u001b[32m━━━━━━━━━━━━━━━━━━━━\u001b[0m\u001b[37m\u001b[0m \u001b[1m4s\u001b[0m 181ms/step - loss: 1.9142 - val_loss: 2.0454\n",
      "Epoch 35/50\n",
      "\u001b[1m23/23\u001b[0m \u001b[32m━━━━━━━━━━━━━━━━━━━━\u001b[0m\u001b[37m\u001b[0m \u001b[1m4s\u001b[0m 180ms/step - loss: 1.9220 - val_loss: 2.0616\n",
      "Epoch 36/50\n",
      "\u001b[1m23/23\u001b[0m \u001b[32m━━━━━━━━━━━━━━━━━━━━\u001b[0m\u001b[37m\u001b[0m \u001b[1m4s\u001b[0m 182ms/step - loss: 1.9079 - val_loss: 2.0564\n",
      "Epoch 37/50\n",
      "\u001b[1m23/23\u001b[0m \u001b[32m━━━━━━━━━━━━━━━━━━━━\u001b[0m\u001b[37m\u001b[0m \u001b[1m4s\u001b[0m 182ms/step - loss: 1.9053 - val_loss: 2.0647\n",
      "Epoch 38/50\n",
      "\u001b[1m23/23\u001b[0m \u001b[32m━━━━━━━━━━━━━━━━━━━━\u001b[0m\u001b[37m\u001b[0m \u001b[1m4s\u001b[0m 187ms/step - loss: 1.9083 - val_loss: 2.0677\n",
      "Epoch 39/50\n",
      "\u001b[1m23/23\u001b[0m \u001b[32m━━━━━━━━━━━━━━━━━━━━\u001b[0m\u001b[37m\u001b[0m \u001b[1m4s\u001b[0m 183ms/step - loss: 1.8925 - val_loss: 2.0620\n",
      "Epoch 40/50\n",
      "\u001b[1m23/23\u001b[0m \u001b[32m━━━━━━━━━━━━━━━━━━━━\u001b[0m\u001b[37m\u001b[0m \u001b[1m4s\u001b[0m 180ms/step - loss: 1.8899 - val_loss: 2.0667\n",
      "Epoch 41/50\n",
      "\u001b[1m23/23\u001b[0m \u001b[32m━━━━━━━━━━━━━━━━━━━━\u001b[0m\u001b[37m\u001b[0m \u001b[1m4s\u001b[0m 180ms/step - loss: 1.8691 - val_loss: 2.0970\n",
      "Epoch 42/50\n",
      "\u001b[1m23/23\u001b[0m \u001b[32m━━━━━━━━━━━━━━━━━━━━\u001b[0m\u001b[37m\u001b[0m \u001b[1m4s\u001b[0m 181ms/step - loss: 1.8691 - val_loss: 2.0727\n",
      "Epoch 43/50\n",
      "\u001b[1m23/23\u001b[0m \u001b[32m━━━━━━━━━━━━━━━━━━━━\u001b[0m\u001b[37m\u001b[0m \u001b[1m4s\u001b[0m 181ms/step - loss: 1.8490 - val_loss: 2.0843\n",
      "Epoch 44/50\n",
      "\u001b[1m23/23\u001b[0m \u001b[32m━━━━━━━━━━━━━━━━━━━━\u001b[0m\u001b[37m\u001b[0m \u001b[1m4s\u001b[0m 181ms/step - loss: 1.8187 - val_loss: 2.0980\n",
      "Epoch 45/50\n",
      "\u001b[1m23/23\u001b[0m \u001b[32m━━━━━━━━━━━━━━━━━━━━\u001b[0m\u001b[37m\u001b[0m \u001b[1m4s\u001b[0m 181ms/step - loss: 1.8434 - val_loss: 2.1121\n",
      "Epoch 46/50\n",
      "\u001b[1m23/23\u001b[0m \u001b[32m━━━━━━━━━━━━━━━━━━━━\u001b[0m\u001b[37m\u001b[0m \u001b[1m4s\u001b[0m 181ms/step - loss: 1.8214 - val_loss: 2.1102\n",
      "Epoch 47/50\n",
      "\u001b[1m23/23\u001b[0m \u001b[32m━━━━━━━━━━━━━━━━━━━━\u001b[0m\u001b[37m\u001b[0m \u001b[1m4s\u001b[0m 181ms/step - loss: 1.7979 - val_loss: 2.1185\n",
      "Epoch 48/50\n",
      "\u001b[1m23/23\u001b[0m \u001b[32m━━━━━━━━━━━━━━━━━━━━\u001b[0m\u001b[37m\u001b[0m \u001b[1m4s\u001b[0m 181ms/step - loss: 1.7806 - val_loss: 2.1235\n",
      "Epoch 49/50\n",
      "\u001b[1m23/23\u001b[0m \u001b[32m━━━━━━━━━━━━━━━━━━━━\u001b[0m\u001b[37m\u001b[0m \u001b[1m4s\u001b[0m 181ms/step - loss: 1.7999 - val_loss: 2.1492\n",
      "Epoch 50/50\n",
      "\u001b[1m23/23\u001b[0m \u001b[32m━━━━━━━━━━━━━━━━━━━━\u001b[0m\u001b[37m\u001b[0m \u001b[1m4s\u001b[0m 181ms/step - loss: 1.7745 - val_loss: 2.1591\n"
     ]
    },
    {
     "name": "stderr",
     "output_type": "stream",
     "text": [
      "WARNING:absl:You are saving your model as an HDF5 file via `model.save()` or `keras.saving.save_model(model)`. This file format is considered legacy. We recommend using instead the native Keras format, e.g. `model.save('my_model.keras')` or `keras.saving.save_model(model, 'my_model.keras')`. \n",
      "Processing images:   0%|                                | 0/210 [00:00<?, ?it/s]"
     ]
    },
    {
     "name": "stdout",
     "output_type": "stream",
     "text": [
      "\n",
      "0: 384x640 1 license_plate, 41.6ms\n",
      "Speed: 1.8ms preprocess, 41.6ms inference, 0.3ms postprocess per image at shape (1, 3, 384, 640)\n",
      "\u001b[1m1/1\u001b[0m \u001b[32m━━━━━━━━━━━━━━━━━━━━\u001b[0m\u001b[37m\u001b[0m \u001b[1m1s\u001b[0m 1s/step\n"
     ]
    },
    {
     "name": "stderr",
     "output_type": "stream",
     "text": [
      "Processing images:   0%|                        | 1/210 [00:01<05:30,  1.58s/it]"
     ]
    },
    {
     "name": "stdout",
     "output_type": "stream",
     "text": [
      "\n",
      "0: 640x480 1 license_plate, 51.8ms\n",
      "Speed: 1.5ms preprocess, 51.8ms inference, 0.3ms postprocess per image at shape (1, 3, 640, 480)\n",
      "\u001b[1m1/1\u001b[0m \u001b[32m━━━━━━━━━━━━━━━━━━━━\u001b[0m\u001b[37m\u001b[0m \u001b[1m0s\u001b[0m 28ms/step\n"
     ]
    },
    {
     "name": "stderr",
     "output_type": "stream",
     "text": [
      "Processing images:   1%|▏                       | 2/210 [00:01<02:28,  1.40it/s]"
     ]
    },
    {
     "name": "stdout",
     "output_type": "stream",
     "text": [
      "\n",
      "0: 480x640 1 license_plate, 50.0ms\n",
      "Speed: 1.5ms preprocess, 50.0ms inference, 0.3ms postprocess per image at shape (1, 3, 480, 640)\n",
      "\u001b[1m1/1\u001b[0m \u001b[32m━━━━━━━━━━━━━━━━━━━━\u001b[0m\u001b[37m\u001b[0m \u001b[1m0s\u001b[0m 22ms/step\n",
      "\n",
      "0: 384x640 1 license_plate, 39.5ms\n",
      "Speed: 1.2ms preprocess, 39.5ms inference, 0.5ms postprocess per image at shape (1, 3, 384, 640)\n",
      "\u001b[1m1/1\u001b[0m \u001b[32m━━━━━━━━━━━━━━━━━━━━\u001b[0m\u001b[37m\u001b[0m \u001b[1m0s\u001b[0m 26ms/step\n"
     ]
    },
    {
     "name": "stderr",
     "output_type": "stream",
     "text": [
      "Processing images:   2%|▍                       | 4/210 [00:01<01:06,  3.10it/s]"
     ]
    },
    {
     "name": "stdout",
     "output_type": "stream",
     "text": [
      "\n",
      "0: 640x576 1 license_plate, 71.4ms\n",
      "Speed: 1.5ms preprocess, 71.4ms inference, 0.2ms postprocess per image at shape (1, 3, 640, 576)\n",
      "\u001b[1m1/1\u001b[0m \u001b[32m━━━━━━━━━━━━━━━━━━━━\u001b[0m\u001b[37m\u001b[0m \u001b[1m0s\u001b[0m 25ms/step\n"
     ]
    },
    {
     "name": "stderr",
     "output_type": "stream",
     "text": [
      "Processing images:   2%|▌                       | 5/210 [00:01<00:53,  3.86it/s]"
     ]
    },
    {
     "name": "stdout",
     "output_type": "stream",
     "text": [
      "\n",
      "0: 640x480 1 license_plate, 52.1ms\n",
      "Speed: 1.4ms preprocess, 52.1ms inference, 0.3ms postprocess per image at shape (1, 3, 640, 480)\n",
      "\u001b[1m1/1\u001b[0m \u001b[32m━━━━━━━━━━━━━━━━━━━━\u001b[0m\u001b[37m\u001b[0m \u001b[1m0s\u001b[0m 25ms/step\n",
      "\n",
      "0: 448x640 1 license_plate, 46.5ms\n",
      "Speed: 1.3ms preprocess, 46.5ms inference, 0.3ms postprocess per image at shape (1, 3, 448, 640)\n",
      "\u001b[1m1/1\u001b[0m \u001b[32m━━━━━━━━━━━━━━━━━━━━\u001b[0m\u001b[37m\u001b[0m \u001b[1m0s\u001b[0m 26ms/step\n"
     ]
    },
    {
     "name": "stderr",
     "output_type": "stream",
     "text": [
      "Processing images:   3%|▊                       | 7/210 [00:02<00:37,  5.47it/s]"
     ]
    },
    {
     "name": "stdout",
     "output_type": "stream",
     "text": [
      "\n",
      "0: 480x640 1 license_plate, 49.4ms\n",
      "Speed: 1.2ms preprocess, 49.4ms inference, 0.2ms postprocess per image at shape (1, 3, 480, 640)\n",
      "\u001b[1m1/1\u001b[0m \u001b[32m━━━━━━━━━━━━━━━━━━━━\u001b[0m\u001b[37m\u001b[0m \u001b[1m0s\u001b[0m 26ms/step\n",
      "\n",
      "0: 384x640 1 license_plate, 39.5ms\n",
      "Speed: 1.1ms preprocess, 39.5ms inference, 0.2ms postprocess per image at shape (1, 3, 384, 640)\n",
      "\u001b[1m1/1\u001b[0m \u001b[32m━━━━━━━━━━━━━━━━━━━━\u001b[0m\u001b[37m\u001b[0m \u001b[1m0s\u001b[0m 23ms/step\n"
     ]
    },
    {
     "name": "stderr",
     "output_type": "stream",
     "text": [
      "Processing images:   4%|█                       | 9/210 [00:02<00:29,  6.88it/s]"
     ]
    },
    {
     "name": "stdout",
     "output_type": "stream",
     "text": [
      "\n",
      "0: 384x640 1 license_plate, 39.4ms\n",
      "Speed: 0.9ms preprocess, 39.4ms inference, 0.2ms postprocess per image at shape (1, 3, 384, 640)\n",
      "\u001b[1m1/1\u001b[0m \u001b[32m━━━━━━━━━━━━━━━━━━━━\u001b[0m\u001b[37m\u001b[0m \u001b[1m0s\u001b[0m 23ms/step\n",
      "\n",
      "0: 384x640 1 license_plate, 39.3ms\n",
      "Speed: 1.0ms preprocess, 39.3ms inference, 0.3ms postprocess per image at shape (1, 3, 384, 640)\n",
      "\u001b[1m1/1\u001b[0m \u001b[32m━━━━━━━━━━━━━━━━━━━━\u001b[0m\u001b[37m\u001b[0m \u001b[1m0s\u001b[0m 23ms/step\n"
     ]
    },
    {
     "name": "stderr",
     "output_type": "stream",
     "text": [
      "Processing images:   5%|█▏                     | 11/210 [00:02<00:24,  8.17it/s]"
     ]
    },
    {
     "name": "stdout",
     "output_type": "stream",
     "text": [
      "\n",
      "0: 384x640 2 license_plates, 39.7ms\n",
      "Speed: 1.1ms preprocess, 39.7ms inference, 0.3ms postprocess per image at shape (1, 3, 384, 640)\n",
      "\u001b[1m1/1\u001b[0m \u001b[32m━━━━━━━━━━━━━━━━━━━━\u001b[0m\u001b[37m\u001b[0m \u001b[1m0s\u001b[0m 24ms/step\n",
      "\u001b[1m1/1\u001b[0m \u001b[32m━━━━━━━━━━━━━━━━━━━━\u001b[0m\u001b[37m\u001b[0m \u001b[1m0s\u001b[0m 22ms/step\n",
      "\n",
      "0: 480x640 1 license_plate, 50.9ms\n",
      "Speed: 1.3ms preprocess, 50.9ms inference, 0.2ms postprocess per image at shape (1, 3, 480, 640)\n",
      "\u001b[1m1/1\u001b[0m \u001b[32m━━━━━━━━━━━━━━━━━━━━\u001b[0m\u001b[37m\u001b[0m \u001b[1m0s\u001b[0m 26ms/step\n"
     ]
    },
    {
     "name": "stderr",
     "output_type": "stream",
     "text": [
      "Processing images:   6%|█▍                     | 13/210 [00:02<00:23,  8.53it/s]"
     ]
    },
    {
     "name": "stdout",
     "output_type": "stream",
     "text": [
      "\n",
      "0: 640x480 1 license_plate, 51.4ms\n",
      "Speed: 1.2ms preprocess, 51.4ms inference, 0.2ms postprocess per image at shape (1, 3, 640, 480)\n",
      "\u001b[1m1/1\u001b[0m \u001b[32m━━━━━━━━━━━━━━━━━━━━\u001b[0m\u001b[37m\u001b[0m \u001b[1m0s\u001b[0m 24ms/step\n",
      "\n",
      "0: 640x480 1 license_plate, 51.5ms\n",
      "Speed: 1.2ms preprocess, 51.5ms inference, 0.2ms postprocess per image at shape (1, 3, 640, 480)\n",
      "\u001b[1m1/1\u001b[0m \u001b[32m━━━━━━━━━━━━━━━━━━━━\u001b[0m\u001b[37m\u001b[0m \u001b[1m0s\u001b[0m 23ms/step\n"
     ]
    },
    {
     "name": "stderr",
     "output_type": "stream",
     "text": [
      "Processing images:   7%|█▋                     | 15/210 [00:02<00:21,  9.10it/s]"
     ]
    },
    {
     "name": "stdout",
     "output_type": "stream",
     "text": [
      "\n",
      "0: 448x640 1 license_plate, 46.3ms\n",
      "Speed: 1.3ms preprocess, 46.3ms inference, 0.4ms postprocess per image at shape (1, 3, 448, 640)\n",
      "\u001b[1m1/1\u001b[0m \u001b[32m━━━━━━━━━━━━━━━━━━━━\u001b[0m\u001b[37m\u001b[0m \u001b[1m0s\u001b[0m 26ms/step\n",
      "\n",
      "0: 384x640 1 license_plate, 40.9ms\n",
      "Speed: 1.1ms preprocess, 40.9ms inference, 0.4ms postprocess per image at shape (1, 3, 384, 640)\n",
      "\u001b[1m1/1\u001b[0m \u001b[32m━━━━━━━━━━━━━━━━━━━━\u001b[0m\u001b[37m\u001b[0m \u001b[1m0s\u001b[0m 24ms/step\n"
     ]
    },
    {
     "name": "stderr",
     "output_type": "stream",
     "text": [
      "Processing images:   8%|█▊                     | 17/210 [00:03<00:20,  9.64it/s]"
     ]
    },
    {
     "name": "stdout",
     "output_type": "stream",
     "text": [
      "\n",
      "0: 640x480 1 license_plate, 50.9ms\n",
      "Speed: 1.3ms preprocess, 50.9ms inference, 0.2ms postprocess per image at shape (1, 3, 640, 480)\n",
      "\u001b[1m1/1\u001b[0m \u001b[32m━━━━━━━━━━━━━━━━━━━━\u001b[0m\u001b[37m\u001b[0m \u001b[1m0s\u001b[0m 26ms/step\n",
      "\n",
      "0: 480x640 1 license_plate, 48.9ms\n",
      "Speed: 1.1ms preprocess, 48.9ms inference, 0.3ms postprocess per image at shape (1, 3, 480, 640)\n",
      "\u001b[1m1/1\u001b[0m \u001b[32m━━━━━━━━━━━━━━━━━━━━\u001b[0m\u001b[37m\u001b[0m \u001b[1m0s\u001b[0m 32ms/step\n"
     ]
    },
    {
     "name": "stderr",
     "output_type": "stream",
     "text": [
      "Processing images:   9%|██                     | 19/210 [00:03<00:19,  9.79it/s]"
     ]
    },
    {
     "name": "stdout",
     "output_type": "stream",
     "text": [
      "\n",
      "0: 640x480 1 license_plate, 50.3ms\n",
      "Speed: 1.5ms preprocess, 50.3ms inference, 0.2ms postprocess per image at shape (1, 3, 640, 480)\n",
      "\u001b[1m1/1\u001b[0m \u001b[32m━━━━━━━━━━━━━━━━━━━━\u001b[0m\u001b[37m\u001b[0m \u001b[1m0s\u001b[0m 27ms/step\n",
      "\n",
      "0: 480x640 1 license_plate, 52.1ms\n",
      "Speed: 1.1ms preprocess, 52.1ms inference, 0.2ms postprocess per image at shape (1, 3, 480, 640)\n",
      "\u001b[1m1/1\u001b[0m \u001b[32m━━━━━━━━━━━━━━━━━━━━\u001b[0m\u001b[37m\u001b[0m \u001b[1m0s\u001b[0m 23ms/step\n"
     ]
    },
    {
     "name": "stderr",
     "output_type": "stream",
     "text": [
      "Processing images:  10%|██▎                    | 21/210 [00:03<00:19,  9.94it/s]"
     ]
    },
    {
     "name": "stdout",
     "output_type": "stream",
     "text": [
      "\n",
      "0: 640x384 1 license_plate, 43.0ms\n",
      "Speed: 1.0ms preprocess, 43.0ms inference, 0.2ms postprocess per image at shape (1, 3, 640, 384)\n",
      "\u001b[1m1/1\u001b[0m \u001b[32m━━━━━━━━━━━━━━━━━━━━\u001b[0m\u001b[37m\u001b[0m \u001b[1m0s\u001b[0m 21ms/step\n",
      "\n",
      "0: 640x480 2 license_plates, 51.6ms\n",
      "Speed: 1.2ms preprocess, 51.6ms inference, 0.2ms postprocess per image at shape (1, 3, 640, 480)\n",
      "\u001b[1m1/1\u001b[0m \u001b[32m━━━━━━━━━━━━━━━━━━━━\u001b[0m\u001b[37m\u001b[0m \u001b[1m0s\u001b[0m 25ms/step\n",
      "\u001b[1m1/1\u001b[0m \u001b[32m━━━━━━━━━━━━━━━━━━━━\u001b[0m\u001b[37m\u001b[0m \u001b[1m0s\u001b[0m 20ms/step\n"
     ]
    },
    {
     "name": "stderr",
     "output_type": "stream",
     "text": [
      "Processing images:  11%|██▌                    | 23/210 [00:03<00:19,  9.77it/s]"
     ]
    },
    {
     "name": "stdout",
     "output_type": "stream",
     "text": [
      "\n",
      "0: 640x384 1 license_plate, 43.5ms\n",
      "Speed: 1.2ms preprocess, 43.5ms inference, 0.2ms postprocess per image at shape (1, 3, 640, 384)\n",
      "\u001b[1m1/1\u001b[0m \u001b[32m━━━━━━━━━━━━━━━━━━━━\u001b[0m\u001b[37m\u001b[0m \u001b[1m0s\u001b[0m 22ms/step\n",
      "\n",
      "0: 480x640 1 license_plate, 51.6ms\n",
      "Speed: 1.3ms preprocess, 51.6ms inference, 0.3ms postprocess per image at shape (1, 3, 480, 640)\n",
      "\u001b[1m1/1\u001b[0m \u001b[32m━━━━━━━━━━━━━━━━━━━━\u001b[0m\u001b[37m\u001b[0m \u001b[1m0s\u001b[0m 26ms/step\n"
     ]
    },
    {
     "name": "stderr",
     "output_type": "stream",
     "text": [
      "Processing images:  12%|██▋                    | 25/210 [00:03<00:18, 10.07it/s]"
     ]
    },
    {
     "name": "stdout",
     "output_type": "stream",
     "text": [
      "\n",
      "0: 384x640 1 license_plate, 43.1ms\n",
      "Speed: 1.3ms preprocess, 43.1ms inference, 0.2ms postprocess per image at shape (1, 3, 384, 640)\n",
      "\u001b[1m1/1\u001b[0m \u001b[32m━━━━━━━━━━━━━━━━━━━━\u001b[0m\u001b[37m\u001b[0m \u001b[1m0s\u001b[0m 26ms/step\n",
      "\n",
      "0: 480x640 1 license_plate, 51.5ms\n",
      "Speed: 1.5ms preprocess, 51.5ms inference, 0.3ms postprocess per image at shape (1, 3, 480, 640)\n",
      "\u001b[1m1/1\u001b[0m \u001b[32m━━━━━━━━━━━━━━━━━━━━\u001b[0m\u001b[37m\u001b[0m \u001b[1m0s\u001b[0m 24ms/step\n"
     ]
    },
    {
     "name": "stderr",
     "output_type": "stream",
     "text": [
      "Processing images:  13%|██▉                    | 27/210 [00:04<00:17, 10.23it/s]"
     ]
    },
    {
     "name": "stdout",
     "output_type": "stream",
     "text": [
      "\n",
      "0: 384x640 1 license_plate, 40.8ms\n",
      "Speed: 1.1ms preprocess, 40.8ms inference, 0.2ms postprocess per image at shape (1, 3, 384, 640)\n",
      "\u001b[1m1/1\u001b[0m \u001b[32m━━━━━━━━━━━━━━━━━━━━\u001b[0m\u001b[37m\u001b[0m \u001b[1m0s\u001b[0m 24ms/step\n",
      "\n",
      "0: 384x640 2 license_plates, 41.1ms\n",
      "Speed: 1.2ms preprocess, 41.1ms inference, 0.2ms postprocess per image at shape (1, 3, 384, 640)\n",
      "\u001b[1m1/1\u001b[0m \u001b[32m━━━━━━━━━━━━━━━━━━━━\u001b[0m\u001b[37m\u001b[0m \u001b[1m0s\u001b[0m 28ms/step\n",
      "\u001b[1m1/1\u001b[0m \u001b[32m━━━━━━━━━━━━━━━━━━━━\u001b[0m\u001b[37m\u001b[0m \u001b[1m0s\u001b[0m 20ms/step\n"
     ]
    },
    {
     "name": "stderr",
     "output_type": "stream",
     "text": [
      "Processing images:  14%|███▏                   | 29/210 [00:04<00:18, 10.03it/s]"
     ]
    },
    {
     "name": "stdout",
     "output_type": "stream",
     "text": [
      "\n",
      "0: 480x640 1 license_plate, 49.5ms\n",
      "Speed: 1.2ms preprocess, 49.5ms inference, 0.3ms postprocess per image at shape (1, 3, 480, 640)\n",
      "\u001b[1m1/1\u001b[0m \u001b[32m━━━━━━━━━━━━━━━━━━━━\u001b[0m\u001b[37m\u001b[0m \u001b[1m0s\u001b[0m 21ms/step\n",
      "\n",
      "0: 384x640 1 license_plate, 39.5ms\n",
      "Speed: 1.1ms preprocess, 39.5ms inference, 0.2ms postprocess per image at shape (1, 3, 384, 640)\n",
      "\u001b[1m1/1\u001b[0m \u001b[32m━━━━━━━━━━━━━━━━━━━━\u001b[0m\u001b[37m\u001b[0m \u001b[1m0s\u001b[0m 25ms/step\n"
     ]
    },
    {
     "name": "stderr",
     "output_type": "stream",
     "text": [
      "Processing images:  15%|███▍                   | 31/210 [00:04<00:17, 10.36it/s]"
     ]
    },
    {
     "name": "stdout",
     "output_type": "stream",
     "text": [
      "\n",
      "0: 384x640 1 license_plate, 40.2ms\n",
      "Speed: 1.2ms preprocess, 40.2ms inference, 0.2ms postprocess per image at shape (1, 3, 384, 640)\n",
      "\u001b[1m1/1\u001b[0m \u001b[32m━━━━━━━━━━━━━━━━━━━━\u001b[0m\u001b[37m\u001b[0m \u001b[1m0s\u001b[0m 21ms/step\n",
      "\n",
      "0: 480x640 1 license_plate, 49.3ms\n",
      "Speed: 1.4ms preprocess, 49.3ms inference, 0.2ms postprocess per image at shape (1, 3, 480, 640)\n",
      "\u001b[1m1/1\u001b[0m \u001b[32m━━━━━━━━━━━━━━━━━━━━\u001b[0m\u001b[37m\u001b[0m \u001b[1m0s\u001b[0m 36ms/step\n"
     ]
    },
    {
     "name": "stderr",
     "output_type": "stream",
     "text": [
      "Processing images:  16%|███▌                   | 33/210 [00:04<00:17, 10.40it/s]"
     ]
    },
    {
     "name": "stdout",
     "output_type": "stream",
     "text": [
      "\n",
      "0: 640x480 1 license_plate, 51.1ms\n",
      "Speed: 1.3ms preprocess, 51.1ms inference, 0.3ms postprocess per image at shape (1, 3, 640, 480)\n",
      "\u001b[1m1/1\u001b[0m \u001b[32m━━━━━━━━━━━━━━━━━━━━\u001b[0m\u001b[37m\u001b[0m \u001b[1m0s\u001b[0m 27ms/step\n",
      "\n",
      "0: 640x384 1 license_plate, 41.7ms\n",
      "Speed: 1.1ms preprocess, 41.7ms inference, 0.3ms postprocess per image at shape (1, 3, 640, 384)\n",
      "\u001b[1m1/1\u001b[0m \u001b[32m━━━━━━━━━━━━━━━━━━━━\u001b[0m\u001b[37m\u001b[0m \u001b[1m0s\u001b[0m 24ms/step\n"
     ]
    },
    {
     "name": "stderr",
     "output_type": "stream",
     "text": [
      "Processing images:  17%|███▊                   | 35/210 [00:04<00:16, 10.50it/s]"
     ]
    },
    {
     "name": "stdout",
     "output_type": "stream",
     "text": [
      "\n",
      "0: 480x640 1 license_plate, 51.2ms\n",
      "Speed: 1.3ms preprocess, 51.2ms inference, 0.2ms postprocess per image at shape (1, 3, 480, 640)\n",
      "\u001b[1m1/1\u001b[0m \u001b[32m━━━━━━━━━━━━━━━━━━━━\u001b[0m\u001b[37m\u001b[0m \u001b[1m0s\u001b[0m 23ms/step\n",
      "\n",
      "0: 480x640 1 license_plate, 50.6ms\n",
      "Speed: 1.4ms preprocess, 50.6ms inference, 0.3ms postprocess per image at shape (1, 3, 480, 640)\n",
      "\u001b[1m1/1\u001b[0m \u001b[32m━━━━━━━━━━━━━━━━━━━━\u001b[0m\u001b[37m\u001b[0m \u001b[1m0s\u001b[0m 23ms/step\n"
     ]
    },
    {
     "name": "stderr",
     "output_type": "stream",
     "text": [
      "Processing images:  18%|████                   | 37/210 [00:05<00:16, 10.51it/s]"
     ]
    },
    {
     "name": "stdout",
     "output_type": "stream",
     "text": [
      "\n",
      "0: 640x480 1 license_plate, 52.1ms\n",
      "Speed: 1.2ms preprocess, 52.1ms inference, 0.3ms postprocess per image at shape (1, 3, 640, 480)\n",
      "\u001b[1m1/1\u001b[0m \u001b[32m━━━━━━━━━━━━━━━━━━━━\u001b[0m\u001b[37m\u001b[0m \u001b[1m0s\u001b[0m 24ms/step\n",
      "\n",
      "0: 384x640 1 license_plate, 39.0ms\n",
      "Speed: 1.0ms preprocess, 39.0ms inference, 0.2ms postprocess per image at shape (1, 3, 384, 640)\n",
      "\u001b[1m1/1\u001b[0m \u001b[32m━━━━━━━━━━━━━━━━━━━━\u001b[0m\u001b[37m\u001b[0m \u001b[1m0s\u001b[0m 20ms/step\n"
     ]
    },
    {
     "name": "stderr",
     "output_type": "stream",
     "text": [
      "Processing images:  19%|████▎                  | 39/210 [00:05<00:15, 10.70it/s]"
     ]
    },
    {
     "name": "stdout",
     "output_type": "stream",
     "text": [
      "\n",
      "0: 384x640 1 license_plate, 40.0ms\n",
      "Speed: 1.1ms preprocess, 40.0ms inference, 0.3ms postprocess per image at shape (1, 3, 384, 640)\n",
      "\u001b[1m1/1\u001b[0m \u001b[32m━━━━━━━━━━━━━━━━━━━━\u001b[0m\u001b[37m\u001b[0m \u001b[1m0s\u001b[0m 25ms/step\n",
      "\n",
      "0: 640x480 1 license_plate, 51.0ms\n",
      "Speed: 1.2ms preprocess, 51.0ms inference, 0.2ms postprocess per image at shape (1, 3, 640, 480)\n",
      "\u001b[1m1/1\u001b[0m \u001b[32m━━━━━━━━━━━━━━━━━━━━\u001b[0m\u001b[37m\u001b[0m \u001b[1m0s\u001b[0m 24ms/step\n"
     ]
    },
    {
     "name": "stderr",
     "output_type": "stream",
     "text": [
      "Processing images:  20%|████▍                  | 41/210 [00:05<00:15, 10.83it/s]"
     ]
    },
    {
     "name": "stdout",
     "output_type": "stream",
     "text": [
      "\n",
      "0: 640x480 1 license_plate, 50.8ms\n",
      "Speed: 1.4ms preprocess, 50.8ms inference, 0.3ms postprocess per image at shape (1, 3, 640, 480)\n",
      "\u001b[1m1/1\u001b[0m \u001b[32m━━━━━━━━━━━━━━━━━━━━\u001b[0m\u001b[37m\u001b[0m \u001b[1m0s\u001b[0m 21ms/step\n",
      "\n",
      "0: 640x480 1 license_plate, 51.0ms\n",
      "Speed: 1.2ms preprocess, 51.0ms inference, 0.3ms postprocess per image at shape (1, 3, 640, 480)\n",
      "\u001b[1m1/1\u001b[0m \u001b[32m━━━━━━━━━━━━━━━━━━━━\u001b[0m\u001b[37m\u001b[0m \u001b[1m0s\u001b[0m 25ms/step\n"
     ]
    },
    {
     "name": "stderr",
     "output_type": "stream",
     "text": [
      "Processing images:  20%|████▋                  | 43/210 [00:05<00:15, 10.72it/s]"
     ]
    },
    {
     "name": "stdout",
     "output_type": "stream",
     "text": [
      "\n",
      "0: 384x640 1 license_plate, 39.3ms\n",
      "Speed: 1.1ms preprocess, 39.3ms inference, 0.2ms postprocess per image at shape (1, 3, 384, 640)\n",
      "\u001b[1m1/1\u001b[0m \u001b[32m━━━━━━━━━━━━━━━━━━━━\u001b[0m\u001b[37m\u001b[0m \u001b[1m0s\u001b[0m 22ms/step\n",
      "\n",
      "0: 384x640 1 license_plate, 40.1ms\n",
      "Speed: 1.1ms preprocess, 40.1ms inference, 0.5ms postprocess per image at shape (1, 3, 384, 640)\n",
      "\u001b[1m1/1\u001b[0m \u001b[32m━━━━━━━━━━━━━━━━━━━━\u001b[0m\u001b[37m\u001b[0m \u001b[1m0s\u001b[0m 20ms/step\n"
     ]
    },
    {
     "name": "stderr",
     "output_type": "stream",
     "text": [
      "Processing images:  21%|████▉                  | 45/210 [00:05<00:14, 11.18it/s]"
     ]
    },
    {
     "name": "stdout",
     "output_type": "stream",
     "text": [
      "\n",
      "0: 480x640 1 license_plate, 50.4ms\n",
      "Speed: 1.5ms preprocess, 50.4ms inference, 0.3ms postprocess per image at shape (1, 3, 480, 640)\n",
      "\u001b[1m1/1\u001b[0m \u001b[32m━━━━━━━━━━━━━━━━━━━━\u001b[0m\u001b[37m\u001b[0m \u001b[1m0s\u001b[0m 23ms/step\n",
      "\n",
      "0: 480x640 1 license_plate, 48.0ms\n",
      "Speed: 1.1ms preprocess, 48.0ms inference, 0.3ms postprocess per image at shape (1, 3, 480, 640)\n",
      "\u001b[1m1/1\u001b[0m \u001b[32m━━━━━━━━━━━━━━━━━━━━\u001b[0m\u001b[37m\u001b[0m \u001b[1m0s\u001b[0m 25ms/step\n"
     ]
    },
    {
     "name": "stderr",
     "output_type": "stream",
     "text": [
      "Processing images:  22%|█████▏                 | 47/210 [00:05<00:14, 10.99it/s]"
     ]
    },
    {
     "name": "stdout",
     "output_type": "stream",
     "text": [
      "\n",
      "0: 640x480 1 license_plate, 52.5ms\n",
      "Speed: 3.8ms preprocess, 52.5ms inference, 0.3ms postprocess per image at shape (1, 3, 640, 480)\n",
      "\u001b[1m1/1\u001b[0m \u001b[32m━━━━━━━━━━━━━━━━━━━━\u001b[0m\u001b[37m\u001b[0m \u001b[1m0s\u001b[0m 27ms/step\n",
      "\n",
      "0: 480x640 1 license_plate, 53.2ms\n",
      "Speed: 1.2ms preprocess, 53.2ms inference, 0.4ms postprocess per image at shape (1, 3, 480, 640)\n",
      "\u001b[1m1/1\u001b[0m \u001b[32m━━━━━━━━━━━━━━━━━━━━\u001b[0m\u001b[37m\u001b[0m \u001b[1m0s\u001b[0m 28ms/step\n"
     ]
    },
    {
     "name": "stderr",
     "output_type": "stream",
     "text": [
      "Processing images:  23%|█████▎                 | 49/210 [00:06<00:15, 10.55it/s]"
     ]
    },
    {
     "name": "stdout",
     "output_type": "stream",
     "text": [
      "\n",
      "0: 640x480 1 license_plate, 49.7ms\n",
      "Speed: 1.0ms preprocess, 49.7ms inference, 0.2ms postprocess per image at shape (1, 3, 640, 480)\n",
      "\u001b[1m1/1\u001b[0m \u001b[32m━━━━━━━━━━━━━━━━━━━━\u001b[0m\u001b[37m\u001b[0m \u001b[1m0s\u001b[0m 23ms/step\n",
      "\n",
      "0: 640x384 1 license_plate, 40.7ms\n",
      "Speed: 1.0ms preprocess, 40.7ms inference, 0.3ms postprocess per image at shape (1, 3, 640, 384)\n",
      "\u001b[1m1/1\u001b[0m \u001b[32m━━━━━━━━━━━━━━━━━━━━\u001b[0m\u001b[37m\u001b[0m \u001b[1m0s\u001b[0m 26ms/step\n"
     ]
    },
    {
     "name": "stderr",
     "output_type": "stream",
     "text": [
      "Processing images:  24%|█████▌                 | 51/210 [00:06<00:14, 10.77it/s]"
     ]
    },
    {
     "name": "stdout",
     "output_type": "stream",
     "text": [
      "\n",
      "0: 480x640 1 license_plate, 48.5ms\n",
      "Speed: 1.3ms preprocess, 48.5ms inference, 0.2ms postprocess per image at shape (1, 3, 480, 640)\n",
      "\u001b[1m1/1\u001b[0m \u001b[32m━━━━━━━━━━━━━━━━━━━━\u001b[0m\u001b[37m\u001b[0m \u001b[1m0s\u001b[0m 28ms/step\n",
      "\n",
      "0: 384x640 1 license_plate, 38.6ms\n",
      "Speed: 1.0ms preprocess, 38.6ms inference, 0.2ms postprocess per image at shape (1, 3, 384, 640)\n",
      "\u001b[1m1/1\u001b[0m \u001b[32m━━━━━━━━━━━━━━━━━━━━\u001b[0m\u001b[37m\u001b[0m \u001b[1m0s\u001b[0m 27ms/step\n"
     ]
    },
    {
     "name": "stderr",
     "output_type": "stream",
     "text": [
      "Processing images:  25%|█████▊                 | 53/210 [00:06<00:14, 10.83it/s]"
     ]
    },
    {
     "name": "stdout",
     "output_type": "stream",
     "text": [
      "\n",
      "0: 640x480 1 license_plate, 49.8ms\n",
      "Speed: 1.2ms preprocess, 49.8ms inference, 0.2ms postprocess per image at shape (1, 3, 640, 480)\n",
      "\u001b[1m1/1\u001b[0m \u001b[32m━━━━━━━━━━━━━━━━━━━━\u001b[0m\u001b[37m\u001b[0m \u001b[1m0s\u001b[0m 23ms/step\n",
      "\n",
      "0: 640x384 1 license_plate, 42.0ms\n",
      "Speed: 0.9ms preprocess, 42.0ms inference, 0.3ms postprocess per image at shape (1, 3, 640, 384)\n",
      "\u001b[1m1/1\u001b[0m \u001b[32m━━━━━━━━━━━━━━━━━━━━\u001b[0m\u001b[37m\u001b[0m \u001b[1m0s\u001b[0m 24ms/step\n"
     ]
    },
    {
     "name": "stderr",
     "output_type": "stream",
     "text": [
      "Processing images:  26%|██████                 | 55/210 [00:06<00:14, 11.01it/s]"
     ]
    },
    {
     "name": "stdout",
     "output_type": "stream",
     "text": [
      "\n",
      "0: 640x480 1 license_plate, 49.9ms\n",
      "Speed: 1.1ms preprocess, 49.9ms inference, 0.2ms postprocess per image at shape (1, 3, 640, 480)\n",
      "\u001b[1m1/1\u001b[0m \u001b[32m━━━━━━━━━━━━━━━━━━━━\u001b[0m\u001b[37m\u001b[0m \u001b[1m0s\u001b[0m 28ms/step\n",
      "\n",
      "0: 384x640 2 license_plates, 38.7ms\n",
      "Speed: 1.1ms preprocess, 38.7ms inference, 0.3ms postprocess per image at shape (1, 3, 384, 640)\n",
      "\u001b[1m1/1\u001b[0m \u001b[32m━━━━━━━━━━━━━━━━━━━━\u001b[0m\u001b[37m\u001b[0m \u001b[1m0s\u001b[0m 27ms/step\n",
      "\u001b[1m1/1\u001b[0m \u001b[32m━━━━━━━━━━━━━━━━━━━━\u001b[0m\u001b[37m\u001b[0m \u001b[1m0s\u001b[0m 20ms/step\n"
     ]
    },
    {
     "name": "stderr",
     "output_type": "stream",
     "text": [
      "Processing images:  27%|██████▏                | 57/210 [00:06<00:14, 10.25it/s]"
     ]
    },
    {
     "name": "stdout",
     "output_type": "stream",
     "text": [
      "\n",
      "0: 640x480 2 license_plates, 50.3ms\n",
      "Speed: 1.1ms preprocess, 50.3ms inference, 0.2ms postprocess per image at shape (1, 3, 640, 480)\n",
      "\u001b[1m1/1\u001b[0m \u001b[32m━━━━━━━━━━━━━━━━━━━━\u001b[0m\u001b[37m\u001b[0m \u001b[1m0s\u001b[0m 27ms/step\n",
      "\u001b[1m1/1\u001b[0m \u001b[32m━━━━━━━━━━━━━━━━━━━━\u001b[0m\u001b[37m\u001b[0m \u001b[1m0s\u001b[0m 20ms/step\n",
      "\n",
      "0: 384x640 1 license_plate, 38.7ms\n",
      "Speed: 1.0ms preprocess, 38.7ms inference, 0.3ms postprocess per image at shape (1, 3, 384, 640)\n",
      "\u001b[1m1/1\u001b[0m \u001b[32m━━━━━━━━━━━━━━━━━━━━\u001b[0m\u001b[37m\u001b[0m \u001b[1m0s\u001b[0m 25ms/step\n"
     ]
    },
    {
     "name": "stderr",
     "output_type": "stream",
     "text": [
      "Processing images:  28%|██████▍                | 59/210 [00:07<00:15,  9.96it/s]"
     ]
    },
    {
     "name": "stdout",
     "output_type": "stream",
     "text": [
      "\n",
      "0: 384x640 1 license_plate, 38.6ms\n",
      "Speed: 1.1ms preprocess, 38.6ms inference, 0.3ms postprocess per image at shape (1, 3, 384, 640)\n",
      "\u001b[1m1/1\u001b[0m \u001b[32m━━━━━━━━━━━━━━━━━━━━\u001b[0m\u001b[37m\u001b[0m \u001b[1m0s\u001b[0m 25ms/step\n",
      "\n",
      "0: 384x640 1 license_plate, 38.5ms\n",
      "Speed: 1.3ms preprocess, 38.5ms inference, 0.2ms postprocess per image at shape (1, 3, 384, 640)\n",
      "\u001b[1m1/1\u001b[0m \u001b[32m━━━━━━━━━━━━━━━━━━━━\u001b[0m\u001b[37m\u001b[0m \u001b[1m0s\u001b[0m 25ms/step\n"
     ]
    },
    {
     "name": "stderr",
     "output_type": "stream",
     "text": [
      "Processing images:  29%|██████▋                | 61/210 [00:07<00:14, 10.49it/s]"
     ]
    },
    {
     "name": "stdout",
     "output_type": "stream",
     "text": [
      "\n",
      "0: 384x640 1 license_plate, 38.6ms\n",
      "Speed: 1.0ms preprocess, 38.6ms inference, 0.3ms postprocess per image at shape (1, 3, 384, 640)\n",
      "\u001b[1m1/1\u001b[0m \u001b[32m━━━━━━━━━━━━━━━━━━━━\u001b[0m\u001b[37m\u001b[0m \u001b[1m0s\u001b[0m 24ms/step\n",
      "\n",
      "0: 640x480 1 license_plate, 66.5ms\n",
      "Speed: 1.9ms preprocess, 66.5ms inference, 0.9ms postprocess per image at shape (1, 3, 640, 480)\n",
      "\u001b[1m1/1\u001b[0m \u001b[32m━━━━━━━━━━━━━━━━━━━━\u001b[0m\u001b[37m\u001b[0m \u001b[1m0s\u001b[0m 31ms/step\n"
     ]
    },
    {
     "name": "stderr",
     "output_type": "stream",
     "text": [
      "Processing images:  30%|██████▉                | 63/210 [00:07<00:14,  9.93it/s]"
     ]
    },
    {
     "name": "stdout",
     "output_type": "stream",
     "text": [
      "\n",
      "0: 480x640 1 license_plate, 49.7ms\n",
      "Speed: 1.3ms preprocess, 49.7ms inference, 0.2ms postprocess per image at shape (1, 3, 480, 640)\n",
      "\u001b[1m1/1\u001b[0m \u001b[32m━━━━━━━━━━━━━━━━━━━━\u001b[0m\u001b[37m\u001b[0m \u001b[1m0s\u001b[0m 31ms/step\n",
      "\n",
      "0: 640x480 1 license_plate, 50.4ms\n",
      "Speed: 1.2ms preprocess, 50.4ms inference, 0.2ms postprocess per image at shape (1, 3, 640, 480)\n",
      "\u001b[1m1/1\u001b[0m \u001b[32m━━━━━━━━━━━━━━━━━━━━\u001b[0m\u001b[37m\u001b[0m \u001b[1m0s\u001b[0m 25ms/step\n"
     ]
    },
    {
     "name": "stderr",
     "output_type": "stream",
     "text": [
      "Processing images:  31%|███████                | 65/210 [00:07<00:14,  9.95it/s]"
     ]
    },
    {
     "name": "stdout",
     "output_type": "stream",
     "text": [
      "\n",
      "0: 640x480 1 license_plate, 51.1ms\n",
      "Speed: 1.2ms preprocess, 51.1ms inference, 0.2ms postprocess per image at shape (1, 3, 640, 480)\n",
      "\u001b[1m1/1\u001b[0m \u001b[32m━━━━━━━━━━━━━━━━━━━━\u001b[0m\u001b[37m\u001b[0m \u001b[1m0s\u001b[0m 30ms/step\n",
      "\n",
      "0: 480x640 1 license_plate, 58.3ms\n",
      "Speed: 3.8ms preprocess, 58.3ms inference, 0.2ms postprocess per image at shape (1, 3, 480, 640)\n",
      "\u001b[1m1/1\u001b[0m \u001b[32m━━━━━━━━━━━━━━━━━━━━\u001b[0m\u001b[37m\u001b[0m \u001b[1m0s\u001b[0m 29ms/step\n"
     ]
    },
    {
     "name": "stderr",
     "output_type": "stream",
     "text": [
      "Processing images:  32%|███████▎               | 67/210 [00:07<00:14,  9.73it/s]"
     ]
    },
    {
     "name": "stdout",
     "output_type": "stream",
     "text": [
      "\n",
      "0: 640x480 1 license_plate, 49.9ms\n",
      "Speed: 1.2ms preprocess, 49.9ms inference, 0.2ms postprocess per image at shape (1, 3, 640, 480)\n",
      "\u001b[1m1/1\u001b[0m \u001b[32m━━━━━━━━━━━━━━━━━━━━\u001b[0m\u001b[37m\u001b[0m \u001b[1m0s\u001b[0m 28ms/step\n"
     ]
    },
    {
     "name": "stderr",
     "output_type": "stream",
     "text": [
      "Processing images:  32%|███████▍               | 68/210 [00:08<00:14,  9.77it/s]"
     ]
    },
    {
     "name": "stdout",
     "output_type": "stream",
     "text": [
      "\n",
      "0: 480x640 2 license_plates, 50.1ms\n",
      "Speed: 2.5ms preprocess, 50.1ms inference, 0.2ms postprocess per image at shape (1, 3, 480, 640)\n",
      "\u001b[1m1/1\u001b[0m \u001b[32m━━━━━━━━━━━━━━━━━━━━\u001b[0m\u001b[37m\u001b[0m \u001b[1m0s\u001b[0m 25ms/step\n",
      "\u001b[1m1/1\u001b[0m \u001b[32m━━━━━━━━━━━━━━━━━━━━\u001b[0m\u001b[37m\u001b[0m \u001b[1m0s\u001b[0m 24ms/step\n"
     ]
    },
    {
     "name": "stderr",
     "output_type": "stream",
     "text": [
      "Processing images:  33%|███████▌               | 69/210 [00:08<00:15,  9.03it/s]"
     ]
    },
    {
     "name": "stdout",
     "output_type": "stream",
     "text": [
      "\n",
      "0: 640x384 1 license_plate, 41.2ms\n",
      "Speed: 1.0ms preprocess, 41.2ms inference, 0.2ms postprocess per image at shape (1, 3, 640, 384)\n",
      "\u001b[1m1/1\u001b[0m \u001b[32m━━━━━━━━━━━━━━━━━━━━\u001b[0m\u001b[37m\u001b[0m \u001b[1m0s\u001b[0m 27ms/step\n",
      "\n",
      "0: 416x640 2 license_plates, 42.5ms\n",
      "Speed: 1.1ms preprocess, 42.5ms inference, 0.2ms postprocess per image at shape (1, 3, 416, 640)\n",
      "\u001b[1m1/1\u001b[0m \u001b[32m━━━━━━━━━━━━━━━━━━━━\u001b[0m\u001b[37m\u001b[0m \u001b[1m0s\u001b[0m 25ms/step\n",
      "\u001b[1m1/1\u001b[0m \u001b[32m━━━━━━━━━━━━━━━━━━━━\u001b[0m\u001b[37m\u001b[0m \u001b[1m0s\u001b[0m 24ms/step\n"
     ]
    },
    {
     "name": "stderr",
     "output_type": "stream",
     "text": [
      "Processing images:  34%|███████▊               | 71/210 [00:08<00:15,  9.15it/s]"
     ]
    },
    {
     "name": "stdout",
     "output_type": "stream",
     "text": [
      "\n",
      "0: 480x640 1 license_plate, 48.1ms\n",
      "Speed: 1.1ms preprocess, 48.1ms inference, 0.3ms postprocess per image at shape (1, 3, 480, 640)\n",
      "\u001b[1m1/1\u001b[0m \u001b[32m━━━━━━━━━━━━━━━━━━━━\u001b[0m\u001b[37m\u001b[0m \u001b[1m0s\u001b[0m 24ms/step\n",
      "\n",
      "0: 384x640 1 license_plate, 40.0ms\n",
      "Speed: 1.1ms preprocess, 40.0ms inference, 0.3ms postprocess per image at shape (1, 3, 384, 640)\n",
      "\u001b[1m1/1\u001b[0m \u001b[32m━━━━━━━━━━━━━━━━━━━━\u001b[0m\u001b[37m\u001b[0m \u001b[1m0s\u001b[0m 24ms/step\n"
     ]
    },
    {
     "name": "stderr",
     "output_type": "stream",
     "text": [
      "Processing images:  35%|███████▉               | 73/210 [00:08<00:13,  9.85it/s]"
     ]
    },
    {
     "name": "stdout",
     "output_type": "stream",
     "text": [
      "\n",
      "0: 384x640 1 license_plate, 39.1ms\n",
      "Speed: 1.1ms preprocess, 39.1ms inference, 0.3ms postprocess per image at shape (1, 3, 384, 640)\n",
      "\u001b[1m1/1\u001b[0m \u001b[32m━━━━━━━━━━━━━━━━━━━━\u001b[0m\u001b[37m\u001b[0m \u001b[1m0s\u001b[0m 26ms/step\n",
      "\n",
      "0: 640x480 1 license_plate, 51.1ms\n",
      "Speed: 1.1ms preprocess, 51.1ms inference, 0.2ms postprocess per image at shape (1, 3, 640, 480)\n",
      "\u001b[1m1/1\u001b[0m \u001b[32m━━━━━━━━━━━━━━━━━━━━\u001b[0m\u001b[37m\u001b[0m \u001b[1m0s\u001b[0m 24ms/step\n"
     ]
    },
    {
     "name": "stderr",
     "output_type": "stream",
     "text": [
      "Processing images:  36%|████████▏              | 75/210 [00:08<00:13, 10.23it/s]"
     ]
    },
    {
     "name": "stdout",
     "output_type": "stream",
     "text": [
      "\n",
      "0: 480x640 1 license_plate, 51.1ms\n",
      "Speed: 1.3ms preprocess, 51.1ms inference, 0.3ms postprocess per image at shape (1, 3, 480, 640)\n",
      "\u001b[1m1/1\u001b[0m \u001b[32m━━━━━━━━━━━━━━━━━━━━\u001b[0m\u001b[37m\u001b[0m \u001b[1m0s\u001b[0m 26ms/step\n",
      "\n",
      "0: 384x640 1 license_plate, 40.1ms\n",
      "Speed: 1.3ms preprocess, 40.1ms inference, 0.2ms postprocess per image at shape (1, 3, 384, 640)\n",
      "\u001b[1m1/1\u001b[0m \u001b[32m━━━━━━━━━━━━━━━━━━━━\u001b[0m\u001b[37m\u001b[0m \u001b[1m0s\u001b[0m 21ms/step\n"
     ]
    },
    {
     "name": "stderr",
     "output_type": "stream",
     "text": [
      "Processing images:  37%|████████▍              | 77/210 [00:08<00:12, 10.48it/s]"
     ]
    },
    {
     "name": "stdout",
     "output_type": "stream",
     "text": [
      "\n",
      "0: 640x640 2 license_plates, 66.1ms\n",
      "Speed: 1.7ms preprocess, 66.1ms inference, 0.2ms postprocess per image at shape (1, 3, 640, 640)\n",
      "\u001b[1m1/1\u001b[0m \u001b[32m━━━━━━━━━━━━━━━━━━━━\u001b[0m\u001b[37m\u001b[0m \u001b[1m0s\u001b[0m 23ms/step\n",
      "\u001b[1m1/1\u001b[0m \u001b[32m━━━━━━━━━━━━━━━━━━━━\u001b[0m\u001b[37m\u001b[0m \u001b[1m0s\u001b[0m 22ms/step\n",
      "\n",
      "0: 640x512 1 license_plate, 54.0ms\n",
      "Speed: 1.2ms preprocess, 54.0ms inference, 0.2ms postprocess per image at shape (1, 3, 640, 512)\n",
      "\u001b[1m1/1\u001b[0m \u001b[32m━━━━━━━━━━━━━━━━━━━━\u001b[0m\u001b[37m\u001b[0m \u001b[1m0s\u001b[0m 26ms/step\n"
     ]
    },
    {
     "name": "stderr",
     "output_type": "stream",
     "text": [
      "Processing images:  38%|████████▋              | 79/210 [00:09<00:13,  9.67it/s]"
     ]
    },
    {
     "name": "stdout",
     "output_type": "stream",
     "text": [
      "\n",
      "0: 640x384 1 license_plate, 42.7ms\n",
      "Speed: 1.0ms preprocess, 42.7ms inference, 0.2ms postprocess per image at shape (1, 3, 640, 384)\n",
      "\u001b[1m1/1\u001b[0m \u001b[32m━━━━━━━━━━━━━━━━━━━━\u001b[0m\u001b[37m\u001b[0m \u001b[1m0s\u001b[0m 23ms/step\n",
      "\n",
      "0: 640x480 1 license_plate, 52.7ms\n",
      "Speed: 1.4ms preprocess, 52.7ms inference, 0.3ms postprocess per image at shape (1, 3, 640, 480)\n",
      "\u001b[1m1/1\u001b[0m \u001b[32m━━━━━━━━━━━━━━━━━━━━\u001b[0m\u001b[37m\u001b[0m \u001b[1m0s\u001b[0m 25ms/step\n"
     ]
    },
    {
     "name": "stderr",
     "output_type": "stream",
     "text": [
      "Processing images:  39%|████████▊              | 81/210 [00:09<00:12, 10.03it/s]"
     ]
    },
    {
     "name": "stdout",
     "output_type": "stream",
     "text": [
      "\n",
      "0: 512x640 2 license_plates, 54.1ms\n",
      "Speed: 1.4ms preprocess, 54.1ms inference, 0.3ms postprocess per image at shape (1, 3, 512, 640)\n",
      "\u001b[1m1/1\u001b[0m \u001b[32m━━━━━━━━━━━━━━━━━━━━\u001b[0m\u001b[37m\u001b[0m \u001b[1m0s\u001b[0m 24ms/step\n",
      "\u001b[1m1/1\u001b[0m \u001b[32m━━━━━━━━━━━━━━━━━━━━\u001b[0m\u001b[37m\u001b[0m \u001b[1m0s\u001b[0m 20ms/step\n",
      "\n",
      "0: 640x480 1 license_plate, 53.3ms\n",
      "Speed: 1.3ms preprocess, 53.3ms inference, 0.2ms postprocess per image at shape (1, 3, 640, 480)\n",
      "\u001b[1m1/1\u001b[0m \u001b[32m━━━━━━━━━━━━━━━━━━━━\u001b[0m\u001b[37m\u001b[0m \u001b[1m0s\u001b[0m 24ms/step\n"
     ]
    },
    {
     "name": "stderr",
     "output_type": "stream",
     "text": [
      "Processing images:  40%|█████████              | 83/210 [00:09<00:13,  9.58it/s]"
     ]
    },
    {
     "name": "stdout",
     "output_type": "stream",
     "text": [
      "\n",
      "0: 480x640 1 license_plate, 51.0ms\n",
      "Speed: 1.2ms preprocess, 51.0ms inference, 0.2ms postprocess per image at shape (1, 3, 480, 640)\n",
      "\u001b[1m1/1\u001b[0m \u001b[32m━━━━━━━━━━━━━━━━━━━━\u001b[0m\u001b[37m\u001b[0m \u001b[1m0s\u001b[0m 25ms/step\n",
      "\n",
      "0: 384x640 1 license_plate, 40.5ms\n",
      "Speed: 1.1ms preprocess, 40.5ms inference, 0.2ms postprocess per image at shape (1, 3, 384, 640)\n",
      "\u001b[1m1/1\u001b[0m \u001b[32m━━━━━━━━━━━━━━━━━━━━\u001b[0m\u001b[37m\u001b[0m \u001b[1m0s\u001b[0m 25ms/step\n"
     ]
    },
    {
     "name": "stderr",
     "output_type": "stream",
     "text": [
      "Processing images:  40%|█████████▎             | 85/210 [00:09<00:12,  9.96it/s]"
     ]
    },
    {
     "name": "stdout",
     "output_type": "stream",
     "text": [
      "\n",
      "0: 640x480 1 license_plate, 50.6ms\n",
      "Speed: 1.2ms preprocess, 50.6ms inference, 0.2ms postprocess per image at shape (1, 3, 640, 480)\n",
      "\u001b[1m1/1\u001b[0m \u001b[32m━━━━━━━━━━━━━━━━━━━━\u001b[0m\u001b[37m\u001b[0m \u001b[1m0s\u001b[0m 24ms/step\n",
      "\n",
      "0: 480x640 1 license_plate, 48.8ms\n",
      "Speed: 1.3ms preprocess, 48.8ms inference, 0.2ms postprocess per image at shape (1, 3, 480, 640)\n",
      "\u001b[1m1/1\u001b[0m \u001b[32m━━━━━━━━━━━━━━━━━━━━\u001b[0m\u001b[37m\u001b[0m \u001b[1m0s\u001b[0m 25ms/step\n"
     ]
    },
    {
     "name": "stderr",
     "output_type": "stream",
     "text": [
      "Processing images:  41%|█████████▌             | 87/210 [00:09<00:12,  9.98it/s]"
     ]
    },
    {
     "name": "stdout",
     "output_type": "stream",
     "text": [
      "\n",
      "0: 640x480 1 license_plate, 49.7ms\n",
      "Speed: 1.1ms preprocess, 49.7ms inference, 0.2ms postprocess per image at shape (1, 3, 640, 480)\n",
      "\u001b[1m1/1\u001b[0m \u001b[32m━━━━━━━━━━━━━━━━━━━━\u001b[0m\u001b[37m\u001b[0m \u001b[1m0s\u001b[0m 23ms/step\n",
      "\n",
      "0: 640x512 1 license_plate, 53.4ms\n",
      "Speed: 1.2ms preprocess, 53.4ms inference, 0.3ms postprocess per image at shape (1, 3, 640, 512)\n",
      "\u001b[1m1/1\u001b[0m \u001b[32m━━━━━━━━━━━━━━━━━━━━\u001b[0m\u001b[37m\u001b[0m \u001b[1m0s\u001b[0m 26ms/step\n"
     ]
    },
    {
     "name": "stderr",
     "output_type": "stream",
     "text": [
      "Processing images:  42%|█████████▋             | 89/210 [00:10<00:11, 10.12it/s]"
     ]
    },
    {
     "name": "stdout",
     "output_type": "stream",
     "text": [
      "\n",
      "0: 640x480 1 license_plate, 49.5ms\n",
      "Speed: 1.3ms preprocess, 49.5ms inference, 0.2ms postprocess per image at shape (1, 3, 640, 480)\n",
      "\u001b[1m1/1\u001b[0m \u001b[32m━━━━━━━━━━━━━━━━━━━━\u001b[0m\u001b[37m\u001b[0m \u001b[1m0s\u001b[0m 26ms/step\n",
      "\n",
      "0: 640x480 1 license_plate, 51.5ms\n",
      "Speed: 1.1ms preprocess, 51.5ms inference, 0.2ms postprocess per image at shape (1, 3, 640, 480)\n",
      "\u001b[1m1/1\u001b[0m \u001b[32m━━━━━━━━━━━━━━━━━━━━\u001b[0m\u001b[37m\u001b[0m \u001b[1m0s\u001b[0m 28ms/step\n"
     ]
    },
    {
     "name": "stderr",
     "output_type": "stream",
     "text": [
      "Processing images:  43%|█████████▉             | 91/210 [00:10<00:11, 10.06it/s]"
     ]
    },
    {
     "name": "stdout",
     "output_type": "stream",
     "text": [
      "\n",
      "0: 640x480 1 license_plate, 50.9ms\n",
      "Speed: 1.1ms preprocess, 50.9ms inference, 0.3ms postprocess per image at shape (1, 3, 640, 480)\n",
      "\u001b[1m1/1\u001b[0m \u001b[32m━━━━━━━━━━━━━━━━━━━━\u001b[0m\u001b[37m\u001b[0m \u001b[1m0s\u001b[0m 22ms/step\n",
      "\n",
      "0: 640x480 1 license_plate, 52.7ms\n",
      "Speed: 1.2ms preprocess, 52.7ms inference, 0.2ms postprocess per image at shape (1, 3, 640, 480)\n",
      "\u001b[1m1/1\u001b[0m \u001b[32m━━━━━━━━━━━━━━━━━━━━\u001b[0m\u001b[37m\u001b[0m \u001b[1m0s\u001b[0m 27ms/step\n"
     ]
    },
    {
     "name": "stderr",
     "output_type": "stream",
     "text": [
      "Processing images:  44%|██████████▏            | 93/210 [00:10<00:11, 10.16it/s]"
     ]
    },
    {
     "name": "stdout",
     "output_type": "stream",
     "text": [
      "\n",
      "0: 480x640 1 license_plate, 50.5ms\n",
      "Speed: 1.3ms preprocess, 50.5ms inference, 0.2ms postprocess per image at shape (1, 3, 480, 640)\n",
      "\u001b[1m1/1\u001b[0m \u001b[32m━━━━━━━━━━━━━━━━━━━━\u001b[0m\u001b[37m\u001b[0m \u001b[1m0s\u001b[0m 28ms/step\n",
      "\n",
      "0: 384x640 2 license_plates, 39.5ms\n",
      "Speed: 0.9ms preprocess, 39.5ms inference, 0.2ms postprocess per image at shape (1, 3, 384, 640)\n",
      "\u001b[1m1/1\u001b[0m \u001b[32m━━━━━━━━━━━━━━━━━━━━\u001b[0m\u001b[37m\u001b[0m \u001b[1m0s\u001b[0m 26ms/step\n",
      "\u001b[1m1/1\u001b[0m \u001b[32m━━━━━━━━━━━━━━━━━━━━\u001b[0m\u001b[37m\u001b[0m \u001b[1m0s\u001b[0m 26ms/step\n"
     ]
    },
    {
     "name": "stderr",
     "output_type": "stream",
     "text": [
      "Processing images:  45%|██████████▍            | 95/210 [00:10<00:11,  9.73it/s]"
     ]
    },
    {
     "name": "stdout",
     "output_type": "stream",
     "text": [
      "\n",
      "0: 384x640 2 license_plates, 40.1ms\n",
      "Speed: 1.0ms preprocess, 40.1ms inference, 0.3ms postprocess per image at shape (1, 3, 384, 640)\n",
      "\u001b[1m1/1\u001b[0m \u001b[32m━━━━━━━━━━━━━━━━━━━━\u001b[0m\u001b[37m\u001b[0m \u001b[1m0s\u001b[0m 25ms/step\n",
      "\u001b[1m1/1\u001b[0m \u001b[32m━━━━━━━━━━━━━━━━━━━━\u001b[0m\u001b[37m\u001b[0m \u001b[1m0s\u001b[0m 20ms/step\n"
     ]
    },
    {
     "name": "stderr",
     "output_type": "stream",
     "text": [
      "Processing images:  46%|██████████▌            | 96/210 [00:10<00:12,  9.50it/s]"
     ]
    },
    {
     "name": "stdout",
     "output_type": "stream",
     "text": [
      "\n",
      "0: 640x384 1 license_plate, 42.4ms\n",
      "Speed: 1.2ms preprocess, 42.4ms inference, 0.2ms postprocess per image at shape (1, 3, 640, 384)\n",
      "\u001b[1m1/1\u001b[0m \u001b[32m━━━━━━━━━━━━━━━━━━━━\u001b[0m\u001b[37m\u001b[0m \u001b[1m0s\u001b[0m 24ms/step\n",
      "\n",
      "0: 640x384 1 license_plate, 42.1ms\n",
      "Speed: 0.9ms preprocess, 42.1ms inference, 0.2ms postprocess per image at shape (1, 3, 640, 384)\n",
      "\u001b[1m1/1\u001b[0m \u001b[32m━━━━━━━━━━━━━━━━━━━━\u001b[0m\u001b[37m\u001b[0m \u001b[1m0s\u001b[0m 26ms/step\n"
     ]
    },
    {
     "name": "stderr",
     "output_type": "stream",
     "text": [
      "Processing images:  47%|██████████▋            | 98/210 [00:11<00:11, 10.06it/s]"
     ]
    },
    {
     "name": "stdout",
     "output_type": "stream",
     "text": [
      "\n",
      "0: 640x544 1 license_plate, 56.3ms\n",
      "Speed: 1.4ms preprocess, 56.3ms inference, 0.2ms postprocess per image at shape (1, 3, 640, 544)\n",
      "\u001b[1m1/1\u001b[0m \u001b[32m━━━━━━━━━━━━━━━━━━━━\u001b[0m\u001b[37m\u001b[0m \u001b[1m0s\u001b[0m 25ms/step\n",
      "\n",
      "0: 640x544 1 license_plate, 55.7ms\n",
      "Speed: 1.4ms preprocess, 55.7ms inference, 0.2ms postprocess per image at shape (1, 3, 640, 544)\n",
      "\u001b[1m1/1\u001b[0m \u001b[32m━━━━━━━━━━━━━━━━━━━━\u001b[0m\u001b[37m\u001b[0m \u001b[1m0s\u001b[0m 26ms/step\n"
     ]
    },
    {
     "name": "stderr",
     "output_type": "stream",
     "text": [
      "Processing images:  48%|██████████▍           | 100/210 [00:11<00:10, 10.01it/s]"
     ]
    },
    {
     "name": "stdout",
     "output_type": "stream",
     "text": [
      "\n",
      "0: 640x480 1 license_plate, 67.5ms\n",
      "Speed: 1.3ms preprocess, 67.5ms inference, 0.7ms postprocess per image at shape (1, 3, 640, 480)\n",
      "\u001b[1m1/1\u001b[0m \u001b[32m━━━━━━━━━━━━━━━━━━━━\u001b[0m\u001b[37m\u001b[0m \u001b[1m0s\u001b[0m 29ms/step\n"
     ]
    },
    {
     "name": "stderr",
     "output_type": "stream",
     "text": [
      "Processing images:  48%|██████████▌           | 101/210 [00:11<00:11,  9.66it/s]"
     ]
    },
    {
     "name": "stdout",
     "output_type": "stream",
     "text": [
      "\n",
      "0: 480x640 1 license_plate, 61.0ms\n",
      "Speed: 1.5ms preprocess, 61.0ms inference, 0.2ms postprocess per image at shape (1, 3, 480, 640)\n",
      "\u001b[1m1/1\u001b[0m \u001b[32m━━━━━━━━━━━━━━━━━━━━\u001b[0m\u001b[37m\u001b[0m \u001b[1m0s\u001b[0m 29ms/step\n"
     ]
    },
    {
     "name": "stderr",
     "output_type": "stream",
     "text": [
      "Processing images:  49%|██████████▋           | 102/210 [00:11<00:11,  9.42it/s]"
     ]
    },
    {
     "name": "stdout",
     "output_type": "stream",
     "text": [
      "\n",
      "0: 384x640 1 license_plate, 42.6ms\n",
      "Speed: 1.2ms preprocess, 42.6ms inference, 0.2ms postprocess per image at shape (1, 3, 384, 640)\n",
      "\u001b[1m1/1\u001b[0m \u001b[32m━━━━━━━━━━━━━━━━━━━━\u001b[0m\u001b[37m\u001b[0m \u001b[1m0s\u001b[0m 30ms/step\n",
      "\n",
      "0: 480x640 1 license_plate, 56.7ms\n",
      "Speed: 1.7ms preprocess, 56.7ms inference, 0.4ms postprocess per image at shape (1, 3, 480, 640)\n",
      "\u001b[1m1/1\u001b[0m \u001b[32m━━━━━━━━━━━━━━━━━━━━\u001b[0m\u001b[37m\u001b[0m \u001b[1m0s\u001b[0m 26ms/step\n"
     ]
    },
    {
     "name": "stderr",
     "output_type": "stream",
     "text": [
      "Processing images:  50%|██████████▉           | 104/210 [00:11<00:11,  9.60it/s]"
     ]
    },
    {
     "name": "stdout",
     "output_type": "stream",
     "text": [
      "\n",
      "0: 640x384 1 license_plate, 43.1ms\n",
      "Speed: 1.0ms preprocess, 43.1ms inference, 0.2ms postprocess per image at shape (1, 3, 640, 384)\n",
      "\u001b[1m1/1\u001b[0m \u001b[32m━━━━━━━━━━━━━━━━━━━━\u001b[0m\u001b[37m\u001b[0m \u001b[1m0s\u001b[0m 28ms/step\n",
      "\n",
      "0: 480x640 3 license_plates, 48.4ms\n",
      "Speed: 1.3ms preprocess, 48.4ms inference, 0.3ms postprocess per image at shape (1, 3, 480, 640)\n",
      "\u001b[1m1/1\u001b[0m \u001b[32m━━━━━━━━━━━━━━━━━━━━\u001b[0m\u001b[37m\u001b[0m \u001b[1m0s\u001b[0m 27ms/step\n",
      "\u001b[1m1/1\u001b[0m \u001b[32m━━━━━━━━━━━━━━━━━━━━\u001b[0m\u001b[37m\u001b[0m \u001b[1m0s\u001b[0m 29ms/step\n",
      "\u001b[1m1/1\u001b[0m \u001b[32m━━━━━━━━━━━━━━━━━━━━\u001b[0m\u001b[37m\u001b[0m \u001b[1m0s\u001b[0m 20ms/step\n"
     ]
    },
    {
     "name": "stderr",
     "output_type": "stream",
     "text": [
      "Processing images:  50%|███████████           | 106/210 [00:11<00:12,  8.64it/s]"
     ]
    },
    {
     "name": "stdout",
     "output_type": "stream",
     "text": [
      "\n",
      "0: 448x640 1 license_plate, 44.9ms\n",
      "Speed: 1.2ms preprocess, 44.9ms inference, 0.2ms postprocess per image at shape (1, 3, 448, 640)\n",
      "\u001b[1m1/1\u001b[0m \u001b[32m━━━━━━━━━━━━━━━━━━━━\u001b[0m\u001b[37m\u001b[0m \u001b[1m0s\u001b[0m 25ms/step\n",
      "\n",
      "0: 480x640 1 license_plate, 47.8ms\n",
      "Speed: 1.3ms preprocess, 47.8ms inference, 0.2ms postprocess per image at shape (1, 3, 480, 640)\n",
      "\u001b[1m1/1\u001b[0m \u001b[32m━━━━━━━━━━━━━━━━━━━━\u001b[0m\u001b[37m\u001b[0m \u001b[1m0s\u001b[0m 23ms/step\n"
     ]
    },
    {
     "name": "stderr",
     "output_type": "stream",
     "text": [
      "Processing images:  51%|███████████▎          | 108/210 [00:12<00:11,  9.27it/s]"
     ]
    },
    {
     "name": "stdout",
     "output_type": "stream",
     "text": [
      "\n",
      "0: 512x640 1 license_plate, 50.7ms\n",
      "Speed: 1.2ms preprocess, 50.7ms inference, 0.3ms postprocess per image at shape (1, 3, 512, 640)\n",
      "\u001b[1m1/1\u001b[0m \u001b[32m━━━━━━━━━━━━━━━━━━━━\u001b[0m\u001b[37m\u001b[0m \u001b[1m0s\u001b[0m 29ms/step\n",
      "\n",
      "0: 640x480 1 license_plate, 50.1ms\n",
      "Speed: 1.3ms preprocess, 50.1ms inference, 0.2ms postprocess per image at shape (1, 3, 640, 480)\n",
      "\u001b[1m1/1\u001b[0m \u001b[32m━━━━━━━━━━━━━━━━━━━━\u001b[0m\u001b[37m\u001b[0m \u001b[1m0s\u001b[0m 24ms/step\n"
     ]
    },
    {
     "name": "stderr",
     "output_type": "stream",
     "text": [
      "Processing images:  52%|███████████▌          | 110/210 [00:12<00:10,  9.62it/s]"
     ]
    },
    {
     "name": "stdout",
     "output_type": "stream",
     "text": [
      "\n",
      "0: 640x480 1 license_plate, 51.5ms\n",
      "Speed: 1.2ms preprocess, 51.5ms inference, 0.3ms postprocess per image at shape (1, 3, 640, 480)\n",
      "\u001b[1m1/1\u001b[0m \u001b[32m━━━━━━━━━━━━━━━━━━━━\u001b[0m\u001b[37m\u001b[0m \u001b[1m0s\u001b[0m 25ms/step\n",
      "\n",
      "0: 384x640 1 license_plate, 40.2ms\n",
      "Speed: 1.3ms preprocess, 40.2ms inference, 0.2ms postprocess per image at shape (1, 3, 384, 640)\n",
      "\u001b[1m1/1\u001b[0m \u001b[32m━━━━━━━━━━━━━━━━━━━━\u001b[0m\u001b[37m\u001b[0m \u001b[1m0s\u001b[0m 26ms/step\n"
     ]
    },
    {
     "name": "stderr",
     "output_type": "stream",
     "text": [
      "Processing images:  53%|███████████▋          | 112/210 [00:12<00:09,  9.90it/s]"
     ]
    },
    {
     "name": "stdout",
     "output_type": "stream",
     "text": [
      "\n",
      "0: 384x640 1 license_plate, 38.5ms\n",
      "Speed: 1.2ms preprocess, 38.5ms inference, 0.2ms postprocess per image at shape (1, 3, 384, 640)\n",
      "\u001b[1m1/1\u001b[0m \u001b[32m━━━━━━━━━━━━━━━━━━━━\u001b[0m\u001b[37m\u001b[0m \u001b[1m0s\u001b[0m 25ms/step\n",
      "\n",
      "0: 480x640 1 license_plate, 48.5ms\n",
      "Speed: 1.2ms preprocess, 48.5ms inference, 0.2ms postprocess per image at shape (1, 3, 480, 640)\n",
      "\u001b[1m1/1\u001b[0m \u001b[32m━━━━━━━━━━━━━━━━━━━━\u001b[0m\u001b[37m\u001b[0m \u001b[1m0s\u001b[0m 23ms/step\n"
     ]
    },
    {
     "name": "stderr",
     "output_type": "stream",
     "text": [
      "Processing images:  54%|███████████▉          | 114/210 [00:12<00:09, 10.28it/s]"
     ]
    },
    {
     "name": "stdout",
     "output_type": "stream",
     "text": [
      "\n",
      "0: 640x480 1 license_plate, 49.5ms\n",
      "Speed: 1.2ms preprocess, 49.5ms inference, 0.2ms postprocess per image at shape (1, 3, 640, 480)\n",
      "\u001b[1m1/1\u001b[0m \u001b[32m━━━━━━━━━━━━━━━━━━━━\u001b[0m\u001b[37m\u001b[0m \u001b[1m0s\u001b[0m 28ms/step\n",
      "\n",
      "0: 448x640 1 license_plate, 44.6ms\n",
      "Speed: 1.2ms preprocess, 44.6ms inference, 0.2ms postprocess per image at shape (1, 3, 448, 640)\n",
      "\u001b[1m1/1\u001b[0m \u001b[32m━━━━━━━━━━━━━━━━━━━━\u001b[0m\u001b[37m\u001b[0m \u001b[1m0s\u001b[0m 26ms/step\n"
     ]
    },
    {
     "name": "stderr",
     "output_type": "stream",
     "text": [
      "Processing images:  55%|████████████▏         | 116/210 [00:12<00:09, 10.33it/s]"
     ]
    },
    {
     "name": "stdout",
     "output_type": "stream",
     "text": [
      "\n",
      "0: 384x640 1 license_plate, 38.7ms\n",
      "Speed: 1.1ms preprocess, 38.7ms inference, 0.2ms postprocess per image at shape (1, 3, 384, 640)\n",
      "\u001b[1m1/1\u001b[0m \u001b[32m━━━━━━━━━━━━━━━━━━━━\u001b[0m\u001b[37m\u001b[0m \u001b[1m0s\u001b[0m 24ms/step\n",
      "\n",
      "0: 384x640 1 license_plate, 39.0ms\n",
      "Speed: 1.3ms preprocess, 39.0ms inference, 0.2ms postprocess per image at shape (1, 3, 384, 640)\n",
      "\u001b[1m1/1\u001b[0m \u001b[32m━━━━━━━━━━━━━━━━━━━━\u001b[0m\u001b[37m\u001b[0m \u001b[1m0s\u001b[0m 24ms/step\n"
     ]
    },
    {
     "name": "stderr",
     "output_type": "stream",
     "text": [
      "Processing images:  56%|████████████▎         | 118/210 [00:13<00:08, 10.80it/s]"
     ]
    },
    {
     "name": "stdout",
     "output_type": "stream",
     "text": [
      "\n",
      "0: 640x480 1 license_plate, 49.3ms\n",
      "Speed: 1.2ms preprocess, 49.3ms inference, 0.2ms postprocess per image at shape (1, 3, 640, 480)\n",
      "\u001b[1m1/1\u001b[0m \u001b[32m━━━━━━━━━━━━━━━━━━━━\u001b[0m\u001b[37m\u001b[0m \u001b[1m0s\u001b[0m 27ms/step\n",
      "\n",
      "0: 480x640 1 license_plate, 47.6ms\n",
      "Speed: 1.3ms preprocess, 47.6ms inference, 0.2ms postprocess per image at shape (1, 3, 480, 640)\n",
      "\u001b[1m1/1\u001b[0m \u001b[32m━━━━━━━━━━━━━━━━━━━━\u001b[0m\u001b[37m\u001b[0m \u001b[1m0s\u001b[0m 25ms/step\n"
     ]
    },
    {
     "name": "stderr",
     "output_type": "stream",
     "text": [
      "Processing images:  57%|████████████▌         | 120/210 [00:13<00:08, 10.69it/s]"
     ]
    },
    {
     "name": "stdout",
     "output_type": "stream",
     "text": [
      "\n",
      "0: 480x640 1 license_plate, 49.5ms\n",
      "Speed: 1.2ms preprocess, 49.5ms inference, 0.2ms postprocess per image at shape (1, 3, 480, 640)\n",
      "\u001b[1m1/1\u001b[0m \u001b[32m━━━━━━━━━━━━━━━━━━━━\u001b[0m\u001b[37m\u001b[0m \u001b[1m0s\u001b[0m 28ms/step\n",
      "\n",
      "0: 384x640 1 license_plate, 38.2ms\n",
      "Speed: 1.0ms preprocess, 38.2ms inference, 0.3ms postprocess per image at shape (1, 3, 384, 640)\n",
      "\u001b[1m1/1\u001b[0m \u001b[32m━━━━━━━━━━━━━━━━━━━━\u001b[0m\u001b[37m\u001b[0m \u001b[1m0s\u001b[0m 24ms/step\n"
     ]
    },
    {
     "name": "stderr",
     "output_type": "stream",
     "text": [
      "Processing images:  58%|████████████▊         | 122/210 [00:13<00:08, 10.76it/s]"
     ]
    },
    {
     "name": "stdout",
     "output_type": "stream",
     "text": [
      "\n",
      "0: 480x640 1 license_plate, 48.1ms\n",
      "Speed: 1.3ms preprocess, 48.1ms inference, 0.2ms postprocess per image at shape (1, 3, 480, 640)\n",
      "\u001b[1m1/1\u001b[0m \u001b[32m━━━━━━━━━━━━━━━━━━━━\u001b[0m\u001b[37m\u001b[0m \u001b[1m0s\u001b[0m 26ms/step\n",
      "\n",
      "0: 480x640 1 license_plate, 47.4ms\n",
      "Speed: 1.2ms preprocess, 47.4ms inference, 0.3ms postprocess per image at shape (1, 3, 480, 640)\n",
      "\u001b[1m1/1\u001b[0m \u001b[32m━━━━━━━━━━━━━━━━━━━━\u001b[0m\u001b[37m\u001b[0m \u001b[1m0s\u001b[0m 25ms/step\n"
     ]
    },
    {
     "name": "stderr",
     "output_type": "stream",
     "text": [
      "Processing images:  59%|████████████▉         | 124/210 [00:13<00:08, 10.69it/s]"
     ]
    },
    {
     "name": "stdout",
     "output_type": "stream",
     "text": [
      "\n",
      "0: 640x544 2 license_plates, 55.7ms\n",
      "Speed: 1.3ms preprocess, 55.7ms inference, 0.3ms postprocess per image at shape (1, 3, 640, 544)\n",
      "\u001b[1m1/1\u001b[0m \u001b[32m━━━━━━━━━━━━━━━━━━━━\u001b[0m\u001b[37m\u001b[0m \u001b[1m0s\u001b[0m 26ms/step\n",
      "\u001b[1m1/1\u001b[0m \u001b[32m━━━━━━━━━━━━━━━━━━━━\u001b[0m\u001b[37m\u001b[0m \u001b[1m0s\u001b[0m 21ms/step\n",
      "\n",
      "0: 640x480 2 license_plates, 49.5ms\n",
      "Speed: 1.2ms preprocess, 49.5ms inference, 0.2ms postprocess per image at shape (1, 3, 640, 480)\n",
      "\u001b[1m1/1\u001b[0m \u001b[32m━━━━━━━━━━━━━━━━━━━━\u001b[0m\u001b[37m\u001b[0m \u001b[1m0s\u001b[0m 25ms/step\n",
      "\u001b[1m1/1\u001b[0m \u001b[32m━━━━━━━━━━━━━━━━━━━━\u001b[0m\u001b[37m\u001b[0m \u001b[1m0s\u001b[0m 20ms/step\n"
     ]
    },
    {
     "name": "stderr",
     "output_type": "stream",
     "text": [
      "Processing images:  60%|█████████████▏        | 126/210 [00:13<00:08,  9.44it/s]"
     ]
    },
    {
     "name": "stdout",
     "output_type": "stream",
     "text": [
      "\n",
      "0: 640x480 1 license_plate, 56.8ms\n",
      "Speed: 1.2ms preprocess, 56.8ms inference, 0.2ms postprocess per image at shape (1, 3, 640, 480)\n",
      "\u001b[1m1/1\u001b[0m \u001b[32m━━━━━━━━━━━━━━━━━━━━\u001b[0m\u001b[37m\u001b[0m \u001b[1m0s\u001b[0m 24ms/step\n"
     ]
    },
    {
     "name": "stderr",
     "output_type": "stream",
     "text": [
      "Processing images:  60%|█████████████▎        | 127/210 [00:14<00:08,  9.53it/s]"
     ]
    },
    {
     "name": "stdout",
     "output_type": "stream",
     "text": [
      "\n",
      "0: 640x384 1 license_plate, 71.7ms\n",
      "Speed: 1.1ms preprocess, 71.7ms inference, 0.3ms postprocess per image at shape (1, 3, 640, 384)\n",
      "\u001b[1m1/1\u001b[0m \u001b[32m━━━━━━━━━━━━━━━━━━━━\u001b[0m\u001b[37m\u001b[0m \u001b[1m0s\u001b[0m 50ms/step\n"
     ]
    },
    {
     "name": "stderr",
     "output_type": "stream",
     "text": [
      "Processing images:  61%|█████████████▍        | 128/210 [00:14<00:09,  8.63it/s]"
     ]
    },
    {
     "name": "stdout",
     "output_type": "stream",
     "text": [
      "\n",
      "0: 640x480 1 license_plate, 49.3ms\n",
      "Speed: 1.2ms preprocess, 49.3ms inference, 0.2ms postprocess per image at shape (1, 3, 640, 480)\n",
      "\u001b[1m1/1\u001b[0m \u001b[32m━━━━━━━━━━━━━━━━━━━━\u001b[0m\u001b[37m\u001b[0m \u001b[1m0s\u001b[0m 28ms/step\n",
      "\n",
      "0: 384x640 1 license_plate, 38.5ms\n",
      "Speed: 1.1ms preprocess, 38.5ms inference, 0.2ms postprocess per image at shape (1, 3, 384, 640)\n",
      "\u001b[1m1/1\u001b[0m \u001b[32m━━━━━━━━━━━━━━━━━━━━\u001b[0m\u001b[37m\u001b[0m \u001b[1m0s\u001b[0m 25ms/step\n"
     ]
    },
    {
     "name": "stderr",
     "output_type": "stream",
     "text": [
      "Processing images:  62%|█████████████▌        | 130/210 [00:14<00:08,  9.34it/s]"
     ]
    },
    {
     "name": "stdout",
     "output_type": "stream",
     "text": [
      "\n",
      "0: 640x384 1 license_plate, 40.8ms\n",
      "Speed: 1.1ms preprocess, 40.8ms inference, 0.2ms postprocess per image at shape (1, 3, 640, 384)\n",
      "\u001b[1m1/1\u001b[0m \u001b[32m━━━━━━━━━━━━━━━━━━━━\u001b[0m\u001b[37m\u001b[0m \u001b[1m0s\u001b[0m 23ms/step\n",
      "\n",
      "0: 640x384 1 license_plate, 48.3ms\n",
      "Speed: 1.2ms preprocess, 48.3ms inference, 0.5ms postprocess per image at shape (1, 3, 640, 384)\n",
      "\u001b[1m1/1\u001b[0m \u001b[32m━━━━━━━━━━━━━━━━━━━━\u001b[0m\u001b[37m\u001b[0m \u001b[1m0s\u001b[0m 29ms/step\n"
     ]
    },
    {
     "name": "stderr",
     "output_type": "stream",
     "text": [
      "Processing images:  63%|█████████████▊        | 132/210 [00:14<00:07,  9.83it/s]"
     ]
    },
    {
     "name": "stdout",
     "output_type": "stream",
     "text": [
      "\n",
      "0: 384x640 1 license_plate, 44.4ms\n",
      "Speed: 1.2ms preprocess, 44.4ms inference, 0.2ms postprocess per image at shape (1, 3, 384, 640)\n",
      "\u001b[1m1/1\u001b[0m \u001b[32m━━━━━━━━━━━━━━━━━━━━\u001b[0m\u001b[37m\u001b[0m \u001b[1m0s\u001b[0m 25ms/step\n",
      "\n",
      "0: 480x640 3 license_plates, 47.1ms\n",
      "Speed: 1.3ms preprocess, 47.1ms inference, 0.2ms postprocess per image at shape (1, 3, 480, 640)\n",
      "\u001b[1m1/1\u001b[0m \u001b[32m━━━━━━━━━━━━━━━━━━━━\u001b[0m\u001b[37m\u001b[0m \u001b[1m0s\u001b[0m 29ms/step\n",
      "\u001b[1m1/1\u001b[0m \u001b[32m━━━━━━━━━━━━━━━━━━━━\u001b[0m\u001b[37m\u001b[0m \u001b[1m0s\u001b[0m 24ms/step\n",
      "\u001b[1m1/1\u001b[0m \u001b[32m━━━━━━━━━━━━━━━━━━━━\u001b[0m\u001b[37m\u001b[0m \u001b[1m0s\u001b[0m 23ms/step\n"
     ]
    },
    {
     "name": "stderr",
     "output_type": "stream",
     "text": [
      "Processing images:  64%|██████████████        | 134/210 [00:14<00:08,  9.02it/s]"
     ]
    },
    {
     "name": "stdout",
     "output_type": "stream",
     "text": [
      "\n",
      "0: 640x480 1 license_plate, 52.0ms\n",
      "Speed: 1.5ms preprocess, 52.0ms inference, 0.2ms postprocess per image at shape (1, 3, 640, 480)\n",
      "\u001b[1m1/1\u001b[0m \u001b[32m━━━━━━━━━━━━━━━━━━━━\u001b[0m\u001b[37m\u001b[0m \u001b[1m0s\u001b[0m 26ms/step\n",
      "\n",
      "0: 640x544 1 license_plate, 55.5ms\n",
      "Speed: 1.3ms preprocess, 55.5ms inference, 0.2ms postprocess per image at shape (1, 3, 640, 544)\n",
      "\u001b[1m1/1\u001b[0m \u001b[32m━━━━━━━━━━━━━━━━━━━━\u001b[0m\u001b[37m\u001b[0m \u001b[1m0s\u001b[0m 28ms/step\n"
     ]
    },
    {
     "name": "stderr",
     "output_type": "stream",
     "text": [
      "Processing images:  65%|██████████████▏       | 136/210 [00:14<00:07,  9.34it/s]"
     ]
    },
    {
     "name": "stdout",
     "output_type": "stream",
     "text": [
      "\n",
      "0: 640x480 1 license_plate, 49.1ms\n",
      "Speed: 1.2ms preprocess, 49.1ms inference, 0.2ms postprocess per image at shape (1, 3, 640, 480)\n",
      "\u001b[1m1/1\u001b[0m \u001b[32m━━━━━━━━━━━━━━━━━━━━\u001b[0m\u001b[37m\u001b[0m \u001b[1m0s\u001b[0m 26ms/step\n",
      "\n",
      "0: 384x640 1 license_plate, 39.2ms\n",
      "Speed: 1.0ms preprocess, 39.2ms inference, 0.2ms postprocess per image at shape (1, 3, 384, 640)\n",
      "\u001b[1m1/1\u001b[0m \u001b[32m━━━━━━━━━━━━━━━━━━━━\u001b[0m\u001b[37m\u001b[0m \u001b[1m0s\u001b[0m 23ms/step\n"
     ]
    },
    {
     "name": "stderr",
     "output_type": "stream",
     "text": [
      "Processing images:  66%|██████████████▍       | 138/210 [00:15<00:07,  9.90it/s]"
     ]
    },
    {
     "name": "stdout",
     "output_type": "stream",
     "text": [
      "\n",
      "0: 640x384 1 license_plate, 40.6ms\n",
      "Speed: 0.9ms preprocess, 40.6ms inference, 0.2ms postprocess per image at shape (1, 3, 640, 384)\n",
      "\u001b[1m1/1\u001b[0m \u001b[32m━━━━━━━━━━━━━━━━━━━━\u001b[0m\u001b[37m\u001b[0m \u001b[1m0s\u001b[0m 24ms/step\n",
      "\n",
      "0: 640x480 1 license_plate, 50.1ms\n",
      "Speed: 1.2ms preprocess, 50.1ms inference, 0.2ms postprocess per image at shape (1, 3, 640, 480)\n",
      "\u001b[1m1/1\u001b[0m \u001b[32m━━━━━━━━━━━━━━━━━━━━\u001b[0m\u001b[37m\u001b[0m \u001b[1m0s\u001b[0m 24ms/step\n"
     ]
    },
    {
     "name": "stderr",
     "output_type": "stream",
     "text": [
      "Processing images:  67%|██████████████▋       | 140/210 [00:15<00:06, 10.33it/s]"
     ]
    },
    {
     "name": "stdout",
     "output_type": "stream",
     "text": [
      "\n",
      "0: 480x640 1 license_plate, 47.6ms\n",
      "Speed: 1.2ms preprocess, 47.6ms inference, 0.2ms postprocess per image at shape (1, 3, 480, 640)\n",
      "\u001b[1m1/1\u001b[0m \u001b[32m━━━━━━━━━━━━━━━━━━━━\u001b[0m\u001b[37m\u001b[0m \u001b[1m0s\u001b[0m 24ms/step\n",
      "\n",
      "0: 640x480 1 license_plate, 49.5ms\n",
      "Speed: 1.4ms preprocess, 49.5ms inference, 0.2ms postprocess per image at shape (1, 3, 640, 480)\n",
      "\u001b[1m1/1\u001b[0m \u001b[32m━━━━━━━━━━━━━━━━━━━━\u001b[0m\u001b[37m\u001b[0m \u001b[1m0s\u001b[0m 24ms/step\n"
     ]
    },
    {
     "name": "stderr",
     "output_type": "stream",
     "text": [
      "Processing images:  68%|██████████████▉       | 142/210 [00:15<00:06, 10.50it/s]"
     ]
    },
    {
     "name": "stdout",
     "output_type": "stream",
     "text": [
      "\n",
      "0: 640x384 1 license_plate, 41.3ms\n",
      "Speed: 1.0ms preprocess, 41.3ms inference, 0.2ms postprocess per image at shape (1, 3, 640, 384)\n",
      "\u001b[1m1/1\u001b[0m \u001b[32m━━━━━━━━━━━━━━━━━━━━\u001b[0m\u001b[37m\u001b[0m \u001b[1m0s\u001b[0m 24ms/step\n",
      "\n",
      "0: 640x480 1 license_plate, 51.0ms\n",
      "Speed: 1.2ms preprocess, 51.0ms inference, 0.2ms postprocess per image at shape (1, 3, 640, 480)\n",
      "\u001b[1m1/1\u001b[0m \u001b[32m━━━━━━━━━━━━━━━━━━━━\u001b[0m\u001b[37m\u001b[0m \u001b[1m0s\u001b[0m 23ms/step\n"
     ]
    },
    {
     "name": "stderr",
     "output_type": "stream",
     "text": [
      "Processing images:  69%|███████████████       | 144/210 [00:15<00:06, 10.75it/s]"
     ]
    },
    {
     "name": "stdout",
     "output_type": "stream",
     "text": [
      "\n",
      "0: 640x480 1 license_plate, 50.0ms\n",
      "Speed: 1.1ms preprocess, 50.0ms inference, 0.3ms postprocess per image at shape (1, 3, 640, 480)\n",
      "\u001b[1m1/1\u001b[0m \u001b[32m━━━━━━━━━━━━━━━━━━━━\u001b[0m\u001b[37m\u001b[0m \u001b[1m0s\u001b[0m 25ms/step\n",
      "\n",
      "0: 480x640 1 license_plate, 48.2ms\n",
      "Speed: 1.3ms preprocess, 48.2ms inference, 0.2ms postprocess per image at shape (1, 3, 480, 640)\n",
      "\u001b[1m1/1\u001b[0m \u001b[32m━━━━━━━━━━━━━━━━━━━━\u001b[0m\u001b[37m\u001b[0m \u001b[1m0s\u001b[0m 28ms/step\n"
     ]
    },
    {
     "name": "stderr",
     "output_type": "stream",
     "text": [
      "Processing images:  70%|███████████████▎      | 146/210 [00:15<00:06, 10.53it/s]"
     ]
    },
    {
     "name": "stdout",
     "output_type": "stream",
     "text": [
      "\n",
      "0: 384x640 1 license_plate, 38.3ms\n",
      "Speed: 1.0ms preprocess, 38.3ms inference, 0.3ms postprocess per image at shape (1, 3, 384, 640)\n",
      "\u001b[1m1/1\u001b[0m \u001b[32m━━━━━━━━━━━━━━━━━━━━\u001b[0m\u001b[37m\u001b[0m \u001b[1m0s\u001b[0m 25ms/step\n",
      "\n",
      "0: 384x640 1 license_plate, 46.4ms\n",
      "Speed: 1.1ms preprocess, 46.4ms inference, 0.3ms postprocess per image at shape (1, 3, 384, 640)\n",
      "\u001b[1m1/1\u001b[0m \u001b[32m━━━━━━━━━━━━━━━━━━━━\u001b[0m\u001b[37m\u001b[0m \u001b[1m0s\u001b[0m 25ms/step\n"
     ]
    },
    {
     "name": "stderr",
     "output_type": "stream",
     "text": [
      "Processing images:  70%|███████████████▌      | 148/210 [00:16<00:05, 10.80it/s]"
     ]
    },
    {
     "name": "stdout",
     "output_type": "stream",
     "text": [
      "\n",
      "0: 480x640 1 license_plate, 48.2ms\n",
      "Speed: 1.3ms preprocess, 48.2ms inference, 0.2ms postprocess per image at shape (1, 3, 480, 640)\n",
      "\u001b[1m1/1\u001b[0m \u001b[32m━━━━━━━━━━━━━━━━━━━━\u001b[0m\u001b[37m\u001b[0m \u001b[1m0s\u001b[0m 27ms/step\n",
      "\n",
      "0: 640x416 1 license_plate, 43.3ms\n",
      "Speed: 1.0ms preprocess, 43.3ms inference, 0.2ms postprocess per image at shape (1, 3, 640, 416)\n",
      "\u001b[1m1/1\u001b[0m \u001b[32m━━━━━━━━━━━━━━━━━━━━\u001b[0m\u001b[37m\u001b[0m \u001b[1m0s\u001b[0m 28ms/step\n"
     ]
    },
    {
     "name": "stderr",
     "output_type": "stream",
     "text": [
      "Processing images:  71%|███████████████▋      | 150/210 [00:16<00:05, 10.65it/s]"
     ]
    },
    {
     "name": "stdout",
     "output_type": "stream",
     "text": [
      "\n",
      "0: 480x640 1 license_plate, 47.8ms\n",
      "Speed: 1.3ms preprocess, 47.8ms inference, 0.2ms postprocess per image at shape (1, 3, 480, 640)\n",
      "\u001b[1m1/1\u001b[0m \u001b[32m━━━━━━━━━━━━━━━━━━━━\u001b[0m\u001b[37m\u001b[0m \u001b[1m0s\u001b[0m 28ms/step\n",
      "\n",
      "0: 384x640 1 license_plate, 38.5ms\n",
      "Speed: 1.0ms preprocess, 38.5ms inference, 0.2ms postprocess per image at shape (1, 3, 384, 640)\n",
      "\u001b[1m1/1\u001b[0m \u001b[32m━━━━━━━━━━━━━━━━━━━━\u001b[0m\u001b[37m\u001b[0m \u001b[1m0s\u001b[0m 25ms/step\n"
     ]
    },
    {
     "name": "stderr",
     "output_type": "stream",
     "text": [
      "Processing images:  72%|███████████████▉      | 152/210 [00:16<00:05, 10.76it/s]"
     ]
    },
    {
     "name": "stdout",
     "output_type": "stream",
     "text": [
      "\n",
      "0: 640x480 1 license_plate, 49.4ms\n",
      "Speed: 1.2ms preprocess, 49.4ms inference, 0.2ms postprocess per image at shape (1, 3, 640, 480)\n",
      "\u001b[1m1/1\u001b[0m \u001b[32m━━━━━━━━━━━━━━━━━━━━\u001b[0m\u001b[37m\u001b[0m \u001b[1m0s\u001b[0m 24ms/step\n",
      "\n",
      "0: 384x640 1 license_plate, 38.3ms\n",
      "Speed: 1.2ms preprocess, 38.3ms inference, 0.2ms postprocess per image at shape (1, 3, 384, 640)\n",
      "\u001b[1m1/1\u001b[0m \u001b[32m━━━━━━━━━━━━━━━━━━━━\u001b[0m\u001b[37m\u001b[0m \u001b[1m0s\u001b[0m 24ms/step\n"
     ]
    },
    {
     "name": "stderr",
     "output_type": "stream",
     "text": [
      "Processing images:  73%|████████████████▏     | 154/210 [00:16<00:05, 10.91it/s]"
     ]
    },
    {
     "name": "stdout",
     "output_type": "stream",
     "text": [
      "\n",
      "0: 640x480 1 license_plate, 49.3ms\n",
      "Speed: 1.4ms preprocess, 49.3ms inference, 0.6ms postprocess per image at shape (1, 3, 640, 480)\n",
      "\u001b[1m1/1\u001b[0m \u001b[32m━━━━━━━━━━━━━━━━━━━━\u001b[0m\u001b[37m\u001b[0m \u001b[1m0s\u001b[0m 23ms/step\n",
      "\n",
      "0: 384x640 1 license_plate, 39.0ms\n",
      "Speed: 1.1ms preprocess, 39.0ms inference, 0.2ms postprocess per image at shape (1, 3, 384, 640)\n",
      "\u001b[1m1/1\u001b[0m \u001b[32m━━━━━━━━━━━━━━━━━━━━\u001b[0m\u001b[37m\u001b[0m \u001b[1m0s\u001b[0m 26ms/step\n"
     ]
    },
    {
     "name": "stderr",
     "output_type": "stream",
     "text": [
      "Processing images:  74%|████████████████▎     | 156/210 [00:16<00:04, 11.08it/s]"
     ]
    },
    {
     "name": "stdout",
     "output_type": "stream",
     "text": [
      "\n",
      "0: 640x576 1 license_plate, 58.9ms\n",
      "Speed: 1.8ms preprocess, 58.9ms inference, 0.3ms postprocess per image at shape (1, 3, 640, 576)\n",
      "\u001b[1m1/1\u001b[0m \u001b[32m━━━━━━━━━━━━━━━━━━━━\u001b[0m\u001b[37m\u001b[0m \u001b[1m0s\u001b[0m 27ms/step\n",
      "\n",
      "0: 384x640 1 license_plate, 39.2ms\n",
      "Speed: 1.0ms preprocess, 39.2ms inference, 0.2ms postprocess per image at shape (1, 3, 384, 640)\n",
      "\u001b[1m1/1\u001b[0m \u001b[32m━━━━━━━━━━━━━━━━━━━━\u001b[0m\u001b[37m\u001b[0m \u001b[1m0s\u001b[0m 24ms/step\n"
     ]
    },
    {
     "name": "stderr",
     "output_type": "stream",
     "text": [
      "Processing images:  75%|████████████████▌     | 158/210 [00:16<00:04, 10.95it/s]"
     ]
    },
    {
     "name": "stdout",
     "output_type": "stream",
     "text": [
      "\n",
      "0: 384x640 1 license_plate, 39.0ms\n",
      "Speed: 1.0ms preprocess, 39.0ms inference, 0.2ms postprocess per image at shape (1, 3, 384, 640)\n",
      "\u001b[1m1/1\u001b[0m \u001b[32m━━━━━━━━━━━━━━━━━━━━\u001b[0m\u001b[37m\u001b[0m \u001b[1m0s\u001b[0m 24ms/step\n",
      "\n",
      "0: 640x480 1 license_plate, 50.4ms\n",
      "Speed: 1.1ms preprocess, 50.4ms inference, 0.2ms postprocess per image at shape (1, 3, 640, 480)\n",
      "\u001b[1m1/1\u001b[0m \u001b[32m━━━━━━━━━━━━━━━━━━━━\u001b[0m\u001b[37m\u001b[0m \u001b[1m0s\u001b[0m 24ms/step\n"
     ]
    },
    {
     "name": "stderr",
     "output_type": "stream",
     "text": [
      "Processing images:  76%|████████████████▊     | 160/210 [00:17<00:04, 11.10it/s]"
     ]
    },
    {
     "name": "stdout",
     "output_type": "stream",
     "text": [
      "\n",
      "0: 640x480 1 license_plate, 50.9ms\n",
      "Speed: 1.1ms preprocess, 50.9ms inference, 0.2ms postprocess per image at shape (1, 3, 640, 480)\n",
      "\u001b[1m1/1\u001b[0m \u001b[32m━━━━━━━━━━━━━━━━━━━━\u001b[0m\u001b[37m\u001b[0m \u001b[1m0s\u001b[0m 25ms/step\n",
      "\n",
      "0: 480x640 1 license_plate, 51.0ms\n",
      "Speed: 1.5ms preprocess, 51.0ms inference, 0.2ms postprocess per image at shape (1, 3, 480, 640)\n",
      "\u001b[1m1/1\u001b[0m \u001b[32m━━━━━━━━━━━━━━━━━━━━\u001b[0m\u001b[37m\u001b[0m \u001b[1m0s\u001b[0m 28ms/step\n"
     ]
    },
    {
     "name": "stderr",
     "output_type": "stream",
     "text": [
      "Processing images:  77%|████████████████▉     | 162/210 [00:17<00:04, 10.69it/s]"
     ]
    },
    {
     "name": "stdout",
     "output_type": "stream",
     "text": [
      "\n",
      "0: 384x640 1 license_plate, 43.4ms\n",
      "Speed: 1.0ms preprocess, 43.4ms inference, 0.2ms postprocess per image at shape (1, 3, 384, 640)\n",
      "\u001b[1m1/1\u001b[0m \u001b[32m━━━━━━━━━━━━━━━━━━━━\u001b[0m\u001b[37m\u001b[0m \u001b[1m0s\u001b[0m 26ms/step\n",
      "\n",
      "0: 480x640 1 license_plate, 56.1ms\n",
      "Speed: 1.2ms preprocess, 56.1ms inference, 0.2ms postprocess per image at shape (1, 3, 480, 640)\n",
      "\u001b[1m1/1\u001b[0m \u001b[32m━━━━━━━━━━━━━━━━━━━━\u001b[0m\u001b[37m\u001b[0m \u001b[1m0s\u001b[0m 30ms/step\n"
     ]
    },
    {
     "name": "stderr",
     "output_type": "stream",
     "text": [
      "Processing images:  78%|█████████████████▏    | 164/210 [00:17<00:04, 10.53it/s]"
     ]
    },
    {
     "name": "stdout",
     "output_type": "stream",
     "text": [
      "\n",
      "0: 640x480 1 license_plate, 54.1ms\n",
      "Speed: 1.3ms preprocess, 54.1ms inference, 0.2ms postprocess per image at shape (1, 3, 640, 480)\n",
      "\u001b[1m1/1\u001b[0m \u001b[32m━━━━━━━━━━━━━━━━━━━━\u001b[0m\u001b[37m\u001b[0m \u001b[1m0s\u001b[0m 26ms/step\n",
      "\n",
      "0: 480x640 1 license_plate, 65.0ms\n",
      "Speed: 1.2ms preprocess, 65.0ms inference, 0.2ms postprocess per image at shape (1, 3, 480, 640)\n",
      "\u001b[1m1/1\u001b[0m \u001b[32m━━━━━━━━━━━━━━━━━━━━\u001b[0m\u001b[37m\u001b[0m \u001b[1m0s\u001b[0m 22ms/step\n"
     ]
    },
    {
     "name": "stderr",
     "output_type": "stream",
     "text": [
      "Processing images:  79%|█████████████████▍    | 166/210 [00:17<00:04, 10.22it/s]"
     ]
    },
    {
     "name": "stdout",
     "output_type": "stream",
     "text": [
      "\n",
      "0: 640x384 1 license_plate, 43.3ms\n",
      "Speed: 1.2ms preprocess, 43.3ms inference, 0.2ms postprocess per image at shape (1, 3, 640, 384)\n",
      "\u001b[1m1/1\u001b[0m \u001b[32m━━━━━━━━━━━━━━━━━━━━\u001b[0m\u001b[37m\u001b[0m \u001b[1m0s\u001b[0m 28ms/step\n",
      "\n",
      "0: 640x384 1 license_plate, 44.2ms\n",
      "Speed: 1.0ms preprocess, 44.2ms inference, 0.2ms postprocess per image at shape (1, 3, 640, 384)\n",
      "\u001b[1m1/1\u001b[0m \u001b[32m━━━━━━━━━━━━━━━━━━━━\u001b[0m\u001b[37m\u001b[0m \u001b[1m0s\u001b[0m 23ms/step\n"
     ]
    },
    {
     "name": "stderr",
     "output_type": "stream",
     "text": [
      "Processing images:  80%|█████████████████▌    | 168/210 [00:17<00:04, 10.47it/s]"
     ]
    },
    {
     "name": "stdout",
     "output_type": "stream",
     "text": [
      "\n",
      "0: 640x384 1 license_plate, 42.8ms\n",
      "Speed: 1.1ms preprocess, 42.8ms inference, 0.2ms postprocess per image at shape (1, 3, 640, 384)\n",
      "\u001b[1m1/1\u001b[0m \u001b[32m━━━━━━━━━━━━━━━━━━━━\u001b[0m\u001b[37m\u001b[0m \u001b[1m0s\u001b[0m 26ms/step\n",
      "\n",
      "0: 480x640 1 license_plate, 49.9ms\n",
      "Speed: 1.2ms preprocess, 49.9ms inference, 0.3ms postprocess per image at shape (1, 3, 480, 640)\n",
      "\u001b[1m1/1\u001b[0m \u001b[32m━━━━━━━━━━━━━━━━━━━━\u001b[0m\u001b[37m\u001b[0m \u001b[1m0s\u001b[0m 27ms/step\n"
     ]
    },
    {
     "name": "stderr",
     "output_type": "stream",
     "text": [
      "Processing images:  81%|█████████████████▊    | 170/210 [00:18<00:03, 10.55it/s]"
     ]
    },
    {
     "name": "stdout",
     "output_type": "stream",
     "text": [
      "\n",
      "0: 384x640 2 license_plates, 40.9ms\n",
      "Speed: 1.0ms preprocess, 40.9ms inference, 0.2ms postprocess per image at shape (1, 3, 384, 640)\n",
      "\u001b[1m1/1\u001b[0m \u001b[32m━━━━━━━━━━━━━━━━━━━━\u001b[0m\u001b[37m\u001b[0m \u001b[1m0s\u001b[0m 25ms/step\n",
      "\u001b[1m1/1\u001b[0m \u001b[32m━━━━━━━━━━━━━━━━━━━━\u001b[0m\u001b[37m\u001b[0m \u001b[1m0s\u001b[0m 25ms/step\n",
      "\n",
      "0: 384x640 1 license_plate, 78.2ms\n",
      "Speed: 1.1ms preprocess, 78.2ms inference, 0.2ms postprocess per image at shape (1, 3, 384, 640)\n",
      "\u001b[1m1/1\u001b[0m \u001b[32m━━━━━━━━━━━━━━━━━━━━\u001b[0m\u001b[37m\u001b[0m \u001b[1m0s\u001b[0m 26ms/step\n"
     ]
    },
    {
     "name": "stderr",
     "output_type": "stream",
     "text": [
      "Processing images:  82%|██████████████████    | 172/210 [00:18<00:04,  9.49it/s]"
     ]
    },
    {
     "name": "stdout",
     "output_type": "stream",
     "text": [
      "\n",
      "0: 640x480 1 license_plate, 51.8ms\n",
      "Speed: 1.4ms preprocess, 51.8ms inference, 0.3ms postprocess per image at shape (1, 3, 640, 480)\n",
      "\u001b[1m1/1\u001b[0m \u001b[32m━━━━━━━━━━━━━━━━━━━━\u001b[0m\u001b[37m\u001b[0m \u001b[1m0s\u001b[0m 25ms/step\n",
      "\n",
      "0: 384x640 1 license_plate, 41.8ms\n",
      "Speed: 1.1ms preprocess, 41.8ms inference, 0.2ms postprocess per image at shape (1, 3, 384, 640)\n",
      "\u001b[1m1/1\u001b[0m \u001b[32m━━━━━━━━━━━━━━━━━━━━\u001b[0m\u001b[37m\u001b[0m \u001b[1m0s\u001b[0m 27ms/step\n"
     ]
    },
    {
     "name": "stderr",
     "output_type": "stream",
     "text": [
      "Processing images:  83%|██████████████████▏   | 174/210 [00:18<00:03,  9.76it/s]"
     ]
    },
    {
     "name": "stdout",
     "output_type": "stream",
     "text": [
      "\n",
      "0: 480x640 1 license_plate, 50.6ms\n",
      "Speed: 1.4ms preprocess, 50.6ms inference, 0.3ms postprocess per image at shape (1, 3, 480, 640)\n",
      "\u001b[1m1/1\u001b[0m \u001b[32m━━━━━━━━━━━━━━━━━━━━\u001b[0m\u001b[37m\u001b[0m \u001b[1m0s\u001b[0m 28ms/step\n",
      "\n",
      "0: 640x384 1 license_plate, 43.0ms\n",
      "Speed: 1.0ms preprocess, 43.0ms inference, 0.3ms postprocess per image at shape (1, 3, 640, 384)\n",
      "\u001b[1m1/1\u001b[0m \u001b[32m━━━━━━━━━━━━━━━━━━━━\u001b[0m\u001b[37m\u001b[0m \u001b[1m0s\u001b[0m 25ms/step\n"
     ]
    },
    {
     "name": "stderr",
     "output_type": "stream",
     "text": [
      "Processing images:  84%|██████████████████▍   | 176/210 [00:18<00:03, 10.00it/s]"
     ]
    },
    {
     "name": "stdout",
     "output_type": "stream",
     "text": [
      "\n",
      "0: 640x384 1 license_plate, 44.8ms\n",
      "Speed: 1.0ms preprocess, 44.8ms inference, 0.3ms postprocess per image at shape (1, 3, 640, 384)\n",
      "\u001b[1m1/1\u001b[0m \u001b[32m━━━━━━━━━━━━━━━━━━━━\u001b[0m\u001b[37m\u001b[0m \u001b[1m0s\u001b[0m 27ms/step\n",
      "\n",
      "0: 384x640 1 license_plate, 42.1ms\n",
      "Speed: 1.2ms preprocess, 42.1ms inference, 0.2ms postprocess per image at shape (1, 3, 384, 640)\n",
      "\u001b[1m1/1\u001b[0m \u001b[32m━━━━━━━━━━━━━━━━━━━━\u001b[0m\u001b[37m\u001b[0m \u001b[1m0s\u001b[0m 22ms/step\n"
     ]
    },
    {
     "name": "stderr",
     "output_type": "stream",
     "text": [
      "Processing images:  85%|██████████████████▋   | 178/210 [00:18<00:03, 10.30it/s]"
     ]
    },
    {
     "name": "stdout",
     "output_type": "stream",
     "text": [
      "\n",
      "0: 640x480 1 license_plate, 53.6ms\n",
      "Speed: 1.2ms preprocess, 53.6ms inference, 0.3ms postprocess per image at shape (1, 3, 640, 480)\n",
      "\u001b[1m1/1\u001b[0m \u001b[32m━━━━━━━━━━━━━━━━━━━━\u001b[0m\u001b[37m\u001b[0m \u001b[1m0s\u001b[0m 26ms/step\n",
      "\n",
      "0: 640x384 1 license_plate, 43.0ms\n",
      "Speed: 1.2ms preprocess, 43.0ms inference, 0.2ms postprocess per image at shape (1, 3, 640, 384)\n",
      "\u001b[1m1/1\u001b[0m \u001b[32m━━━━━━━━━━━━━━━━━━━━\u001b[0m\u001b[37m\u001b[0m \u001b[1m0s\u001b[0m 25ms/step\n"
     ]
    },
    {
     "name": "stderr",
     "output_type": "stream",
     "text": [
      "Processing images:  86%|██████████████████▊   | 180/210 [00:19<00:02, 10.16it/s]"
     ]
    },
    {
     "name": "stdout",
     "output_type": "stream",
     "text": [
      "\n",
      "0: 640x480 1 license_plate, 52.7ms\n",
      "Speed: 1.4ms preprocess, 52.7ms inference, 0.2ms postprocess per image at shape (1, 3, 640, 480)\n",
      "\u001b[1m1/1\u001b[0m \u001b[32m━━━━━━━━━━━━━━━━━━━━\u001b[0m\u001b[37m\u001b[0m \u001b[1m0s\u001b[0m 25ms/step\n",
      "\n",
      "0: 640x384 1 license_plate, 45.2ms\n",
      "Speed: 1.0ms preprocess, 45.2ms inference, 0.6ms postprocess per image at shape (1, 3, 640, 384)\n",
      "\u001b[1m1/1\u001b[0m \u001b[32m━━━━━━━━━━━━━━━━━━━━\u001b[0m\u001b[37m\u001b[0m \u001b[1m0s\u001b[0m 24ms/step\n"
     ]
    },
    {
     "name": "stderr",
     "output_type": "stream",
     "text": [
      "Processing images:  87%|███████████████████   | 182/210 [00:19<00:02, 10.33it/s]"
     ]
    },
    {
     "name": "stdout",
     "output_type": "stream",
     "text": [
      "\n",
      "0: 640x384 1 license_plate, 44.0ms\n",
      "Speed: 0.9ms preprocess, 44.0ms inference, 0.3ms postprocess per image at shape (1, 3, 640, 384)\n",
      "\u001b[1m1/1\u001b[0m \u001b[32m━━━━━━━━━━━━━━━━━━━━\u001b[0m\u001b[37m\u001b[0m \u001b[1m0s\u001b[0m 28ms/step\n",
      "\n",
      "0: 384x640 1 license_plate, 41.5ms\n",
      "Speed: 1.1ms preprocess, 41.5ms inference, 0.2ms postprocess per image at shape (1, 3, 384, 640)\n",
      "\u001b[1m1/1\u001b[0m \u001b[32m━━━━━━━━━━━━━━━━━━━━\u001b[0m\u001b[37m\u001b[0m \u001b[1m0s\u001b[0m 23ms/step\n"
     ]
    },
    {
     "name": "stderr",
     "output_type": "stream",
     "text": [
      "Processing images:  88%|███████████████████▎  | 184/210 [00:19<00:02, 10.61it/s]"
     ]
    },
    {
     "name": "stdout",
     "output_type": "stream",
     "text": [
      "\n",
      "0: 448x640 1 license_plate, 48.8ms\n",
      "Speed: 1.3ms preprocess, 48.8ms inference, 0.5ms postprocess per image at shape (1, 3, 448, 640)\n",
      "\u001b[1m1/1\u001b[0m \u001b[32m━━━━━━━━━━━━━━━━━━━━\u001b[0m\u001b[37m\u001b[0m \u001b[1m0s\u001b[0m 27ms/step\n",
      "\n",
      "0: 416x640 1 license_plate, 46.9ms\n",
      "Speed: 1.0ms preprocess, 46.9ms inference, 0.2ms postprocess per image at shape (1, 3, 416, 640)\n",
      "\u001b[1m1/1\u001b[0m \u001b[32m━━━━━━━━━━━━━━━━━━━━\u001b[0m\u001b[37m\u001b[0m \u001b[1m0s\u001b[0m 30ms/step\n"
     ]
    },
    {
     "name": "stderr",
     "output_type": "stream",
     "text": [
      "Processing images:  89%|███████████████████▍  | 186/210 [00:19<00:02, 10.49it/s]"
     ]
    },
    {
     "name": "stdout",
     "output_type": "stream",
     "text": [
      "\n",
      "0: 640x480 1 license_plate, 53.9ms\n",
      "Speed: 1.2ms preprocess, 53.9ms inference, 0.2ms postprocess per image at shape (1, 3, 640, 480)\n",
      "\u001b[1m1/1\u001b[0m \u001b[32m━━━━━━━━━━━━━━━━━━━━\u001b[0m\u001b[37m\u001b[0m \u001b[1m0s\u001b[0m 25ms/step\n",
      "\n",
      "0: 480x640 1 license_plate, 51.2ms\n",
      "Speed: 1.4ms preprocess, 51.2ms inference, 0.2ms postprocess per image at shape (1, 3, 480, 640)\n",
      "\u001b[1m1/1\u001b[0m \u001b[32m━━━━━━━━━━━━━━━━━━━━\u001b[0m\u001b[37m\u001b[0m \u001b[1m0s\u001b[0m 28ms/step\n"
     ]
    },
    {
     "name": "stderr",
     "output_type": "stream",
     "text": [
      "Processing images:  90%|███████████████████▋  | 188/210 [00:19<00:02, 10.32it/s]"
     ]
    },
    {
     "name": "stdout",
     "output_type": "stream",
     "text": [
      "\n",
      "0: 480x640 1 license_plate, 50.4ms\n",
      "Speed: 1.6ms preprocess, 50.4ms inference, 0.5ms postprocess per image at shape (1, 3, 480, 640)\n",
      "\u001b[1m1/1\u001b[0m \u001b[32m━━━━━━━━━━━━━━━━━━━━\u001b[0m\u001b[37m\u001b[0m \u001b[1m0s\u001b[0m 27ms/step\n",
      "\n",
      "0: 640x480 1 license_plate, 54.5ms\n",
      "Speed: 1.3ms preprocess, 54.5ms inference, 0.5ms postprocess per image at shape (1, 3, 640, 480)\n",
      "\u001b[1m1/1\u001b[0m \u001b[32m━━━━━━━━━━━━━━━━━━━━\u001b[0m\u001b[37m\u001b[0m \u001b[1m0s\u001b[0m 23ms/step\n"
     ]
    },
    {
     "name": "stderr",
     "output_type": "stream",
     "text": [
      "Processing images:  90%|███████████████████▉  | 190/210 [00:20<00:01, 10.24it/s]"
     ]
    },
    {
     "name": "stdout",
     "output_type": "stream",
     "text": [
      "\n",
      "0: 384x640 1 license_plate, 42.0ms\n",
      "Speed: 1.3ms preprocess, 42.0ms inference, 0.2ms postprocess per image at shape (1, 3, 384, 640)\n",
      "\u001b[1m1/1\u001b[0m \u001b[32m━━━━━━━━━━━━━━━━━━━━\u001b[0m\u001b[37m\u001b[0m \u001b[1m0s\u001b[0m 26ms/step\n",
      "\n",
      "0: 480x640 1 license_plate, 51.7ms\n",
      "Speed: 1.4ms preprocess, 51.7ms inference, 0.6ms postprocess per image at shape (1, 3, 480, 640)\n",
      "\u001b[1m1/1\u001b[0m \u001b[32m━━━━━━━━━━━━━━━━━━━━\u001b[0m\u001b[37m\u001b[0m \u001b[1m0s\u001b[0m 27ms/step\n"
     ]
    },
    {
     "name": "stderr",
     "output_type": "stream",
     "text": [
      "Processing images:  91%|████████████████████  | 192/210 [00:20<00:01, 10.19it/s]"
     ]
    },
    {
     "name": "stdout",
     "output_type": "stream",
     "text": [
      "\n",
      "0: 384x640 1 license_plate, 45.3ms\n",
      "Speed: 1.4ms preprocess, 45.3ms inference, 0.5ms postprocess per image at shape (1, 3, 384, 640)\n",
      "\u001b[1m1/1\u001b[0m \u001b[32m━━━━━━━━━━━━━━━━━━━━\u001b[0m\u001b[37m\u001b[0m \u001b[1m0s\u001b[0m 26ms/step\n",
      "\n",
      "0: 480x640 1 license_plate, 53.6ms\n",
      "Speed: 1.3ms preprocess, 53.6ms inference, 0.2ms postprocess per image at shape (1, 3, 480, 640)\n",
      "\u001b[1m1/1\u001b[0m \u001b[32m━━━━━━━━━━━━━━━━━━━━\u001b[0m\u001b[37m\u001b[0m \u001b[1m0s\u001b[0m 29ms/step\n"
     ]
    },
    {
     "name": "stderr",
     "output_type": "stream",
     "text": [
      "Processing images:  92%|████████████████████▎ | 194/210 [00:20<00:01, 10.09it/s]"
     ]
    },
    {
     "name": "stdout",
     "output_type": "stream",
     "text": [
      "\n",
      "0: 640x480 1 license_plate, 51.1ms\n",
      "Speed: 1.1ms preprocess, 51.1ms inference, 0.3ms postprocess per image at shape (1, 3, 640, 480)\n",
      "\u001b[1m1/1\u001b[0m \u001b[32m━━━━━━━━━━━━━━━━━━━━\u001b[0m\u001b[37m\u001b[0m \u001b[1m0s\u001b[0m 30ms/step\n",
      "\n",
      "0: 640x384 1 license_plate, 43.2ms\n",
      "Speed: 1.0ms preprocess, 43.2ms inference, 0.2ms postprocess per image at shape (1, 3, 640, 384)\n",
      "\u001b[1m1/1\u001b[0m \u001b[32m━━━━━━━━━━━━━━━━━━━━\u001b[0m\u001b[37m\u001b[0m \u001b[1m0s\u001b[0m 23ms/step\n"
     ]
    },
    {
     "name": "stderr",
     "output_type": "stream",
     "text": [
      "Processing images:  93%|████████████████████▌ | 196/210 [00:20<00:01, 10.31it/s]"
     ]
    },
    {
     "name": "stdout",
     "output_type": "stream",
     "text": [
      "\n",
      "0: 384x640 1 license_plate, 42.6ms\n",
      "Speed: 0.9ms preprocess, 42.6ms inference, 0.2ms postprocess per image at shape (1, 3, 384, 640)\n",
      "\u001b[1m1/1\u001b[0m \u001b[32m━━━━━━━━━━━━━━━━━━━━\u001b[0m\u001b[37m\u001b[0m \u001b[1m0s\u001b[0m 29ms/step\n",
      "\n",
      "0: 384x640 1 license_plate, 42.0ms\n",
      "Speed: 1.1ms preprocess, 42.0ms inference, 0.3ms postprocess per image at shape (1, 3, 384, 640)\n",
      "\u001b[1m1/1\u001b[0m \u001b[32m━━━━━━━━━━━━━━━━━━━━\u001b[0m\u001b[37m\u001b[0m \u001b[1m0s\u001b[0m 21ms/step\n"
     ]
    },
    {
     "name": "stderr",
     "output_type": "stream",
     "text": [
      "Processing images:  94%|████████████████████▋ | 198/210 [00:20<00:01, 10.65it/s]"
     ]
    },
    {
     "name": "stdout",
     "output_type": "stream",
     "text": [
      "\n",
      "0: 640x384 1 license_plate, 44.6ms\n",
      "Speed: 1.2ms preprocess, 44.6ms inference, 0.2ms postprocess per image at shape (1, 3, 640, 384)\n",
      "\u001b[1m1/1\u001b[0m \u001b[32m━━━━━━━━━━━━━━━━━━━━\u001b[0m\u001b[37m\u001b[0m \u001b[1m0s\u001b[0m 30ms/step\n",
      "\n",
      "0: 480x640 1 license_plate, 51.8ms\n",
      "Speed: 1.4ms preprocess, 51.8ms inference, 0.3ms postprocess per image at shape (1, 3, 480, 640)\n",
      "\u001b[1m1/1\u001b[0m \u001b[32m━━━━━━━━━━━━━━━━━━━━\u001b[0m\u001b[37m\u001b[0m \u001b[1m0s\u001b[0m 26ms/step\n"
     ]
    },
    {
     "name": "stderr",
     "output_type": "stream",
     "text": [
      "Processing images:  95%|████████████████████▉ | 200/210 [00:21<00:00, 10.57it/s]"
     ]
    },
    {
     "name": "stdout",
     "output_type": "stream",
     "text": [
      "\n",
      "0: 384x640 1 license_plate, 41.8ms\n",
      "Speed: 1.3ms preprocess, 41.8ms inference, 0.2ms postprocess per image at shape (1, 3, 384, 640)\n",
      "\u001b[1m1/1\u001b[0m \u001b[32m━━━━━━━━━━━━━━━━━━━━\u001b[0m\u001b[37m\u001b[0m \u001b[1m0s\u001b[0m 27ms/step\n",
      "\n",
      "0: 640x480 1 license_plate, 53.1ms\n",
      "Speed: 1.3ms preprocess, 53.1ms inference, 0.2ms postprocess per image at shape (1, 3, 640, 480)\n",
      "\u001b[1m1/1\u001b[0m \u001b[32m━━━━━━━━━━━━━━━━━━━━\u001b[0m\u001b[37m\u001b[0m \u001b[1m0s\u001b[0m 23ms/step\n"
     ]
    },
    {
     "name": "stderr",
     "output_type": "stream",
     "text": [
      "Processing images:  96%|█████████████████████▏| 202/210 [00:21<00:00, 10.56it/s]"
     ]
    },
    {
     "name": "stdout",
     "output_type": "stream",
     "text": [
      "\n",
      "0: 640x480 1 license_plate, 53.1ms\n",
      "Speed: 1.3ms preprocess, 53.1ms inference, 0.2ms postprocess per image at shape (1, 3, 640, 480)\n",
      "\u001b[1m1/1\u001b[0m \u001b[32m━━━━━━━━━━━━━━━━━━━━\u001b[0m\u001b[37m\u001b[0m \u001b[1m0s\u001b[0m 27ms/step\n",
      "\n",
      "0: 640x480 1 license_plate, 53.0ms\n",
      "Speed: 1.4ms preprocess, 53.0ms inference, 0.2ms postprocess per image at shape (1, 3, 640, 480)\n",
      "\u001b[1m1/1\u001b[0m \u001b[32m━━━━━━━━━━━━━━━━━━━━\u001b[0m\u001b[37m\u001b[0m \u001b[1m0s\u001b[0m 27ms/step\n"
     ]
    },
    {
     "name": "stderr",
     "output_type": "stream",
     "text": [
      "Processing images:  97%|█████████████████████▎| 204/210 [00:21<00:00, 10.35it/s]"
     ]
    },
    {
     "name": "stdout",
     "output_type": "stream",
     "text": [
      "\n",
      "0: 384x640 1 license_plate, 41.6ms\n",
      "Speed: 1.2ms preprocess, 41.6ms inference, 0.3ms postprocess per image at shape (1, 3, 384, 640)\n",
      "\u001b[1m1/1\u001b[0m \u001b[32m━━━━━━━━━━━━━━━━━━━━\u001b[0m\u001b[37m\u001b[0m \u001b[1m0s\u001b[0m 25ms/step\n",
      "\n",
      "0: 480x640 2 license_plates, 53.1ms\n",
      "Speed: 1.5ms preprocess, 53.1ms inference, 0.2ms postprocess per image at shape (1, 3, 480, 640)\n",
      "\u001b[1m1/1\u001b[0m \u001b[32m━━━━━━━━━━━━━━━━━━━━\u001b[0m\u001b[37m\u001b[0m \u001b[1m0s\u001b[0m 28ms/step\n",
      "\u001b[1m1/1\u001b[0m \u001b[32m━━━━━━━━━━━━━━━━━━━━\u001b[0m\u001b[37m\u001b[0m \u001b[1m0s\u001b[0m 23ms/step\n"
     ]
    },
    {
     "name": "stderr",
     "output_type": "stream",
     "text": [
      "Processing images:  98%|█████████████████████▌| 206/210 [00:21<00:00,  9.57it/s]"
     ]
    },
    {
     "name": "stdout",
     "output_type": "stream",
     "text": [
      "\n",
      "0: 480x640 1 license_plate, 52.5ms\n",
      "Speed: 1.7ms preprocess, 52.5ms inference, 0.2ms postprocess per image at shape (1, 3, 480, 640)\n",
      "\u001b[1m1/1\u001b[0m \u001b[32m━━━━━━━━━━━━━━━━━━━━\u001b[0m\u001b[37m\u001b[0m \u001b[1m0s\u001b[0m 28ms/step\n"
     ]
    },
    {
     "name": "stderr",
     "output_type": "stream",
     "text": [
      "Processing images:  99%|█████████████████████▋| 207/210 [00:21<00:00,  9.58it/s]"
     ]
    },
    {
     "name": "stdout",
     "output_type": "stream",
     "text": [
      "\n",
      "0: 640x480 3 license_plates, 53.7ms\n",
      "Speed: 1.6ms preprocess, 53.7ms inference, 0.2ms postprocess per image at shape (1, 3, 640, 480)\n",
      "\u001b[1m1/1\u001b[0m \u001b[32m━━━━━━━━━━━━━━━━━━━━\u001b[0m\u001b[37m\u001b[0m \u001b[1m0s\u001b[0m 26ms/step\n",
      "\u001b[1m1/1\u001b[0m \u001b[32m━━━━━━━━━━━━━━━━━━━━\u001b[0m\u001b[37m\u001b[0m \u001b[1m0s\u001b[0m 25ms/step\n",
      "\u001b[1m1/1\u001b[0m \u001b[32m━━━━━━━━━━━━━━━━━━━━\u001b[0m\u001b[37m\u001b[0m \u001b[1m0s\u001b[0m 25ms/step\n"
     ]
    },
    {
     "name": "stderr",
     "output_type": "stream",
     "text": [
      "Processing images:  99%|█████████████████████▊| 208/210 [00:21<00:00,  8.37it/s]"
     ]
    },
    {
     "name": "stdout",
     "output_type": "stream",
     "text": [
      "\n",
      "0: 480x640 1 license_plate, 53.3ms\n",
      "Speed: 1.6ms preprocess, 53.3ms inference, 0.5ms postprocess per image at shape (1, 3, 480, 640)\n",
      "\u001b[1m1/1\u001b[0m \u001b[32m━━━━━━━━━━━━━━━━━━━━\u001b[0m\u001b[37m\u001b[0m \u001b[1m0s\u001b[0m 26ms/step\n"
     ]
    },
    {
     "name": "stderr",
     "output_type": "stream",
     "text": [
      "Processing images: 100%|█████████████████████▉| 209/210 [00:22<00:00,  8.68it/s]"
     ]
    },
    {
     "name": "stdout",
     "output_type": "stream",
     "text": [
      "\n",
      "0: 448x640 1 license_plate, 48.9ms\n",
      "Speed: 1.3ms preprocess, 48.9ms inference, 0.2ms postprocess per image at shape (1, 3, 448, 640)\n",
      "\u001b[1m1/1\u001b[0m \u001b[32m━━━━━━━━━━━━━━━━━━━━\u001b[0m\u001b[37m\u001b[0m \u001b[1m0s\u001b[0m 29ms/step\n"
     ]
    },
    {
     "name": "stderr",
     "output_type": "stream",
     "text": [
      "Processing images: 100%|██████████████████████| 210/210 [00:22<00:00,  9.46it/s]"
     ]
    },
    {
     "name": "stdout",
     "output_type": "stream",
     "text": [
      "Results saved to ./recognition_results.csv\n"
     ]
    },
    {
     "name": "stderr",
     "output_type": "stream",
     "text": [
      "\n"
     ]
    }
   ],
   "source": [
    "import tensorflow as tf\n",
    "from tensorflow.keras import layers\n",
    "import numpy as np\n",
    "from PIL import Image\n",
    "import os\n",
    "import csv\n",
    "from ultralytics import YOLO\n",
    "from tqdm import tqdm\n",
    "\n",
    "# File paths\n",
    "csv_file_path = './data-provided/Licplatesrecognition_train.csv'\n",
    "image_folder_path = './data-provided/license_plates_recognition_train/'\n",
    "yolo_model_path = './best_yolov8_model.pt'\n",
    "test_folder_path = './data-provided/test/test/'\n",
    "results_csv_path = './recognition_results.csv'\n",
    "\n",
    "# Read CSV file\n",
    "image_data = {}\n",
    "with open(csv_file_path, 'r') as file:\n",
    "    csv_reader = csv.reader(file)\n",
    "    next(csv_reader)  \n",
    "    for row in csv_reader:\n",
    "        img_id, text = row\n",
    "        image_data[img_id] = text\n",
    "\n",
    "# Prepare data\n",
    "images = []\n",
    "texts = []\n",
    "char_to_num = {' ': 0}  # Start with space character\n",
    "num_to_char = {0: ' '}\n",
    "\n",
    "max_length = 8  # Set the maximum length to 8 (8 is the maximum length of numberplate in the data given)\n",
    "\n",
    "for img_id, text in image_data.items():\n",
    "    img_path = os.path.join(image_folder_path, f\"{img_id}\")\n",
    "    if os.path.exists(img_path):\n",
    "        img = Image.open(img_path).convert('L')  # Convert to grayscale\n",
    "        img = img.resize((128, 32))  # Resize to a consistent size\n",
    "        img = np.array(img).astype(np.float32) / 255.0  # Normalize\n",
    "        images.append(img)\n",
    "        texts.append(text)\n",
    "        \n",
    "        # Build character dictionaries\n",
    "        for char in text:\n",
    "            if char not in char_to_num:\n",
    "                char_to_num[char] = len(char_to_num)\n",
    "                num_to_char[len(num_to_char)] = char\n",
    "\n",
    "# Convert to numpy arrays\n",
    "images = np.array(images)\n",
    "images = np.expand_dims(images, axis=-1)  # Add channel dimension\n",
    "\n",
    "# Encode texts\n",
    "encoded_texts = [[char_to_num[char] for char in text[:max_length].ljust(max_length)] for text in texts]\n",
    "encoded_texts = np.array(encoded_texts)\n",
    "\n",
    "# Define the model\n",
    "input_img = layers.Input(shape=(32, 128, 1))\n",
    "x = layers.Conv2D(32, (3, 3), activation='relu', padding='same')(input_img)\n",
    "x = layers.MaxPooling2D((2, 2))(x)\n",
    "x = layers.Conv2D(64, (3, 3), activation='relu', padding='same')(x)\n",
    "x = layers.MaxPooling2D((2, 2))(x)\n",
    "x = layers.Reshape((-1, 64))(x)\n",
    "x = layers.Bidirectional(layers.LSTM(128, return_sequences=True))(x)\n",
    "x = layers.Bidirectional(layers.LSTM(64, return_sequences=False))(x)\n",
    "x = layers.Dense(128, activation='relu')(x)\n",
    "output = layers.Dense(max_length * len(char_to_num), activation='softmax')(x)\n",
    "output = layers.Reshape((max_length, len(char_to_num)))(output)\n",
    "\n",
    "model = tf.keras.Model(input_img, output)\n",
    "\n",
    "# Compile the model\n",
    "model.compile(optimizer='adam', loss='sparse_categorical_crossentropy')\n",
    "\n",
    "# Train the model\n",
    "model.fit(images, encoded_texts, batch_size=32, epochs=50, validation_split=0.2)\n",
    "\n",
    "# Save the model\n",
    "model.save('license_plate_ocr_model.h5')\n",
    "\n",
    "# Load YOLOv8 model\n",
    "yolo_model = YOLO(yolo_model_path)\n",
    "\n",
    "def detect_and_recognize(image_path):\n",
    "    # Read image\n",
    "    image = Image.open(image_path)\n",
    "    \n",
    "    # Detect license plates\n",
    "    results = yolo_model(image)\n",
    "    \n",
    "    recognized_plates = []\n",
    "    for r in results:\n",
    "        boxes = r.boxes\n",
    "        for box in boxes:\n",
    "            x1, y1, x2, y2 = map(int, box.xyxy[0])\n",
    "            \n",
    "            # Crop license plate\n",
    "            plate_img = image.crop((x1, y1, x2, y2))\n",
    "            \n",
    "            # Preprocess for OCR\n",
    "            plate_img = plate_img.convert('L')  # Convert to grayscale\n",
    "            plate_img = plate_img.resize((128, 32))\n",
    "            plate_img = np.array(plate_img).astype(np.float32) / 255.0\n",
    "            plate_img = np.expand_dims(plate_img, axis=[0, -1])\n",
    "            \n",
    "            # Recognize text\n",
    "            pred = model.predict(plate_img)\n",
    "            pred_text = ''.join([num_to_char[np.argmax(p)] for p in pred[0]])\n",
    "            pred_text = pred_text.strip()  # Remove leading/trailing spaces\n",
    "            \n",
    "            recognized_plates.append(pred_text)\n",
    "    \n",
    "    return recognized_plates\n",
    "\n",
    "def process_test_folder(folder_path):\n",
    "    results = []\n",
    "    image_files = [f for f in os.listdir(folder_path) if f.lower().endswith(('.png', '.jpg', '.jpeg'))]\n",
    "    \n",
    "    for image_file in tqdm(image_files, desc=\"Processing images\"):\n",
    "        image_path = os.path.join(folder_path, image_file)\n",
    "        recognized_plates = detect_and_recognize(image_path)\n",
    "        results.append((image_file, recognized_plates))\n",
    "    \n",
    "    return results\n",
    "\n",
    "# Process all images in the test folder\n",
    "test_results = process_test_folder(test_folder_path)\n",
    "\n",
    "# Save results to CSV\n",
    "with open(results_csv_path, 'w', newline='') as csvfile:\n",
    "    writer = csv.writer(csvfile)\n",
    "    writer.writerow(['Image', 'Recognized Plates'])\n",
    "    for image_file, plates in test_results:\n",
    "        writer.writerow([image_file, ', '.join(plates)])\n",
    "\n",
    "print(f\"Results saved to {results_csv_path}\")"
   ]
  },
  {
   "cell_type": "markdown",
   "id": "2a8b9da7-20f5-4984-a7e8-10b57ebaeea0",
   "metadata": {},
   "source": [
    "## Result will be saved in recogonition_results.csv"
   ]
  },
  {
   "cell_type": "code",
   "execution_count": null,
   "id": "be02a0e7-525a-4950-be9d-8806bfd36978",
   "metadata": {},
   "outputs": [],
   "source": []
  }
 ],
 "metadata": {
  "kernelspec": {
   "display_name": "Python 3 (ipykernel)",
   "language": "python",
   "name": "python3"
  },
  "language_info": {
   "codemirror_mode": {
    "name": "ipython",
    "version": 3
   },
   "file_extension": ".py",
   "mimetype": "text/x-python",
   "name": "python",
   "nbconvert_exporter": "python",
   "pygments_lexer": "ipython3",
   "version": "3.11.9"
  }
 },
 "nbformat": 4,
 "nbformat_minor": 5
}
